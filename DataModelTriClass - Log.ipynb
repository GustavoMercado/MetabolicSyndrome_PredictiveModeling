{
 "cells": [
  {
   "cell_type": "markdown",
   "metadata": {},
   "source": [
    "### Librerías utilizadas"
   ]
  },
  {
   "cell_type": "code",
   "execution_count": 1,
   "metadata": {},
   "outputs": [],
   "source": [
    "import pandas as pd\n",
    "import numpy as np\n",
    "import matplotlib.pyplot as plt\n",
    "\n",
    "from xverse.transformer import MonotonicBinning\n",
    "from collections import Counter\n",
    "from imblearn.over_sampling import RandomOverSampler\n",
    "from sklearn.model_selection import train_test_split\n",
    "\n",
    "from sklearn.model_selection import RandomizedSearchCV,GridSearchCV\n",
    "\n",
    "from sklearn import tree\n",
    "from sklearn.tree import DecisionTreeClassifier\n",
    "from sklearn.ensemble import RandomForestClassifier\n",
    "from sklearn.ensemble import GradientBoostingClassifier\n",
    "from sklearn.linear_model import LogisticRegression\n",
    "import xgboost\n",
    "from xgboost import XGBClassifier\n",
    "\n",
    "from sklearn.metrics import accuracy_score,roc_auc_score, roc_curve\n",
    "from sklearn.metrics import plot_confusion_matrix, f1_score\n",
    "\n",
    "# Para poder visualizar todas las columnas:\n",
    "pd.set_option('display.max_columns',100)\n",
    "\n",
    "# Para ver unicamente 3 decimales:\n",
    "pd.set_option('display.float_format', lambda x: '%.5f' % x)"
   ]
  },
  {
   "cell_type": "markdown",
   "metadata": {},
   "source": [
    "### Datos utilizados"
   ]
  },
  {
   "cell_type": "markdown",
   "metadata": {},
   "source": [
    "Se importan los datos que resultaron del proceso de preparación de datos:"
   ]
  },
  {
   "cell_type": "code",
   "execution_count": 2,
   "metadata": {},
   "outputs": [],
   "source": [
    "data = pd.read_csv('C:/Users/gusta/OneDrive/Documentos/Tesis/Datos/Datos_prep.csv') "
   ]
  },
  {
   "cell_type": "markdown",
   "metadata": {},
   "source": [
    "Se seleccionan las variables que serán utilizadas como variables dependientes y se identifica la variable objetivo:"
   ]
  },
  {
   "cell_type": "code",
   "execution_count": 3,
   "metadata": {},
   "outputs": [],
   "source": [
    "var_predictivas = ['CC','VFA','CC_GRAS','CC_MUSC','CC_HUES','CC_AGUA','PAS',\n",
    "                   'PAM','PESO','PAD','TALLA','GLU','IMC']\n",
    "target = 'TARGET_TRI'\n",
    "X = data[var_predictivas] \n",
    "y = data[target] "
   ]
  },
  {
   "cell_type": "markdown",
   "metadata": {},
   "source": [
    "### Transformación de las variables: Monotonic Binning"
   ]
  },
  {
   "cell_type": "markdown",
   "metadata": {},
   "source": [
    "Se transforman las variables numéricas a variables categóricas a través de bins que tengan una relación monótona con la variable objetivo. Durante el proceso se utiliza la correlación de Spearman para verificar si existe una relación monótona entre las variables X e y."
   ]
  },
  {
   "cell_type": "code",
   "execution_count": 4,
   "metadata": {},
   "outputs": [],
   "source": [
    "Mbin = MonotonicBinning()\n",
    "Mbin.fit(X, y)\n",
    "\n",
    "# Se guardan los bines para aplicar en nuevos datasets\n",
    "output_bins = Mbin.bins     "
   ]
  },
  {
   "cell_type": "markdown",
   "metadata": {},
   "source": [
    "A continuación, se muestran los puntos de corte para los bins de cada variable:"
   ]
  },
  {
   "cell_type": "code",
   "execution_count": 5,
   "metadata": {},
   "outputs": [
    {
     "name": "stdout",
     "output_type": "stream",
     "text": [
      "{'CC': array([ 42.5,  76. ,  85. , 126. ]), 'VFA': array([  5.        ,  44.70000076,  70.80000305, 479.6       ]), 'CC_GRAS': array([ 1.5       , 14.19999981, 21.        , 65.30000305]), 'CC_MUSC': array([ 4.8       ,  7.5       ,  9.30000369, 19.09999466]), 'CC_HUES': array([1.47000003, 2.69000006, 3.22000003, 7.05999994]), 'CC_AGUA': array([17.3       , 27.89999962, 34.40000153, 67.80000305]), 'PAS': array([ 64., 100., 110., 160.]), 'PAM': array([ 48.        ,  80.        ,  86.66666667, 127.33333333]), 'PESO': array([ 38.37      ,  55.34666667,  66.33666667, 127.9       ]), 'PAD': array([ 40.,  70.,  76., 120.]), 'TALLA': array([137., 158., 166., 188.]), 'GLU': array([ 60.,  87.,  94., 220.]), 'IMC': array([14.88857   , 21.368941  , 24.94614033, 43.414966  ])}\n"
     ]
    }
   ],
   "source": [
    "print(Mbin.bins)"
   ]
  },
  {
   "cell_type": "markdown",
   "metadata": {},
   "source": [
    "Se aplican los bins al dataset X que contine las variables predictivas:"
   ]
  },
  {
   "cell_type": "code",
   "execution_count": 6,
   "metadata": {},
   "outputs": [
    {
     "data": {
      "text/html": [
       "<div>\n",
       "<style scoped>\n",
       "    .dataframe tbody tr th:only-of-type {\n",
       "        vertical-align: middle;\n",
       "    }\n",
       "\n",
       "    .dataframe tbody tr th {\n",
       "        vertical-align: top;\n",
       "    }\n",
       "\n",
       "    .dataframe thead th {\n",
       "        text-align: right;\n",
       "    }\n",
       "</style>\n",
       "<table border=\"1\" class=\"dataframe\">\n",
       "  <thead>\n",
       "    <tr style=\"text-align: right;\">\n",
       "      <th></th>\n",
       "      <th>CC</th>\n",
       "      <th>VFA</th>\n",
       "      <th>CC_GRAS</th>\n",
       "      <th>CC_MUSC</th>\n",
       "      <th>CC_HUES</th>\n",
       "      <th>CC_AGUA</th>\n",
       "      <th>PAS</th>\n",
       "      <th>PAM</th>\n",
       "      <th>PESO</th>\n",
       "      <th>PAD</th>\n",
       "      <th>TALLA</th>\n",
       "      <th>GLU</th>\n",
       "      <th>IMC</th>\n",
       "    </tr>\n",
       "  </thead>\n",
       "  <tbody>\n",
       "    <tr>\n",
       "      <th>0</th>\n",
       "      <td>(85.0, 126.0]</td>\n",
       "      <td>(70.8, 479.6]</td>\n",
       "      <td>(21.0, 65.3]</td>\n",
       "      <td>(7.5, 9.3]</td>\n",
       "      <td>(2.69, 3.22]</td>\n",
       "      <td>(27.9, 34.4]</td>\n",
       "      <td>(110.0, 160.0]</td>\n",
       "      <td>(86.667, 127.333]</td>\n",
       "      <td>(66.337, 127.9]</td>\n",
       "      <td>(76.0, 120.0]</td>\n",
       "      <td>(136.999, 158.0]</td>\n",
       "      <td>(87.0, 94.0]</td>\n",
       "      <td>(24.946, 43.415]</td>\n",
       "    </tr>\n",
       "    <tr>\n",
       "      <th>1</th>\n",
       "      <td>(85.0, 126.0]</td>\n",
       "      <td>(70.8, 479.6]</td>\n",
       "      <td>(21.0, 65.3]</td>\n",
       "      <td>(9.3, 19.1]</td>\n",
       "      <td>(3.22, 7.06]</td>\n",
       "      <td>(34.4, 67.8]</td>\n",
       "      <td>(110.0, 160.0]</td>\n",
       "      <td>(86.667, 127.333]</td>\n",
       "      <td>(66.337, 127.9]</td>\n",
       "      <td>(76.0, 120.0]</td>\n",
       "      <td>(166.0, 188.0]</td>\n",
       "      <td>(87.0, 94.0]</td>\n",
       "      <td>(24.946, 43.415]</td>\n",
       "    </tr>\n",
       "    <tr>\n",
       "      <th>2</th>\n",
       "      <td>(42.499, 76.0]</td>\n",
       "      <td>(44.7, 70.8]</td>\n",
       "      <td>(1.499, 14.2]</td>\n",
       "      <td>(7.5, 9.3]</td>\n",
       "      <td>(2.69, 3.22]</td>\n",
       "      <td>(27.9, 34.4]</td>\n",
       "      <td>(100.0, 110.0]</td>\n",
       "      <td>(86.667, 127.333]</td>\n",
       "      <td>(38.369, 55.347]</td>\n",
       "      <td>(76.0, 120.0]</td>\n",
       "      <td>(136.999, 158.0]</td>\n",
       "      <td>(59.999, 87.0]</td>\n",
       "      <td>(14.888, 21.369]</td>\n",
       "    </tr>\n",
       "    <tr>\n",
       "      <th>3</th>\n",
       "      <td>(42.499, 76.0]</td>\n",
       "      <td>(44.7, 70.8]</td>\n",
       "      <td>(1.499, 14.2]</td>\n",
       "      <td>(7.5, 9.3]</td>\n",
       "      <td>(2.69, 3.22]</td>\n",
       "      <td>(27.9, 34.4]</td>\n",
       "      <td>(100.0, 110.0]</td>\n",
       "      <td>(80.0, 86.667]</td>\n",
       "      <td>(38.369, 55.347]</td>\n",
       "      <td>(39.999, 70.0]</td>\n",
       "      <td>(136.999, 158.0]</td>\n",
       "      <td>(59.999, 87.0]</td>\n",
       "      <td>(21.369, 24.946]</td>\n",
       "    </tr>\n",
       "    <tr>\n",
       "      <th>4</th>\n",
       "      <td>(85.0, 126.0]</td>\n",
       "      <td>(70.8, 479.6]</td>\n",
       "      <td>(21.0, 65.3]</td>\n",
       "      <td>(9.3, 19.1]</td>\n",
       "      <td>(3.22, 7.06]</td>\n",
       "      <td>(34.4, 67.8]</td>\n",
       "      <td>(110.0, 160.0]</td>\n",
       "      <td>(86.667, 127.333]</td>\n",
       "      <td>(66.337, 127.9]</td>\n",
       "      <td>(70.0, 76.0]</td>\n",
       "      <td>(166.0, 188.0]</td>\n",
       "      <td>(94.0, 220.0]</td>\n",
       "      <td>(24.946, 43.415]</td>\n",
       "    </tr>\n",
       "  </tbody>\n",
       "</table>\n",
       "</div>"
      ],
      "text/plain": [
       "               CC            VFA        CC_GRAS      CC_MUSC       CC_HUES  \\\n",
       "0   (85.0, 126.0]  (70.8, 479.6]   (21.0, 65.3]   (7.5, 9.3]  (2.69, 3.22]   \n",
       "1   (85.0, 126.0]  (70.8, 479.6]   (21.0, 65.3]  (9.3, 19.1]  (3.22, 7.06]   \n",
       "2  (42.499, 76.0]   (44.7, 70.8]  (1.499, 14.2]   (7.5, 9.3]  (2.69, 3.22]   \n",
       "3  (42.499, 76.0]   (44.7, 70.8]  (1.499, 14.2]   (7.5, 9.3]  (2.69, 3.22]   \n",
       "4   (85.0, 126.0]  (70.8, 479.6]   (21.0, 65.3]  (9.3, 19.1]  (3.22, 7.06]   \n",
       "\n",
       "        CC_AGUA             PAS                PAM              PESO  \\\n",
       "0  (27.9, 34.4]  (110.0, 160.0]  (86.667, 127.333]   (66.337, 127.9]   \n",
       "1  (34.4, 67.8]  (110.0, 160.0]  (86.667, 127.333]   (66.337, 127.9]   \n",
       "2  (27.9, 34.4]  (100.0, 110.0]  (86.667, 127.333]  (38.369, 55.347]   \n",
       "3  (27.9, 34.4]  (100.0, 110.0]     (80.0, 86.667]  (38.369, 55.347]   \n",
       "4  (34.4, 67.8]  (110.0, 160.0]  (86.667, 127.333]   (66.337, 127.9]   \n",
       "\n",
       "              PAD             TALLA             GLU               IMC  \n",
       "0   (76.0, 120.0]  (136.999, 158.0]    (87.0, 94.0]  (24.946, 43.415]  \n",
       "1   (76.0, 120.0]    (166.0, 188.0]    (87.0, 94.0]  (24.946, 43.415]  \n",
       "2   (76.0, 120.0]  (136.999, 158.0]  (59.999, 87.0]  (14.888, 21.369]  \n",
       "3  (39.999, 70.0]  (136.999, 158.0]  (59.999, 87.0]  (21.369, 24.946]  \n",
       "4    (70.0, 76.0]    (166.0, 188.0]   (94.0, 220.0]  (24.946, 43.415]  "
      ]
     },
     "execution_count": 6,
     "metadata": {},
     "output_type": "execute_result"
    }
   ],
   "source": [
    "Mbin = MonotonicBinning(custom_binning=output_bins) \n",
    "\n",
    "out_X = Mbin.transform(X)\n",
    "out_X.head()"
   ]
  },
  {
   "cell_type": "markdown",
   "metadata": {},
   "source": [
    "### Transformación de las variables: Weight of Evidence(WOE)"
   ]
  },
  {
   "cell_type": "markdown",
   "metadata": {},
   "source": [
    "La transformación se basa en el valor logarítmico de las distribuciones. Esto está alineado con la función de salida de regresión logística.  AGREGAR UNA PEQUEÑA DESCRIPCIÓN DEL WOE"
   ]
  },
  {
   "cell_type": "code",
   "execution_count": 7,
   "metadata": {},
   "outputs": [],
   "source": [
    "## Función WoE\n",
    "def woe_transform(df,variables,obj):\n",
    "    for feat in variables:\n",
    "        aux = {}\n",
    "        for var in set(df[feat].values):\n",
    "            PNE = float(len(df[(df[obj]==0) & (df[feat]==var)]))/float(len(df[df[obj]==0]))\n",
    "            PE = float(len(df[(df[obj]==1) & (df[feat]==var)]))/float(len(df[df[obj]==1]))\n",
    "            if PNE == 0 or PE == 0:\n",
    "                woe=0\n",
    "            else:\n",
    "                woe=np.log(PNE/PE)\n",
    "            aux[var]=woe\n",
    "        df['W_'+feat] = [aux[df[feat][i]] for i in range(0,len(df[feat]))]"
   ]
  },
  {
   "cell_type": "markdown",
   "metadata": {},
   "source": [
    "Se aplica la transformación WOE en el conjunto de datos:"
   ]
  },
  {
   "cell_type": "code",
   "execution_count": 8,
   "metadata": {},
   "outputs": [
    {
     "data": {
      "text/html": [
       "<div>\n",
       "<style scoped>\n",
       "    .dataframe tbody tr th:only-of-type {\n",
       "        vertical-align: middle;\n",
       "    }\n",
       "\n",
       "    .dataframe tbody tr th {\n",
       "        vertical-align: top;\n",
       "    }\n",
       "\n",
       "    .dataframe thead th {\n",
       "        text-align: right;\n",
       "    }\n",
       "</style>\n",
       "<table border=\"1\" class=\"dataframe\">\n",
       "  <thead>\n",
       "    <tr style=\"text-align: right;\">\n",
       "      <th></th>\n",
       "      <th>CC</th>\n",
       "      <th>VFA</th>\n",
       "      <th>CC_GRAS</th>\n",
       "      <th>CC_MUSC</th>\n",
       "      <th>CC_HUES</th>\n",
       "      <th>CC_AGUA</th>\n",
       "      <th>PAS</th>\n",
       "      <th>PAM</th>\n",
       "      <th>PESO</th>\n",
       "      <th>PAD</th>\n",
       "      <th>TALLA</th>\n",
       "      <th>GLU</th>\n",
       "      <th>IMC</th>\n",
       "      <th>TARGET_TRI</th>\n",
       "      <th>W_CC</th>\n",
       "      <th>W_VFA</th>\n",
       "      <th>W_CC_GRAS</th>\n",
       "      <th>W_CC_MUSC</th>\n",
       "      <th>W_CC_HUES</th>\n",
       "      <th>W_CC_AGUA</th>\n",
       "      <th>W_PAS</th>\n",
       "      <th>W_PAM</th>\n",
       "      <th>W_PESO</th>\n",
       "      <th>W_PAD</th>\n",
       "      <th>W_TALLA</th>\n",
       "      <th>W_GLU</th>\n",
       "      <th>W_IMC</th>\n",
       "    </tr>\n",
       "  </thead>\n",
       "  <tbody>\n",
       "    <tr>\n",
       "      <th>0</th>\n",
       "      <td>(85.0, 126.0]</td>\n",
       "      <td>(70.8, 479.6]</td>\n",
       "      <td>(21.0, 65.3]</td>\n",
       "      <td>(7.5, 9.3]</td>\n",
       "      <td>(2.69, 3.22]</td>\n",
       "      <td>(27.9, 34.4]</td>\n",
       "      <td>(110.0, 160.0]</td>\n",
       "      <td>(86.667, 127.333]</td>\n",
       "      <td>(66.337, 127.9]</td>\n",
       "      <td>(76.0, 120.0]</td>\n",
       "      <td>(136.999, 158.0]</td>\n",
       "      <td>(87.0, 94.0]</td>\n",
       "      <td>(24.946, 43.415]</td>\n",
       "      <td>0</td>\n",
       "      <td>-0.72452</td>\n",
       "      <td>-0.68832</td>\n",
       "      <td>-0.64234</td>\n",
       "      <td>0.05700</td>\n",
       "      <td>0.01205</td>\n",
       "      <td>0.04037</td>\n",
       "      <td>-0.61746</td>\n",
       "      <td>-0.43936</td>\n",
       "      <td>-0.64882</td>\n",
       "      <td>-0.42771</td>\n",
       "      <td>0.15786</td>\n",
       "      <td>0.05457</td>\n",
       "      <td>-0.74323</td>\n",
       "    </tr>\n",
       "    <tr>\n",
       "      <th>1</th>\n",
       "      <td>(85.0, 126.0]</td>\n",
       "      <td>(70.8, 479.6]</td>\n",
       "      <td>(21.0, 65.3]</td>\n",
       "      <td>(9.3, 19.1]</td>\n",
       "      <td>(3.22, 7.06]</td>\n",
       "      <td>(34.4, 67.8]</td>\n",
       "      <td>(110.0, 160.0]</td>\n",
       "      <td>(86.667, 127.333]</td>\n",
       "      <td>(66.337, 127.9]</td>\n",
       "      <td>(76.0, 120.0]</td>\n",
       "      <td>(166.0, 188.0]</td>\n",
       "      <td>(87.0, 94.0]</td>\n",
       "      <td>(24.946, 43.415]</td>\n",
       "      <td>1</td>\n",
       "      <td>-0.72452</td>\n",
       "      <td>-0.68832</td>\n",
       "      <td>-0.64234</td>\n",
       "      <td>-0.38664</td>\n",
       "      <td>-0.33779</td>\n",
       "      <td>-0.36859</td>\n",
       "      <td>-0.61746</td>\n",
       "      <td>-0.43936</td>\n",
       "      <td>-0.64882</td>\n",
       "      <td>-0.42771</td>\n",
       "      <td>-0.25147</td>\n",
       "      <td>0.05457</td>\n",
       "      <td>-0.74323</td>\n",
       "    </tr>\n",
       "    <tr>\n",
       "      <th>2</th>\n",
       "      <td>(42.499, 76.0]</td>\n",
       "      <td>(44.7, 70.8]</td>\n",
       "      <td>(1.499, 14.2]</td>\n",
       "      <td>(7.5, 9.3]</td>\n",
       "      <td>(2.69, 3.22]</td>\n",
       "      <td>(27.9, 34.4]</td>\n",
       "      <td>(100.0, 110.0]</td>\n",
       "      <td>(86.667, 127.333]</td>\n",
       "      <td>(38.369, 55.347]</td>\n",
       "      <td>(76.0, 120.0]</td>\n",
       "      <td>(136.999, 158.0]</td>\n",
       "      <td>(59.999, 87.0]</td>\n",
       "      <td>(14.888, 21.369]</td>\n",
       "      <td>0</td>\n",
       "      <td>0.89694</td>\n",
       "      <td>0.17103</td>\n",
       "      <td>0.84876</td>\n",
       "      <td>0.05700</td>\n",
       "      <td>0.01205</td>\n",
       "      <td>0.04037</td>\n",
       "      <td>0.28820</td>\n",
       "      <td>-0.43936</td>\n",
       "      <td>0.94224</td>\n",
       "      <td>-0.42771</td>\n",
       "      <td>0.15786</td>\n",
       "      <td>0.29379</td>\n",
       "      <td>1.24807</td>\n",
       "    </tr>\n",
       "    <tr>\n",
       "      <th>3</th>\n",
       "      <td>(42.499, 76.0]</td>\n",
       "      <td>(44.7, 70.8]</td>\n",
       "      <td>(1.499, 14.2]</td>\n",
       "      <td>(7.5, 9.3]</td>\n",
       "      <td>(2.69, 3.22]</td>\n",
       "      <td>(27.9, 34.4]</td>\n",
       "      <td>(100.0, 110.0]</td>\n",
       "      <td>(80.0, 86.667]</td>\n",
       "      <td>(38.369, 55.347]</td>\n",
       "      <td>(39.999, 70.0]</td>\n",
       "      <td>(136.999, 158.0]</td>\n",
       "      <td>(59.999, 87.0]</td>\n",
       "      <td>(21.369, 24.946]</td>\n",
       "      <td>0</td>\n",
       "      <td>0.89694</td>\n",
       "      <td>0.17103</td>\n",
       "      <td>0.84876</td>\n",
       "      <td>0.05700</td>\n",
       "      <td>0.01205</td>\n",
       "      <td>0.04037</td>\n",
       "      <td>0.28820</td>\n",
       "      <td>0.11121</td>\n",
       "      <td>0.94224</td>\n",
       "      <td>0.25866</td>\n",
       "      <td>0.15786</td>\n",
       "      <td>0.29379</td>\n",
       "      <td>0.14237</td>\n",
       "    </tr>\n",
       "    <tr>\n",
       "      <th>4</th>\n",
       "      <td>(85.0, 126.0]</td>\n",
       "      <td>(70.8, 479.6]</td>\n",
       "      <td>(21.0, 65.3]</td>\n",
       "      <td>(9.3, 19.1]</td>\n",
       "      <td>(3.22, 7.06]</td>\n",
       "      <td>(34.4, 67.8]</td>\n",
       "      <td>(110.0, 160.0]</td>\n",
       "      <td>(86.667, 127.333]</td>\n",
       "      <td>(66.337, 127.9]</td>\n",
       "      <td>(70.0, 76.0]</td>\n",
       "      <td>(166.0, 188.0]</td>\n",
       "      <td>(94.0, 220.0]</td>\n",
       "      <td>(24.946, 43.415]</td>\n",
       "      <td>0</td>\n",
       "      <td>-0.72452</td>\n",
       "      <td>-0.68832</td>\n",
       "      <td>-0.64234</td>\n",
       "      <td>-0.38664</td>\n",
       "      <td>-0.33779</td>\n",
       "      <td>-0.36859</td>\n",
       "      <td>-0.61746</td>\n",
       "      <td>-0.43936</td>\n",
       "      <td>-0.64882</td>\n",
       "      <td>0.26790</td>\n",
       "      <td>-0.25147</td>\n",
       "      <td>-0.33018</td>\n",
       "      <td>-0.74323</td>\n",
       "    </tr>\n",
       "  </tbody>\n",
       "</table>\n",
       "</div>"
      ],
      "text/plain": [
       "               CC            VFA        CC_GRAS      CC_MUSC       CC_HUES  \\\n",
       "0   (85.0, 126.0]  (70.8, 479.6]   (21.0, 65.3]   (7.5, 9.3]  (2.69, 3.22]   \n",
       "1   (85.0, 126.0]  (70.8, 479.6]   (21.0, 65.3]  (9.3, 19.1]  (3.22, 7.06]   \n",
       "2  (42.499, 76.0]   (44.7, 70.8]  (1.499, 14.2]   (7.5, 9.3]  (2.69, 3.22]   \n",
       "3  (42.499, 76.0]   (44.7, 70.8]  (1.499, 14.2]   (7.5, 9.3]  (2.69, 3.22]   \n",
       "4   (85.0, 126.0]  (70.8, 479.6]   (21.0, 65.3]  (9.3, 19.1]  (3.22, 7.06]   \n",
       "\n",
       "        CC_AGUA             PAS                PAM              PESO  \\\n",
       "0  (27.9, 34.4]  (110.0, 160.0]  (86.667, 127.333]   (66.337, 127.9]   \n",
       "1  (34.4, 67.8]  (110.0, 160.0]  (86.667, 127.333]   (66.337, 127.9]   \n",
       "2  (27.9, 34.4]  (100.0, 110.0]  (86.667, 127.333]  (38.369, 55.347]   \n",
       "3  (27.9, 34.4]  (100.0, 110.0]     (80.0, 86.667]  (38.369, 55.347]   \n",
       "4  (34.4, 67.8]  (110.0, 160.0]  (86.667, 127.333]   (66.337, 127.9]   \n",
       "\n",
       "              PAD             TALLA             GLU               IMC  \\\n",
       "0   (76.0, 120.0]  (136.999, 158.0]    (87.0, 94.0]  (24.946, 43.415]   \n",
       "1   (76.0, 120.0]    (166.0, 188.0]    (87.0, 94.0]  (24.946, 43.415]   \n",
       "2   (76.0, 120.0]  (136.999, 158.0]  (59.999, 87.0]  (14.888, 21.369]   \n",
       "3  (39.999, 70.0]  (136.999, 158.0]  (59.999, 87.0]  (21.369, 24.946]   \n",
       "4    (70.0, 76.0]    (166.0, 188.0]   (94.0, 220.0]  (24.946, 43.415]   \n",
       "\n",
       "   TARGET_TRI     W_CC    W_VFA  W_CC_GRAS  W_CC_MUSC  W_CC_HUES  W_CC_AGUA  \\\n",
       "0           0 -0.72452 -0.68832   -0.64234    0.05700    0.01205    0.04037   \n",
       "1           1 -0.72452 -0.68832   -0.64234   -0.38664   -0.33779   -0.36859   \n",
       "2           0  0.89694  0.17103    0.84876    0.05700    0.01205    0.04037   \n",
       "3           0  0.89694  0.17103    0.84876    0.05700    0.01205    0.04037   \n",
       "4           0 -0.72452 -0.68832   -0.64234   -0.38664   -0.33779   -0.36859   \n",
       "\n",
       "     W_PAS    W_PAM   W_PESO    W_PAD  W_TALLA    W_GLU    W_IMC  \n",
       "0 -0.61746 -0.43936 -0.64882 -0.42771  0.15786  0.05457 -0.74323  \n",
       "1 -0.61746 -0.43936 -0.64882 -0.42771 -0.25147  0.05457 -0.74323  \n",
       "2  0.28820 -0.43936  0.94224 -0.42771  0.15786  0.29379  1.24807  \n",
       "3  0.28820  0.11121  0.94224  0.25866  0.15786  0.29379  0.14237  \n",
       "4 -0.61746 -0.43936 -0.64882  0.26790 -0.25147 -0.33018 -0.74323  "
      ]
     },
     "execution_count": 8,
     "metadata": {},
     "output_type": "execute_result"
    }
   ],
   "source": [
    "data_transf = pd.concat([out_X,y], axis=1)\n",
    "\n",
    "woe_transform(data_transf,var_predictivas, target)\n",
    "data_transf.head()"
   ]
  },
  {
   "cell_type": "markdown",
   "metadata": {},
   "source": [
    "### Selección de variables: Information Value (IV)"
   ]
  },
  {
   "cell_type": "markdown",
   "metadata": {},
   "source": [
    "AGREGAR UNA PEQUEÑA DESCRIPCIÓN DEL IV"
   ]
  },
  {
   "cell_type": "code",
   "execution_count": 9,
   "metadata": {},
   "outputs": [],
   "source": [
    "## Función IV\n",
    "def iv_report(df,variables,obj):\n",
    "    iv_list = []\n",
    "    for feat in variables:\n",
    "        lista=[]\n",
    "        for var in set(df[feat].values):\n",
    "            PNE = float(len(df[(df[obj]==0) & (df[feat]==var)]))/float(len(df[df[obj]==0]))\n",
    "            PE = float(len(df[(df[obj]==1) & (df[feat]==var)]))/float(len(df[df[obj]==1]))\n",
    "            if PNE == 0 or PE == 0:\n",
    "                woe=0\n",
    "            else:\n",
    "                woe=np.log(PNE/PE)\n",
    "            iv=(PNE-PE)*woe\n",
    "            lista.append(iv)\n",
    "        iv_list.append(sum(lista))\n",
    "    return pd.DataFrame(iv_list, index=variables, columns=['IV'])"
   ]
  },
  {
   "cell_type": "markdown",
   "metadata": {},
   "source": [
    "Se aplica la función IV para identificar el poder predictivo de las variables consideradas."
   ]
  },
  {
   "cell_type": "code",
   "execution_count": 10,
   "metadata": {},
   "outputs": [
    {
     "data": {
      "text/html": [
       "<div>\n",
       "<style scoped>\n",
       "    .dataframe tbody tr th:only-of-type {\n",
       "        vertical-align: middle;\n",
       "    }\n",
       "\n",
       "    .dataframe tbody tr th {\n",
       "        vertical-align: top;\n",
       "    }\n",
       "\n",
       "    .dataframe thead th {\n",
       "        text-align: right;\n",
       "    }\n",
       "</style>\n",
       "<table border=\"1\" class=\"dataframe\">\n",
       "  <thead>\n",
       "    <tr style=\"text-align: right;\">\n",
       "      <th></th>\n",
       "      <th>IV</th>\n",
       "    </tr>\n",
       "  </thead>\n",
       "  <tbody>\n",
       "    <tr>\n",
       "      <th>IMC</th>\n",
       "      <td>0.57367</td>\n",
       "    </tr>\n",
       "    <tr>\n",
       "      <th>VFA</th>\n",
       "      <td>0.42975</td>\n",
       "    </tr>\n",
       "    <tr>\n",
       "      <th>CC</th>\n",
       "      <td>0.42287</td>\n",
       "    </tr>\n",
       "    <tr>\n",
       "      <th>PESO</th>\n",
       "      <td>0.39019</td>\n",
       "    </tr>\n",
       "    <tr>\n",
       "      <th>CC_GRAS</th>\n",
       "      <td>0.35653</td>\n",
       "    </tr>\n",
       "    <tr>\n",
       "      <th>PAS</th>\n",
       "      <td>0.20775</td>\n",
       "    </tr>\n",
       "    <tr>\n",
       "      <th>PAM</th>\n",
       "      <td>0.12366</td>\n",
       "    </tr>\n",
       "    <tr>\n",
       "      <th>CC_MUSC</th>\n",
       "      <td>0.11438</td>\n",
       "    </tr>\n",
       "    <tr>\n",
       "      <th>PAD</th>\n",
       "      <td>0.11020</td>\n",
       "    </tr>\n",
       "    <tr>\n",
       "      <th>CC_AGUA</th>\n",
       "      <td>0.10618</td>\n",
       "    </tr>\n",
       "    <tr>\n",
       "      <th>CC_HUES</th>\n",
       "      <td>0.09364</td>\n",
       "    </tr>\n",
       "    <tr>\n",
       "      <th>GLU</th>\n",
       "      <td>0.06349</td>\n",
       "    </tr>\n",
       "    <tr>\n",
       "      <th>TALLA</th>\n",
       "      <td>0.03132</td>\n",
       "    </tr>\n",
       "  </tbody>\n",
       "</table>\n",
       "</div>"
      ],
      "text/plain": [
       "             IV\n",
       "IMC     0.57367\n",
       "VFA     0.42975\n",
       "CC      0.42287\n",
       "PESO    0.39019\n",
       "CC_GRAS 0.35653\n",
       "PAS     0.20775\n",
       "PAM     0.12366\n",
       "CC_MUSC 0.11438\n",
       "PAD     0.11020\n",
       "CC_AGUA 0.10618\n",
       "CC_HUES 0.09364\n",
       "GLU     0.06349\n",
       "TALLA   0.03132"
      ]
     },
     "execution_count": 10,
     "metadata": {},
     "output_type": "execute_result"
    }
   ],
   "source": [
    "iv_tri = iv_report(data_transf,var_predictivas, target)\n",
    "iv_tri.sort_values(by='IV', ascending=False)"
   ]
  },
  {
   "cell_type": "markdown",
   "metadata": {},
   "source": [
    "Se puede observar que todas las variables MENCIONAR MÁS COSAS. Se seleccionan las variables que serán utilizadas como variables dependientes y se identifica la variable objetivo:"
   ]
  },
  {
   "cell_type": "code",
   "execution_count": 11,
   "metadata": {},
   "outputs": [],
   "source": [
    "variables_iv = ['W_IMC','W_VFA', 'W_CC', 'W_PESO', 'W_CC_GRAS', 'W_PAM', 'W_CC_MUSC', 'W_CC_AGUA']\n",
    "#X = data_transf[[x for x in data_transf.columns if x.startswith('W_')]]\n",
    "X = data_transf[variables_iv]\n",
    "y = data_transf[target]"
   ]
  },
  {
   "cell_type": "markdown",
   "metadata": {},
   "source": [
    "### Separación de datos"
   ]
  },
  {
   "cell_type": "markdown",
   "metadata": {},
   "source": [
    "Para evaluar mejor el rendimiento del modelo, es una buena estrategia dividir el conjunto de datos dos: un conjunto de entrenamiento (70%) y uno de prueba (30%)."
   ]
  },
  {
   "cell_type": "code",
   "execution_count": 12,
   "metadata": {},
   "outputs": [
    {
     "name": "stdout",
     "output_type": "stream",
     "text": [
      "Original dataset shape Counter({0: 1479, 1: 278})\n"
     ]
    }
   ],
   "source": [
    "print('Original dataset shape %s' % Counter(y))"
   ]
  },
  {
   "cell_type": "code",
   "execution_count": 13,
   "metadata": {},
   "outputs": [
    {
     "name": "stdout",
     "output_type": "stream",
     "text": [
      "Train dataset shape Counter({0: 1037, 1: 192})\n",
      "Test dataset shape Counter({0: 442, 1: 86})\n"
     ]
    }
   ],
   "source": [
    "X_train, X_test, y_train, y_test = train_test_split(X,y, test_size=0.3, random_state=19)\n",
    "print('Train dataset shape %s' % Counter(y_train))\n",
    "print('Test dataset shape %s' % Counter(y_test))"
   ]
  },
  {
   "cell_type": "markdown",
   "metadata": {},
   "source": [
    "## Modelos supervisados para Clasificación"
   ]
  },
  {
   "cell_type": "markdown",
   "metadata": {},
   "source": [
    "En esta sección se llevará a cabo la construcción de los modelos supervisados de Machine Learning que calculen la probabilidad de que el paciente tenga su nivel de Triglicéridos por arriba de los 150 mg/dL para posteriormente hacer la clasificación en Evento y No-Evento."
   ]
  },
  {
   "cell_type": "markdown",
   "metadata": {},
   "source": [
    "### Regresión logística"
   ]
  },
  {
   "cell_type": "code",
   "execution_count": 14,
   "metadata": {},
   "outputs": [],
   "source": [
    "# Parámetros para el modelo:\n",
    "param_dict_lr = dict( multi_class=['ovr', 'multinomial'], \n",
    "                     solver=['newton-cg','lbfgs','sag'], \n",
    "                     max_iter=range(100,150))\n",
    "\n",
    "# Crear el objeto regresión logística para clasificación:\n",
    "lr_clf = LogisticRegression()\n",
    "\n",
    "# Autotuning del modelo:\n",
    "grid_lr = GridSearchCV(cv=5, estimator=lr_clf, n_jobs=-1, \n",
    "                     param_grid=param_dict_lr ,scoring='roc_auc')\n",
    "grid_lr.fit(X_train,y_train)\n",
    "lr_clf = grid_lr.best_estimator_\n",
    "\n",
    "#rsgrid_lr = RandomizedSearchCV(lr_clf, param_dict_lr, cv=20,\n",
    "#                                scoring='roc_auc', n_iter=40, n_jobs=-1)\n",
    "#rsgrid_lr.fit(X_train,y_train)\n",
    "#lr_clf = rsgrid_lr.best_estimator_\n",
    "\n",
    "# Entrenar la regresión logística:\n",
    "lr_clf = lr_clf.fit(X_train,y_train)"
   ]
  },
  {
   "cell_type": "code",
   "execution_count": 15,
   "metadata": {},
   "outputs": [
    {
     "data": {
      "text/plain": [
       "LogisticRegression(multi_class='multinomial', solver='newton-cg')"
      ]
     },
     "execution_count": 15,
     "metadata": {},
     "output_type": "execute_result"
    }
   ],
   "source": [
    "# Los mejores parámetros:\n",
    "grid_lr.best_estimator_\n",
    "#rsgrid_lr.best_estimator_"
   ]
  },
  {
   "cell_type": "code",
   "execution_count": 16,
   "metadata": {},
   "outputs": [
    {
     "name": "stdout",
     "output_type": "stream",
     "text": [
      "0.7338175024108003\n",
      "0.664829527517626\n"
     ]
    }
   ],
   "source": [
    "# ROC\n",
    "print (roc_auc_score(y_score=lr_clf.predict_proba(X_train)[:,1],y_true=y_train))\n",
    "print (roc_auc_score(y_score=lr_clf.predict_proba(X_test)[:,1],y_true=y_test))"
   ]
  },
  {
   "cell_type": "code",
   "execution_count": 17,
   "metadata": {},
   "outputs": [
    {
     "name": "stdout",
     "output_type": "stream",
     "text": [
      "0.8437754271765663\n",
      "0.8371212121212122\n"
     ]
    }
   ],
   "source": [
    "print (accuracy_score(y_pred=lr_clf.predict(X_train),y_true=y_train))\n",
    "print (accuracy_score(y_pred=lr_clf.predict(X_test),y_true=y_test))"
   ]
  },
  {
   "cell_type": "markdown",
   "metadata": {},
   "source": [
    "### Árbol de decisión"
   ]
  },
  {
   "cell_type": "code",
   "execution_count": 18,
   "metadata": {},
   "outputs": [],
   "source": [
    "# Parámetros para el modelo\n",
    "param_dict_tr= dict(criterion=['gini','entropy'], splitter=['best','random'],\n",
    "                 max_depth=range(2,30), max_features=range(2,8),\n",
    "                 max_leaf_nodes=range(5,35), min_samples_leaf=[0.05])\n",
    "\n",
    "# Crear el objeto árbol de decisión para clasificación\n",
    "tr_clf = DecisionTreeClassifier()\n",
    "\n",
    "# Autotuning de los modelos\n",
    "#grid_tr = GridSearchCV(cv=5, estimator=tr_clf, n_jobs=-1, \n",
    "#                     param_grid=param_dict_tr ,scoring='roc_auc')\n",
    "#grid_tr.fit(X_train,y_train)\n",
    "#tr_clf = grid_tr.best_estimator_\n",
    "\n",
    "rsgrid_tr = RandomizedSearchCV(tr_clf, param_dict_tr, cv=20,\n",
    "                                scoring='roc_auc', n_iter=40, n_jobs=-1)\n",
    "rsgrid_tr.fit(X_train,y_train)\n",
    "tr_clf = rsgrid_tr.best_estimator_\n",
    "\n",
    "# Entrenar el árbol de decisión\n",
    "tr_clf = tr_clf.fit(X_train,y_train)"
   ]
  },
  {
   "cell_type": "code",
   "execution_count": 19,
   "metadata": {},
   "outputs": [
    {
     "data": {
      "text/plain": [
       "DecisionTreeClassifier(criterion='entropy', max_depth=28, max_features=2,\n",
       "                       max_leaf_nodes=19, min_samples_leaf=0.05)"
      ]
     },
     "execution_count": 19,
     "metadata": {},
     "output_type": "execute_result"
    }
   ],
   "source": [
    "# Los mejores parámetros\n",
    "#grid_tr.best_estimator_\n",
    "rsgrid_tr.best_estimator_"
   ]
  },
  {
   "cell_type": "markdown",
   "metadata": {},
   "source": [
    "### Random Forest"
   ]
  },
  {
   "cell_type": "code",
   "execution_count": 20,
   "metadata": {},
   "outputs": [],
   "source": [
    "# Parámetros para el modelo\n",
    "param_dict_rf= dict(n_estimators=range(50,150), criterion=['entropy'],\n",
    "                 max_depth=range(20,30), max_features=range(2,8),\n",
    "                 max_leaf_nodes=range(5,20), min_samples_leaf=[0.05])\n",
    "\n",
    "# Crear el objeto Random Forest para clasificación\n",
    "rf_clf = RandomForestClassifier()\n",
    "\n",
    "#Autotuning de los modelos\n",
    "#grid_rf = GridSearchCV(cv=5, estimator=rf_clf, n_jobs=-1, \n",
    "#                     param_grid=param_dict_rf ,scoring='roc_auc')\n",
    "#grid_rf.fit(X_train,y_train)\n",
    "#rf_clf = grid_rf.best_estimator_\n",
    "\n",
    "rsgrid_rf = RandomizedSearchCV(rf_clf, param_dict_rf, cv=20,\n",
    "                                scoring='roc_auc', n_iter=40, n_jobs=-1)\n",
    "rsgrid_rf.fit(X_train,y_train)\n",
    "rf_clf = rsgrid_rf.best_estimator_\n",
    "\n",
    "# Entrenar el Random Forest\n",
    "rf_clf = rf_clf.fit(X_train,y_train)"
   ]
  },
  {
   "cell_type": "code",
   "execution_count": 21,
   "metadata": {},
   "outputs": [
    {
     "data": {
      "text/plain": [
       "RandomForestClassifier(criterion='entropy', max_depth=29, max_features=3,\n",
       "                       max_leaf_nodes=17, min_samples_leaf=0.05,\n",
       "                       n_estimators=69)"
      ]
     },
     "execution_count": 21,
     "metadata": {},
     "output_type": "execute_result"
    }
   ],
   "source": [
    "# Los mejores parámetros\n",
    "#grid_rf.best_estimator_\n",
    "rsgrid_rf.best_estimator_"
   ]
  },
  {
   "cell_type": "markdown",
   "metadata": {},
   "source": [
    "### Gradient Boosting"
   ]
  },
  {
   "cell_type": "code",
   "execution_count": 22,
   "metadata": {},
   "outputs": [],
   "source": [
    "# Parámetros para el modelo\n",
    "param_dict_gb= dict(criterion=['friedman_mse', 'mse', 'mae'], \n",
    "                    loss=['deviance','exponential'], \n",
    "                    learning_rate=[0.05,0.10,0.15,0.20,0.25,0.30,0.5,0.8,1],\n",
    "                    max_depth=range(2,10), max_features=range(2,8),\n",
    "                    max_leaf_nodes=range(5,35), min_samples_leaf=[0.05])\n",
    "\n",
    "# Crear el objeto Gradient Boosting para clasificación\n",
    "gb_clf = GradientBoostingClassifier()\n",
    "\n",
    "#Autotuning de los modelos\n",
    "#grid_gb = GridSearchCV(cv=5, estimator=gb_clf, n_jobs=-1, \n",
    "#                     param_grid=param_dict_gb ,scoring='roc_auc')\n",
    "#grid_gb.fit(X_train,y_train)\n",
    "#gb_clf = grid_gb.best_estimator_\n",
    "\n",
    "rsgrid_gb = RandomizedSearchCV(gb_clf, param_dict_gb, cv=20,\n",
    "                                scoring='roc_auc', n_iter=40, n_jobs=-1)\n",
    "rsgrid_gb.fit(X_train,y_train)\n",
    "gb_clf = rsgrid_gb.best_estimator_\n",
    "\n",
    "# Entrenar el Gradient Boosting\n",
    "gb_clf = gb_clf.fit(X_train,y_train)"
   ]
  },
  {
   "cell_type": "code",
   "execution_count": 23,
   "metadata": {},
   "outputs": [
    {
     "data": {
      "text/plain": [
       "GradientBoostingClassifier(criterion='mae', learning_rate=0.05,\n",
       "                           loss='exponential', max_depth=5, max_features=4,\n",
       "                           max_leaf_nodes=19, min_samples_leaf=0.05)"
      ]
     },
     "execution_count": 23,
     "metadata": {},
     "output_type": "execute_result"
    }
   ],
   "source": [
    "# Los mejores parámetros\n",
    "#grid_gb.best_estimator_\n",
    "rsgrid_gb.best_estimator_"
   ]
  },
  {
   "cell_type": "markdown",
   "metadata": {},
   "source": [
    "### XGBoost"
   ]
  },
  {
   "cell_type": "code",
   "execution_count": 24,
   "metadata": {},
   "outputs": [],
   "source": [
    "# Parámetros para el modelo\n",
    "param_dict_xgb= {'eta': [0.05, 0.10, 0.15, 0.20, 0.25, 0.30],\n",
    "                 'max_depth':[3,4,5,6,8,10,12,15],\n",
    "                 'min_child_weight': [1,3,5,7],\n",
    "                 'gamma': [0.0,0.1,0.2,0.3,0.4],\n",
    "                 'colsample_bytree': [0.3,0.4,0.5,0.7],\n",
    "                 'n_estimators': range(50,150)}\n",
    "\n",
    "# Crear el objeto Gradient Boosting para clasificación\n",
    "xgb_clf = XGBClassifier()\n",
    "\n",
    "#Autotuning de los modelos\n",
    "#grid_xgb = GridSearchCV(cv=5, estimator=xgb_clf, n_jobs=-1, \n",
    "#                     param_grid=param_dict_xgb ,scoring='roc_auc')\n",
    "#grid_xgb.fit(X_train,y_train)\n",
    "#xgb_clf = grid_xgb.best_estimator_\n",
    "\n",
    "rsgrid_xgb = RandomizedSearchCV(xgb_clf, param_dict_xgb, cv=20,\n",
    "                                scoring='roc_auc', n_iter=40, n_jobs=-1)\n",
    "rsgrid_xgb.fit(X_train,y_train)\n",
    "xgb_clf = rsgrid_xgb.best_estimator_\n",
    "\n",
    "# Entrenar el Gradient Boosting\n",
    "xgb_clf = xgb_clf.fit(X_train,y_train)"
   ]
  },
  {
   "cell_type": "code",
   "execution_count": 25,
   "metadata": {},
   "outputs": [
    {
     "data": {
      "text/plain": [
       "XGBClassifier(base_score=0.5, booster='gbtree', colsample_bylevel=1,\n",
       "              colsample_bynode=1, colsample_bytree=0.3, eta=0.05, gamma=0.1,\n",
       "              gpu_id=-1, importance_type='gain', interaction_constraints='',\n",
       "              learning_rate=0.0500000007, max_delta_step=0, max_depth=4,\n",
       "              min_child_weight=5, missing=nan, monotone_constraints='()',\n",
       "              n_estimators=88, n_jobs=0, num_parallel_tree=1, random_state=0,\n",
       "              reg_alpha=0, reg_lambda=1, scale_pos_weight=1, subsample=1,\n",
       "              tree_method='exact', validate_parameters=1, verbosity=None)"
      ]
     },
     "execution_count": 25,
     "metadata": {},
     "output_type": "execute_result"
    }
   ],
   "source": [
    "# Los mejores parámetros\n",
    "#grid_xgb.best_estimator_\n",
    "rsgrid_xgb.best_estimator_"
   ]
  },
  {
   "cell_type": "markdown",
   "metadata": {},
   "source": [
    "### Estadísticos de precisión"
   ]
  },
  {
   "cell_type": "markdown",
   "metadata": {},
   "source": [
    "A continuación, se muestra la curva ROC de cada uno de los modelos junto con estadístico AUC que indica el área debajo de la curva ROC."
   ]
  },
  {
   "cell_type": "code",
   "execution_count": 26,
   "metadata": {},
   "outputs": [
    {
     "name": "stdout",
     "output_type": "stream",
     "text": [
      "Decision Tree ROC (auc= 0.68)\n",
      "Random Forest ROC (auc= 0.69)\n",
      "Gradient Boosting ROC (auc= 0.68)\n",
      "XGBoost ROC (auc= 0.69)\n",
      "Regresión Logística ROC (auc= 0.66)\n"
     ]
    }
   ],
   "source": [
    "modelos = [{'label':'Decision Tree','modelo':tr_clf,},\n",
    "           {'label':'Random Forest','modelo':rf_clf,},\n",
    "           {'label':'Gradient Boosting','modelo':gb_clf,},\n",
    "           {'label':'XGBoost','modelo':xgb_clf,},\n",
    "           {'label':'Regresión Logística','modelo':lr_clf,}]\n",
    "\n",
    "for m in modelos:\n",
    "    modelo = m['modelo']\n",
    "    auc = roc_auc_score(y_true=y_test, y_score=modelo.predict_proba(X_test)[:,1])\n",
    "    print('%s ROC (auc= %0.2f)' % (m['label'], auc))"
   ]
  },
  {
   "cell_type": "code",
   "execution_count": null,
   "metadata": {},
   "outputs": [],
   "source": []
  },
  {
   "cell_type": "code",
   "execution_count": null,
   "metadata": {},
   "outputs": [],
   "source": []
  },
  {
   "cell_type": "code",
   "execution_count": null,
   "metadata": {},
   "outputs": [],
   "source": [
    "modelos = [{'label':'Regresión Logística','modelo':lr_clf,}]\n",
    "\n",
    "plt.figure(figsize=(6,5))\n",
    "for m in modelos:\n",
    "    modelo = m['modelo']\n",
    "    fpr, tpr, thresholds = roc_curve(y_test, modelo.predict_proba(X_test)[:,1])\n",
    "    auc = roc_auc_score(y_true=y_test, y_score=modelo.predict_proba(X_test)[:,1])\n",
    "    plt.plot(fpr,tpr,label='%s ROC (auc= %0.2f)' % (m['label'], auc))\n",
    "plt.plot([0,1],[0,1],'r--')\n",
    "plt.xlim([0.0,1.0])\n",
    "plt.ylim([0.0,1.05]) \n",
    "plt.xlabel('False Positive Rate')\n",
    "plt.ylabel('True Positive Rate')\n",
    "plt.title('ROC Curve (using validation data)')\n",
    "plt.legend(loc=\"lower right\")\n",
    "plt.show()"
   ]
  },
  {
   "cell_type": "markdown",
   "metadata": {},
   "source": [
    "También se puede observar la matriz de confusión:"
   ]
  },
  {
   "cell_type": "code",
   "execution_count": null,
   "metadata": {},
   "outputs": [],
   "source": [
    "for m in modelos:\n",
    "    modelo = m['modelo']\n",
    "    disp = plot_confusion_matrix(modelo, X_test, y_test,\n",
    "                                 cmap=plt.cm.Blues,\n",
    "                                 normalize=None)\n",
    "    disp.ax_.set_title('Confusion Matrix: %s' % (m['label']))\n",
    "\n",
    "plt.show()"
   ]
  }
 ],
 "metadata": {
  "kernelspec": {
   "display_name": "Python 3",
   "language": "python",
   "name": "python3"
  },
  "language_info": {
   "codemirror_mode": {
    "name": "ipython",
    "version": 3
   },
   "file_extension": ".py",
   "mimetype": "text/x-python",
   "name": "python",
   "nbconvert_exporter": "python",
   "pygments_lexer": "ipython3",
   "version": "3.7.1"
  }
 },
 "nbformat": 4,
 "nbformat_minor": 4
}
