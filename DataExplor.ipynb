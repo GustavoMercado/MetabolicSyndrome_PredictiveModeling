{
 "cells": [
  {
   "cell_type": "markdown",
   "metadata": {},
   "source": [
    "El análisis exploratorio de los datos es un paso crucial antes de pasar a la generación de modelos de Machine Learning. Proporciona el contexto necesario para desarrollar un modelo apropiado e interpretar los resultados correctamente."
   ]
  },
  {
   "cell_type": "markdown",
   "metadata": {},
   "source": [
    "## Librerías utilizadas"
   ]
  },
  {
   "cell_type": "code",
   "execution_count": 11,
   "metadata": {},
   "outputs": [],
   "source": [
    "import numpy as np # álgebra linear\n",
    "import pandas as pd # procesamiento de datos \n",
    "import seaborn as sns # gráficas estadísticas\n",
    "import matplotlib.pyplot as plt # visualización \n",
    "\n",
    "# Para poder visualizar todas las columnas:\n",
    "pd.set_option('display.max_columns',100)\n",
    "\n",
    "# Para ver unicamente 3 decimales:\n",
    "pd.set_option('display.float_format', lambda x: '%.3f' % x)"
   ]
  },
  {
   "cell_type": "markdown",
   "metadata": {},
   "source": [
    "## Acceso a los datos"
   ]
  },
  {
   "cell_type": "markdown",
   "metadata": {},
   "source": [
    "Se importan los datos que resultaron del proceso de preparación de datos mostrado en la sección anterior:"
   ]
  },
  {
   "cell_type": "code",
   "execution_count": 2,
   "metadata": {},
   "outputs": [],
   "source": [
    "data = pd.read_csv('C:/Users/gusta/OneDrive/Documentos/Tesis/Datos/Datos_prep.csv') "
   ]
  },
  {
   "cell_type": "markdown",
   "metadata": {},
   "source": [
    "## Población analizada"
   ]
  },
  {
   "cell_type": "markdown",
   "metadata": {},
   "source": [
    "Se comienza analizando el perfil de los alumnos de nuevo ingreso de la FES Iztacala:"
   ]
  },
  {
   "cell_type": "code",
   "execution_count": 3,
   "metadata": {},
   "outputs": [
    {
     "data": {
      "image/png": "[encoded data removed]",
      "text/plain": [
       "<Figure size 432x288 with 1 Axes>"
      ]
     },
     "metadata": {},
     "output_type": "display_data"
    }
   ],
   "source": [
    "data['SEXO'].value_counts().plot(kind='pie', autopct='%1.1f%%', \n",
    "                                 labels=['Femenino','Masculino'],\n",
    "                                 colors=['lightcoral','lightskyblue']);"
   ]
  },
  {
   "cell_type": "markdown",
   "metadata": {},
   "source": [
    "La variable \"Sexo\" indica el género (Máculino, Femenino) de los alumnos y con base en la gráfica anterior se concluye que la mayoría de los alumnos de nuevo ingreso en la FES Iztacala son del género femenino. "
   ]
  },
  {
   "cell_type": "code",
   "execution_count": 5,
   "metadata": {},
   "outputs": [
    {
     "data": {
      "image/png": "[encoded data removed]",
      "text/plain": [
       "<Figure size 432x288 with 1 Axes>"
      ]
     },
     "metadata": {
      "needs_background": "light"
     },
     "output_type": "display_data"
    }
   ],
   "source": [
    "data[\"CONTEO\"] = 1;\n",
    "sns.barplot(x=\"EDAD\", y=\"CONTEO\", hue=\"SEXO\", data=data, estimator=sum, \n",
    "           palette=['lightcoral','lightskyblue']).set_ylabel(\"NÚM. PACIENTES\");"
   ]
  },
  {
   "cell_type": "markdown",
   "metadata": {},
   "source": [
    "De los gráficos anteriores se deduce que la mayoría de los alumnos de nuevo ingreso a la FES Iztacala son mujeres de entre 18 y 19 años de edad. \\\\\n",
    "\n",
    "Debido a la cantidad de información con la que se cuenta no sería viable hacer un muestreo de los datos para tener una muestra balanceada (50 y 50) de ambos géneros y tampoco se podría tener una muestra balanceada de observaciones por cada grupo de edad. Es por esto que los resultados obtenidos no pueden ser generalizados a todos los jóvenes mexicanos, únicamente aplica a la población de jóvenes que son alumnos de nuevo ingreso a la FES Iztacala. "
   ]
  },
  {
   "cell_type": "markdown",
   "metadata": {},
   "source": [
    "## Análisis de las variables numéricas"
   ]
  },
  {
   "cell_type": "markdown",
   "metadata": {},
   "source": [
    "Ahora se hace el cálculo de los principales estadísticos de las variables que contienen las medidas antropométricas de los pacientes y se hace un análisis de la distribución de las mismas:"
   ]
  },
  {
   "cell_type": "code",
   "execution_count": 6,
   "metadata": {},
   "outputs": [
    {
     "data": {
      "text/html": [
       "<div>\n",
       "<style scoped>\n",
       "    .dataframe tbody tr th:only-of-type {\n",
       "        vertical-align: middle;\n",
       "    }\n",
       "\n",
       "    .dataframe tbody tr th {\n",
       "        vertical-align: top;\n",
       "    }\n",
       "\n",
       "    .dataframe thead th {\n",
       "        text-align: right;\n",
       "    }\n",
       "</style>\n",
       "<table border=\"1\" class=\"dataframe\">\n",
       "  <thead>\n",
       "    <tr style=\"text-align: right;\">\n",
       "      <th></th>\n",
       "      <th>PAD</th>\n",
       "      <th>PAS</th>\n",
       "      <th>PAM</th>\n",
       "      <th>GLU</th>\n",
       "      <th>CC</th>\n",
       "      <th>PESO</th>\n",
       "      <th>TALLA</th>\n",
       "      <th>IMC</th>\n",
       "      <th>CC_AGUA</th>\n",
       "      <th>CC_GRAS</th>\n",
       "      <th>CC_HUES</th>\n",
       "      <th>CC_MUSC</th>\n",
       "      <th>P_AGUA</th>\n",
       "      <th>P_GRAS</th>\n",
       "      <th>P_HUES</th>\n",
       "      <th>P_MUSC</th>\n",
       "      <th>VFA</th>\n",
       "    </tr>\n",
       "  </thead>\n",
       "  <tbody>\n",
       "    <tr>\n",
       "      <th>count</th>\n",
       "      <td>1757.000</td>\n",
       "      <td>1757.000</td>\n",
       "      <td>1757.000</td>\n",
       "      <td>1757.000</td>\n",
       "      <td>1757.000</td>\n",
       "      <td>1757.000</td>\n",
       "      <td>1757.000</td>\n",
       "      <td>1757.000</td>\n",
       "      <td>1757.000</td>\n",
       "      <td>1757.000</td>\n",
       "      <td>1757.000</td>\n",
       "      <td>1757.000</td>\n",
       "      <td>1757.000</td>\n",
       "      <td>1757.000</td>\n",
       "      <td>1757.000</td>\n",
       "      <td>1757.000</td>\n",
       "      <td>1757.000</td>\n",
       "    </tr>\n",
       "    <tr>\n",
       "      <th>mean</th>\n",
       "      <td>71.783</td>\n",
       "      <td>106.933</td>\n",
       "      <td>83.500</td>\n",
       "      <td>90.583</td>\n",
       "      <td>81.360</td>\n",
       "      <td>62.719</td>\n",
       "      <td>162.372</td>\n",
       "      <td>23.707</td>\n",
       "      <td>32.214</td>\n",
       "      <td>18.741</td>\n",
       "      <td>3.049</td>\n",
       "      <td>8.715</td>\n",
       "      <td>51.799</td>\n",
       "      <td>29.288</td>\n",
       "      <td>4.911</td>\n",
       "      <td>14.002</td>\n",
       "      <td>60.008</td>\n",
       "    </tr>\n",
       "    <tr>\n",
       "      <th>std</th>\n",
       "      <td>8.727</td>\n",
       "      <td>11.743</td>\n",
       "      <td>8.854</td>\n",
       "      <td>8.178</td>\n",
       "      <td>11.194</td>\n",
       "      <td>13.342</td>\n",
       "      <td>8.262</td>\n",
       "      <td>4.237</td>\n",
       "      <td>7.029</td>\n",
       "      <td>8.680</td>\n",
       "      <td>0.626</td>\n",
       "      <td>1.954</td>\n",
       "      <td>7.219</td>\n",
       "      <td>9.766</td>\n",
       "      <td>0.640</td>\n",
       "      <td>1.990</td>\n",
       "      <td>34.406</td>\n",
       "    </tr>\n",
       "    <tr>\n",
       "      <th>min</th>\n",
       "      <td>40.000</td>\n",
       "      <td>64.000</td>\n",
       "      <td>48.000</td>\n",
       "      <td>60.000</td>\n",
       "      <td>42.500</td>\n",
       "      <td>38.370</td>\n",
       "      <td>137.000</td>\n",
       "      <td>14.889</td>\n",
       "      <td>17.300</td>\n",
       "      <td>1.500</td>\n",
       "      <td>1.470</td>\n",
       "      <td>4.800</td>\n",
       "      <td>33.779</td>\n",
       "      <td>2.703</td>\n",
       "      <td>2.603</td>\n",
       "      <td>9.167</td>\n",
       "      <td>5.000</td>\n",
       "    </tr>\n",
       "    <tr>\n",
       "      <th>25%</th>\n",
       "      <td>66.000</td>\n",
       "      <td>100.000</td>\n",
       "      <td>77.333</td>\n",
       "      <td>86.000</td>\n",
       "      <td>73.500</td>\n",
       "      <td>52.930</td>\n",
       "      <td>156.000</td>\n",
       "      <td>20.624</td>\n",
       "      <td>26.900</td>\n",
       "      <td>12.600</td>\n",
       "      <td>2.590</td>\n",
       "      <td>7.200</td>\n",
       "      <td>46.562</td>\n",
       "      <td>22.492</td>\n",
       "      <td>4.488</td>\n",
       "      <td>12.564</td>\n",
       "      <td>38.200</td>\n",
       "    </tr>\n",
       "    <tr>\n",
       "      <th>50%</th>\n",
       "      <td>70.000</td>\n",
       "      <td>110.000</td>\n",
       "      <td>83.333</td>\n",
       "      <td>90.000</td>\n",
       "      <td>80.000</td>\n",
       "      <td>60.400</td>\n",
       "      <td>162.000</td>\n",
       "      <td>22.917</td>\n",
       "      <td>30.400</td>\n",
       "      <td>17.400</td>\n",
       "      <td>2.910</td>\n",
       "      <td>8.200</td>\n",
       "      <td>51.236</td>\n",
       "      <td>30.035</td>\n",
       "      <td>4.936</td>\n",
       "      <td>13.809</td>\n",
       "      <td>56.800</td>\n",
       "    </tr>\n",
       "    <tr>\n",
       "      <th>75%</th>\n",
       "      <td>80.000</td>\n",
       "      <td>112.000</td>\n",
       "      <td>90.000</td>\n",
       "      <td>95.000</td>\n",
       "      <td>87.500</td>\n",
       "      <td>70.040</td>\n",
       "      <td>168.000</td>\n",
       "      <td>26.203</td>\n",
       "      <td>36.900</td>\n",
       "      <td>23.800</td>\n",
       "      <td>3.420</td>\n",
       "      <td>10.000</td>\n",
       "      <td>56.708</td>\n",
       "      <td>36.353</td>\n",
       "      <td>5.358</td>\n",
       "      <td>15.345</td>\n",
       "      <td>78.300</td>\n",
       "    </tr>\n",
       "    <tr>\n",
       "      <th>max</th>\n",
       "      <td>120.000</td>\n",
       "      <td>160.000</td>\n",
       "      <td>127.333</td>\n",
       "      <td>220.000</td>\n",
       "      <td>126.000</td>\n",
       "      <td>127.900</td>\n",
       "      <td>188.000</td>\n",
       "      <td>43.415</td>\n",
       "      <td>67.800</td>\n",
       "      <td>65.300</td>\n",
       "      <td>7.060</td>\n",
       "      <td>19.100</td>\n",
       "      <td>74.403</td>\n",
       "      <td>53.931</td>\n",
       "      <td>9.431</td>\n",
       "      <td>20.650</td>\n",
       "      <td>479.600</td>\n",
       "    </tr>\n",
       "  </tbody>\n",
       "</table>\n",
       "</div>"
      ],
      "text/plain": [
       "           PAD      PAS      PAM      GLU       CC     PESO    TALLA      IMC  \\\n",
       "count 1757.000 1757.000 1757.000 1757.000 1757.000 1757.000 1757.000 1757.000   \n",
       "mean    71.783  106.933   83.500   90.583   81.360   62.719  162.372   23.707   \n",
       "std      8.727   11.743    8.854    8.178   11.194   13.342    8.262    4.237   \n",
       "min     40.000   64.000   48.000   60.000   42.500   38.370  137.000   14.889   \n",
       "25%     66.000  100.000   77.333   86.000   73.500   52.930  156.000   20.624   \n",
       "50%     70.000  110.000   83.333   90.000   80.000   60.400  162.000   22.917   \n",
       "75%     80.000  112.000   90.000   95.000   87.500   70.040  168.000   26.203   \n",
       "max    120.000  160.000  127.333  220.000  126.000  127.900  188.000   43.415   \n",
       "\n",
       "       CC_AGUA  CC_GRAS  CC_HUES  CC_MUSC   P_AGUA   P_GRAS   P_HUES   P_MUSC  \\\n",
       "count 1757.000 1757.000 1757.000 1757.000 1757.000 1757.000 1757.000 1757.000   \n",
       "mean    32.214   18.741    3.049    8.715   51.799   29.288    4.911   14.002   \n",
       "std      7.029    8.680    0.626    1.954    7.219    9.766    0.640    1.990   \n",
       "min     17.300    1.500    1.470    4.800   33.779    2.703    2.603    9.167   \n",
       "25%     26.900   12.600    2.590    7.200   46.562   22.492    4.488   12.564   \n",
       "50%     30.400   17.400    2.910    8.200   51.236   30.035    4.936   13.809   \n",
       "75%     36.900   23.800    3.420   10.000   56.708   36.353    5.358   15.345   \n",
       "max     67.800   65.300    7.060   19.100   74.403   53.931    9.431   20.650   \n",
       "\n",
       "           VFA  \n",
       "count 1757.000  \n",
       "mean    60.008  \n",
       "std     34.406  \n",
       "min      5.000  \n",
       "25%     38.200  \n",
       "50%     56.800  \n",
       "75%     78.300  \n",
       "max    479.600  "
      ]
     },
     "execution_count": 6,
     "metadata": {},
     "output_type": "execute_result"
    }
   ],
   "source": [
    "var_explanatory= [x for x in data.columns if x not in ['ID_EVENTO','SMet','HDL','TRI',\n",
    "                                                       'TARGET_TRI','TARGET_HDL',\n",
    "                                                       'CONTEO','EDAD','SEXO']]\n",
    "data[var_explanatory].describe()"
   ]
  },
  {
   "cell_type": "code",
   "execution_count": 7,
   "metadata": {},
   "outputs": [
    {
     "data": {
      "image/png": "[encoded data removed]",
      "text/plain": [
       "<Figure size 1152x1440 with 20 Axes>"
      ]
     },
     "metadata": {
      "needs_background": "light"
     },
     "output_type": "display_data"
    }
   ],
   "source": [
    "data[var_explanatory].hist(figsize=(16, 20), bins=50, xlabelsize=8, \n",
    "                           ylabelsize=8);"
   ]
  },
  {
   "cell_type": "markdown",
   "metadata": {},
   "source": [
    "## Selección de variables"
   ]
  },
  {
   "cell_type": "markdown",
   "metadata": {},
   "source": [
    "Una paso importante antes de comenzar con la construcción de los modelos predictivos es la selección de variables, es decir, la selección de aquellas medidas que ayudarán a explicar el fenómeno a ser modelado. Para poder realizar esta selección de variables se tomarán en cuenta dos estadísticos: el information value (IV) y el coeficiente de correlación. "
   ]
  },
  {
   "cell_type": "markdown",
   "metadata": {},
   "source": [
    "### Information Value"
   ]
  },
  {
   "cell_type": "markdown",
   "metadata": {},
   "source": [
    "El IV ayuda a clasificar las variables en función de su importancia HACER REFERENCIA A PARTE TEÓRICA. A continuación, se construye la función que calcula el IV:"
   ]
  },
  {
   "cell_type": "code",
   "execution_count": 22,
   "metadata": {},
   "outputs": [],
   "source": [
    "def iv_report(df,columna,obj):\n",
    "    iv_list=[]\n",
    "    for feat in columna:\n",
    "        lista=[]\n",
    "        for var in set(df[feat].values):\n",
    "            PNE = float(len(df[(df[obj]==0) & (df[feat]==var)]))/float(len(df[df[obj]==0]))\n",
    "            PE = float(len(df[(df[obj]==1) & (df[feat]==var)]))/float(len(df[df[obj]==1]))\n",
    "            if PNE == 0 or PE == 0:\n",
    "                woe=0\n",
    "            else:\n",
    "                woe=(np.log(PNE/PE))\n",
    "            iv=(PNE-PE)*woe\n",
    "            lista.append(iv)\n",
    "        iv_list.append(sum(lista))\n",
    "    return pd.DataFrame(iv_list, index=columna, columns=['IV'])"
   ]
  },
  {
   "cell_type": "markdown",
   "metadata": {},
   "source": [
    "IV de las variables para triglicéridos:"
   ]
  },
  {
   "cell_type": "code",
   "execution_count": 30,
   "metadata": {},
   "outputs": [
    {
     "data": {
      "text/html": [
       "<div>\n",
       "<style scoped>\n",
       "    .dataframe tbody tr th:only-of-type {\n",
       "        vertical-align: middle;\n",
       "    }\n",
       "\n",
       "    .dataframe tbody tr th {\n",
       "        vertical-align: top;\n",
       "    }\n",
       "\n",
       "    .dataframe thead th {\n",
       "        text-align: right;\n",
       "    }\n",
       "</style>\n",
       "<table border=\"1\" class=\"dataframe\">\n",
       "  <thead>\n",
       "    <tr style=\"text-align: right;\">\n",
       "      <th></th>\n",
       "      <th>IV</th>\n",
       "    </tr>\n",
       "  </thead>\n",
       "  <tbody>\n",
       "    <tr>\n",
       "      <th>CC</th>\n",
       "      <td>0.739</td>\n",
       "    </tr>\n",
       "    <tr>\n",
       "      <th>VFA</th>\n",
       "      <td>0.656</td>\n",
       "    </tr>\n",
       "    <tr>\n",
       "      <th>CC_GRAS</th>\n",
       "      <td>0.599</td>\n",
       "    </tr>\n",
       "    <tr>\n",
       "      <th>CC_MUSC</th>\n",
       "      <td>0.565</td>\n",
       "    </tr>\n",
       "    <tr>\n",
       "      <th>CC_HUES</th>\n",
       "      <td>0.559</td>\n",
       "    </tr>\n",
       "    <tr>\n",
       "      <th>CC_AGUA</th>\n",
       "      <td>0.513</td>\n",
       "    </tr>\n",
       "    <tr>\n",
       "      <th>PAS</th>\n",
       "      <td>0.408</td>\n",
       "    </tr>\n",
       "    <tr>\n",
       "      <th>PAM</th>\n",
       "      <td>0.356</td>\n",
       "    </tr>\n",
       "    <tr>\n",
       "      <th>PESO</th>\n",
       "      <td>0.308</td>\n",
       "    </tr>\n",
       "    <tr>\n",
       "      <th>PAD</th>\n",
       "      <td>0.300</td>\n",
       "    </tr>\n",
       "    <tr>\n",
       "      <th>TALLA</th>\n",
       "      <td>0.233</td>\n",
       "    </tr>\n",
       "    <tr>\n",
       "      <th>GLU</th>\n",
       "      <td>0.214</td>\n",
       "    </tr>\n",
       "    <tr>\n",
       "      <th>IMC</th>\n",
       "      <td>0.015</td>\n",
       "    </tr>\n",
       "    <tr>\n",
       "      <th>P_HUES</th>\n",
       "      <td>0.010</td>\n",
       "    </tr>\n",
       "    <tr>\n",
       "      <th>P_AGUA</th>\n",
       "      <td>0.000</td>\n",
       "    </tr>\n",
       "    <tr>\n",
       "      <th>P_GRAS</th>\n",
       "      <td>0.000</td>\n",
       "    </tr>\n",
       "    <tr>\n",
       "      <th>P_MUSC</th>\n",
       "      <td>0.000</td>\n",
       "    </tr>\n",
       "  </tbody>\n",
       "</table>\n",
       "</div>"
      ],
      "text/plain": [
       "           IV\n",
       "CC      0.739\n",
       "VFA     0.656\n",
       "CC_GRAS 0.599\n",
       "CC_MUSC 0.565\n",
       "CC_HUES 0.559\n",
       "CC_AGUA 0.513\n",
       "PAS     0.408\n",
       "PAM     0.356\n",
       "PESO    0.308\n",
       "PAD     0.300\n",
       "TALLA   0.233\n",
       "GLU     0.214\n",
       "IMC     0.015\n",
       "P_HUES  0.010\n",
       "P_AGUA  0.000\n",
       "P_GRAS  0.000\n",
       "P_MUSC  0.000"
      ]
     },
     "execution_count": 30,
     "metadata": {},
     "output_type": "execute_result"
    }
   ],
   "source": [
    "iv_tri = iv_report(data,var_explanatory,'TARGET_TRI')\n",
    "iv_tri.sort_values(by='IV', ascending=False)"
   ]
  },
  {
   "cell_type": "markdown",
   "metadata": {},
   "source": [
    "IV de las variables para Colesterol HDL:"
   ]
  },
  {
   "cell_type": "code",
   "execution_count": 31,
   "metadata": {},
   "outputs": [
    {
     "data": {
      "text/html": [
       "<div>\n",
       "<style scoped>\n",
       "    .dataframe tbody tr th:only-of-type {\n",
       "        vertical-align: middle;\n",
       "    }\n",
       "\n",
       "    .dataframe tbody tr th {\n",
       "        vertical-align: top;\n",
       "    }\n",
       "\n",
       "    .dataframe thead th {\n",
       "        text-align: right;\n",
       "    }\n",
       "</style>\n",
       "<table border=\"1\" class=\"dataframe\">\n",
       "  <thead>\n",
       "    <tr style=\"text-align: right;\">\n",
       "      <th></th>\n",
       "      <th>IV</th>\n",
       "    </tr>\n",
       "  </thead>\n",
       "  <tbody>\n",
       "    <tr>\n",
       "      <th>CC_MUSC</th>\n",
       "      <td>0.609</td>\n",
       "    </tr>\n",
       "    <tr>\n",
       "      <th>CC_AGUA</th>\n",
       "      <td>0.577</td>\n",
       "    </tr>\n",
       "    <tr>\n",
       "      <th>CC</th>\n",
       "      <td>0.571</td>\n",
       "    </tr>\n",
       "    <tr>\n",
       "      <th>CC_GRAS</th>\n",
       "      <td>0.568</td>\n",
       "    </tr>\n",
       "    <tr>\n",
       "      <th>CC_HUES</th>\n",
       "      <td>0.566</td>\n",
       "    </tr>\n",
       "    <tr>\n",
       "      <th>VFA</th>\n",
       "      <td>0.472</td>\n",
       "    </tr>\n",
       "    <tr>\n",
       "      <th>PAM</th>\n",
       "      <td>0.383</td>\n",
       "    </tr>\n",
       "    <tr>\n",
       "      <th>PESO</th>\n",
       "      <td>0.304</td>\n",
       "    </tr>\n",
       "    <tr>\n",
       "      <th>PAS</th>\n",
       "      <td>0.284</td>\n",
       "    </tr>\n",
       "    <tr>\n",
       "      <th>PAD</th>\n",
       "      <td>0.276</td>\n",
       "    </tr>\n",
       "    <tr>\n",
       "      <th>TALLA</th>\n",
       "      <td>0.258</td>\n",
       "    </tr>\n",
       "    <tr>\n",
       "      <th>GLU</th>\n",
       "      <td>0.144</td>\n",
       "    </tr>\n",
       "    <tr>\n",
       "      <th>P_HUES</th>\n",
       "      <td>0.016</td>\n",
       "    </tr>\n",
       "    <tr>\n",
       "      <th>IMC</th>\n",
       "      <td>0.004</td>\n",
       "    </tr>\n",
       "    <tr>\n",
       "      <th>P_AGUA</th>\n",
       "      <td>0.000</td>\n",
       "    </tr>\n",
       "    <tr>\n",
       "      <th>P_GRAS</th>\n",
       "      <td>0.000</td>\n",
       "    </tr>\n",
       "    <tr>\n",
       "      <th>P_MUSC</th>\n",
       "      <td>0.000</td>\n",
       "    </tr>\n",
       "  </tbody>\n",
       "</table>\n",
       "</div>"
      ],
      "text/plain": [
       "           IV\n",
       "CC_MUSC 0.609\n",
       "CC_AGUA 0.577\n",
       "CC      0.571\n",
       "CC_GRAS 0.568\n",
       "CC_HUES 0.566\n",
       "VFA     0.472\n",
       "PAM     0.383\n",
       "PESO    0.304\n",
       "PAS     0.284\n",
       "PAD     0.276\n",
       "TALLA   0.258\n",
       "GLU     0.144\n",
       "P_HUES  0.016\n",
       "IMC     0.004\n",
       "P_AGUA  0.000\n",
       "P_GRAS  0.000\n",
       "P_MUSC  0.000"
      ]
     },
     "execution_count": 31,
     "metadata": {},
     "output_type": "execute_result"
    }
   ],
   "source": [
    "iv_hdl = iv_report(data,var_explanatory,'TARGET_HDL')\n",
    "iv_hdl.sort_values(by='IV', ascending=False)"
   ]
  },
  {
   "cell_type": "markdown",
   "metadata": {},
   "source": [
    "### Coeficiente de correlación"
   ]
  },
  {
   "cell_type": "markdown",
   "metadata": {},
   "source": [
    "El Coeficiente de Correlación de Pearson es utilizado en estadística para medir qué tan fuerte es una relación entre dos variables HACER REFERENCIA A PARTE TEÓRICA. A continuación, se presenta un gráfico que ayuda a identificar la correlación entre las variables numéricas consideradas:"
   ]
  },
  {
   "cell_type": "code",
   "execution_count": 32,
   "metadata": {
    "scrolled": false
   },
   "outputs": [
    {
     "data": {
      "image/png": "[encoded data removed]",
      "text/plain": [
       "<Figure size 864x720 with 2 Axes>"
      ]
     },
     "metadata": {
      "needs_background": "light"
     },
     "output_type": "display_data"
    }
   ],
   "source": [
    "with plt.style.context('bmh'):\n",
    "    \n",
    "    corr = data.drop(columns=['ID_EVENTO','SMet','CONTEO',\n",
    "                              'TARGET_TRI','TARGET_HDL',\n",
    "                              'P_HUES','P_AGUA','P_GRAS',\n",
    "                              'P_MUSC','IMC'], axis=1).corr()\n",
    "    plt.figure(figsize=(12, 10))\n",
    "\n",
    "    sns.heatmap(corr[(corr >= 0.5) | (corr <= -0.4)], \n",
    "                cmap='viridis', vmax=1.0, vmin=-1.0, linewidths=0.1,\n",
    "                annot=True, annot_kws={\"size\": 8}, \n",
    "                square=True);\n",
    "\n",
    "plt.show() "
   ]
  },
  {
   "cell_type": "code",
   "execution_count": null,
   "metadata": {},
   "outputs": [],
   "source": []
  }
 ],
 "metadata": {
  "kernelspec": {
   "display_name": "Python 3",
   "language": "python",
   "name": "python3"
  },
  "language_info": {
   "codemirror_mode": {
    "name": "ipython",
    "version": 3
   },
   "file_extension": ".py",
   "mimetype": "text/x-python",
   "name": "python",
   "nbconvert_exporter": "python",
   "pygments_lexer": "ipython3",
   "version": "3.7.1"
  }
 },
 "nbformat": 4,
 "nbformat_minor": 2
}
