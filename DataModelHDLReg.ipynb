{
 "cells": [
  {
   "cell_type": "markdown",
   "metadata": {},
   "source": [
    "En esta sección se llevará a cabo la construcción de los modelos supervisados de Machine Learning que realicen una predicción de cuál sería el valor del Colesterol HDL de los pacientes. "
   ]
  },
  {
   "cell_type": "markdown",
   "metadata": {},
   "source": [
    "### Librerías utilizadas"
   ]
  },
  {
   "cell_type": "code",
   "execution_count": 1,
   "metadata": {},
   "outputs": [],
   "source": [
    "import pandas as pd\n",
    "import numpy as np\n",
    "import matplotlib.pyplot as plt\n",
    "\n",
    "from sklearn.model_selection import train_test_split\n",
    "from sklearn.model_selection import RandomizedSearchCV,GridSearchCV\n",
    "\n",
    "from sklearn import tree\n",
    "from sklearn.tree import DecisionTreeRegressor\n",
    "from sklearn.ensemble import RandomForestRegressor\n",
    "from sklearn.ensemble import GradientBoostingRegressor\n",
    "from xgboost import XGBRegressor\n",
    "\n",
    "from sklearn.model_selection import cross_val_score\n",
    "from sklearn.metrics import mean_squared_error\n",
    "\n",
    "#conda install python-graphviz\n",
    "import graphviz"
   ]
  },
  {
   "cell_type": "markdown",
   "metadata": {},
   "source": [
    "### Datos utilizados"
   ]
  },
  {
   "cell_type": "markdown",
   "metadata": {},
   "source": [
    "Se importan los datos que resultaron del proceso de preparación de datos."
   ]
  },
  {
   "cell_type": "code",
   "execution_count": 2,
   "metadata": {},
   "outputs": [],
   "source": [
    "data = pd.read_csv('C:/Users/gusta/OneDrive/Documentos/Tesis/Datos/Datos_prep.csv') "
   ]
  },
  {
   "cell_type": "markdown",
   "metadata": {},
   "source": [
    "Se seleccionan las variables que serán utilizadas como variables dependientes."
   ]
  },
  {
   "cell_type": "code",
   "execution_count": 3,
   "metadata": {},
   "outputs": [],
   "source": [
    "var_predictivas = ['CC','VFA','CC_GRAS','CC_MUSC','CC_AGUA','PAM','TALLA','IMC','TARGET_HDL']\n",
    "X = data[var_predictivas] \n",
    "y = data['HDL'] "
   ]
  },
  {
   "cell_type": "markdown",
   "metadata": {},
   "source": [
    "### Separación de datos"
   ]
  },
  {
   "cell_type": "markdown",
   "metadata": {},
   "source": [
    "En el modelado predictivo, la estrategia estándar para una evaluación honesta del rendimiento de los modelos se da a través de la separación de los datos en dos subconjuntos. Una parte de la fuente de datos se utiliza para ajustar los modelos: el conjunto de datos de entrenamiento. El resto de la fuente de datos se utiliza para dar una estimación honesta final de la generalizacion de los modelos: el conjunto de datos de validación.\n",
    "\n",
    "Para el presente trabajo el conjunto de entrenamiento representará el 70% de los datos originales y el conjunto de validación tendrá el 30% restante."
   ]
  },
  {
   "cell_type": "code",
   "execution_count": 4,
   "metadata": {},
   "outputs": [],
   "source": [
    "X_train, X_test, y_train, y_test = train_test_split(X,y, test_size=0.3, random_state=1)"
   ]
  },
  {
   "cell_type": "markdown",
   "metadata": {},
   "source": [
    "## Modelos supervisados para Regresión"
   ]
  },
  {
   "cell_type": "markdown",
   "metadata": {},
   "source": [
    "Acorde a lo presentado anteriormente, se utilizarán modelos basados en árboles."
   ]
  },
  {
   "cell_type": "markdown",
   "metadata": {},
   "source": [
    "### Árbol de decisión"
   ]
  },
  {
   "cell_type": "markdown",
   "metadata": {},
   "source": [
    "El primer modelo que se contruye es un Árbol de Decisión, de la librería Scikit-learn, además, se hace uso del método \"RandomizedSearchCV\" para encontrar los parámetros óptimos para el modelo, usando el Coeficiente de Determinación como métrica para la medición del performance de los modelos."
   ]
  },
  {
   "cell_type": "code",
   "execution_count": 5,
   "metadata": {},
   "outputs": [],
   "source": [
    "# Parámetros para el modelo:\n",
    "param_dict_tr= dict(criterion=['mse','friedman_mse','mae'], \n",
    "                    splitter=['best','random'], max_depth=range(2,30),\n",
    "                    max_features=range(2,10), min_samples_leaf=[0.05])\n",
    "\n",
    "# Se crea el árbol de decisión para regresión:\n",
    "tr_reg = DecisionTreeRegressor()\n",
    "\n",
    "# Autotuning del modelo:\n",
    "rsgrid_tr = RandomizedSearchCV(tr_reg, param_dict_tr, cv=20, n_iter=40, \n",
    "                               n_jobs=-1, scoring='r2')\n",
    "rsgrid_tr.fit(X_train,y_train)\n",
    "tr_reg = rsgrid_tr.best_estimator_\n",
    "\n",
    "# Se entrena el árbol de decisión:\n",
    "tr_reg = tr_reg.fit(X_train,y_train)"
   ]
  },
  {
   "cell_type": "markdown",
   "metadata": {},
   "source": [
    "A continuación, se muestran los parámetros del Árbol de Decisión con los cuales se maximizó el valor la R-cuadrada."
   ]
  },
  {
   "cell_type": "code",
   "execution_count": 6,
   "metadata": {},
   "outputs": [
    {
     "data": {
      "text/plain": [
       "DecisionTreeRegressor(criterion='friedman_mse', max_depth=19, max_features=8,\n",
       "                      min_samples_leaf=0.05, splitter='random')"
      ]
     },
     "execution_count": 6,
     "metadata": {},
     "output_type": "execute_result"
    }
   ],
   "source": [
    "rsgrid_tr.best_estimator_"
   ]
  },
  {
   "cell_type": "markdown",
   "metadata": {},
   "source": [
    "### Random Forest"
   ]
  },
  {
   "cell_type": "markdown",
   "metadata": {},
   "source": [
    "El segundo modelo que se contruye es un Random Forest, de la librería Scikit-learn, además, se hace uso del método \"RandomizedSearchCV\" para encontrar los parámetros óptimos para el modelo, usando el Coeficiente de Determinación como métrica para la medición del performance de los modelos."
   ]
  },
  {
   "cell_type": "code",
   "execution_count": 7,
   "metadata": {},
   "outputs": [],
   "source": [
    "# Parámetros para el modelo:\n",
    "param_dict_rf= dict(n_estimators=range(50,150), criterion=['mse','mae'],\n",
    "                    max_depth=range(20,30), max_features=range(2,10),\n",
    "                    min_samples_leaf=[0.05])\n",
    "\n",
    "# Se crea el Random Forest para regresión:\n",
    "rf_reg = RandomForestRegressor()\n",
    "\n",
    "#Autotuning del modelo:\n",
    "rsgrid_rf = RandomizedSearchCV(rf_reg, param_dict_rf, cv=20, n_iter=40, \n",
    "                               n_jobs=-1, scoring='r2')\n",
    "rsgrid_rf.fit(X_train,y_train)\n",
    "rf_reg = rsgrid_rf.best_estimator_\n",
    "\n",
    "# Se entrena el Random Forest\n",
    "rf_reg = rf_reg.fit(X_train,y_train)"
   ]
  },
  {
   "cell_type": "markdown",
   "metadata": {},
   "source": [
    "A continuación, se muestran los parámetros del Random Forest con los cuales se maximizó el valor la R-cuadrada."
   ]
  },
  {
   "cell_type": "code",
   "execution_count": 8,
   "metadata": {},
   "outputs": [
    {
     "data": {
      "text/plain": [
       "RandomForestRegressor(max_depth=22, max_features=9, min_samples_leaf=0.05,\n",
       "                      n_estimators=81)"
      ]
     },
     "execution_count": 8,
     "metadata": {},
     "output_type": "execute_result"
    }
   ],
   "source": [
    "rsgrid_rf.best_estimator_"
   ]
  },
  {
   "cell_type": "markdown",
   "metadata": {},
   "source": [
    "### Gradient Boosting"
   ]
  },
  {
   "cell_type": "markdown",
   "metadata": {},
   "source": [
    "El tercer modelo que se contruye es un Gradient Boosting, de la librería Scikit-learn, además, se hace uso del método \"RandomizedSearchCV\" para encontrar los parámetros óptimos para el modelo, usando el Coeficiente de Determinación como métrica para la medición del performance de los modelos."
   ]
  },
  {
   "cell_type": "code",
   "execution_count": 9,
   "metadata": {},
   "outputs": [],
   "source": [
    "# Parámetros para el modelo:\n",
    "param_dict_gb= dict(criterion=['friedman_mse','mse','mae'],\n",
    "                    loss=['ls','lad','huber','quantile'], \n",
    "                    learning_rate=[0.05,0.10,0.15,0.20,0.25,0.30,0.5,0.8,1],\n",
    "                    max_depth=range(2,10), max_features=range(2,10),\n",
    "                    min_samples_leaf=[0.05], n_estimators=range(50,150))\n",
    "\n",
    "# Se crea el Gradient Boosting para regresión:\n",
    "gb_reg = GradientBoostingRegressor()\n",
    "\n",
    "#Autotuning del modelo:\n",
    "rsgrid_gb = RandomizedSearchCV(gb_reg, param_dict_gb, cv=20, n_iter=40, \n",
    "                               n_jobs=-1, scoring='r2')\n",
    "rsgrid_gb.fit(X_train,y_train)\n",
    "gb_reg = rsgrid_gb.best_estimator_\n",
    "\n",
    "# Se entrena el Gradient Boosting\n",
    "gb_reg = gb_reg.fit(X_train,y_train)"
   ]
  },
  {
   "cell_type": "markdown",
   "metadata": {},
   "source": [
    "A continuación, se muestran los parámetros del Gradient Boosting con los cuales se maximizó el valor la R-cuadrada."
   ]
  },
  {
   "cell_type": "code",
   "execution_count": 10,
   "metadata": {},
   "outputs": [
    {
     "data": {
      "text/plain": [
       "GradientBoostingRegressor(learning_rate=0.05, max_features=7,\n",
       "                          min_samples_leaf=0.05, n_estimators=70)"
      ]
     },
     "execution_count": 10,
     "metadata": {},
     "output_type": "execute_result"
    }
   ],
   "source": [
    "rsgrid_gb.best_estimator_"
   ]
  },
  {
   "cell_type": "markdown",
   "metadata": {},
   "source": [
    "### XGBoost"
   ]
  },
  {
   "cell_type": "markdown",
   "metadata": {},
   "source": [
    "El último modelo que se contruye es un XGBoost, de la librería XGBoost, además, se hace uso del método \"RandomizedSearchCV\" para encontrar los parámetros óptimos para el modelo, usando el Coeficiente de Determinación como métrica para la medición del performance de los modelos."
   ]
  },
  {
   "cell_type": "code",
   "execution_count": 11,
   "metadata": {},
   "outputs": [],
   "source": [
    "# Parámetros para el modelo:\n",
    "param_dict_xgb= dict(booster=['gbtree', 'dart'],\n",
    "                     eta=[0.05, 0.10, 0.15, 0.20, 0.25, 0.30],\n",
    "                     max_depth=range(20,30), n_estimators=range(50,150))\n",
    "\n",
    "# Se crea el XGBoost para regresión:\n",
    "xg_reg = XGBRegressor()\n",
    "\n",
    "#Autotuning del modelo:\n",
    "rsgrid_xgb = RandomizedSearchCV(xg_reg, param_dict_xgb, cv=20, n_iter=40, \n",
    "                               n_jobs=-1, scoring='r2')\n",
    "rsgrid_xgb.fit(X_train,y_train)\n",
    "xg_reg = rsgrid_xgb.best_estimator_\n",
    "\n",
    "# Se entrena el XGBoost:\n",
    "xg_reg = xg_reg.fit(X_train,y_train)"
   ]
  },
  {
   "cell_type": "markdown",
   "metadata": {},
   "source": [
    "A continuación, se muestran los parámetros del XGBoost con los cuales se maximizó el valor la R-cuadrada."
   ]
  },
  {
   "cell_type": "code",
   "execution_count": 12,
   "metadata": {},
   "outputs": [
    {
     "data": {
      "text/plain": [
       "XGBRegressor(base_score=0.5, booster='dart', colsample_bylevel=1,\n",
       "             colsample_bynode=1, colsample_bytree=1, eta=0.1, gamma=0,\n",
       "             gpu_id=-1, importance_type='gain', interaction_constraints='',\n",
       "             learning_rate=0.100000001, max_delta_step=0, max_depth=20,\n",
       "             min_child_weight=1, missing=nan, monotone_constraints='()',\n",
       "             n_estimators=69, n_jobs=0, num_parallel_tree=1, random_state=0,\n",
       "             reg_alpha=0, reg_lambda=1, scale_pos_weight=1, subsample=1,\n",
       "             tree_method='exact', validate_parameters=1, verbosity=None)"
      ]
     },
     "execution_count": 12,
     "metadata": {},
     "output_type": "execute_result"
    }
   ],
   "source": [
    "rsgrid_xgb.best_estimator_"
   ]
  },
  {
   "cell_type": "markdown",
   "metadata": {},
   "source": [
    "### Estadísticos de precisión"
   ]
  },
  {
   "cell_type": "markdown",
   "metadata": {},
   "source": [
    "Para medir el desempeño de los modelos se utilizará el conjunto de datos de validación y se analizarán los estadísticos RMSE y el Coeficiente de Determinación de cada uno de los modelos."
   ]
  },
  {
   "cell_type": "code",
   "execution_count": 13,
   "metadata": {},
   "outputs": [
    {
     "name": "stdout",
     "output_type": "stream",
     "text": [
      "Decision Tree R-squared: 0.39\n",
      "Decision Tree RMSE: 8.04\n",
      "Random Forest R-squared: 0.40\n",
      "Random Forest RMSE: 7.98\n",
      "Gradient Boosting R-squared: 0.40\n",
      "Gradient Boosting RMSE: 7.99\n",
      "XGBoost R-squared: 0.26\n",
      "XGBoost RMSE: 8.90\n"
     ]
    }
   ],
   "source": [
    "modelos = [{'label':'Decision Tree','modelo':tr_reg,},\n",
    "           {'label':'Random Forest','modelo':rf_reg,},\n",
    "           {'label':'Gradient Boosting','modelo':gb_reg,},\n",
    "           {'label':'XGBoost','modelo':xg_reg,}]\n",
    "\n",
    "for m in modelos:\n",
    "    modelo = m['modelo']\n",
    "    R2 =  modelo.score(X_test, y_test)\n",
    "    y_pred = modelo.predict(X_test)\n",
    "    print('%s R-squared: %0.2f' % (m['label'], R2))\n",
    "    print(\"%s RMSE: %.2f\" % (m['label'],mean_squared_error(y_test,y_pred,squared=False)))"
   ]
  },
  {
   "cell_type": "markdown",
   "metadata": {},
   "source": [
    "Al analizar el Coeficiente de Determinación se puede observar que los primeros tres modelos son los que tienen un mejor desempeño y, dentro de estos tres modelos, los dos mejores son el Random Forest y el Gradient Boosting. Para determinar cual de los dos es el modelo campeón, se analiza el RMSE y se selecciona aquel que tiene el error más chico.  "
   ]
  },
  {
   "cell_type": "code",
   "execution_count": 14,
   "metadata": {},
   "outputs": [],
   "source": [
    "champion_model = rf_reg"
   ]
  },
  {
   "cell_type": "markdown",
   "metadata": {},
   "source": [
    "### Valores pronosticados"
   ]
  },
  {
   "cell_type": "markdown",
   "metadata": {},
   "source": [
    "A continuación, se muestran los valores del colesterol HDL (medidos a través de una química sanguínea) de los primeros 15 pacientes, pertenecientes al grupo utilizado para la validación del modelo, junto con los valores pronosticados por el modelo campeón."
   ]
  },
  {
   "cell_type": "code",
   "execution_count": 15,
   "metadata": {},
   "outputs": [
    {
     "data": {
      "text/html": [
       "<div>\n",
       "<style scoped>\n",
       "    .dataframe tbody tr th:only-of-type {\n",
       "        vertical-align: middle;\n",
       "    }\n",
       "\n",
       "    .dataframe tbody tr th {\n",
       "        vertical-align: top;\n",
       "    }\n",
       "\n",
       "    .dataframe thead th {\n",
       "        text-align: right;\n",
       "    }\n",
       "</style>\n",
       "<table border=\"1\" class=\"dataframe\">\n",
       "  <thead>\n",
       "    <tr style=\"text-align: right;\">\n",
       "      <th></th>\n",
       "      <th>HDL</th>\n",
       "      <th>HDL_pred</th>\n",
       "    </tr>\n",
       "  </thead>\n",
       "  <tbody>\n",
       "    <tr>\n",
       "      <th>0</th>\n",
       "      <td>62</td>\n",
       "      <td>53.238732</td>\n",
       "    </tr>\n",
       "    <tr>\n",
       "      <th>1</th>\n",
       "      <td>46</td>\n",
       "      <td>51.856654</td>\n",
       "    </tr>\n",
       "    <tr>\n",
       "      <th>2</th>\n",
       "      <td>27</td>\n",
       "      <td>36.159174</td>\n",
       "    </tr>\n",
       "    <tr>\n",
       "      <th>3</th>\n",
       "      <td>49</td>\n",
       "      <td>51.586966</td>\n",
       "    </tr>\n",
       "    <tr>\n",
       "      <th>4</th>\n",
       "      <td>32</td>\n",
       "      <td>35.560056</td>\n",
       "    </tr>\n",
       "    <tr>\n",
       "      <th>5</th>\n",
       "      <td>54</td>\n",
       "      <td>54.362711</td>\n",
       "    </tr>\n",
       "    <tr>\n",
       "      <th>6</th>\n",
       "      <td>66</td>\n",
       "      <td>55.974980</td>\n",
       "    </tr>\n",
       "    <tr>\n",
       "      <th>7</th>\n",
       "      <td>46</td>\n",
       "      <td>50.021608</td>\n",
       "    </tr>\n",
       "    <tr>\n",
       "      <th>8</th>\n",
       "      <td>47</td>\n",
       "      <td>52.912237</td>\n",
       "    </tr>\n",
       "    <tr>\n",
       "      <th>9</th>\n",
       "      <td>51</td>\n",
       "      <td>51.726978</td>\n",
       "    </tr>\n",
       "    <tr>\n",
       "      <th>10</th>\n",
       "      <td>47</td>\n",
       "      <td>51.957330</td>\n",
       "    </tr>\n",
       "    <tr>\n",
       "      <th>11</th>\n",
       "      <td>69</td>\n",
       "      <td>48.110988</td>\n",
       "    </tr>\n",
       "    <tr>\n",
       "      <th>12</th>\n",
       "      <td>38</td>\n",
       "      <td>35.453361</td>\n",
       "    </tr>\n",
       "    <tr>\n",
       "      <th>13</th>\n",
       "      <td>48</td>\n",
       "      <td>56.671593</td>\n",
       "    </tr>\n",
       "    <tr>\n",
       "      <th>14</th>\n",
       "      <td>38</td>\n",
       "      <td>35.948586</td>\n",
       "    </tr>\n",
       "  </tbody>\n",
       "</table>\n",
       "</div>"
      ],
      "text/plain": [
       "    HDL   HDL_pred\n",
       "0    62  53.238732\n",
       "1    46  51.856654\n",
       "2    27  36.159174\n",
       "3    49  51.586966\n",
       "4    32  35.560056\n",
       "5    54  54.362711\n",
       "6    66  55.974980\n",
       "7    46  50.021608\n",
       "8    47  52.912237\n",
       "9    51  51.726978\n",
       "10   47  51.957330\n",
       "11   69  48.110988\n",
       "12   38  35.453361\n",
       "13   48  56.671593\n",
       "14   38  35.948586"
      ]
     },
     "execution_count": 15,
     "metadata": {},
     "output_type": "execute_result"
    }
   ],
   "source": [
    "y_pred = pd.DataFrame(champion_model.predict(X_test),columns=['HDL_pred'])\n",
    "y_test.reset_index(inplace=True, drop=True)\n",
    "datos_pronosticados = pd.concat([y_test,y_pred], axis=1)\n",
    "datos_pronosticados.head(15)"
   ]
  },
  {
   "cell_type": "markdown",
   "metadata": {},
   "source": [
    "## Datos para ROI"
   ]
  },
  {
   "cell_type": "markdown",
   "metadata": {},
   "source": [
    "Para hacer el ejercicio de ROI se utilizará un subconjunto de los datos originales (el 10%), los cuales serán calificados por cada uno de los modelos campeones, en este caso, el modelo campeón para pronosticar el valor de Colesterol HDL que tendría el paciente. La finalidad es, dentro de las conclusiones, determinar la relación costo-beneficio de usar este tipo de modelos para diagnosticar la prevalencia del Síndrome Metabólico en jóvenes mexicanos."
   ]
  },
  {
   "cell_type": "code",
   "execution_count": 16,
   "metadata": {},
   "outputs": [],
   "source": [
    "datos_roi = pd.read_csv('C:/Users/gusta/OneDrive/Documentos/Tesis/Datos/Datos_roi.csv') "
   ]
  },
  {
   "cell_type": "code",
   "execution_count": 17,
   "metadata": {},
   "outputs": [],
   "source": [
    "var_predictivas.remove('TARGET_HDL')\n",
    "var_predictivas.append('HDL_Class')\n",
    "\n",
    "X_roi = datos_roi[var_predictivas] \n",
    "X_roi= X_roi.rename(columns={'HDL_Class':'TARGET_HDL'})\n",
    "\n",
    "y_roi = datos_roi['HDL'] "
   ]
  },
  {
   "cell_type": "markdown",
   "metadata": {},
   "source": [
    "Se hace el pronóstico del valor de Colesterol HDL que tendrían los pacientes:"
   ]
  },
  {
   "cell_type": "code",
   "execution_count": 18,
   "metadata": {},
   "outputs": [
    {
     "data": {
      "text/html": [
       "<div>\n",
       "<style scoped>\n",
       "    .dataframe tbody tr th:only-of-type {\n",
       "        vertical-align: middle;\n",
       "    }\n",
       "\n",
       "    .dataframe tbody tr th {\n",
       "        vertical-align: top;\n",
       "    }\n",
       "\n",
       "    .dataframe thead th {\n",
       "        text-align: right;\n",
       "    }\n",
       "</style>\n",
       "<table border=\"1\" class=\"dataframe\">\n",
       "  <thead>\n",
       "    <tr style=\"text-align: right;\">\n",
       "      <th></th>\n",
       "      <th>HDL</th>\n",
       "      <th>HDL_reg</th>\n",
       "    </tr>\n",
       "  </thead>\n",
       "  <tbody>\n",
       "    <tr>\n",
       "      <th>0</th>\n",
       "      <td>63</td>\n",
       "      <td>35.508384</td>\n",
       "    </tr>\n",
       "    <tr>\n",
       "      <th>1</th>\n",
       "      <td>37</td>\n",
       "      <td>35.563940</td>\n",
       "    </tr>\n",
       "    <tr>\n",
       "      <th>2</th>\n",
       "      <td>59</td>\n",
       "      <td>55.298851</td>\n",
       "    </tr>\n",
       "    <tr>\n",
       "      <th>3</th>\n",
       "      <td>36</td>\n",
       "      <td>52.461583</td>\n",
       "    </tr>\n",
       "    <tr>\n",
       "      <th>4</th>\n",
       "      <td>52</td>\n",
       "      <td>54.820179</td>\n",
       "    </tr>\n",
       "    <tr>\n",
       "      <th>5</th>\n",
       "      <td>46</td>\n",
       "      <td>35.041791</td>\n",
       "    </tr>\n",
       "    <tr>\n",
       "      <th>6</th>\n",
       "      <td>39</td>\n",
       "      <td>34.796173</td>\n",
       "    </tr>\n",
       "    <tr>\n",
       "      <th>7</th>\n",
       "      <td>35</td>\n",
       "      <td>34.999452</td>\n",
       "    </tr>\n",
       "    <tr>\n",
       "      <th>8</th>\n",
       "      <td>55</td>\n",
       "      <td>35.928964</td>\n",
       "    </tr>\n",
       "    <tr>\n",
       "      <th>9</th>\n",
       "      <td>47</td>\n",
       "      <td>36.122852</td>\n",
       "    </tr>\n",
       "    <tr>\n",
       "      <th>10</th>\n",
       "      <td>66</td>\n",
       "      <td>35.317724</td>\n",
       "    </tr>\n",
       "    <tr>\n",
       "      <th>11</th>\n",
       "      <td>42</td>\n",
       "      <td>50.122697</td>\n",
       "    </tr>\n",
       "    <tr>\n",
       "      <th>12</th>\n",
       "      <td>72</td>\n",
       "      <td>54.936378</td>\n",
       "    </tr>\n",
       "    <tr>\n",
       "      <th>13</th>\n",
       "      <td>36</td>\n",
       "      <td>35.430582</td>\n",
       "    </tr>\n",
       "    <tr>\n",
       "      <th>14</th>\n",
       "      <td>31</td>\n",
       "      <td>35.573788</td>\n",
       "    </tr>\n",
       "  </tbody>\n",
       "</table>\n",
       "</div>"
      ],
      "text/plain": [
       "    HDL    HDL_reg\n",
       "0    63  35.508384\n",
       "1    37  35.563940\n",
       "2    59  55.298851\n",
       "3    36  52.461583\n",
       "4    52  54.820179\n",
       "5    46  35.041791\n",
       "6    39  34.796173\n",
       "7    35  34.999452\n",
       "8    55  35.928964\n",
       "9    47  36.122852\n",
       "10   66  35.317724\n",
       "11   42  50.122697\n",
       "12   72  54.936378\n",
       "13   36  35.430582\n",
       "14   31  35.573788"
      ]
     },
     "execution_count": 18,
     "metadata": {},
     "output_type": "execute_result"
    }
   ],
   "source": [
    "predicted_val = pd.DataFrame(champion_model.predict(X_roi),columns=['HDL_reg'])\n",
    "\n",
    "datos_pronosticados = pd.concat([y_roi,predicted_val], axis=1)\n",
    "datos_pronosticados.head(15)"
   ]
  },
  {
   "cell_type": "markdown",
   "metadata": {},
   "source": [
    "Se calcula la raíz cuadrada del error cuadrático medio (RMSE), dado que una de las variables de entrada para este modelo (TARGET_HDL)es la variable de salida del modelo de clasificación se incrementa el error en el pronóstico.  "
   ]
  },
  {
   "cell_type": "code",
   "execution_count": 19,
   "metadata": {},
   "outputs": [
    {
     "name": "stdout",
     "output_type": "stream",
     "text": [
      "RMSE: 11.63\n"
     ]
    }
   ],
   "source": [
    "RMSE = mean_squared_error(y_pred=predicted_val, y_true=y_roi, squared=False)\n",
    "print(\"RMSE: %.2f\" % (RMSE))"
   ]
  },
  {
   "cell_type": "markdown",
   "metadata": {},
   "source": [
    "Se guardan los valores pronosticados por el modelo."
   ]
  },
  {
   "cell_type": "code",
   "execution_count": 25,
   "metadata": {},
   "outputs": [],
   "source": [
    "datos_roi['HDL_reg'] = champion_model.predict(X_roi)\n",
    "\n",
    "datos_roi.to_csv('C:/Users/gusta/OneDrive/Documentos/Tesis/Datos/Datos_roi.csv',\n",
    "                 index=False)"
   ]
  },
  {
   "cell_type": "markdown",
   "metadata": {},
   "source": [
    "## Interpretación del árbol de decisión"
   ]
  },
  {
   "cell_type": "markdown",
   "metadata": {},
   "source": [
    "Por último, para ayudar a la interpretación del funcionamiento de los modelos, se muestra el árbol de decisión construido."
   ]
  },
  {
   "cell_type": "code",
   "execution_count": 27,
   "metadata": {},
   "outputs": [
    {
     "data": {
      "image/svg+xml": [
       "<?xml version=\"1.0\" encoding=\"UTF-8\" standalone=\"no\"?>\r\n",
       "<!DOCTYPE svg PUBLIC \"-//W3C//DTD SVG 1.1//EN\"\r\n",
       " \"http://www.w3.org/Graphics/SVG/1.1/DTD/svg11.dtd\">\r\n",
       "<!-- Generated by graphviz version 2.38.0 (20140413.2041)\r\n",
       " -->\r\n",
       "<!-- Title: Tree Pages: 1 -->\r\n",
       "<svg width=\"1163pt\" height=\"685pt\"\r\n",
       " viewBox=\"0.00 0.00 1163.00 685.00\" xmlns=\"http://www.w3.org/2000/svg\" xmlns:xlink=\"http://www.w3.org/1999/xlink\">\r\n",
       "<g id=\"graph0\" class=\"graph\" transform=\"scale(1 1) rotate(0) translate(4 681)\">\r\n",
       "<title>Tree</title>\r\n",
       "<polygon fill=\"white\" stroke=\"none\" points=\"-4,4 -4,-681 1159,-681 1159,4 -4,4\"/>\r\n",
       "<!-- 0 -->\r\n",
       "<g id=\"node1\" class=\"node\"><title>0</title>\r\n",
       "<polygon fill=\"none\" stroke=\"black\" points=\"994,-677 831,-677 831,-609 994,-609 994,-677\"/>\r\n",
       "<text text-anchor=\"middle\" x=\"912.5\" y=\"-661.8\" font-family=\"Times New Roman,serif\" font-size=\"14.00\">TARGET_HDL &lt;= 0.188</text>\r\n",
       "<text text-anchor=\"middle\" x=\"912.5\" y=\"-646.8\" font-family=\"Times New Roman,serif\" font-size=\"14.00\">friedman_mse = 105.976</text>\r\n",
       "<text text-anchor=\"middle\" x=\"912.5\" y=\"-631.8\" font-family=\"Times New Roman,serif\" font-size=\"14.00\">samples = 1229</text>\r\n",
       "<text text-anchor=\"middle\" x=\"912.5\" y=\"-616.8\" font-family=\"Times New Roman,serif\" font-size=\"14.00\">value = 49.171</text>\r\n",
       "</g>\r\n",
       "<!-- 1 -->\r\n",
       "<g id=\"node2\" class=\"node\"><title>1</title>\r\n",
       "<polygon fill=\"none\" stroke=\"black\" points=\"904,-573 755,-573 755,-505 904,-505 904,-573\"/>\r\n",
       "<text text-anchor=\"middle\" x=\"829.5\" y=\"-557.8\" font-family=\"Times New Roman,serif\" font-size=\"14.00\">CC &lt;= 87.157</text>\r\n",
       "<text text-anchor=\"middle\" x=\"829.5\" y=\"-542.8\" font-family=\"Times New Roman,serif\" font-size=\"14.00\">friedman_mse = 78.484</text>\r\n",
       "<text text-anchor=\"middle\" x=\"829.5\" y=\"-527.8\" font-family=\"Times New Roman,serif\" font-size=\"14.00\">samples = 1019</text>\r\n",
       "<text text-anchor=\"middle\" x=\"829.5\" y=\"-512.8\" font-family=\"Times New Roman,serif\" font-size=\"14.00\">value = 51.999</text>\r\n",
       "</g>\r\n",
       "<!-- 0&#45;&gt;1 -->\r\n",
       "<g id=\"edge1\" class=\"edge\"><title>0&#45;&gt;1</title>\r\n",
       "<path fill=\"none\" stroke=\"black\" d=\"M885.552,-608.884C878.377,-600.065 870.536,-590.43 863.054,-581.235\"/>\r\n",
       "<polygon fill=\"black\" stroke=\"black\" points=\"865.623,-578.847 856.597,-573.299 860.193,-583.265 865.623,-578.847\"/>\r\n",
       "<text text-anchor=\"middle\" x=\"854.042\" y=\"-594.469\" font-family=\"Times New Roman,serif\" font-size=\"14.00\">True</text>\r\n",
       "</g>\r\n",
       "<!-- 18 -->\r\n",
       "<g id=\"node19\" class=\"node\"><title>18</title>\r\n",
       "<polygon fill=\"none\" stroke=\"black\" points=\"1071,-565.5 922,-565.5 922,-512.5 1071,-512.5 1071,-565.5\"/>\r\n",
       "<text text-anchor=\"middle\" x=\"996.5\" y=\"-550.3\" font-family=\"Times New Roman,serif\" font-size=\"14.00\">friedman_mse = 12.238</text>\r\n",
       "<text text-anchor=\"middle\" x=\"996.5\" y=\"-535.3\" font-family=\"Times New Roman,serif\" font-size=\"14.00\">samples = 210</text>\r\n",
       "<text text-anchor=\"middle\" x=\"996.5\" y=\"-520.3\" font-family=\"Times New Roman,serif\" font-size=\"14.00\">value = 35.448</text>\r\n",
       "</g>\r\n",
       "<!-- 0&#45;&gt;18 -->\r\n",
       "<g id=\"edge18\" class=\"edge\"><title>0&#45;&gt;18</title>\r\n",
       "<path fill=\"none\" stroke=\"black\" d=\"M939.772,-608.884C949.101,-597.556 959.54,-584.88 968.895,-573.521\"/>\r\n",
       "<polygon fill=\"black\" stroke=\"black\" points=\"971.828,-575.464 975.484,-565.52 966.425,-571.014 971.828,-575.464\"/>\r\n",
       "<text text-anchor=\"middle\" x=\"977.892\" y=\"-586.704\" font-family=\"Times New Roman,serif\" font-size=\"14.00\">False</text>\r\n",
       "</g>\r\n",
       "<!-- 2 -->\r\n",
       "<g id=\"node3\" class=\"node\"><title>2</title>\r\n",
       "<polygon fill=\"none\" stroke=\"black\" points=\"737,-469 588,-469 588,-401 737,-401 737,-469\"/>\r\n",
       "<text text-anchor=\"middle\" x=\"662.5\" y=\"-453.8\" font-family=\"Times New Roman,serif\" font-size=\"14.00\">CC_MUSC &lt;= 9.547</text>\r\n",
       "<text text-anchor=\"middle\" x=\"662.5\" y=\"-438.8\" font-family=\"Times New Roman,serif\" font-size=\"14.00\">friedman_mse = 82.547</text>\r\n",
       "<text text-anchor=\"middle\" x=\"662.5\" y=\"-423.8\" font-family=\"Times New Roman,serif\" font-size=\"14.00\">samples = 806</text>\r\n",
       "<text text-anchor=\"middle\" x=\"662.5\" y=\"-408.8\" font-family=\"Times New Roman,serif\" font-size=\"14.00\">value = 52.877</text>\r\n",
       "</g>\r\n",
       "<!-- 1&#45;&gt;2 -->\r\n",
       "<g id=\"edge2\" class=\"edge\"><title>1&#45;&gt;2</title>\r\n",
       "<path fill=\"none\" stroke=\"black\" d=\"M775.28,-504.884C759.449,-495.214 742.011,-484.563 725.677,-474.587\"/>\r\n",
       "<polygon fill=\"black\" stroke=\"black\" points=\"727.092,-471.35 716.734,-469.125 723.443,-477.324 727.092,-471.35\"/>\r\n",
       "</g>\r\n",
       "<!-- 13 -->\r\n",
       "<g id=\"node14\" class=\"node\"><title>13</title>\r\n",
       "<polygon fill=\"none\" stroke=\"black\" points=\"988,-469 839,-469 839,-401 988,-401 988,-469\"/>\r\n",
       "<text text-anchor=\"middle\" x=\"913.5\" y=\"-453.8\" font-family=\"Times New Roman,serif\" font-size=\"14.00\">CC &lt;= 95.498</text>\r\n",
       "<text text-anchor=\"middle\" x=\"913.5\" y=\"-438.8\" font-family=\"Times New Roman,serif\" font-size=\"14.00\">friedman_mse = 49.149</text>\r\n",
       "<text text-anchor=\"middle\" x=\"913.5\" y=\"-423.8\" font-family=\"Times New Roman,serif\" font-size=\"14.00\">samples = 213</text>\r\n",
       "<text text-anchor=\"middle\" x=\"913.5\" y=\"-408.8\" font-family=\"Times New Roman,serif\" font-size=\"14.00\">value = 48.676</text>\r\n",
       "</g>\r\n",
       "<!-- 1&#45;&gt;13 -->\r\n",
       "<g id=\"edge13\" class=\"edge\"><title>1&#45;&gt;13</title>\r\n",
       "<path fill=\"none\" stroke=\"black\" d=\"M856.772,-504.884C864.035,-496.065 871.969,-486.43 879.542,-477.235\"/>\r\n",
       "<polygon fill=\"black\" stroke=\"black\" points=\"882.422,-479.244 886.077,-469.299 877.018,-474.794 882.422,-479.244\"/>\r\n",
       "</g>\r\n",
       "<!-- 3 -->\r\n",
       "<g id=\"node4\" class=\"node\"><title>3</title>\r\n",
       "<polygon fill=\"none\" stroke=\"black\" points=\"487,-365 338,-365 338,-297 487,-297 487,-365\"/>\r\n",
       "<text text-anchor=\"middle\" x=\"412.5\" y=\"-349.8\" font-family=\"Times New Roman,serif\" font-size=\"14.00\">IMC &lt;= 21.059</text>\r\n",
       "<text text-anchor=\"middle\" x=\"412.5\" y=\"-334.8\" font-family=\"Times New Roman,serif\" font-size=\"14.00\">friedman_mse = 86.869</text>\r\n",
       "<text text-anchor=\"middle\" x=\"412.5\" y=\"-319.8\" font-family=\"Times New Roman,serif\" font-size=\"14.00\">samples = 630</text>\r\n",
       "<text text-anchor=\"middle\" x=\"412.5\" y=\"-304.8\" font-family=\"Times New Roman,serif\" font-size=\"14.00\">value = 53.627</text>\r\n",
       "</g>\r\n",
       "<!-- 2&#45;&gt;3 -->\r\n",
       "<g id=\"edge3\" class=\"edge\"><title>2&#45;&gt;3</title>\r\n",
       "<path fill=\"none\" stroke=\"black\" d=\"M587.83,-403.535C559.138,-391.828 526.199,-378.389 496.673,-366.343\"/>\r\n",
       "<polygon fill=\"black\" stroke=\"black\" points=\"497.798,-363.021 487.217,-362.484 495.153,-369.503 497.798,-363.021\"/>\r\n",
       "</g>\r\n",
       "<!-- 10 -->\r\n",
       "<g id=\"node11\" class=\"node\"><title>10</title>\r\n",
       "<polygon fill=\"none\" stroke=\"black\" points=\"735,-365 590,-365 590,-297 735,-297 735,-365\"/>\r\n",
       "<text text-anchor=\"middle\" x=\"662.5\" y=\"-349.8\" font-family=\"Times New Roman,serif\" font-size=\"14.00\">CC_MUSC &lt;= 10.777</text>\r\n",
       "<text text-anchor=\"middle\" x=\"662.5\" y=\"-334.8\" font-family=\"Times New Roman,serif\" font-size=\"14.00\">friedman_mse = 57.86</text>\r\n",
       "<text text-anchor=\"middle\" x=\"662.5\" y=\"-319.8\" font-family=\"Times New Roman,serif\" font-size=\"14.00\">samples = 176</text>\r\n",
       "<text text-anchor=\"middle\" x=\"662.5\" y=\"-304.8\" font-family=\"Times New Roman,serif\" font-size=\"14.00\">value = 50.193</text>\r\n",
       "</g>\r\n",
       "<!-- 2&#45;&gt;10 -->\r\n",
       "<g id=\"edge10\" class=\"edge\"><title>2&#45;&gt;10</title>\r\n",
       "<path fill=\"none\" stroke=\"black\" d=\"M662.5,-400.884C662.5,-392.778 662.5,-383.982 662.5,-375.472\"/>\r\n",
       "<polygon fill=\"black\" stroke=\"black\" points=\"666,-375.299 662.5,-365.299 659,-375.299 666,-375.299\"/>\r\n",
       "</g>\r\n",
       "<!-- 4 -->\r\n",
       "<g id=\"node5\" class=\"node\"><title>4</title>\r\n",
       "<polygon fill=\"none\" stroke=\"black\" points=\"320,-261 171,-261 171,-193 320,-193 320,-261\"/>\r\n",
       "<text text-anchor=\"middle\" x=\"245.5\" y=\"-245.8\" font-family=\"Times New Roman,serif\" font-size=\"14.00\">CC_AGUA &lt;= 27.277</text>\r\n",
       "<text text-anchor=\"middle\" x=\"245.5\" y=\"-230.8\" font-family=\"Times New Roman,serif\" font-size=\"14.00\">friedman_mse = 85.556</text>\r\n",
       "<text text-anchor=\"middle\" x=\"245.5\" y=\"-215.8\" font-family=\"Times New Roman,serif\" font-size=\"14.00\">samples = 282</text>\r\n",
       "<text text-anchor=\"middle\" x=\"245.5\" y=\"-200.8\" font-family=\"Times New Roman,serif\" font-size=\"14.00\">value = 54.975</text>\r\n",
       "</g>\r\n",
       "<!-- 3&#45;&gt;4 -->\r\n",
       "<g id=\"edge4\" class=\"edge\"><title>3&#45;&gt;4</title>\r\n",
       "<path fill=\"none\" stroke=\"black\" d=\"M358.28,-296.884C342.449,-287.214 325.011,-276.563 308.677,-266.587\"/>\r\n",
       "<polygon fill=\"black\" stroke=\"black\" points=\"310.092,-263.35 299.734,-261.125 306.443,-269.324 310.092,-263.35\"/>\r\n",
       "</g>\r\n",
       "<!-- 9 -->\r\n",
       "<g id=\"node10\" class=\"node\"><title>9</title>\r\n",
       "<polygon fill=\"none\" stroke=\"black\" points=\"487,-253.5 338,-253.5 338,-200.5 487,-200.5 487,-253.5\"/>\r\n",
       "<text text-anchor=\"middle\" x=\"412.5\" y=\"-238.3\" font-family=\"Times New Roman,serif\" font-size=\"14.00\">friedman_mse = 85.266</text>\r\n",
       "<text text-anchor=\"middle\" x=\"412.5\" y=\"-223.3\" font-family=\"Times New Roman,serif\" font-size=\"14.00\">samples = 348</text>\r\n",
       "<text text-anchor=\"middle\" x=\"412.5\" y=\"-208.3\" font-family=\"Times New Roman,serif\" font-size=\"14.00\">value = 52.534</text>\r\n",
       "</g>\r\n",
       "<!-- 3&#45;&gt;9 -->\r\n",
       "<g id=\"edge9\" class=\"edge\"><title>3&#45;&gt;9</title>\r\n",
       "<path fill=\"none\" stroke=\"black\" d=\"M412.5,-296.884C412.5,-286.326 412.5,-274.597 412.5,-263.854\"/>\r\n",
       "<polygon fill=\"black\" stroke=\"black\" points=\"416,-263.52 412.5,-253.52 409,-263.52 416,-263.52\"/>\r\n",
       "</g>\r\n",
       "<!-- 5 -->\r\n",
       "<g id=\"node6\" class=\"node\"><title>5</title>\r\n",
       "<polygon fill=\"none\" stroke=\"black\" points=\"237,-157 88,-157 88,-89 237,-89 237,-157\"/>\r\n",
       "<text text-anchor=\"middle\" x=\"162.5\" y=\"-141.8\" font-family=\"Times New Roman,serif\" font-size=\"14.00\">CC_AGUA &lt;= 24.375</text>\r\n",
       "<text text-anchor=\"middle\" x=\"162.5\" y=\"-126.8\" font-family=\"Times New Roman,serif\" font-size=\"14.00\">friedman_mse = 94.961</text>\r\n",
       "<text text-anchor=\"middle\" x=\"162.5\" y=\"-111.8\" font-family=\"Times New Roman,serif\" font-size=\"14.00\">samples = 170</text>\r\n",
       "<text text-anchor=\"middle\" x=\"162.5\" y=\"-96.8\" font-family=\"Times New Roman,serif\" font-size=\"14.00\">value = 55.818</text>\r\n",
       "</g>\r\n",
       "<!-- 4&#45;&gt;5 -->\r\n",
       "<g id=\"edge5\" class=\"edge\"><title>4&#45;&gt;5</title>\r\n",
       "<path fill=\"none\" stroke=\"black\" d=\"M218.552,-192.884C211.377,-184.065 203.536,-174.43 196.054,-165.235\"/>\r\n",
       "<polygon fill=\"black\" stroke=\"black\" points=\"198.623,-162.847 189.597,-157.299 193.193,-167.265 198.623,-162.847\"/>\r\n",
       "</g>\r\n",
       "<!-- 8 -->\r\n",
       "<g id=\"node9\" class=\"node\"><title>8</title>\r\n",
       "<polygon fill=\"none\" stroke=\"black\" points=\"404,-149.5 255,-149.5 255,-96.5 404,-96.5 404,-149.5\"/>\r\n",
       "<text text-anchor=\"middle\" x=\"329.5\" y=\"-134.3\" font-family=\"Times New Roman,serif\" font-size=\"14.00\">friedman_mse = 68.569</text>\r\n",
       "<text text-anchor=\"middle\" x=\"329.5\" y=\"-119.3\" font-family=\"Times New Roman,serif\" font-size=\"14.00\">samples = 112</text>\r\n",
       "<text text-anchor=\"middle\" x=\"329.5\" y=\"-104.3\" font-family=\"Times New Roman,serif\" font-size=\"14.00\">value = 53.696</text>\r\n",
       "</g>\r\n",
       "<!-- 4&#45;&gt;8 -->\r\n",
       "<g id=\"edge8\" class=\"edge\"><title>4&#45;&gt;8</title>\r\n",
       "<path fill=\"none\" stroke=\"black\" d=\"M272.772,-192.884C282.101,-181.556 292.54,-168.88 301.895,-157.521\"/>\r\n",
       "<polygon fill=\"black\" stroke=\"black\" points=\"304.828,-159.464 308.484,-149.52 299.425,-155.014 304.828,-159.464\"/>\r\n",
       "</g>\r\n",
       "<!-- 6 -->\r\n",
       "<g id=\"node7\" class=\"node\"><title>6</title>\r\n",
       "<polygon fill=\"none\" stroke=\"black\" points=\"155,-53 0,-53 0,-0 155,-0 155,-53\"/>\r\n",
       "<text text-anchor=\"middle\" x=\"77.5\" y=\"-37.8\" font-family=\"Times New Roman,serif\" font-size=\"14.00\">friedman_mse = 113.023</text>\r\n",
       "<text text-anchor=\"middle\" x=\"77.5\" y=\"-22.8\" font-family=\"Times New Roman,serif\" font-size=\"14.00\">samples = 66</text>\r\n",
       "<text text-anchor=\"middle\" x=\"77.5\" y=\"-7.8\" font-family=\"Times New Roman,serif\" font-size=\"14.00\">value = 58.621</text>\r\n",
       "</g>\r\n",
       "<!-- 5&#45;&gt;6 -->\r\n",
       "<g id=\"edge6\" class=\"edge\"><title>5&#45;&gt;6</title>\r\n",
       "<path fill=\"none\" stroke=\"black\" d=\"M132.771,-88.9485C124.543,-79.8005 115.61,-69.8697 107.374,-60.7126\"/>\r\n",
       "<polygon fill=\"black\" stroke=\"black\" points=\"109.939,-58.331 100.649,-53.2367 104.735,-63.0123 109.939,-58.331\"/>\r\n",
       "</g>\r\n",
       "<!-- 7 -->\r\n",
       "<g id=\"node8\" class=\"node\"><title>7</title>\r\n",
       "<polygon fill=\"none\" stroke=\"black\" points=\"322,-53 173,-53 173,-0 322,-0 322,-53\"/>\r\n",
       "<text text-anchor=\"middle\" x=\"247.5\" y=\"-37.8\" font-family=\"Times New Roman,serif\" font-size=\"14.00\">friedman_mse = 75.345</text>\r\n",
       "<text text-anchor=\"middle\" x=\"247.5\" y=\"-22.8\" font-family=\"Times New Roman,serif\" font-size=\"14.00\">samples = 104</text>\r\n",
       "<text text-anchor=\"middle\" x=\"247.5\" y=\"-7.8\" font-family=\"Times New Roman,serif\" font-size=\"14.00\">value = 54.038</text>\r\n",
       "</g>\r\n",
       "<!-- 5&#45;&gt;7 -->\r\n",
       "<g id=\"edge7\" class=\"edge\"><title>5&#45;&gt;7</title>\r\n",
       "<path fill=\"none\" stroke=\"black\" d=\"M192.229,-88.9485C200.457,-79.8005 209.39,-69.8697 217.626,-60.7126\"/>\r\n",
       "<polygon fill=\"black\" stroke=\"black\" points=\"220.265,-63.0123 224.351,-53.2367 215.061,-58.331 220.265,-63.0123\"/>\r\n",
       "</g>\r\n",
       "<!-- 11 -->\r\n",
       "<g id=\"node12\" class=\"node\"><title>11</title>\r\n",
       "<polygon fill=\"none\" stroke=\"black\" points=\"654,-253.5 505,-253.5 505,-200.5 654,-200.5 654,-253.5\"/>\r\n",
       "<text text-anchor=\"middle\" x=\"579.5\" y=\"-238.3\" font-family=\"Times New Roman,serif\" font-size=\"14.00\">friedman_mse = 52.996</text>\r\n",
       "<text text-anchor=\"middle\" x=\"579.5\" y=\"-223.3\" font-family=\"Times New Roman,serif\" font-size=\"14.00\">samples = 109</text>\r\n",
       "<text text-anchor=\"middle\" x=\"579.5\" y=\"-208.3\" font-family=\"Times New Roman,serif\" font-size=\"14.00\">value = 49.706</text>\r\n",
       "</g>\r\n",
       "<!-- 10&#45;&gt;11 -->\r\n",
       "<g id=\"edge11\" class=\"edge\"><title>10&#45;&gt;11</title>\r\n",
       "<path fill=\"none\" stroke=\"black\" d=\"M635.552,-296.884C626.335,-285.556 616.02,-272.88 606.777,-261.521\"/>\r\n",
       "<polygon fill=\"black\" stroke=\"black\" points=\"609.293,-259.067 600.266,-253.52 603.863,-263.486 609.293,-259.067\"/>\r\n",
       "</g>\r\n",
       "<!-- 12 -->\r\n",
       "<g id=\"node13\" class=\"node\"><title>12</title>\r\n",
       "<polygon fill=\"none\" stroke=\"black\" points=\"821,-253.5 672,-253.5 672,-200.5 821,-200.5 821,-253.5\"/>\r\n",
       "<text text-anchor=\"middle\" x=\"746.5\" y=\"-238.3\" font-family=\"Times New Roman,serif\" font-size=\"14.00\">friedman_mse = 64.761</text>\r\n",
       "<text text-anchor=\"middle\" x=\"746.5\" y=\"-223.3\" font-family=\"Times New Roman,serif\" font-size=\"14.00\">samples = 67</text>\r\n",
       "<text text-anchor=\"middle\" x=\"746.5\" y=\"-208.3\" font-family=\"Times New Roman,serif\" font-size=\"14.00\">value = 50.985</text>\r\n",
       "</g>\r\n",
       "<!-- 10&#45;&gt;12 -->\r\n",
       "<g id=\"edge12\" class=\"edge\"><title>10&#45;&gt;12</title>\r\n",
       "<path fill=\"none\" stroke=\"black\" d=\"M689.772,-296.884C699.101,-285.556 709.54,-272.88 718.895,-261.521\"/>\r\n",
       "<polygon fill=\"black\" stroke=\"black\" points=\"721.828,-263.464 725.484,-253.52 716.425,-259.014 721.828,-263.464\"/>\r\n",
       "</g>\r\n",
       "<!-- 14 -->\r\n",
       "<g id=\"node15\" class=\"node\"><title>14</title>\r\n",
       "<polygon fill=\"none\" stroke=\"black\" points=\"988,-365 839,-365 839,-297 988,-297 988,-365\"/>\r\n",
       "<text text-anchor=\"middle\" x=\"913.5\" y=\"-349.8\" font-family=\"Times New Roman,serif\" font-size=\"14.00\">CC &lt;= 90.3</text>\r\n",
       "<text text-anchor=\"middle\" x=\"913.5\" y=\"-334.8\" font-family=\"Times New Roman,serif\" font-size=\"14.00\">friedman_mse = 43.741</text>\r\n",
       "<text text-anchor=\"middle\" x=\"913.5\" y=\"-319.8\" font-family=\"Times New Roman,serif\" font-size=\"14.00\">samples = 129</text>\r\n",
       "<text text-anchor=\"middle\" x=\"913.5\" y=\"-304.8\" font-family=\"Times New Roman,serif\" font-size=\"14.00\">value = 49.612</text>\r\n",
       "</g>\r\n",
       "<!-- 13&#45;&gt;14 -->\r\n",
       "<g id=\"edge14\" class=\"edge\"><title>13&#45;&gt;14</title>\r\n",
       "<path fill=\"none\" stroke=\"black\" d=\"M913.5,-400.884C913.5,-392.778 913.5,-383.982 913.5,-375.472\"/>\r\n",
       "<polygon fill=\"black\" stroke=\"black\" points=\"917,-375.299 913.5,-365.299 910,-375.299 917,-375.299\"/>\r\n",
       "</g>\r\n",
       "<!-- 17 -->\r\n",
       "<g id=\"node18\" class=\"node\"><title>17</title>\r\n",
       "<polygon fill=\"none\" stroke=\"black\" points=\"1155,-357.5 1006,-357.5 1006,-304.5 1155,-304.5 1155,-357.5\"/>\r\n",
       "<text text-anchor=\"middle\" x=\"1080.5\" y=\"-342.3\" font-family=\"Times New Roman,serif\" font-size=\"14.00\">friedman_mse = 54.039</text>\r\n",
       "<text text-anchor=\"middle\" x=\"1080.5\" y=\"-327.3\" font-family=\"Times New Roman,serif\" font-size=\"14.00\">samples = 84</text>\r\n",
       "<text text-anchor=\"middle\" x=\"1080.5\" y=\"-312.3\" font-family=\"Times New Roman,serif\" font-size=\"14.00\">value = 47.238</text>\r\n",
       "</g>\r\n",
       "<!-- 13&#45;&gt;17 -->\r\n",
       "<g id=\"edge17\" class=\"edge\"><title>13&#45;&gt;17</title>\r\n",
       "<path fill=\"none\" stroke=\"black\" d=\"M967.72,-400.884C987.797,-388.621 1010.46,-374.779 1030.18,-362.737\"/>\r\n",
       "<polygon fill=\"black\" stroke=\"black\" points=\"1032.01,-365.719 1038.72,-357.52 1028.36,-359.745 1032.01,-365.719\"/>\r\n",
       "</g>\r\n",
       "<!-- 15 -->\r\n",
       "<g id=\"node16\" class=\"node\"><title>15</title>\r\n",
       "<polygon fill=\"none\" stroke=\"black\" points=\"988,-253.5 839,-253.5 839,-200.5 988,-200.5 988,-253.5\"/>\r\n",
       "<text text-anchor=\"middle\" x=\"913.5\" y=\"-238.3\" font-family=\"Times New Roman,serif\" font-size=\"14.00\">friedman_mse = 40.527</text>\r\n",
       "<text text-anchor=\"middle\" x=\"913.5\" y=\"-223.3\" font-family=\"Times New Roman,serif\" font-size=\"14.00\">samples = 64</text>\r\n",
       "<text text-anchor=\"middle\" x=\"913.5\" y=\"-208.3\" font-family=\"Times New Roman,serif\" font-size=\"14.00\">value = 49.062</text>\r\n",
       "</g>\r\n",
       "<!-- 14&#45;&gt;15 -->\r\n",
       "<g id=\"edge15\" class=\"edge\"><title>14&#45;&gt;15</title>\r\n",
       "<path fill=\"none\" stroke=\"black\" d=\"M913.5,-296.884C913.5,-286.326 913.5,-274.597 913.5,-263.854\"/>\r\n",
       "<polygon fill=\"black\" stroke=\"black\" points=\"917,-263.52 913.5,-253.52 910,-263.52 917,-263.52\"/>\r\n",
       "</g>\r\n",
       "<!-- 16 -->\r\n",
       "<g id=\"node17\" class=\"node\"><title>16</title>\r\n",
       "<polygon fill=\"none\" stroke=\"black\" points=\"1155,-253.5 1006,-253.5 1006,-200.5 1155,-200.5 1155,-253.5\"/>\r\n",
       "<text text-anchor=\"middle\" x=\"1080.5\" y=\"-238.3\" font-family=\"Times New Roman,serif\" font-size=\"14.00\">friedman_mse = 46.315</text>\r\n",
       "<text text-anchor=\"middle\" x=\"1080.5\" y=\"-223.3\" font-family=\"Times New Roman,serif\" font-size=\"14.00\">samples = 65</text>\r\n",
       "<text text-anchor=\"middle\" x=\"1080.5\" y=\"-208.3\" font-family=\"Times New Roman,serif\" font-size=\"14.00\">value = 50.154</text>\r\n",
       "</g>\r\n",
       "<!-- 14&#45;&gt;16 -->\r\n",
       "<g id=\"edge16\" class=\"edge\"><title>14&#45;&gt;16</title>\r\n",
       "<path fill=\"none\" stroke=\"black\" d=\"M967.72,-296.884C987.797,-284.621 1010.46,-270.779 1030.18,-258.737\"/>\r\n",
       "<polygon fill=\"black\" stroke=\"black\" points=\"1032.01,-261.719 1038.72,-253.52 1028.36,-255.745 1032.01,-261.719\"/>\r\n",
       "</g>\r\n",
       "</g>\r\n",
       "</svg>\r\n"
      ],
      "text/plain": [
       "<graphviz.files.Source at 0x2272e6c9080>"
      ]
     },
     "execution_count": 27,
     "metadata": {},
     "output_type": "execute_result"
    }
   ],
   "source": [
    "# Nombres:\n",
    "var_predictivas.remove('HDL_Class')\n",
    "var_predictivas.append('TARGET_HDL')\n",
    "Xnom=data[var_predictivas]\n",
    "\n",
    "# Árbol:\n",
    "tree.export_graphviz(tr_reg, out_file=\"tree_reg_HDL.dot\", feature_names=Xnom.columns)\n",
    "with open(\"tree_reg_HDL.dot\") as f:\n",
    "    dot_graph = f.read()\n",
    "graphviz.Source(dot_graph)"
   ]
  }
 ],
 "metadata": {
  "kernelspec": {
   "display_name": "Python 3",
   "language": "python",
   "name": "python3"
  },
  "language_info": {
   "codemirror_mode": {
    "name": "ipython",
    "version": 3
   },
   "file_extension": ".py",
   "mimetype": "text/x-python",
   "name": "python",
   "nbconvert_exporter": "python",
   "pygments_lexer": "ipython3",
   "version": "3.7.1"
  }
 },
 "nbformat": 4,
 "nbformat_minor": 2
}
