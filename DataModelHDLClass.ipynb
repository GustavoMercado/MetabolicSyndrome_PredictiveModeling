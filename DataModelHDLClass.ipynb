{
 "cells": [
  {
   "cell_type": "markdown",
   "metadata": {},
   "source": [
    "### Librerías utilizadas"
   ]
  },
  {
   "cell_type": "code",
   "execution_count": 1,
   "metadata": {},
   "outputs": [],
   "source": [
    "import pandas as pd\n",
    "import numpy as np\n",
    "import matplotlib.pyplot as plt\n",
    "\n",
    "from collections import Counter\n",
    "from imblearn.under_sampling import RandomUnderSampler\n",
    "from imblearn.over_sampling import RandomOverSampler\n",
    "from imblearn.over_sampling import SMOTE\n",
    "from sklearn.model_selection import train_test_split\n",
    "\n",
    "from sklearn.model_selection import RandomizedSearchCV,GridSearchCV\n",
    "\n",
    "from sklearn import tree\n",
    "from sklearn.tree import DecisionTreeClassifier\n",
    "from sklearn.ensemble import RandomForestClassifier\n",
    "from sklearn.ensemble import GradientBoostingClassifier\n",
    "import xgboost\n",
    "from xgboost import XGBClassifier\n",
    "\n",
    "from sklearn.metrics import accuracy_score,roc_auc_score, roc_curve\n",
    "from sklearn.metrics import plot_confusion_matrix"
   ]
  },
  {
   "cell_type": "markdown",
   "metadata": {},
   "source": [
    "### Datos utilizados"
   ]
  },
  {
   "cell_type": "markdown",
   "metadata": {},
   "source": [
    "Se importan los datos que resultaron del proceso de preparación de datos:"
   ]
  },
  {
   "cell_type": "code",
   "execution_count": 2,
   "metadata": {},
   "outputs": [],
   "source": [
    "data = pd.read_csv('C:/Users/gusta/OneDrive/Documentos/Tesis/Datos/Datos_prep.csv') "
   ]
  },
  {
   "cell_type": "markdown",
   "metadata": {},
   "source": [
    "Se seleccionan las variables que serán utilizadas como variables dependientes, estas variables son las que cuentan con un buen IV para ser considerados en el modelo:"
   ]
  },
  {
   "cell_type": "code",
   "execution_count": 3,
   "metadata": {},
   "outputs": [],
   "source": [
    "var_predictivas = ['CC','VFA','CC_GRAS','CC_MUSC','CC_HUES','CC_AGUA','PAS',\n",
    "                   'PAM','PESO','PAD','TALLA','GLU','IMC']\n",
    "X = data[var_predictivas] \n",
    "y = data['TARGET_HDL'] "
   ]
  },
  {
   "cell_type": "markdown",
   "metadata": {},
   "source": [
    "### Separación de datos"
   ]
  },
  {
   "cell_type": "markdown",
   "metadata": {},
   "source": [
    "Para evaluar mejor el rendimiento del modelo, es una buena estrategia dividir el conjunto de datos dos: un conjunto de entrenamiento (70%) y uno de prueba (30%)."
   ]
  },
  {
   "cell_type": "code",
   "execution_count": 4,
   "metadata": {},
   "outputs": [
    {
     "name": "stdout",
     "output_type": "stream",
     "text": [
      "Original dataset shape Counter({0: 1449, 1: 308})\n"
     ]
    }
   ],
   "source": [
    "print('Original dataset shape %s' % Counter(y))"
   ]
  },
  {
   "cell_type": "code",
   "execution_count": 5,
   "metadata": {},
   "outputs": [
    {
     "name": "stdout",
     "output_type": "stream",
     "text": [
      "Train dataset shape Counter({0: 1012, 1: 217})\n",
      "Test dataset shape Counter({0: 437, 1: 91})\n"
     ]
    }
   ],
   "source": [
    "X_train, X_test, y_train, y_test = train_test_split(X,y, test_size=0.3, random_state=19)\n",
    "print('Train dataset shape %s' % Counter(y_train))\n",
    "print('Test dataset shape %s' % Counter(y_test))"
   ]
  },
  {
   "cell_type": "markdown",
   "metadata": {},
   "source": [
    "Dado que la muestra de datos no esta balanceada (17.53% de Eventos vs 82.47% de No-Eventos) se hará primero un sobremuestreo (oversampling) el cual consiste en duplicar aleatoreamente algunos registros pertenecientes a la clase de Eventos (1). FALTA CAMBIAR DESCRIPCIÓN A SMOTE"
   ]
  },
  {
   "cell_type": "code",
   "execution_count": 6,
   "metadata": {},
   "outputs": [
    {
     "name": "stdout",
     "output_type": "stream",
     "text": [
      "Resampled train dataset shape Counter({0: 1012, 1: 1012})\n"
     ]
    }
   ],
   "source": [
    "smote = SMOTE(random_state=19)\n",
    "X_train, y_train = smote.fit_resample(X_train, y_train)\n",
    "print('Resampled train dataset shape %s' % Counter(y_train))"
   ]
  },
  {
   "cell_type": "code",
   "execution_count": 7,
   "metadata": {},
   "outputs": [],
   "source": [
    "#rus = RandomUnderSampler(random_state=1,sampling_strategy=0.25)\n",
    "#X_train, y_train = rus.fit_resample(X_train, y_train)\n",
    "#print('Resampled train dataset shape %s' % Counter(y_train))"
   ]
  },
  {
   "cell_type": "code",
   "execution_count": 8,
   "metadata": {},
   "outputs": [],
   "source": [
    "#ros = RandomOverSampler(random_state=19,sampling_strategy=0.5)\n",
    "#X_train, y_train = ros.fit_resample(X_train, y_train)\n",
    "#print('Resampled train dataset shape %s' % Counter(y_train))"
   ]
  },
  {
   "cell_type": "markdown",
   "metadata": {},
   "source": [
    "## Modelos supervisados para Clasificación"
   ]
  },
  {
   "cell_type": "markdown",
   "metadata": {},
   "source": [
    "En esta sección se llevará a cabo la construcción de los modelos supervisados de Machine Learning que identifiquen si el paciente tiene su nivel de Colesterol HDL por debajo de los 40 mg/dL para posteriormente hacer la clasificación en Evento y No-Evento."
   ]
  },
  {
   "cell_type": "markdown",
   "metadata": {},
   "source": [
    "### Árbol de decisión"
   ]
  },
  {
   "cell_type": "markdown",
   "metadata": {},
   "source": [
    "Se contruye un modelo de Árbol de Decisión usando Scikit-learn."
   ]
  },
  {
   "cell_type": "code",
   "execution_count": 9,
   "metadata": {},
   "outputs": [],
   "source": [
    "# Parámetros para el modelo:\n",
    "param_dict_tr= dict(criterion=['gini','entropy'], splitter=['best','random'],\n",
    "                 max_depth=range(2,30), max_features=range(2,13),\n",
    "                 max_leaf_nodes=range(5,35), min_samples_leaf=[0.05])\n",
    "\n",
    "# Se crea el árbol de decisión para clasificación:\n",
    "tr_clf = DecisionTreeClassifier()\n",
    "\n",
    "# Autotuning del modelo:\n",
    "grid_tr = GridSearchCV(cv=5, estimator=tr_clf, n_jobs=-1, \n",
    "                     param_grid=param_dict_tr ,scoring='roc_auc')\n",
    "grid_tr.fit(X_train,y_train)\n",
    "tr_clf = grid_tr.best_estimator_\n",
    "\n",
    "#rsgrid_tr = RandomizedSearchCV(tr_clf, param_dict_tr, cv=20,\n",
    "#                                scoring='roc_auc', n_iter=40, n_jobs=-1)\n",
    "#rsgrid_tr.fit(X_train,y_train)\n",
    "#tr_clf = rsgrid_tr.best_estimator_\n",
    "\n",
    "# Se entrena el árbol de decisión:\n",
    "tr_clf = tr_clf.fit(X_train,y_train)"
   ]
  },
  {
   "cell_type": "code",
   "execution_count": 10,
   "metadata": {},
   "outputs": [
    {
     "data": {
      "text/plain": [
       "DecisionTreeClassifier(max_depth=18, max_features=11, max_leaf_nodes=14,\n",
       "                       min_samples_leaf=0.05)"
      ]
     },
     "execution_count": 10,
     "metadata": {},
     "output_type": "execute_result"
    }
   ],
   "source": [
    "# Los mejores parámetros:\n",
    "grid_tr.best_estimator_\n",
    "#rsgrid_tr.best_estimator_"
   ]
  },
  {
   "cell_type": "markdown",
   "metadata": {},
   "source": [
    "### Random Forest"
   ]
  },
  {
   "cell_type": "markdown",
   "metadata": {},
   "source": [
    "Se contruye un modelo de Random Forest usando Scikit-learn."
   ]
  },
  {
   "cell_type": "code",
   "execution_count": 11,
   "metadata": {},
   "outputs": [],
   "source": [
    "# Parámetros para el modelo:\n",
    "param_dict_rf= dict(n_estimators=range(50,150), criterion=['entropy'],\n",
    "                 max_depth=range(20,30), max_features=range(2,13),\n",
    "                 max_leaf_nodes=range(5,20), min_samples_leaf=[0.05])\n",
    "\n",
    "# Se crea el Random Forest para clasificación:\n",
    "rf_clf = RandomForestClassifier()\n",
    "\n",
    "#Autotuning del modelo:\n",
    "#grid_rf = GridSearchCV(cv=5, estimator=rf_clf, n_jobs=-1, \n",
    "#                     param_grid=param_dict_rf ,scoring='roc_auc')\n",
    "#grid_rf.fit(X_train,y_train)\n",
    "#rf_clf = grid_rf.best_estimator_\n",
    "\n",
    "rsgrid_rf = RandomizedSearchCV(rf_clf, param_dict_rf, cv=20,\n",
    "                                scoring='roc_auc', n_iter=40, n_jobs=-1)\n",
    "rsgrid_rf.fit(X_train,y_train)\n",
    "rf_clf = rsgrid_rf.best_estimator_\n",
    "\n",
    "# Se entrena el Random Forest:\n",
    "rf_clf = rf_clf.fit(X_train,y_train)"
   ]
  },
  {
   "cell_type": "code",
   "execution_count": 12,
   "metadata": {},
   "outputs": [
    {
     "data": {
      "text/plain": [
       "RandomForestClassifier(criterion='entropy', max_depth=23, max_features=12,\n",
       "                       max_leaf_nodes=12, min_samples_leaf=0.05,\n",
       "                       n_estimators=73)"
      ]
     },
     "execution_count": 12,
     "metadata": {},
     "output_type": "execute_result"
    }
   ],
   "source": [
    "# Los mejores parámetros:\n",
    "#grid_rf.best_estimator_\n",
    "rsgrid_rf.best_estimator_"
   ]
  },
  {
   "cell_type": "markdown",
   "metadata": {},
   "source": [
    "### Gradient Boosting"
   ]
  },
  {
   "cell_type": "markdown",
   "metadata": {},
   "source": [
    "Se contruye un modelo de Gradient Boosting usando Scikit-learn."
   ]
  },
  {
   "cell_type": "code",
   "execution_count": 14,
   "metadata": {},
   "outputs": [],
   "source": [
    "# Parámetros para el modelo:\n",
    "param_dict_gb= dict(criterion=['friedman_mse', 'mse', 'mae'], \n",
    "                    loss=['deviance','exponential'], \n",
    "                    learning_rate=[0.05,0.10,0.15,0.20,0.25,0.30,0.5,0.8,1],\n",
    "                    max_depth=range(2,10), max_features=range(2,13),\n",
    "                    max_leaf_nodes=range(5,35), min_samples_leaf=[0.05],\n",
    "                    n_estimators=range(50,150))\n",
    "\n",
    "# Se crea el Gradient Boosting para clasificación:\n",
    "gb_clf = GradientBoostingClassifier()\n",
    "\n",
    "#Autotuning del modelo:\n",
    "#grid_gb = GridSearchCV(cv=5, estimator=gb_clf, n_jobs=-1, \n",
    "#                     param_grid=param_dict_gb ,scoring='roc_auc')\n",
    "#grid_gb.fit(X_train,y_train)\n",
    "#gb_clf = grid_gb.best_estimator_\n",
    "\n",
    "rsgrid_gb = RandomizedSearchCV(gb_clf, param_dict_gb, cv=20,\n",
    "                                scoring='roc_auc', n_iter=40, n_jobs=-1)\n",
    "rsgrid_gb.fit(X_train,y_train)\n",
    "gb_clf = rsgrid_gb.best_estimator_\n",
    "\n",
    "# Se entrena el Gradient Boosting:\n",
    "gb_clf = gb_clf.fit(X_train,y_train)"
   ]
  },
  {
   "cell_type": "code",
   "execution_count": 15,
   "metadata": {},
   "outputs": [
    {
     "data": {
      "text/plain": [
       "GradientBoostingClassifier(learning_rate=0.8, max_depth=6, max_features=10,\n",
       "                           max_leaf_nodes=20, min_samples_leaf=0.05,\n",
       "                           n_estimators=131)"
      ]
     },
     "execution_count": 15,
     "metadata": {},
     "output_type": "execute_result"
    }
   ],
   "source": [
    "# Los mejores parámetros:\n",
    "#grid_gb.best_estimator_\n",
    "rsgrid_gb.best_estimator_"
   ]
  },
  {
   "cell_type": "markdown",
   "metadata": {},
   "source": [
    "### XGBoost"
   ]
  },
  {
   "cell_type": "markdown",
   "metadata": {},
   "source": [
    "Se contruye un modelo de XGBoost usando XGBoost."
   ]
  },
  {
   "cell_type": "code",
   "execution_count": 16,
   "metadata": {},
   "outputs": [],
   "source": [
    "# Parámetros para el modelo:\n",
    "param_dict_xgb= {'eta': [0.05, 0.10, 0.15, 0.20, 0.25, 0.30],\n",
    "                 'max_depth':[3,4,5,6,8,10,12,15],\n",
    "                 'min_child_weight': [1,3,5,7],\n",
    "                 'gamma': [0.0,0.1,0.2,0.3,0.4],\n",
    "                 'colsample_bytree': [0.3,0.4,0.5,0.7],\n",
    "                 'n_estimators': range(50,150)}\n",
    "\n",
    "# Se crea el XGBoost para clasificación:\n",
    "xgb_clf = XGBClassifier()\n",
    "\n",
    "#Autotuning del modelo:\n",
    "#grid_xgb = GridSearchCV(cv=5, estimator=xgb_clf, n_jobs=-1, \n",
    "#                     param_grid=param_dict_xgb ,scoring='roc_auc')\n",
    "#grid_xgb.fit(X_train,y_train)\n",
    "#xgb_clf = grid_xgb.best_estimator_\n",
    "\n",
    "rsgrid_xgb = RandomizedSearchCV(xgb_clf, param_dict_xgb, cv=20,\n",
    "                                scoring='roc_auc', n_iter=40, n_jobs=-1)\n",
    "rsgrid_xgb.fit(X_train,y_train)\n",
    "xgb_clf = rsgrid_xgb.best_estimator_\n",
    "\n",
    "# Se entrena el XGBoost:\n",
    "xgb_clf = xgb_clf.fit(X_train,y_train)"
   ]
  },
  {
   "cell_type": "code",
   "execution_count": 17,
   "metadata": {},
   "outputs": [
    {
     "data": {
      "text/plain": [
       "XGBClassifier(base_score=0.5, booster='gbtree', colsample_bylevel=1,\n",
       "              colsample_bynode=1, colsample_bytree=0.5, eta=0.15, gamma=0.1,\n",
       "              gpu_id=-1, importance_type='gain', interaction_constraints='',\n",
       "              learning_rate=0.150000006, max_delta_step=0, max_depth=15,\n",
       "              min_child_weight=1, missing=nan, monotone_constraints='()',\n",
       "              n_estimators=76, n_jobs=0, num_parallel_tree=1, random_state=0,\n",
       "              reg_alpha=0, reg_lambda=1, scale_pos_weight=1, subsample=1,\n",
       "              tree_method='exact', validate_parameters=1, verbosity=None)"
      ]
     },
     "execution_count": 17,
     "metadata": {},
     "output_type": "execute_result"
    }
   ],
   "source": [
    "# Los mejores parámetros:\n",
    "#grid_xgb.best_estimator_\n",
    "rsgrid_xgb.best_estimator_"
   ]
  },
  {
   "cell_type": "markdown",
   "metadata": {},
   "source": [
    "### Estadísticos de precisión"
   ]
  },
  {
   "cell_type": "markdown",
   "metadata": {},
   "source": [
    "A continuación, se muestra la curva ROC de cada uno de los modelos junto con estadístico AUC que indica el área debajo de la curva ROC."
   ]
  },
  {
   "cell_type": "code",
   "execution_count": 18,
   "metadata": {},
   "outputs": [
    {
     "data": {
      "image/png": "[encoded data removed]",
      "text/plain": [
       "<Figure size 432x360 with 1 Axes>"
      ]
     },
     "metadata": {
      "needs_background": "light"
     },
     "output_type": "display_data"
    }
   ],
   "source": [
    "modelos = [{'label':'Decision Tree','modelo':tr_clf,},\n",
    "           {'label':'Random Forest','modelo':rf_clf,},\n",
    "           {'label':'Gradient Boosting','modelo':gb_clf,},\n",
    "           {'label':'XGBoost','modelo':xgb_clf,}]\n",
    "\n",
    "plt.figure(figsize=(6,5))\n",
    "for m in modelos:\n",
    "    modelo = m['modelo']\n",
    "    fpr, tpr, thresholds = roc_curve(y_test, modelo.predict_proba(X_test)[:,1])\n",
    "    auc = roc_auc_score(y_true=y_test, y_score=modelo.predict_proba(X_test)[:,1])\n",
    "    plt.plot(fpr,tpr,label='%s ROC (auc= %0.2f)' % (m['label'], auc))\n",
    "plt.plot([0,1],[0,1],'r--')\n",
    "plt.xlim([0.0,1.0])\n",
    "plt.ylim([0.0,1.05]) \n",
    "plt.xlabel('False Positive Rate')\n",
    "plt.ylabel('True Positive Rate')\n",
    "plt.title('ROC Curve (using validation data)')\n",
    "plt.legend(loc=\"lower right\")\n",
    "plt.show()"
   ]
  },
  {
   "cell_type": "markdown",
   "metadata": {},
   "source": [
    "También se puede observar la matriz de confusión:"
   ]
  },
  {
   "cell_type": "code",
   "execution_count": 19,
   "metadata": {},
   "outputs": [
    {
     "data": {
      "image/png": "[encoded data removed]",
      "text/plain": [
       "<Figure size 432x288 with 2 Axes>"
      ]
     },
     "metadata": {
      "needs_background": "light"
     },
     "output_type": "display_data"
    },
    {
     "data": {
      "image/png": "[encoded data removed]",
      "text/plain": [
       "<Figure size 432x288 with 2 Axes>"
      ]
     },
     "metadata": {
      "needs_background": "light"
     },
     "output_type": "display_data"
    },
    {
     "data": {
      "image/png": "[encoded data removed]",
      "text/plain": [
       "<Figure size 432x288 with 2 Axes>"
      ]
     },
     "metadata": {
      "needs_background": "light"
     },
     "output_type": "display_data"
    },
    {
     "data": {
      "image/png": "[encoded data removed]",
      "text/plain": [
       "<Figure size 432x288 with 2 Axes>"
      ]
     },
     "metadata": {
      "needs_background": "light"
     },
     "output_type": "display_data"
    }
   ],
   "source": [
    "for m in modelos:\n",
    "    modelo = m['modelo']\n",
    "    disp = plot_confusion_matrix(modelo, X_test, y_test,\n",
    "                                 cmap=plt.cm.Blues,\n",
    "                                 normalize=None)\n",
    "    disp.ax_.set_title('Confusion Matrix: %s' % (m['label']))\n",
    "\n",
    "plt.show()"
   ]
  },
  {
   "cell_type": "code",
   "execution_count": null,
   "metadata": {},
   "outputs": [],
   "source": []
  }
 ],
 "metadata": {
  "kernelspec": {
   "display_name": "Python 3",
   "language": "python",
   "name": "python3"
  },
  "language_info": {
   "codemirror_mode": {
    "name": "ipython",
    "version": 3
   },
   "file_extension": ".py",
   "mimetype": "text/x-python",
   "name": "python",
   "nbconvert_exporter": "python",
   "pygments_lexer": "ipython3",
   "version": "3.7.1"
  }
 },
 "nbformat": 4,
 "nbformat_minor": 2
}
