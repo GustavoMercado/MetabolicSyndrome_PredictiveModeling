{
 "cells": [
  {
   "cell_type": "markdown",
   "metadata": {},
   "source": [
    "En esta sección se llevará a cabo la construcción de los modelos supervisados de Machine Learning que calculen la probabilidad de que el paciente tenga su nivel de Colesterol HDL por debajo de los 40 mg/dL para posteriormente hacer la clasificación de Alterado (1) y No Alterado (0)."
   ]
  },
  {
   "cell_type": "markdown",
   "metadata": {},
   "source": [
    "### Librerías utilizadas"
   ]
  },
  {
   "cell_type": "code",
   "execution_count": 1,
   "metadata": {},
   "outputs": [],
   "source": [
    "import pandas as pd\n",
    "import numpy as np\n",
    "import matplotlib\n",
    "import matplotlib.pyplot as plt\n",
    "\n",
    "from collections import Counter\n",
    "from imblearn.combine import SMOTETomek\n",
    "from sklearn.model_selection import train_test_split\n",
    "\n",
    "from sklearn.model_selection import RandomizedSearchCV,GridSearchCV\n",
    "\n",
    "from sklearn import tree\n",
    "from sklearn.tree import DecisionTreeClassifier\n",
    "from sklearn.ensemble import RandomForestClassifier\n",
    "from sklearn.ensemble import GradientBoostingClassifier\n",
    "from xgboost import XGBClassifier\n",
    "\n",
    "from sklearn.metrics import plot_confusion_matrix, confusion_matrix\n",
    "from sklearn.metrics import precision_score, recall_score\n",
    "from sklearn.metrics import fbeta_score, make_scorer\n",
    "from sklearn.metrics import roc_auc_score, roc_curve\n",
    "\n",
    "#conda install python-graphviz\n",
    "import graphviz"
   ]
  },
  {
   "cell_type": "markdown",
   "metadata": {},
   "source": [
    "### Datos utilizados"
   ]
  },
  {
   "cell_type": "markdown",
   "metadata": {},
   "source": [
    "Se importan los datos que resultaron del proceso de preparación de datos."
   ]
  },
  {
   "cell_type": "code",
   "execution_count": 2,
   "metadata": {},
   "outputs": [],
   "source": [
    "data = pd.read_csv('C:/Users/gusta/OneDrive/Documentos/Tesis/Datos/Datos_prep.csv') "
   ]
  },
  {
   "cell_type": "markdown",
   "metadata": {},
   "source": [
    "Se seleccionan las variables que serán utilizadas como variables dependientes."
   ]
  },
  {
   "cell_type": "code",
   "execution_count": 3,
   "metadata": {},
   "outputs": [],
   "source": [
    "var_predictivas = ['CC','VFA','CC_GRAS','CC_MUSC','CC_AGUA','PAM','TALLA','IMC']\n",
    "X = data[var_predictivas] \n",
    "y = data['TARGET_HDL'] "
   ]
  },
  {
   "cell_type": "markdown",
   "metadata": {},
   "source": [
    "### Separación de datos"
   ]
  },
  {
   "cell_type": "markdown",
   "metadata": {},
   "source": [
    "En el modelado predictivo, la estrategia estándar para una evaluación honesta del rendimiento de los modelos se da a través de la separación de los datos en dos subconjuntos. Una parte de la fuente de datos se utiliza para ajustar los modelos: el conjunto de datos de entrenamiento. El resto de la fuente de datos se utiliza para dar una estimación honesta final de la generalizacion de los modelos: el conjunto de datos de validación.\n",
    "\n",
    "Para el presente trabajo el conjunto de entrenamiento representará el 70% de los datos originales y el conjunto de validación tendrá el 30% restante."
   ]
  },
  {
   "cell_type": "code",
   "execution_count": 4,
   "metadata": {},
   "outputs": [
    {
     "name": "stdout",
     "output_type": "stream",
     "text": [
      "Original dataset shape Counter({0: 1449, 1: 308})\n"
     ]
    }
   ],
   "source": [
    "print('Original dataset shape %s' % Counter(y))"
   ]
  },
  {
   "cell_type": "code",
   "execution_count": 5,
   "metadata": {},
   "outputs": [
    {
     "name": "stdout",
     "output_type": "stream",
     "text": [
      "Train dataset shape Counter({0: 1019, 1: 210})\n",
      "Test dataset shape Counter({0: 430, 1: 98})\n"
     ]
    }
   ],
   "source": [
    "X_train, X_test, y_train, y_test = train_test_split(X,y, test_size=0.3, random_state=13719)\n",
    "print('Train dataset shape %s' % Counter(y_train))\n",
    "print('Test dataset shape %s' % Counter(y_test))"
   ]
  },
  {
   "cell_type": "markdown",
   "metadata": {},
   "source": [
    "Dado que la muestra de datos no esta balanceada (17.53% de Eventos vs 82.47% de No-Eventos) se utilizará una técnica que consiste en aplicar en simultáneo un algoritmo de subsampling y otro de oversampling al conjunto de datos. Se utilizará SMOTE (Synthetic Minority Oversampling Technique) para el oversampling: busca puntos vecinos cercanos y agrega puntos en linea recta entre ellos. Y se utilizará Tomek para el undersampling, el cual que quita elementos de la clase mayoritaria que sean \"nearest neighbor\" para delimitar mejor la zona limítrofe de las clases."
   ]
  },
  {
   "cell_type": "code",
   "execution_count": 6,
   "metadata": {},
   "outputs": [
    {
     "name": "stdout",
     "output_type": "stream",
     "text": [
      "Resampled train dataset shape Counter({0: 992, 1: 482})\n"
     ]
    }
   ],
   "source": [
    "smotetomek = SMOTETomek(sampling_strategy=0.5,random_state=13719)\n",
    "X_train, y_train = smotetomek.fit_resample(X_train, y_train)\n",
    "print('Resampled train dataset shape %s' % Counter(y_train))"
   ]
  },
  {
   "cell_type": "markdown",
   "metadata": {},
   "source": [
    "## Modelos supervisados para Clasificación"
   ]
  },
  {
   "cell_type": "markdown",
   "metadata": {},
   "source": [
    "Acorde a lo presentado anteriormente, se utilizarán modelos basados en árboles."
   ]
  },
  {
   "cell_type": "markdown",
   "metadata": {},
   "source": [
    "### Árbol de decisión"
   ]
  },
  {
   "cell_type": "markdown",
   "metadata": {},
   "source": [
    "El primer modelo que se contruye es un Árbol de Decisión, de la librería Scikit-learn, además, se hace uso del método \"RandomizedSearchCV\" para encontrar los parámetros óptimos para el modelo, usando el ROC AUC como métrica para la medición del performance de los modelos."
   ]
  },
  {
   "cell_type": "code",
   "execution_count": 7,
   "metadata": {},
   "outputs": [],
   "source": [
    "# Parámetros para el modelo:\n",
    "param_dict_tr= dict(criterion=['gini','entropy'], splitter=['best','random'],\n",
    "                    max_depth=range(2,30), max_features=range(2,9),\n",
    "                    min_samples_leaf=[0.05], class_weight=['balanced'])\n",
    "\n",
    "# Se crea el árbol de decisión para clasificación:\n",
    "tr_clf = DecisionTreeClassifier()\n",
    "\n",
    "# Autotuning del modelo:\n",
    "rsgrid_tr = RandomizedSearchCV(tr_clf, param_dict_tr, cv=20, n_iter=40, n_jobs=-1,\n",
    "                               scoring='roc_auc')\n",
    "rsgrid_tr.fit(X_train,y_train)\n",
    "tr_clf = rsgrid_tr.best_estimator_\n",
    "\n",
    "# Se entrena el árbol de decisión:\n",
    "tr_clf = tr_clf.fit(X_train,y_train)"
   ]
  },
  {
   "cell_type": "markdown",
   "metadata": {},
   "source": [
    "A continuación, se muestran los parámetros del Árbol de Decisión con los cuales se maximizó el área debajo de la curva ROC. "
   ]
  },
  {
   "cell_type": "code",
   "execution_count": 8,
   "metadata": {},
   "outputs": [
    {
     "data": {
      "text/plain": [
       "DecisionTreeClassifier(class_weight='balanced', criterion='entropy',\n",
       "                       max_depth=22, max_features=8, min_samples_leaf=0.05)"
      ]
     },
     "execution_count": 8,
     "metadata": {},
     "output_type": "execute_result"
    }
   ],
   "source": [
    "rsgrid_tr.best_estimator_"
   ]
  },
  {
   "cell_type": "markdown",
   "metadata": {},
   "source": [
    "### Random Forest"
   ]
  },
  {
   "cell_type": "markdown",
   "metadata": {},
   "source": [
    "El segundo modelo que se contruye es un Random Forest, de la librería Scikit-learn, además, se hace uso del método \"RandomizedSearchCV\" para encontrar los parámetros óptimos para el modelo, usando el ROC AUC como métrica para la medición del performance de los modelos."
   ]
  },
  {
   "cell_type": "code",
   "execution_count": 9,
   "metadata": {},
   "outputs": [],
   "source": [
    "# Parámetros para el modelo:\n",
    "param_dict_rf= dict(n_estimators=range(50,150), criterion=['gini','entropy'],\n",
    "                    max_depth=range(20,30), max_features=range(2,9),\n",
    "                    min_samples_leaf=[0.05], class_weight=['balanced'])\n",
    "\n",
    "# Se crea el Random Forest para clasificación:\n",
    "rf_clf = RandomForestClassifier()\n",
    "\n",
    "#Autotuning del modelo:\n",
    "rsgrid_rf = RandomizedSearchCV(rf_clf, param_dict_rf, cv=20, n_iter=40, n_jobs=-1,\n",
    "                               scoring= 'roc_auc')\n",
    "rsgrid_rf.fit(X_train,y_train)\n",
    "rf_clf = rsgrid_rf.best_estimator_\n",
    "\n",
    "# Se entrena el Random Forest:\n",
    "rf_clf = rf_clf.fit(X_train,y_train)"
   ]
  },
  {
   "cell_type": "markdown",
   "metadata": {},
   "source": [
    "A continuación, se muestran los parámetros del Random Forest con los cuales se maximizó el área debajo de la curva ROC."
   ]
  },
  {
   "cell_type": "code",
   "execution_count": 10,
   "metadata": {},
   "outputs": [
    {
     "data": {
      "text/plain": [
       "RandomForestClassifier(class_weight='balanced', criterion='entropy',\n",
       "                       max_depth=29, max_features=8, min_samples_leaf=0.05,\n",
       "                       n_estimators=68)"
      ]
     },
     "execution_count": 10,
     "metadata": {},
     "output_type": "execute_result"
    }
   ],
   "source": [
    "rsgrid_rf.best_estimator_"
   ]
  },
  {
   "cell_type": "markdown",
   "metadata": {},
   "source": [
    "### Gradient Boosting"
   ]
  },
  {
   "cell_type": "markdown",
   "metadata": {},
   "source": [
    "El tercer modelo que se contruye es un Gradient Boosting, de la librería Scikit-learn, además, se hace uso del método \"RandomizedSearchCV\" para encontrar los parámetros óptimos para el modelo, usando el ROC AUC como métrica para la medición del performance de los modelos."
   ]
  },
  {
   "cell_type": "code",
   "execution_count": 11,
   "metadata": {},
   "outputs": [],
   "source": [
    "# Parámetros para el modelo:\n",
    "param_dict_gb= dict(criterion=['friedman_mse', 'mse', 'mae'], \n",
    "                    loss=['deviance','exponential'], \n",
    "                    learning_rate=[0.05,0.10,0.15,0.20,0.25,0.30,0.5,0.8,1],\n",
    "                    max_depth=range(20,30), max_features=range(2,9),\n",
    "                    min_samples_leaf=[0.05], n_estimators=range(50,150))\n",
    "\n",
    "# Se crea el Gradient Boosting para clasificación:\n",
    "gb_clf = GradientBoostingClassifier()\n",
    "\n",
    "#Autotuning del modelo:\n",
    "rsgrid_gb = RandomizedSearchCV(gb_clf, param_dict_gb, cv=20, n_iter=40, n_jobs=-1,\n",
    "                               scoring= 'roc_auc')\n",
    "rsgrid_gb.fit(X_train,y_train)\n",
    "gb_clf = rsgrid_gb.best_estimator_\n",
    "\n",
    "# Se entrena el Gradient Boosting:\n",
    "gb_clf = gb_clf.fit(X_train,y_train)"
   ]
  },
  {
   "cell_type": "markdown",
   "metadata": {},
   "source": [
    "A continuación, se muestran los parámetros del Gradient Boosting con los cuales se maximizó el área debajo de la curva ROC."
   ]
  },
  {
   "cell_type": "code",
   "execution_count": 12,
   "metadata": {},
   "outputs": [
    {
     "data": {
      "text/plain": [
       "GradientBoostingClassifier(criterion='mse', learning_rate=0.5, max_depth=25,\n",
       "                           max_features=8, min_samples_leaf=0.05,\n",
       "                           n_estimators=82)"
      ]
     },
     "execution_count": 12,
     "metadata": {},
     "output_type": "execute_result"
    }
   ],
   "source": [
    "rsgrid_gb.best_estimator_"
   ]
  },
  {
   "cell_type": "markdown",
   "metadata": {},
   "source": [
    "### XGBoost"
   ]
  },
  {
   "cell_type": "markdown",
   "metadata": {},
   "source": [
    "El último modelo que se contruye es un XGBoost, de la librería XGBoost, además, se hace uso del método \"RandomizedSearchCV\" para encontrar los parámetros óptimos para el modelo, usando el ROC AUC como métrica para la medición del performance de los modelos."
   ]
  },
  {
   "cell_type": "code",
   "execution_count": 13,
   "metadata": {},
   "outputs": [],
   "source": [
    "# Parámetros para el modelo:\n",
    "param_dict_xgb= dict(booster=['gbtree', 'dart'],\n",
    "                     eta=[0.05, 0.10, 0.15, 0.20, 0.25, 0.30],\n",
    "                     max_depth=range(20,30),n_estimators= range(50,150),  \n",
    "                     scale_pos_weight=[1,2,2.5])\n",
    "\n",
    "# Se crea el XGBoost para clasificación:\n",
    "xgb_clf = XGBClassifier()\n",
    "\n",
    "#Autotuning del modelo:\n",
    "rsgrid_xgb = RandomizedSearchCV(xgb_clf, param_dict_xgb, cv=20, n_iter=40, n_jobs=-1,\n",
    "                                scoring= 'roc_auc')\n",
    "rsgrid_xgb.fit(X_train,y_train)\n",
    "xgb_clf = rsgrid_xgb.best_estimator_\n",
    "\n",
    "# Se entrena el XGBoost:\n",
    "xgb_clf = xgb_clf.fit(X_train,y_train)"
   ]
  },
  {
   "cell_type": "markdown",
   "metadata": {},
   "source": [
    "A continuación, se muestran los parámetros del XGBoost con los cuales se maximizó el área debajo de la curva ROC."
   ]
  },
  {
   "cell_type": "code",
   "execution_count": 14,
   "metadata": {},
   "outputs": [
    {
     "data": {
      "text/plain": [
       "XGBClassifier(base_score=0.5, booster='dart', colsample_bylevel=1,\n",
       "              colsample_bynode=1, colsample_bytree=1, eta=0.25, gamma=0,\n",
       "              gpu_id=-1, importance_type='gain', interaction_constraints='',\n",
       "              learning_rate=0.25, max_delta_step=0, max_depth=24,\n",
       "              min_child_weight=1, missing=nan, monotone_constraints='()',\n",
       "              n_estimators=134, n_jobs=0, num_parallel_tree=1, random_state=0,\n",
       "              reg_alpha=0, reg_lambda=1, scale_pos_weight=2, subsample=1,\n",
       "              tree_method='exact', validate_parameters=1, verbosity=None)"
      ]
     },
     "execution_count": 14,
     "metadata": {},
     "output_type": "execute_result"
    }
   ],
   "source": [
    "rsgrid_xgb.best_estimator_"
   ]
  },
  {
   "cell_type": "markdown",
   "metadata": {},
   "source": [
    "### Estadísticos de precisión"
   ]
  },
  {
   "cell_type": "markdown",
   "metadata": {},
   "source": [
    "Para medir el desempeño de los modelos se utilizará el conjunto de datos de validación y se analizarán, en primer lugar,  las curvas ROC, y del área debajo de las mismas, de cada uno de los modelos."
   ]
  },
  {
   "cell_type": "code",
   "execution_count": 16,
   "metadata": {},
   "outputs": [
    {
     "data": {
      "image/png": "[encoded data removed]",
      "text/plain": [
       "<Figure size 432x360 with 1 Axes>"
      ]
     },
     "metadata": {
      "needs_background": "light"
     },
     "output_type": "display_data"
    }
   ],
   "source": [
    "plt.figure(figsize=(6,5))\n",
    "for m in modelos:\n",
    "    modelo = m['modelo']\n",
    "    fpr, tpr, thresholds = roc_curve(y_test, modelo.predict_proba(X_test)[:,1])\n",
    "    auc = roc_auc_score(y_true=y_test, y_score=modelo.predict_proba(X_test)[:,1])\n",
    "    plt.plot(fpr,tpr,label='%s ROC (auc= %0.2f)' % (m['label'], auc))\n",
    "plt.plot([0,1],[0,1],'r--')\n",
    "plt.xlim([0.0,1.0])\n",
    "plt.ylim([0.0,1.05]) \n",
    "plt.xlabel('False Positive Rate')\n",
    "plt.ylabel('True Positive Rate')\n",
    "plt.title('ROC Curve (using training data)')\n",
    "plt.legend(loc=\"lower right\")\n",
    "plt.show()"
   ]
  },
  {
   "cell_type": "markdown",
   "metadata": {},
   "source": [
    "En segundo lugar, se analizará la matriz de confusión de cada uno de los modelos junto con las métrícas de Precisión, Sensibilidad y el valor F2."
   ]
  },
  {
   "cell_type": "code",
   "execution_count": 15,
   "metadata": {},
   "outputs": [
    {
     "data": {
      "image/png": "[encoded data removed]",
      "text/plain": [
       "<Figure size 432x288 with 2 Axes>"
      ]
     },
     "metadata": {
      "needs_background": "light"
     },
     "output_type": "display_data"
    },
    {
     "name": "stdout",
     "output_type": "stream",
     "text": [
      "Precisión = 0.31\n",
      "Sensibilidad = 0.61\n",
      "F2 score = 0.68\n"
     ]
    },
    {
     "data": {
      "image/png": "[encoded data removed]",
      "text/plain": [
       "<Figure size 432x288 with 2 Axes>"
      ]
     },
     "metadata": {
      "needs_background": "light"
     },
     "output_type": "display_data"
    },
    {
     "name": "stdout",
     "output_type": "stream",
     "text": [
      "Precisión = 0.31\n",
      "Sensibilidad = 0.66\n",
      "F2 score = 0.67\n"
     ]
    },
    {
     "data": {
      "image/png": "[encoded data removed]",
      "text/plain": [
       "<Figure size 432x288 with 2 Axes>"
      ]
     },
     "metadata": {
      "needs_background": "light"
     },
     "output_type": "display_data"
    },
    {
     "name": "stdout",
     "output_type": "stream",
     "text": [
      "Precisión = 0.28\n",
      "Sensibilidad = 0.24\n",
      "F2 score = 0.74\n"
     ]
    },
    {
     "data": {
      "image/png": "[encoded data removed]",
      "text/plain": [
       "<Figure size 432x288 with 2 Axes>"
      ]
     },
     "metadata": {
      "needs_background": "light"
     },
     "output_type": "display_data"
    },
    {
     "name": "stdout",
     "output_type": "stream",
     "text": [
      "Precisión = 0.29\n",
      "Sensibilidad = 0.29\n",
      "F2 score = 0.73\n"
     ]
    }
   ],
   "source": [
    "modelos = [{'label':'Decision Tree','modelo':tr_clf},\n",
    "           {'label':'Random Forest','modelo':rf_clf},\n",
    "           {'label':'Gradient Boosting','modelo':gb_clf},\n",
    "           {'label':'XGBoost','modelo':xgb_clf}]\n",
    "\n",
    "for m in modelos:\n",
    "    modelo = m['modelo']\n",
    "    disp = plot_confusion_matrix(modelo, X_test, y_test,\n",
    "                                 cmap=plt.cm.Blues)\n",
    "    disp.ax_.set_title('Confusion Matrix: %s' % (m['label']))\n",
    "    plt.show()\n",
    "    \n",
    "    precision = precision_score(y_pred=modelo.predict(X_test),y_true=y_test)\n",
    "    recall = recall_score(y_pred=modelo.predict(X_test),y_true=y_test)\n",
    "    f2 = fbeta_score(y_pred=modelo.predict(X_test),y_true=y_test, beta=2, average='weighted')\n",
    "    print('Precisión = %0.2f' % (precision))\n",
    "    print('Sensibilidad = %0.2f' % (recall))\n",
    "    print('F2 score = %0.2f' % (f2))    "
   ]
  },
  {
   "cell_type": "markdown",
   "metadata": {},
   "source": [
    "Al explorar las curvas ROC y el AUC de los modelos se puede observar claramente que el modelo que tiene un mejor desempeño es el Random Forest y, al analizar las matrices de confusión, se confirma como modelo campeón porque es el modelo que identifica la mayor cantidad del verdaderos positivos y, por ende, minimiza los falsos negativos. \n",
    "\n",
    "Se busca minimizar la máximo la cantidad de falsos negativos ya que, al traducirlo a la práctica médica, lo que estaría haciendo el modelo es decirle al paciente que sus niveles de colesterol no están alterados, cuando si lo están, por lo que no recibiría ningún tipo de tratamiento para mitigar este padecimiento; por otro lado, los falsos negativos no afectan a los pacientes, ya que, en este caso, se le diría al paciente que tiene que hacer dieta y ejercicio para corregir estos valores, lo cual es algo benéfico para cualquier persona (con y sin Síndrome Metabólico), y se le haría (ahora si) una química sanguínea para que un médico determine los siguientes pasos.  "
   ]
  },
  {
   "cell_type": "code",
   "execution_count": 17,
   "metadata": {},
   "outputs": [],
   "source": [
    "champion_model = rf_clf"
   ]
  },
  {
   "cell_type": "markdown",
   "metadata": {},
   "source": [
    "### Umbral de probabilidad óptimo"
   ]
  },
  {
   "cell_type": "markdown",
   "metadata": {},
   "source": [
    "Una vez seleccionado el modelo campeón, lo siguinte es identificar cuál el umbral (punto de corte) de probabilidad con el cual se mejora la clasificación hecha por el modelo. Para llevar a cabo esta tarea, se calculan las métricas de precisión usando diferentes puntos de corte. "
   ]
  },
  {
   "cell_type": "code",
   "execution_count": 18,
   "metadata": {},
   "outputs": [],
   "source": [
    "fpr, tpr, thresholds = roc_curve(y_test, champion_model.predict_proba(X_test)[:,1])\n",
    "predicted_proba = champion_model.predict_proba(X_test)[:,1]"
   ]
  },
  {
   "cell_type": "code",
   "execution_count": 19,
   "metadata": {},
   "outputs": [
    {
     "data": {
      "text/html": [
       "<div>\n",
       "<style scoped>\n",
       "    .dataframe tbody tr th:only-of-type {\n",
       "        vertical-align: middle;\n",
       "    }\n",
       "\n",
       "    .dataframe tbody tr th {\n",
       "        vertical-align: top;\n",
       "    }\n",
       "\n",
       "    .dataframe thead th {\n",
       "        text-align: right;\n",
       "    }\n",
       "</style>\n",
       "<table border=\"1\" class=\"dataframe\">\n",
       "  <thead>\n",
       "    <tr style=\"text-align: right;\">\n",
       "      <th></th>\n",
       "      <th>thresholds</th>\n",
       "      <th>Precisión</th>\n",
       "      <th>Sensibilidad</th>\n",
       "      <th>Fscore</th>\n",
       "      <th>AUC</th>\n",
       "    </tr>\n",
       "  </thead>\n",
       "  <tbody>\n",
       "    <tr>\n",
       "      <th>111</th>\n",
       "      <td>0.442818</td>\n",
       "      <td>0.290323</td>\n",
       "      <td>0.826531</td>\n",
       "      <td>0.591813</td>\n",
       "      <td>0.683033</td>\n",
       "    </tr>\n",
       "    <tr>\n",
       "      <th>112</th>\n",
       "      <td>0.436317</td>\n",
       "      <td>0.287719</td>\n",
       "      <td>0.836735</td>\n",
       "      <td>0.583285</td>\n",
       "      <td>0.682321</td>\n",
       "    </tr>\n",
       "    <tr>\n",
       "      <th>116</th>\n",
       "      <td>0.430056</td>\n",
       "      <td>0.285223</td>\n",
       "      <td>0.846939</td>\n",
       "      <td>0.574697</td>\n",
       "      <td>0.681609</td>\n",
       "    </tr>\n",
       "    <tr>\n",
       "      <th>113</th>\n",
       "      <td>0.435283</td>\n",
       "      <td>0.286713</td>\n",
       "      <td>0.836735</td>\n",
       "      <td>0.581284</td>\n",
       "      <td>0.681158</td>\n",
       "    </tr>\n",
       "    <tr>\n",
       "      <th>117</th>\n",
       "      <td>0.427909</td>\n",
       "      <td>0.284247</td>\n",
       "      <td>0.846939</td>\n",
       "      <td>0.572686</td>\n",
       "      <td>0.680446</td>\n",
       "    </tr>\n",
       "    <tr>\n",
       "      <th>110</th>\n",
       "      <td>0.443284</td>\n",
       "      <td>0.288809</td>\n",
       "      <td>0.816327</td>\n",
       "      <td>0.592339</td>\n",
       "      <td>0.679093</td>\n",
       "    </tr>\n",
       "    <tr>\n",
       "      <th>114</th>\n",
       "      <td>0.433126</td>\n",
       "      <td>0.284722</td>\n",
       "      <td>0.836735</td>\n",
       "      <td>0.577278</td>\n",
       "      <td>0.678832</td>\n",
       "    </tr>\n",
       "    <tr>\n",
       "      <th>115</th>\n",
       "      <td>0.432086</td>\n",
       "      <td>0.283737</td>\n",
       "      <td>0.836735</td>\n",
       "      <td>0.575272</td>\n",
       "      <td>0.677670</td>\n",
       "    </tr>\n",
       "    <tr>\n",
       "      <th>108</th>\n",
       "      <td>0.445445</td>\n",
       "      <td>0.289377</td>\n",
       "      <td>0.806122</td>\n",
       "      <td>0.596822</td>\n",
       "      <td>0.677480</td>\n",
       "    </tr>\n",
       "    <tr>\n",
       "      <th>109</th>\n",
       "      <td>0.445046</td>\n",
       "      <td>0.288321</td>\n",
       "      <td>0.806122</td>\n",
       "      <td>0.594840</td>\n",
       "      <td>0.676317</td>\n",
       "    </tr>\n",
       "  </tbody>\n",
       "</table>\n",
       "</div>"
      ],
      "text/plain": [
       "     thresholds  Precisión  Sensibilidad    Fscore       AUC\n",
       "111    0.442818   0.290323      0.826531  0.591813  0.683033\n",
       "112    0.436317   0.287719      0.836735  0.583285  0.682321\n",
       "116    0.430056   0.285223      0.846939  0.574697  0.681609\n",
       "113    0.435283   0.286713      0.836735  0.581284  0.681158\n",
       "117    0.427909   0.284247      0.846939  0.572686  0.680446\n",
       "110    0.443284   0.288809      0.816327  0.592339  0.679093\n",
       "114    0.433126   0.284722      0.836735  0.577278  0.678832\n",
       "115    0.432086   0.283737      0.836735  0.575272  0.677670\n",
       "108    0.445445   0.289377      0.806122  0.596822  0.677480\n",
       "109    0.445046   0.288321      0.806122  0.594840  0.676317"
      ]
     },
     "execution_count": 19,
     "metadata": {},
     "output_type": "execute_result"
    }
   ],
   "source": [
    "precision_ls = []\n",
    "recall_ls = []\n",
    "fscore_ls = []\n",
    "auc_ls = []\n",
    "\n",
    "for thres in thresholds:\n",
    "    y_pred = np.where(predicted_proba>thres,1,0)\n",
    "    precision_ls.append(precision_score(y_true=y_test, y_pred=y_pred, zero_division=0))\n",
    "    recall_ls.append(recall_score(y_true=y_test, y_pred=y_pred))\n",
    "    fscore_ls.append(fbeta_score(y_pred=y_pred, y_true=y_test, beta=2, average='weighted'))\n",
    "    auc_ls.append(roc_auc_score(y_true=y_test, y_score=y_pred))\n",
    "    \n",
    "thresholding = pd.concat([pd.Series(thresholds), pd.Series(precision_ls),\n",
    "                         pd.Series(recall_ls),pd.Series(fscore_ls), pd.Series(auc_ls)],\n",
    "                        axis=1)\n",
    "\n",
    "thresholding.columns = ['thresholds', 'Precisión','Sensibilidad','Fscore','AUC']\n",
    "thresholding.sort_values(by='AUC', ascending=False, inplace=True)\n",
    "thresholding.head(n=10)"
   ]
  },
  {
   "cell_type": "markdown",
   "metadata": {},
   "source": [
    "Recordemos que la intención es minimizar la cantidad de falsos negativos, en otras palabras, se busca maximizar la Sensibilidad del modelo. De acuerdo con la tabla anterior, el umbral 116 es el punto de corte que ayuda a tener una alta sensibilidad sin sacrificar demasiado la precisión y manteniendo al modelo con un buen desempeño (buen ROC AUC)."
   ]
  },
  {
   "cell_type": "code",
   "execution_count": 20,
   "metadata": {},
   "outputs": [],
   "source": [
    "umbral = thresholds[116]"
   ]
  },
  {
   "cell_type": "code",
   "execution_count": 22,
   "metadata": {},
   "outputs": [
    {
     "data": {
      "image/png": "[encoded data removed]",
      "text/plain": [
       "<Figure size 432x288 with 2 Axes>"
      ]
     },
     "metadata": {
      "needs_background": "light"
     },
     "output_type": "display_data"
    },
    {
     "name": "stdout",
     "output_type": "stream",
     "text": [
      "Precisión = 0.29\n",
      "Sensibilidad = 0.85\n",
      "F2 score = 0.57\n",
      "ROC AUC = 0.68\n"
     ]
    }
   ],
   "source": [
    "y_pred_final = np.where(predicted_proba>umbral,1,0)\n",
    "\n",
    "precision = precision_score(y_pred=y_pred_final, y_true=y_test)\n",
    "recall = recall_score(y_pred=y_pred_final, y_true=y_test)\n",
    "f2 = fbeta_score(y_pred=y_pred_final, y_true=y_test, beta=2, average='weighted')\n",
    "auc = roc_auc_score(y_true=y_test, y_score=y_pred_final)\n",
    "matriz = confusion_matrix(y_true=y_test, y_pred=y_pred_final)\n",
    "\n",
    "true_label = ['0','1']\n",
    "predicted_label = ['0','1']\n",
    "\n",
    "fig, ax = plt.subplots()\n",
    "\n",
    "im, cbar = heatmap(matriz, true_label, true_label, ax=ax,\n",
    "                   cmap=plt.cm.Blues, cbarlabel=\"\")\n",
    "texts = annotate_heatmap(im, valfmt=\"{x:.0f}\")\n",
    "\n",
    "fig.tight_layout()\n",
    "plt.xlabel('Predicted label')\n",
    "plt.ylabel('True label')\n",
    "plt.title('Confusion Matrix: Random Forest')\n",
    "plt.show()\n",
    "\n",
    "print('Precisión = %0.2f' % (precision))\n",
    "print('Sensibilidad = %0.2f' % (recall))\n",
    "print('F2 score = %0.2f' % (f2))  \n",
    "print('ROC AUC = %0.2f' % (auc))  "
   ]
  },
  {
   "cell_type": "markdown",
   "metadata": {},
   "source": [
    "## Datos para ROI"
   ]
  },
  {
   "cell_type": "markdown",
   "metadata": {},
   "source": [
    "Para hacer el ejercicio de ROI se utilizará un subconjunto de los datos originales (el 10%), los cuales serán calificados por cada uno de los modelos campeones, en este caso, el modelo campeón para detectar si el Colesterol HDL del paciente está alterado o no. La finalidad es, dentro de las conclusiones, determinar la relación costo-beneficio de usar este tipo de modelos para diagnosticar la prevalencia del Síndrome Metabólico en jóvenes mexicanos."
   ]
  },
  {
   "cell_type": "code",
   "execution_count": 23,
   "metadata": {},
   "outputs": [],
   "source": [
    "datos_roi = pd.read_csv('C:/Users/gusta/OneDrive/Documentos/Tesis/Datos/Datos_muestra.csv') \n",
    "X_roi = datos_roi[var_predictivas] \n",
    "y_roi = datos_roi['TARGET_HDL'] "
   ]
  },
  {
   "cell_type": "markdown",
   "metadata": {},
   "source": [
    "Se calculan las probabilidades y, haciendo uso del umbral óptimo, se hace la clasificación binaria:"
   ]
  },
  {
   "cell_type": "code",
   "execution_count": 24,
   "metadata": {},
   "outputs": [],
   "source": [
    "predicted_proba = champion_model.predict_proba(X_roi)[:,1]\n",
    "predicted_class = np.where(predicted_proba>umbral,1,0)"
   ]
  },
  {
   "cell_type": "markdown",
   "metadata": {},
   "source": [
    "Se calcula la matriz de confusión junto con los estadísticos de precisión:"
   ]
  },
  {
   "cell_type": "code",
   "execution_count": 25,
   "metadata": {},
   "outputs": [
    {
     "data": {
      "image/png": "[encoded data removed]",
      "text/plain": [
       "<Figure size 432x288 with 2 Axes>"
      ]
     },
     "metadata": {
      "needs_background": "light"
     },
     "output_type": "display_data"
    },
    {
     "name": "stdout",
     "output_type": "stream",
     "text": [
      "Precisión = 0.32\n",
      "Sensibilidad = 0.91\n",
      "F2 score = 0.61\n",
      "ROC AUC = 0.73\n"
     ]
    }
   ],
   "source": [
    "precision = precision_score(y_pred=predicted_class, y_true=y_roi)\n",
    "recall = recall_score(y_pred=predicted_class, y_true=y_roi)\n",
    "f2 = fbeta_score(y_pred=predicted_class, y_true=y_roi, beta=2, average='weighted')\n",
    "auc = roc_auc_score(y_true=y_roi, y_score=predicted_class)\n",
    "matriz = confusion_matrix(y_true=y_roi, y_pred=predicted_class)\n",
    "\n",
    "true_label = ['0','1']\n",
    "predicted_label = ['0','1']\n",
    "\n",
    "fig, ax = plt.subplots()\n",
    "\n",
    "im, cbar = heatmap(matriz, true_label, true_label, ax=ax,\n",
    "                   cmap=plt.cm.Blues, cbarlabel=\"\")\n",
    "texts = annotate_heatmap(im, valfmt=\"{x:.0f}\")\n",
    "\n",
    "fig.tight_layout()\n",
    "plt.xlabel('Predicted label')\n",
    "plt.ylabel('True label')\n",
    "plt.title('Confusion Matrix: ROI')\n",
    "plt.show()\n",
    "\n",
    "print('Precisión = %0.2f' % (precision))\n",
    "print('Sensibilidad = %0.2f' % (recall))\n",
    "print('F2 score = %0.2f' % (f2))  \n",
    "print('ROC AUC = %0.2f' % (auc)) "
   ]
  },
  {
   "cell_type": "markdown",
   "metadata": {},
   "source": [
    "Se guarda la clasificación hecha por el modelo para que sirva de input al modelo de regresión:"
   ]
  },
  {
   "cell_type": "code",
   "execution_count": 26,
   "metadata": {},
   "outputs": [],
   "source": [
    "datos_roi['HDL_Class'] = np.where(predicted_proba>umbral,1,0)\n",
    "\n",
    "datos_roi.to_csv('C:/Users/gusta/OneDrive/Documentos/Tesis/Datos/Datos_roi.csv',\n",
    "                 index=False)"
   ]
  },
  {
   "cell_type": "markdown",
   "metadata": {},
   "source": [
    "## Interpretación del árbol de decisión"
   ]
  },
  {
   "cell_type": "markdown",
   "metadata": {},
   "source": [
    "Por último, para ayudar a la interpretación del funcionamiento de los modelos, se muestra el árbol de decisión construido."
   ]
  },
  {
   "cell_type": "code",
   "execution_count": 29,
   "metadata": {},
   "outputs": [
    {
     "data": {
      "image/svg+xml": [
       "<?xml version=\"1.0\" encoding=\"UTF-8\" standalone=\"no\"?>\r\n",
       "<!DOCTYPE svg PUBLIC \"-//W3C//DTD SVG 1.1//EN\"\r\n",
       " \"http://www.w3.org/Graphics/SVG/1.1/DTD/svg11.dtd\">\r\n",
       "<!-- Generated by graphviz version 2.38.0 (20140413.2041)\r\n",
       " -->\r\n",
       "<!-- Title: Tree Pages: 1 -->\r\n",
       "<svg width=\"1318pt\" height=\"685pt\"\r\n",
       " viewBox=\"0.00 0.00 1318.00 685.00\" xmlns=\"http://www.w3.org/2000/svg\" xmlns:xlink=\"http://www.w3.org/1999/xlink\">\r\n",
       "<g id=\"graph0\" class=\"graph\" transform=\"scale(1 1) rotate(0) translate(4 681)\">\r\n",
       "<title>Tree</title>\r\n",
       "<polygon fill=\"white\" stroke=\"none\" points=\"-4,4 -4,-681 1314,-681 1314,4 -4,4\"/>\r\n",
       "<!-- 0 -->\r\n",
       "<g id=\"node1\" class=\"node\"><title>0</title>\r\n",
       "<polygon fill=\"none\" stroke=\"black\" points=\"696.5,-677 557.5,-677 557.5,-609 696.5,-609 696.5,-677\"/>\r\n",
       "<text text-anchor=\"middle\" x=\"627\" y=\"-661.8\" font-family=\"Times New Roman,serif\" font-size=\"14.00\">CC &lt;= 82.013</text>\r\n",
       "<text text-anchor=\"middle\" x=\"627\" y=\"-646.8\" font-family=\"Times New Roman,serif\" font-size=\"14.00\">entropy = 1.0</text>\r\n",
       "<text text-anchor=\"middle\" x=\"627\" y=\"-631.8\" font-family=\"Times New Roman,serif\" font-size=\"14.00\">samples = 1474</text>\r\n",
       "<text text-anchor=\"middle\" x=\"627\" y=\"-616.8\" font-family=\"Times New Roman,serif\" font-size=\"14.00\">value = [737.0, 737.0]</text>\r\n",
       "</g>\r\n",
       "<!-- 1 -->\r\n",
       "<g id=\"node2\" class=\"node\"><title>1</title>\r\n",
       "<polygon fill=\"none\" stroke=\"black\" points=\"579,-573 413,-573 413,-505 579,-505 579,-573\"/>\r\n",
       "<text text-anchor=\"middle\" x=\"496\" y=\"-557.8\" font-family=\"Times New Roman,serif\" font-size=\"14.00\">CC &lt;= 71.029</text>\r\n",
       "<text text-anchor=\"middle\" x=\"496\" y=\"-542.8\" font-family=\"Times New Roman,serif\" font-size=\"14.00\">entropy = 0.911</text>\r\n",
       "<text text-anchor=\"middle\" x=\"496\" y=\"-527.8\" font-family=\"Times New Roman,serif\" font-size=\"14.00\">samples = 813</text>\r\n",
       "<text text-anchor=\"middle\" x=\"496\" y=\"-512.8\" font-family=\"Times New Roman,serif\" font-size=\"14.00\">value = [488.857, 237.002]</text>\r\n",
       "</g>\r\n",
       "<!-- 0&#45;&gt;1 -->\r\n",
       "<g id=\"edge1\" class=\"edge\"><title>0&#45;&gt;1</title>\r\n",
       "<path fill=\"none\" stroke=\"black\" d=\"M584.468,-608.884C572.456,-599.531 559.264,-589.259 546.818,-579.568\"/>\r\n",
       "<polygon fill=\"black\" stroke=\"black\" points=\"548.807,-576.681 538.767,-573.299 544.507,-582.205 548.807,-576.681\"/>\r\n",
       "<text text-anchor=\"middle\" x=\"541.855\" y=\"-594.408\" font-family=\"Times New Roman,serif\" font-size=\"14.00\">True</text>\r\n",
       "</g>\r\n",
       "<!-- 16 -->\r\n",
       "<g id=\"node17\" class=\"node\"><title>16</title>\r\n",
       "<polygon fill=\"none\" stroke=\"black\" points=\"841,-573 675,-573 675,-505 841,-505 841,-573\"/>\r\n",
       "<text text-anchor=\"middle\" x=\"758\" y=\"-557.8\" font-family=\"Times New Roman,serif\" font-size=\"14.00\">VFA &lt;= 100.191</text>\r\n",
       "<text text-anchor=\"middle\" x=\"758\" y=\"-542.8\" font-family=\"Times New Roman,serif\" font-size=\"14.00\">entropy = 0.917</text>\r\n",
       "<text text-anchor=\"middle\" x=\"758\" y=\"-527.8\" font-family=\"Times New Roman,serif\" font-size=\"14.00\">samples = 661</text>\r\n",
       "<text text-anchor=\"middle\" x=\"758\" y=\"-512.8\" font-family=\"Times New Roman,serif\" font-size=\"14.00\">value = [248.143, 499.998]</text>\r\n",
       "</g>\r\n",
       "<!-- 0&#45;&gt;16 -->\r\n",
       "<g id=\"edge16\" class=\"edge\"><title>0&#45;&gt;16</title>\r\n",
       "<path fill=\"none\" stroke=\"black\" d=\"M669.532,-608.884C681.544,-599.531 694.736,-589.259 707.182,-579.568\"/>\r\n",
       "<polygon fill=\"black\" stroke=\"black\" points=\"709.493,-582.205 715.233,-573.299 705.193,-576.681 709.493,-582.205\"/>\r\n",
       "<text text-anchor=\"middle\" x=\"712.145\" y=\"-594.408\" font-family=\"Times New Roman,serif\" font-size=\"14.00\">False</text>\r\n",
       "</g>\r\n",
       "<!-- 2 -->\r\n",
       "<g id=\"node3\" class=\"node\"><title>2</title>\r\n",
       "<polygon fill=\"none\" stroke=\"black\" points=\"316.5,-469 157.5,-469 157.5,-401 316.5,-401 316.5,-469\"/>\r\n",
       "<text text-anchor=\"middle\" x=\"237\" y=\"-453.8\" font-family=\"Times New Roman,serif\" font-size=\"14.00\">PAM &lt;= 79.667</text>\r\n",
       "<text text-anchor=\"middle\" x=\"237\" y=\"-438.8\" font-family=\"Times New Roman,serif\" font-size=\"14.00\">entropy = 0.467</text>\r\n",
       "<text text-anchor=\"middle\" x=\"237\" y=\"-423.8\" font-family=\"Times New Roman,serif\" font-size=\"14.00\">samples = 236</text>\r\n",
       "<text text-anchor=\"middle\" x=\"237\" y=\"-408.8\" font-family=\"Times New Roman,serif\" font-size=\"14.00\">value = [166.419, 18.349]</text>\r\n",
       "</g>\r\n",
       "<!-- 1&#45;&gt;2 -->\r\n",
       "<g id=\"edge2\" class=\"edge\"><title>1&#45;&gt;2</title>\r\n",
       "<path fill=\"none\" stroke=\"black\" d=\"M412.982,-505.306C385.332,-494.416 354.422,-482.243 326.315,-471.174\"/>\r\n",
       "<polygon fill=\"black\" stroke=\"black\" points=\"327.486,-467.874 316.899,-467.466 324.921,-474.387 327.486,-467.874\"/>\r\n",
       "</g>\r\n",
       "<!-- 5 -->\r\n",
       "<g id=\"node6\" class=\"node\"><title>5</title>\r\n",
       "<polygon fill=\"none\" stroke=\"black\" points=\"579,-469 413,-469 413,-401 579,-401 579,-469\"/>\r\n",
       "<text text-anchor=\"middle\" x=\"496\" y=\"-453.8\" font-family=\"Times New Roman,serif\" font-size=\"14.00\">PAM &lt;= 74.083</text>\r\n",
       "<text text-anchor=\"middle\" x=\"496\" y=\"-438.8\" font-family=\"Times New Roman,serif\" font-size=\"14.00\">entropy = 0.973</text>\r\n",
       "<text text-anchor=\"middle\" x=\"496\" y=\"-423.8\" font-family=\"Times New Roman,serif\" font-size=\"14.00\">samples = 577</text>\r\n",
       "<text text-anchor=\"middle\" x=\"496\" y=\"-408.8\" font-family=\"Times New Roman,serif\" font-size=\"14.00\">value = [322.437, 218.654]</text>\r\n",
       "</g>\r\n",
       "<!-- 1&#45;&gt;5 -->\r\n",
       "<g id=\"edge5\" class=\"edge\"><title>1&#45;&gt;5</title>\r\n",
       "<path fill=\"none\" stroke=\"black\" d=\"M496,-504.884C496,-496.778 496,-487.982 496,-479.472\"/>\r\n",
       "<polygon fill=\"black\" stroke=\"black\" points=\"499.5,-479.299 496,-469.299 492.5,-479.299 499.5,-479.299\"/>\r\n",
       "</g>\r\n",
       "<!-- 3 -->\r\n",
       "<g id=\"node4\" class=\"node\"><title>3</title>\r\n",
       "<polygon fill=\"none\" stroke=\"black\" points=\"146,-357.5 0,-357.5 0,-304.5 146,-304.5 146,-357.5\"/>\r\n",
       "<text text-anchor=\"middle\" x=\"73\" y=\"-342.3\" font-family=\"Times New Roman,serif\" font-size=\"14.00\">entropy = 0.128</text>\r\n",
       "<text text-anchor=\"middle\" x=\"73\" y=\"-327.3\" font-family=\"Times New Roman,serif\" font-size=\"14.00\">samples = 116</text>\r\n",
       "<text text-anchor=\"middle\" x=\"73\" y=\"-312.3\" font-family=\"Times New Roman,serif\" font-size=\"14.00\">value = [85.439, 1.529]</text>\r\n",
       "</g>\r\n",
       "<!-- 2&#45;&gt;3 -->\r\n",
       "<g id=\"edge3\" class=\"edge\"><title>2&#45;&gt;3</title>\r\n",
       "<path fill=\"none\" stroke=\"black\" d=\"M183.754,-400.884C164.126,-388.676 141.981,-374.903 122.681,-362.899\"/>\r\n",
       "<polygon fill=\"black\" stroke=\"black\" points=\"124.372,-359.829 114.032,-357.52 120.675,-365.773 124.372,-359.829\"/>\r\n",
       "</g>\r\n",
       "<!-- 4 -->\r\n",
       "<g id=\"node5\" class=\"node\"><title>4</title>\r\n",
       "<polygon fill=\"none\" stroke=\"black\" points=\"310,-357.5 164,-357.5 164,-304.5 310,-304.5 310,-357.5\"/>\r\n",
       "<text text-anchor=\"middle\" x=\"237\" y=\"-342.3\" font-family=\"Times New Roman,serif\" font-size=\"14.00\">entropy = 0.662</text>\r\n",
       "<text text-anchor=\"middle\" x=\"237\" y=\"-327.3\" font-family=\"Times New Roman,serif\" font-size=\"14.00\">samples = 120</text>\r\n",
       "<text text-anchor=\"middle\" x=\"237\" y=\"-312.3\" font-family=\"Times New Roman,serif\" font-size=\"14.00\">value = [80.981, 16.82]</text>\r\n",
       "</g>\r\n",
       "<!-- 2&#45;&gt;4 -->\r\n",
       "<g id=\"edge4\" class=\"edge\"><title>2&#45;&gt;4</title>\r\n",
       "<path fill=\"none\" stroke=\"black\" d=\"M237,-400.884C237,-390.326 237,-378.597 237,-367.854\"/>\r\n",
       "<polygon fill=\"black\" stroke=\"black\" points=\"240.5,-367.52 237,-357.52 233.5,-367.52 240.5,-367.52\"/>\r\n",
       "</g>\r\n",
       "<!-- 6 -->\r\n",
       "<g id=\"node7\" class=\"node\"><title>6</title>\r\n",
       "<polygon fill=\"none\" stroke=\"black\" points=\"480,-357.5 328,-357.5 328,-304.5 480,-304.5 480,-357.5\"/>\r\n",
       "<text text-anchor=\"middle\" x=\"404\" y=\"-342.3\" font-family=\"Times New Roman,serif\" font-size=\"14.00\">entropy = 0.621</text>\r\n",
       "<text text-anchor=\"middle\" x=\"404\" y=\"-327.3\" font-family=\"Times New Roman,serif\" font-size=\"14.00\">samples = 98</text>\r\n",
       "<text text-anchor=\"middle\" x=\"404\" y=\"-312.3\" font-family=\"Times New Roman,serif\" font-size=\"14.00\">value = [66.865, 12.232]</text>\r\n",
       "</g>\r\n",
       "<!-- 5&#45;&gt;6 -->\r\n",
       "<g id=\"edge6\" class=\"edge\"><title>5&#45;&gt;6</title>\r\n",
       "<path fill=\"none\" stroke=\"black\" d=\"M466.13,-400.884C455.814,-389.446 444.258,-376.634 433.936,-365.19\"/>\r\n",
       "<polygon fill=\"black\" stroke=\"black\" points=\"436.315,-362.601 427.018,-357.52 431.117,-367.29 436.315,-362.601\"/>\r\n",
       "</g>\r\n",
       "<!-- 7 -->\r\n",
       "<g id=\"node8\" class=\"node\"><title>7</title>\r\n",
       "<polygon fill=\"none\" stroke=\"black\" points=\"664,-365 498,-365 498,-297 664,-297 664,-365\"/>\r\n",
       "<text text-anchor=\"middle\" x=\"581\" y=\"-349.8\" font-family=\"Times New Roman,serif\" font-size=\"14.00\">TALLA &lt;= 169.996</text>\r\n",
       "<text text-anchor=\"middle\" x=\"581\" y=\"-334.8\" font-family=\"Times New Roman,serif\" font-size=\"14.00\">entropy = 0.992</text>\r\n",
       "<text text-anchor=\"middle\" x=\"581\" y=\"-319.8\" font-family=\"Times New Roman,serif\" font-size=\"14.00\">samples = 479</text>\r\n",
       "<text text-anchor=\"middle\" x=\"581\" y=\"-304.8\" font-family=\"Times New Roman,serif\" font-size=\"14.00\">value = [255.573, 206.421]</text>\r\n",
       "</g>\r\n",
       "<!-- 5&#45;&gt;7 -->\r\n",
       "<g id=\"edge7\" class=\"edge\"><title>5&#45;&gt;7</title>\r\n",
       "<path fill=\"none\" stroke=\"black\" d=\"M523.597,-400.884C530.946,-392.065 538.975,-382.43 546.637,-373.235\"/>\r\n",
       "<polygon fill=\"black\" stroke=\"black\" points=\"549.537,-375.222 553.251,-365.299 544.16,-370.741 549.537,-375.222\"/>\r\n",
       "</g>\r\n",
       "<!-- 8 -->\r\n",
       "<g id=\"node9\" class=\"node\"><title>8</title>\r\n",
       "<polygon fill=\"none\" stroke=\"black\" points=\"539,-261 373,-261 373,-193 539,-193 539,-261\"/>\r\n",
       "<text text-anchor=\"middle\" x=\"456\" y=\"-245.8\" font-family=\"Times New Roman,serif\" font-size=\"14.00\">CC_MUSC &lt;= 7.406</text>\r\n",
       "<text text-anchor=\"middle\" x=\"456\" y=\"-230.8\" font-family=\"Times New Roman,serif\" font-size=\"14.00\">entropy = 0.999</text>\r\n",
       "<text text-anchor=\"middle\" x=\"456\" y=\"-215.8\" font-family=\"Times New Roman,serif\" font-size=\"14.00\">samples = 388</text>\r\n",
       "<text text-anchor=\"middle\" x=\"456\" y=\"-200.8\" font-family=\"Times New Roman,serif\" font-size=\"14.00\">value = [197.623, 186.544]</text>\r\n",
       "</g>\r\n",
       "<!-- 7&#45;&gt;8 -->\r\n",
       "<g id=\"edge8\" class=\"edge\"><title>7&#45;&gt;8</title>\r\n",
       "<path fill=\"none\" stroke=\"black\" d=\"M540.416,-296.884C529.064,-287.62 516.606,-277.455 504.83,-267.845\"/>\r\n",
       "<polygon fill=\"black\" stroke=\"black\" points=\"506.769,-264.91 496.808,-261.299 502.343,-270.333 506.769,-264.91\"/>\r\n",
       "</g>\r\n",
       "<!-- 15 -->\r\n",
       "<g id=\"node16\" class=\"node\"><title>15</title>\r\n",
       "<polygon fill=\"none\" stroke=\"black\" points=\"703,-253.5 557,-253.5 557,-200.5 703,-200.5 703,-253.5\"/>\r\n",
       "<text text-anchor=\"middle\" x=\"630\" y=\"-238.3\" font-family=\"Times New Roman,serif\" font-size=\"14.00\">entropy = 0.82</text>\r\n",
       "<text text-anchor=\"middle\" x=\"630\" y=\"-223.3\" font-family=\"Times New Roman,serif\" font-size=\"14.00\">samples = 91</text>\r\n",
       "<text text-anchor=\"middle\" x=\"630\" y=\"-208.3\" font-family=\"Times New Roman,serif\" font-size=\"14.00\">value = [57.95, 19.878]</text>\r\n",
       "</g>\r\n",
       "<!-- 7&#45;&gt;15 -->\r\n",
       "<g id=\"edge15\" class=\"edge\"><title>7&#45;&gt;15</title>\r\n",
       "<path fill=\"none\" stroke=\"black\" d=\"M596.909,-296.884C602.139,-285.996 607.968,-273.863 613.258,-262.85\"/>\r\n",
       "<polygon fill=\"black\" stroke=\"black\" points=\"616.565,-264.049 617.74,-253.52 610.255,-261.018 616.565,-264.049\"/>\r\n",
       "</g>\r\n",
       "<!-- 9 -->\r\n",
       "<g id=\"node10\" class=\"node\"><title>9</title>\r\n",
       "<polygon fill=\"none\" stroke=\"black\" points=\"394,-157 242,-157 242,-89 394,-89 394,-157\"/>\r\n",
       "<text text-anchor=\"middle\" x=\"318\" y=\"-141.8\" font-family=\"Times New Roman,serif\" font-size=\"14.00\">PAM &lt;= 80.517</text>\r\n",
       "<text text-anchor=\"middle\" x=\"318\" y=\"-126.8\" font-family=\"Times New Roman,serif\" font-size=\"14.00\">entropy = 0.939</text>\r\n",
       "<text text-anchor=\"middle\" x=\"318\" y=\"-111.8\" font-family=\"Times New Roman,serif\" font-size=\"14.00\">samples = 161</text>\r\n",
       "<text text-anchor=\"middle\" x=\"318\" y=\"-96.8\" font-family=\"Times New Roman,serif\" font-size=\"14.00\">value = [94.354, 51.988]</text>\r\n",
       "</g>\r\n",
       "<!-- 8&#45;&gt;9 -->\r\n",
       "<g id=\"edge9\" class=\"edge\"><title>8&#45;&gt;9</title>\r\n",
       "<path fill=\"none\" stroke=\"black\" d=\"M411.195,-192.884C398.421,-183.442 384.38,-173.064 371.159,-163.292\"/>\r\n",
       "<polygon fill=\"black\" stroke=\"black\" points=\"373.174,-160.429 363.052,-157.299 369.013,-166.058 373.174,-160.429\"/>\r\n",
       "</g>\r\n",
       "<!-- 12 -->\r\n",
       "<g id=\"node13\" class=\"node\"><title>12</title>\r\n",
       "<polygon fill=\"none\" stroke=\"black\" points=\"578,-157 412,-157 412,-89 578,-89 578,-157\"/>\r\n",
       "<text text-anchor=\"middle\" x=\"495\" y=\"-141.8\" font-family=\"Times New Roman,serif\" font-size=\"14.00\">PAM &lt;= 84.139</text>\r\n",
       "<text text-anchor=\"middle\" x=\"495\" y=\"-126.8\" font-family=\"Times New Roman,serif\" font-size=\"14.00\">entropy = 0.987</text>\r\n",
       "<text text-anchor=\"middle\" x=\"495\" y=\"-111.8\" font-family=\"Times New Roman,serif\" font-size=\"14.00\">samples = 227</text>\r\n",
       "<text text-anchor=\"middle\" x=\"495\" y=\"-96.8\" font-family=\"Times New Roman,serif\" font-size=\"14.00\">value = [103.269, 134.556]</text>\r\n",
       "</g>\r\n",
       "<!-- 8&#45;&gt;12 -->\r\n",
       "<g id=\"edge12\" class=\"edge\"><title>8&#45;&gt;12</title>\r\n",
       "<path fill=\"none\" stroke=\"black\" d=\"M468.662,-192.884C471.83,-184.6 475.272,-175.595 478.593,-166.911\"/>\r\n",
       "<polygon fill=\"black\" stroke=\"black\" points=\"481.966,-167.89 482.268,-157.299 475.427,-165.39 481.966,-167.89\"/>\r\n",
       "</g>\r\n",
       "<!-- 10 -->\r\n",
       "<g id=\"node11\" class=\"node\"><title>10</title>\r\n",
       "<polygon fill=\"none\" stroke=\"black\" points=\"226,-53 74,-53 74,-0 226,-0 226,-53\"/>\r\n",
       "<text text-anchor=\"middle\" x=\"150\" y=\"-37.8\" font-family=\"Times New Roman,serif\" font-size=\"14.00\">entropy = 1.0</text>\r\n",
       "<text text-anchor=\"middle\" x=\"150\" y=\"-22.8\" font-family=\"Times New Roman,serif\" font-size=\"14.00\">samples = 78</text>\r\n",
       "<text text-anchor=\"middle\" x=\"150\" y=\"-7.8\" font-family=\"Times New Roman,serif\" font-size=\"14.00\">value = [39.376, 38.226]</text>\r\n",
       "</g>\r\n",
       "<!-- 9&#45;&gt;10 -->\r\n",
       "<g id=\"edge10\" class=\"edge\"><title>9&#45;&gt;10</title>\r\n",
       "<path fill=\"none\" stroke=\"black\" d=\"M259.242,-88.9485C241.434,-78.9318 221.959,-67.9767 204.447,-58.1263\"/>\r\n",
       "<polygon fill=\"black\" stroke=\"black\" points=\"205.919,-54.9388 195.487,-53.0867 202.487,-61.0399 205.919,-54.9388\"/>\r\n",
       "</g>\r\n",
       "<!-- 11 -->\r\n",
       "<g id=\"node12\" class=\"node\"><title>11</title>\r\n",
       "<polygon fill=\"none\" stroke=\"black\" points=\"396,-53 244,-53 244,-0 396,-0 396,-53\"/>\r\n",
       "<text text-anchor=\"middle\" x=\"320\" y=\"-37.8\" font-family=\"Times New Roman,serif\" font-size=\"14.00\">entropy = 0.722</text>\r\n",
       "<text text-anchor=\"middle\" x=\"320\" y=\"-22.8\" font-family=\"Times New Roman,serif\" font-size=\"14.00\">samples = 83</text>\r\n",
       "<text text-anchor=\"middle\" x=\"320\" y=\"-7.8\" font-family=\"Times New Roman,serif\" font-size=\"14.00\">value = [54.978, 13.761]</text>\r\n",
       "</g>\r\n",
       "<!-- 9&#45;&gt;11 -->\r\n",
       "<g id=\"edge11\" class=\"edge\"><title>9&#45;&gt;11</title>\r\n",
       "<path fill=\"none\" stroke=\"black\" d=\"M318.7,-88.9485C318.874,-80.7153 319.061,-71.848 319.238,-63.4814\"/>\r\n",
       "<polygon fill=\"black\" stroke=\"black\" points=\"322.743,-63.3086 319.455,-53.2367 315.744,-63.1604 322.743,-63.3086\"/>\r\n",
       "</g>\r\n",
       "<!-- 13 -->\r\n",
       "<g id=\"node14\" class=\"node\"><title>13</title>\r\n",
       "<polygon fill=\"none\" stroke=\"black\" points=\"568,-53 416,-53 416,-0 568,-0 568,-53\"/>\r\n",
       "<text text-anchor=\"middle\" x=\"492\" y=\"-37.8\" font-family=\"Times New Roman,serif\" font-size=\"14.00\">entropy = 0.995</text>\r\n",
       "<text text-anchor=\"middle\" x=\"492\" y=\"-22.8\" font-family=\"Times New Roman,serif\" font-size=\"14.00\">samples = 113</text>\r\n",
       "<text text-anchor=\"middle\" x=\"492\" y=\"-7.8\" font-family=\"Times New Roman,serif\" font-size=\"14.00\">value = [59.435, 50.459]</text>\r\n",
       "</g>\r\n",
       "<!-- 12&#45;&gt;13 -->\r\n",
       "<g id=\"edge13\" class=\"edge\"><title>12&#45;&gt;13</title>\r\n",
       "<path fill=\"none\" stroke=\"black\" d=\"M493.951,-88.9485C493.689,-80.7153 493.408,-71.848 493.142,-63.4814\"/>\r\n",
       "<polygon fill=\"black\" stroke=\"black\" points=\"496.633,-63.1206 492.817,-53.2367 489.636,-63.3428 496.633,-63.1206\"/>\r\n",
       "</g>\r\n",
       "<!-- 14 -->\r\n",
       "<g id=\"node15\" class=\"node\"><title>14</title>\r\n",
       "<polygon fill=\"none\" stroke=\"black\" points=\"738,-53 586,-53 586,-0 738,-0 738,-53\"/>\r\n",
       "<text text-anchor=\"middle\" x=\"662\" y=\"-37.8\" font-family=\"Times New Roman,serif\" font-size=\"14.00\">entropy = 0.927</text>\r\n",
       "<text text-anchor=\"middle\" x=\"662\" y=\"-22.8\" font-family=\"Times New Roman,serif\" font-size=\"14.00\">samples = 114</text>\r\n",
       "<text text-anchor=\"middle\" x=\"662\" y=\"-7.8\" font-family=\"Times New Roman,serif\" font-size=\"14.00\">value = [43.834, 84.098]</text>\r\n",
       "</g>\r\n",
       "<!-- 12&#45;&gt;14 -->\r\n",
       "<g id=\"edge14\" class=\"edge\"><title>12&#45;&gt;14</title>\r\n",
       "<path fill=\"none\" stroke=\"black\" d=\"M553.408,-88.9485C571.11,-78.9318 590.47,-67.9767 607.877,-58.1263\"/>\r\n",
       "<polygon fill=\"black\" stroke=\"black\" points=\"609.804,-61.0577 616.783,-53.0867 606.356,-54.9655 609.804,-61.0577\"/>\r\n",
       "</g>\r\n",
       "<!-- 17 -->\r\n",
       "<g id=\"node18\" class=\"node\"><title>17</title>\r\n",
       "<polygon fill=\"none\" stroke=\"black\" points=\"841,-469 675,-469 675,-401 841,-401 841,-469\"/>\r\n",
       "<text text-anchor=\"middle\" x=\"758\" y=\"-453.8\" font-family=\"Times New Roman,serif\" font-size=\"14.00\">CC &lt;= 83.982</text>\r\n",
       "<text text-anchor=\"middle\" x=\"758\" y=\"-438.8\" font-family=\"Times New Roman,serif\" font-size=\"14.00\">entropy = 0.96</text>\r\n",
       "<text text-anchor=\"middle\" x=\"758\" y=\"-423.8\" font-family=\"Times New Roman,serif\" font-size=\"14.00\">samples = 515</text>\r\n",
       "<text text-anchor=\"middle\" x=\"758\" y=\"-408.8\" font-family=\"Times New Roman,serif\" font-size=\"14.00\">value = [214.711, 345.564]</text>\r\n",
       "</g>\r\n",
       "<!-- 16&#45;&gt;17 -->\r\n",
       "<g id=\"edge17\" class=\"edge\"><title>16&#45;&gt;17</title>\r\n",
       "<path fill=\"none\" stroke=\"black\" d=\"M758,-504.884C758,-496.778 758,-487.982 758,-479.472\"/>\r\n",
       "<polygon fill=\"black\" stroke=\"black\" points=\"761.5,-479.299 758,-469.299 754.5,-479.299 761.5,-479.299\"/>\r\n",
       "</g>\r\n",
       "<!-- 26 -->\r\n",
       "<g id=\"node27\" class=\"node\"><title>26</title>\r\n",
       "<polygon fill=\"none\" stroke=\"black\" points=\"1018.5,-461.5 859.5,-461.5 859.5,-408.5 1018.5,-408.5 1018.5,-461.5\"/>\r\n",
       "<text text-anchor=\"middle\" x=\"939\" y=\"-446.3\" font-family=\"Times New Roman,serif\" font-size=\"14.00\">entropy = 0.676</text>\r\n",
       "<text text-anchor=\"middle\" x=\"939\" y=\"-431.3\" font-family=\"Times New Roman,serif\" font-size=\"14.00\">samples = 146</text>\r\n",
       "<text text-anchor=\"middle\" x=\"939\" y=\"-416.3\" font-family=\"Times New Roman,serif\" font-size=\"14.00\">value = [33.432, 154.434]</text>\r\n",
       "</g>\r\n",
       "<!-- 16&#45;&gt;26 -->\r\n",
       "<g id=\"edge26\" class=\"edge\"><title>16&#45;&gt;26</title>\r\n",
       "<path fill=\"none\" stroke=\"black\" d=\"M816.766,-504.884C838.623,-492.566 863.309,-478.655 884.745,-466.575\"/>\r\n",
       "<polygon fill=\"black\" stroke=\"black\" points=\"886.721,-469.479 893.715,-461.52 883.284,-463.38 886.721,-469.479\"/>\r\n",
       "</g>\r\n",
       "<!-- 18 -->\r\n",
       "<g id=\"node19\" class=\"node\"><title>18</title>\r\n",
       "<polygon fill=\"none\" stroke=\"black\" points=\"834,-357.5 682,-357.5 682,-304.5 834,-304.5 834,-357.5\"/>\r\n",
       "<text text-anchor=\"middle\" x=\"758\" y=\"-342.3\" font-family=\"Times New Roman,serif\" font-size=\"14.00\">entropy = 0.728</text>\r\n",
       "<text text-anchor=\"middle\" x=\"758\" y=\"-327.3\" font-family=\"Times New Roman,serif\" font-size=\"14.00\">samples = 93</text>\r\n",
       "<text text-anchor=\"middle\" x=\"758\" y=\"-312.3\" font-family=\"Times New Roman,serif\" font-size=\"14.00\">value = [23.774, 93.272]</text>\r\n",
       "</g>\r\n",
       "<!-- 17&#45;&gt;18 -->\r\n",
       "<g id=\"edge18\" class=\"edge\"><title>17&#45;&gt;18</title>\r\n",
       "<path fill=\"none\" stroke=\"black\" d=\"M758,-400.884C758,-390.326 758,-378.597 758,-367.854\"/>\r\n",
       "<polygon fill=\"black\" stroke=\"black\" points=\"761.5,-367.52 758,-357.52 754.5,-367.52 761.5,-367.52\"/>\r\n",
       "</g>\r\n",
       "<!-- 19 -->\r\n",
       "<g id=\"node20\" class=\"node\"><title>19</title>\r\n",
       "<polygon fill=\"none\" stroke=\"black\" points=\"1018,-365 852,-365 852,-297 1018,-297 1018,-365\"/>\r\n",
       "<text text-anchor=\"middle\" x=\"935\" y=\"-349.8\" font-family=\"Times New Roman,serif\" font-size=\"14.00\">PAM &lt;= 86.682</text>\r\n",
       "<text text-anchor=\"middle\" x=\"935\" y=\"-334.8\" font-family=\"Times New Roman,serif\" font-size=\"14.00\">entropy = 0.986</text>\r\n",
       "<text text-anchor=\"middle\" x=\"935\" y=\"-319.8\" font-family=\"Times New Roman,serif\" font-size=\"14.00\">samples = 422</text>\r\n",
       "<text text-anchor=\"middle\" x=\"935\" y=\"-304.8\" font-family=\"Times New Roman,serif\" font-size=\"14.00\">value = [190.936, 252.293]</text>\r\n",
       "</g>\r\n",
       "<!-- 17&#45;&gt;19 -->\r\n",
       "<g id=\"edge19\" class=\"edge\"><title>17&#45;&gt;19</title>\r\n",
       "<path fill=\"none\" stroke=\"black\" d=\"M815.467,-400.884C832.401,-391.125 851.07,-380.366 868.52,-370.31\"/>\r\n",
       "<polygon fill=\"black\" stroke=\"black\" points=\"870.602,-373.15 877.519,-365.125 867.107,-367.085 870.602,-373.15\"/>\r\n",
       "</g>\r\n",
       "<!-- 20 -->\r\n",
       "<g id=\"node21\" class=\"node\"><title>20</title>\r\n",
       "<polygon fill=\"none\" stroke=\"black\" points=\"969,-261 803,-261 803,-193 969,-193 969,-261\"/>\r\n",
       "<text text-anchor=\"middle\" x=\"886\" y=\"-245.8\" font-family=\"Times New Roman,serif\" font-size=\"14.00\">CC &lt;= 86.98</text>\r\n",
       "<text text-anchor=\"middle\" x=\"886\" y=\"-230.8\" font-family=\"Times New Roman,serif\" font-size=\"14.00\">entropy = 1.0</text>\r\n",
       "<text text-anchor=\"middle\" x=\"886\" y=\"-215.8\" font-family=\"Times New Roman,serif\" font-size=\"14.00\">samples = 235</text>\r\n",
       "<text text-anchor=\"middle\" x=\"886\" y=\"-200.8\" font-family=\"Times New Roman,serif\" font-size=\"14.00\">value = [118.128, 116.207]</text>\r\n",
       "</g>\r\n",
       "<!-- 19&#45;&gt;20 -->\r\n",
       "<g id=\"edge20\" class=\"edge\"><title>19&#45;&gt;20</title>\r\n",
       "<path fill=\"none\" stroke=\"black\" d=\"M919.091,-296.884C915.026,-288.422 910.6,-279.207 906.345,-270.352\"/>\r\n",
       "<polygon fill=\"black\" stroke=\"black\" points=\"909.482,-268.798 901.997,-261.299 903.172,-271.829 909.482,-268.798\"/>\r\n",
       "</g>\r\n",
       "<!-- 23 -->\r\n",
       "<g id=\"node24\" class=\"node\"><title>23</title>\r\n",
       "<polygon fill=\"none\" stroke=\"black\" points=\"1146.5,-261 987.5,-261 987.5,-193 1146.5,-193 1146.5,-261\"/>\r\n",
       "<text text-anchor=\"middle\" x=\"1067\" y=\"-245.8\" font-family=\"Times New Roman,serif\" font-size=\"14.00\">TALLA &lt;= 166.804</text>\r\n",
       "<text text-anchor=\"middle\" x=\"1067\" y=\"-230.8\" font-family=\"Times New Roman,serif\" font-size=\"14.00\">entropy = 0.933</text>\r\n",
       "<text text-anchor=\"middle\" x=\"1067\" y=\"-215.8\" font-family=\"Times New Roman,serif\" font-size=\"14.00\">samples = 187</text>\r\n",
       "<text text-anchor=\"middle\" x=\"1067\" y=\"-200.8\" font-family=\"Times New Roman,serif\" font-size=\"14.00\">value = [72.808, 136.085]</text>\r\n",
       "</g>\r\n",
       "<!-- 19&#45;&gt;23 -->\r\n",
       "<g id=\"edge23\" class=\"edge\"><title>19&#45;&gt;23</title>\r\n",
       "<path fill=\"none\" stroke=\"black\" d=\"M977.857,-296.884C989.96,-287.531 1003.25,-277.259 1015.79,-267.568\"/>\r\n",
       "<polygon fill=\"black\" stroke=\"black\" points=\"1018.13,-270.183 1023.91,-261.299 1013.85,-264.644 1018.13,-270.183\"/>\r\n",
       "</g>\r\n",
       "<!-- 21 -->\r\n",
       "<g id=\"node22\" class=\"node\"><title>21</title>\r\n",
       "<polygon fill=\"none\" stroke=\"black\" points=\"795,-149.5 643,-149.5 643,-96.5 795,-96.5 795,-149.5\"/>\r\n",
       "<text text-anchor=\"middle\" x=\"719\" y=\"-134.3\" font-family=\"Times New Roman,serif\" font-size=\"14.00\">entropy = 0.954</text>\r\n",
       "<text text-anchor=\"middle\" x=\"719\" y=\"-119.3\" font-family=\"Times New Roman,serif\" font-size=\"14.00\">samples = 96</text>\r\n",
       "<text text-anchor=\"middle\" x=\"719\" y=\"-104.3\" font-family=\"Times New Roman,serif\" font-size=\"14.00\">value = [39.376, 65.749]</text>\r\n",
       "</g>\r\n",
       "<!-- 20&#45;&gt;21 -->\r\n",
       "<g id=\"edge21\" class=\"edge\"><title>20&#45;&gt;21</title>\r\n",
       "<path fill=\"none\" stroke=\"black\" d=\"M831.78,-192.884C811.703,-180.621 789.04,-166.779 769.324,-154.737\"/>\r\n",
       "<polygon fill=\"black\" stroke=\"black\" points=\"771.141,-151.745 760.783,-149.52 767.492,-157.719 771.141,-151.745\"/>\r\n",
       "</g>\r\n",
       "<!-- 22 -->\r\n",
       "<g id=\"node23\" class=\"node\"><title>22</title>\r\n",
       "<polygon fill=\"none\" stroke=\"black\" points=\"965,-149.5 813,-149.5 813,-96.5 965,-96.5 965,-149.5\"/>\r\n",
       "<text text-anchor=\"middle\" x=\"889\" y=\"-134.3\" font-family=\"Times New Roman,serif\" font-size=\"14.00\">entropy = 0.965</text>\r\n",
       "<text text-anchor=\"middle\" x=\"889\" y=\"-119.3\" font-family=\"Times New Roman,serif\" font-size=\"14.00\">samples = 139</text>\r\n",
       "<text text-anchor=\"middle\" x=\"889\" y=\"-104.3\" font-family=\"Times New Roman,serif\" font-size=\"14.00\">value = [78.752, 50.459]</text>\r\n",
       "</g>\r\n",
       "<!-- 20&#45;&gt;22 -->\r\n",
       "<g id=\"edge22\" class=\"edge\"><title>20&#45;&gt;22</title>\r\n",
       "<path fill=\"none\" stroke=\"black\" d=\"M886.974,-192.884C887.288,-182.216 887.637,-170.352 887.955,-159.519\"/>\r\n",
       "<polygon fill=\"black\" stroke=\"black\" points=\"891.454,-159.619 888.249,-149.52 884.457,-159.413 891.454,-159.619\"/>\r\n",
       "</g>\r\n",
       "<!-- 24 -->\r\n",
       "<g id=\"node25\" class=\"node\"><title>24</title>\r\n",
       "<polygon fill=\"none\" stroke=\"black\" points=\"1140,-149.5 988,-149.5 988,-96.5 1140,-96.5 1140,-149.5\"/>\r\n",
       "<text text-anchor=\"middle\" x=\"1064\" y=\"-134.3\" font-family=\"Times New Roman,serif\" font-size=\"14.00\">entropy = 0.869</text>\r\n",
       "<text text-anchor=\"middle\" x=\"1064\" y=\"-119.3\" font-family=\"Times New Roman,serif\" font-size=\"14.00\">samples = 105</text>\r\n",
       "<text text-anchor=\"middle\" x=\"1064\" y=\"-104.3\" font-family=\"Times New Roman,serif\" font-size=\"14.00\">value = [35.661, 87.156]</text>\r\n",
       "</g>\r\n",
       "<!-- 23&#45;&gt;24 -->\r\n",
       "<g id=\"edge24\" class=\"edge\"><title>23&#45;&gt;24</title>\r\n",
       "<path fill=\"none\" stroke=\"black\" d=\"M1066.03,-192.884C1065.71,-182.216 1065.36,-170.352 1065.04,-159.519\"/>\r\n",
       "<polygon fill=\"black\" stroke=\"black\" points=\"1068.54,-159.413 1064.75,-149.52 1061.55,-159.619 1068.54,-159.413\"/>\r\n",
       "</g>\r\n",
       "<!-- 25 -->\r\n",
       "<g id=\"node26\" class=\"node\"><title>25</title>\r\n",
       "<polygon fill=\"none\" stroke=\"black\" points=\"1310,-149.5 1158,-149.5 1158,-96.5 1310,-96.5 1310,-149.5\"/>\r\n",
       "<text text-anchor=\"middle\" x=\"1234\" y=\"-134.3\" font-family=\"Times New Roman,serif\" font-size=\"14.00\">entropy = 0.986</text>\r\n",
       "<text text-anchor=\"middle\" x=\"1234\" y=\"-119.3\" font-family=\"Times New Roman,serif\" font-size=\"14.00\">samples = 82</text>\r\n",
       "<text text-anchor=\"middle\" x=\"1234\" y=\"-104.3\" font-family=\"Times New Roman,serif\" font-size=\"14.00\">value = [37.147, 48.929]</text>\r\n",
       "</g>\r\n",
       "<!-- 23&#45;&gt;25 -->\r\n",
       "<g id=\"edge25\" class=\"edge\"><title>23&#45;&gt;25</title>\r\n",
       "<path fill=\"none\" stroke=\"black\" d=\"M1121.22,-192.884C1141.3,-180.621 1163.96,-166.779 1183.68,-154.737\"/>\r\n",
       "<polygon fill=\"black\" stroke=\"black\" points=\"1185.51,-157.719 1192.22,-149.52 1181.86,-151.745 1185.51,-157.719\"/>\r\n",
       "</g>\r\n",
       "</g>\r\n",
       "</svg>\r\n"
      ],
      "text/plain": [
       "<graphviz.files.Source at 0x2b046aa7400>"
      ]
     },
     "execution_count": 29,
     "metadata": {},
     "output_type": "execute_result"
    }
   ],
   "source": [
    "# Nombres:\n",
    "Xnom=data[var_predictivas]\n",
    "\n",
    "# Árbol:\n",
    "tree.export_graphviz(tr_clf, out_file=\"tree_clf_HDL.dot\", feature_names=Xnom.columns)\n",
    "with open(\"tree_clf_HDL.dot\") as f:\n",
    "    dot_graph = f.read()\n",
    "graphviz.Source(dot_graph)"
   ]
  },
  {
   "cell_type": "code",
   "execution_count": null,
   "metadata": {},
   "outputs": [],
   "source": []
  },
  {
   "cell_type": "code",
   "execution_count": null,
   "metadata": {},
   "outputs": [],
   "source": []
  },
  {
   "cell_type": "markdown",
   "metadata": {},
   "source": [
    "### Funciones para contruir la matriz de confusión"
   ]
  },
  {
   "cell_type": "code",
   "execution_count": 21,
   "metadata": {},
   "outputs": [],
   "source": [
    "def heatmap(data, row_labels, col_labels, ax=None,\n",
    "            cbar_kw={}, cbarlabel=\"\", **kwargs):\n",
    "    \"\"\"\n",
    "    Create a heatmap from a numpy array and two lists of labels.\n",
    "\n",
    "    Parameters\n",
    "    ----------\n",
    "    data\n",
    "        A 2D numpy array of shape (N, M).\n",
    "    row_labels\n",
    "        A list or array of length N with the labels for the rows.\n",
    "    col_labels\n",
    "        A list or array of length M with the labels for the columns.\n",
    "    ax\n",
    "        A `matplotlib.axes.Axes` instance to which the heatmap is plotted.  If\n",
    "        not provided, use current axes or create a new one.  Optional.\n",
    "    cbar_kw\n",
    "        A dictionary with arguments to `matplotlib.Figure.colorbar`.  Optional.\n",
    "    cbarlabel\n",
    "        The label for the colorbar.  Optional.\n",
    "    **kwargs\n",
    "        All other arguments are forwarded to `imshow`.\n",
    "    \"\"\"\n",
    "\n",
    "    if not ax:\n",
    "        ax = plt.gca()\n",
    "\n",
    "    # Plot the heatmap\n",
    "    im = ax.imshow(data, **kwargs)\n",
    "\n",
    "    # Create colorbar\n",
    "    cbar = ax.figure.colorbar(im, ax=ax, **cbar_kw)\n",
    "    cbar.ax.set_ylabel(cbarlabel, rotation=-90, va=\"bottom\")\n",
    "\n",
    "    # We want to show all ticks...\n",
    "    ax.set_xticks(np.arange(data.shape[1]))\n",
    "    ax.set_yticks(np.arange(data.shape[0]))\n",
    "    # ... and label them with the respective list entries.\n",
    "    ax.set_xticklabels(col_labels)\n",
    "    ax.set_yticklabels(row_labels)\n",
    "\n",
    "    # Let the horizontal axes labeling appear on top.\n",
    "    ax.tick_params(top=False, bottom=True,\n",
    "                   labeltop=False, labelbottom=True)\n",
    "\n",
    "    return im, cbar\n",
    "\n",
    "\n",
    "def annotate_heatmap(im, data=None, valfmt=\"{x:.2f}\",\n",
    "                     textcolors=[\"black\", \"white\"],\n",
    "                     threshold=None, **textkw):\n",
    "    \"\"\"\n",
    "    A function to annotate a heatmap.\n",
    "\n",
    "    Parameters\n",
    "    ----------\n",
    "    im\n",
    "        The AxesImage to be labeled.\n",
    "    data\n",
    "        Data used to annotate.  If None, the image's data is used.  Optional.\n",
    "    valfmt\n",
    "        The format of the annotations inside the heatmap.  This should either\n",
    "        use the string format method, e.g. \"$ {x:.2f}\", or be a\n",
    "        `matplotlib.ticker.Formatter`.  Optional.\n",
    "    textcolors\n",
    "        A list or array of two color specifications.  The first is used for\n",
    "        values below a threshold, the second for those above.  Optional.\n",
    "    threshold\n",
    "        Value in data units according to which the colors from textcolors are\n",
    "        applied.  If None (the default) uses the middle of the colormap as\n",
    "        separation.  Optional.\n",
    "    **kwargs\n",
    "        All other arguments are forwarded to each call to `text` used to create\n",
    "        the text labels.\n",
    "    \"\"\"\n",
    "\n",
    "    if not isinstance(data, (list, np.ndarray)):\n",
    "        data = im.get_array()\n",
    "\n",
    "    # Normalize the threshold to the images color range.\n",
    "    if threshold is not None:\n",
    "        threshold = im.norm(threshold)\n",
    "    else:\n",
    "        threshold = im.norm(data.max())/2.\n",
    "\n",
    "    # Set default alignment to center, but allow it to be\n",
    "    # overwritten by textkw.\n",
    "    kw = dict(horizontalalignment=\"center\",\n",
    "              verticalalignment=\"center\")\n",
    "    kw.update(textkw)\n",
    "\n",
    "    # Get the formatter in case a string is supplied\n",
    "    if isinstance(valfmt, str):\n",
    "        valfmt = matplotlib.ticker.StrMethodFormatter(valfmt)\n",
    "\n",
    "    # Loop over the data and create a `Text` for each \"pixel\".\n",
    "    # Change the text's color depending on the data.\n",
    "    texts = []\n",
    "    for i in range(data.shape[0]):\n",
    "        for j in range(data.shape[1]):\n",
    "            kw.update(color=textcolors[int(im.norm(data[i, j]) > threshold)])\n",
    "            text = im.axes.text(j, i, valfmt(data[i, j], None), **kw)\n",
    "            texts.append(text)\n",
    "\n",
    "    return texts  "
   ]
  }
 ],
 "metadata": {
  "kernelspec": {
   "display_name": "Python 3",
   "language": "python",
   "name": "python3"
  },
  "language_info": {
   "codemirror_mode": {
    "name": "ipython",
    "version": 3
   },
   "file_extension": ".py",
   "mimetype": "text/x-python",
   "name": "python",
   "nbconvert_exporter": "python",
   "pygments_lexer": "ipython3",
   "version": "3.7.1"
  }
 },
 "nbformat": 4,
 "nbformat_minor": 2
}
