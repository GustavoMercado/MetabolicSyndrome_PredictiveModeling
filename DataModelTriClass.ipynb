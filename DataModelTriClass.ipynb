{
 "cells": [
  {
   "cell_type": "markdown",
   "metadata": {},
   "source": [
    "En esta sección se llevará a cabo la construcción de los modelos supervisados de Machine Learning que calculen la probabilidad de que el paciente tenga su nivel de Triglicéridos por arriba de los 150 mg/dL para posteriormente hacer la clasificación de Alterado (1) y No Alterado (0)."
   ]
  },
  {
   "cell_type": "markdown",
   "metadata": {},
   "source": [
    "### Librerías utilizadas"
   ]
  },
  {
   "cell_type": "code",
   "execution_count": 1,
   "metadata": {},
   "outputs": [],
   "source": [
    "import pandas as pd\n",
    "import numpy as np\n",
    "import matplotlib\n",
    "import matplotlib.pyplot as plt\n",
    "\n",
    "from collections import Counter\n",
    "from imblearn.combine import SMOTETomek\n",
    "from sklearn.model_selection import train_test_split\n",
    "\n",
    "from sklearn.model_selection import RandomizedSearchCV,GridSearchCV\n",
    "\n",
    "from sklearn import tree\n",
    "from sklearn.tree import DecisionTreeClassifier\n",
    "from sklearn.ensemble import RandomForestClassifier\n",
    "from sklearn.ensemble import GradientBoostingClassifier\n",
    "from xgboost import XGBClassifier\n",
    "\n",
    "from sklearn.metrics import plot_confusion_matrix, confusion_matrix\n",
    "from sklearn.metrics import precision_score, recall_score\n",
    "from sklearn.metrics import fbeta_score, make_scorer\n",
    "from sklearn.metrics import roc_auc_score, roc_curve\n",
    "\n",
    "#conda install python-graphviz\n",
    "import graphviz"
   ]
  },
  {
   "cell_type": "markdown",
   "metadata": {},
   "source": [
    "### Datos utilizados"
   ]
  },
  {
   "cell_type": "markdown",
   "metadata": {},
   "source": [
    "Se importan los datos que resultaron del proceso de preparación de datos:"
   ]
  },
  {
   "cell_type": "code",
   "execution_count": 2,
   "metadata": {},
   "outputs": [],
   "source": [
    "data = pd.read_csv('C:/Users/gusta/OneDrive/Documentos/Tesis/Datos/Datos_prep.csv') "
   ]
  },
  {
   "cell_type": "markdown",
   "metadata": {},
   "source": [
    "Se seleccionan las variables que serán utilizadas como variables dependientes (variables predictivas):"
   ]
  },
  {
   "cell_type": "code",
   "execution_count": 3,
   "metadata": {},
   "outputs": [],
   "source": [
    "var_predictivas = ['CC','VFA','CC_GRAS','CC_MUSC','CC_AGUA','PAM','TALLA','IMC']\n",
    "X = data[var_predictivas]\n",
    "y = data['TARGET_TRI'] "
   ]
  },
  {
   "cell_type": "markdown",
   "metadata": {},
   "source": [
    "### Separación de datos"
   ]
  },
  {
   "cell_type": "markdown",
   "metadata": {},
   "source": [
    "En el modelado predictivo, la estrategia estándar para una evaluación honesta del rendimiento de los modelos se da a través de la separación de los datos en dos subconjuntos. Una parte de la fuente de datos se utiliza para ajustar los modelos: el conjunto de datos de entrenamiento. El resto de la fuente de datos se utiliza para dar una estimación honesta final de la generalizacion de los modelos: el conjunto de datos de validación.\n",
    "\n",
    "Para el presente trabajo el conjunto de entrenamiento representará el 70% de los datos originales y el conjunto de validación tendrá el 30% restante."
   ]
  },
  {
   "cell_type": "code",
   "execution_count": 4,
   "metadata": {},
   "outputs": [
    {
     "name": "stdout",
     "output_type": "stream",
     "text": [
      "Original dataset shape Counter({0: 1479, 1: 278})\n"
     ]
    }
   ],
   "source": [
    "print('Original dataset shape %s' % Counter(y))"
   ]
  },
  {
   "cell_type": "code",
   "execution_count": 5,
   "metadata": {},
   "outputs": [
    {
     "name": "stdout",
     "output_type": "stream",
     "text": [
      "Train dataset shape Counter({0: 1038, 1: 191})\n",
      "Test dataset shape Counter({0: 441, 1: 87})\n"
     ]
    }
   ],
   "source": [
    "X_train, X_test, y_train, y_test = train_test_split(X,y, test_size=0.3, random_state=13719)\n",
    "print('Train dataset shape %s' % Counter(y_train))\n",
    "print('Test dataset shape %s' % Counter(y_test))"
   ]
  },
  {
   "cell_type": "markdown",
   "metadata": {},
   "source": [
    "Dado que la muestra de datos no esta balanceada (15.82% de Eventos vs 84.18% de No-Eventos) se utilizará una técnica que consiste en aplicar en simultáneo un algoritmo de subsampling y otro de oversampling al conjunto de datos. ESe utilizará SMOTE (Synthetic Minority Oversampling Technique) para el oversampling: busca puntos vecinos cercanos y agrega puntos en linea recta entre ellos. Y se utilizará Tomek para el undersampling, el cual que quita elementos de la clase mayoritaria que sean \"nearest neighbor\" para delimitar mejor la zona limítrofe de las clases."
   ]
  },
  {
   "cell_type": "code",
   "execution_count": 6,
   "metadata": {},
   "outputs": [
    {
     "name": "stdout",
     "output_type": "stream",
     "text": [
      "Resampled train dataset shape Counter({0: 1016, 1: 497})\n"
     ]
    }
   ],
   "source": [
    "smotetomek = SMOTETomek(sampling_strategy=0.5,random_state=13719)\n",
    "X_train, y_train = smotetomek.fit_resample(X_train, y_train)\n",
    "print('Resampled train dataset shape %s' % Counter(y_train))"
   ]
  },
  {
   "cell_type": "markdown",
   "metadata": {},
   "source": [
    "## Modelos supervisados para Clasificación"
   ]
  },
  {
   "cell_type": "markdown",
   "metadata": {},
   "source": [
    "Acorde a lo presentado anteriormente, se utilizarán modelos basados en árboles."
   ]
  },
  {
   "cell_type": "markdown",
   "metadata": {},
   "source": [
    "### Árbol de decisión"
   ]
  },
  {
   "cell_type": "markdown",
   "metadata": {},
   "source": [
    "El primer modelo que se contruye es un Árbol de Decisión, de la librería Scikit-learn, además, se hace uso del método \"RandomizedSearchCV\" para encontrar los parámetros óptimos para el modelo, usando el ROC AUC como métrica para la medición del performance de los modelos."
   ]
  },
  {
   "cell_type": "code",
   "execution_count": 7,
   "metadata": {},
   "outputs": [],
   "source": [
    "# Parámetros para el modelo:\n",
    "param_dict_tr= dict(criterion=['gini','entropy'], splitter=['best','random'],\n",
    "                    max_depth=range(2,30), max_features=range(2,9),\n",
    "                    min_samples_leaf=[0.05], class_weight=['balanced'])\n",
    "\n",
    "# Se crea el árbol de decisión para clasificación:\n",
    "tr_clf = DecisionTreeClassifier()\n",
    "\n",
    "# Autotuning del modelo:\n",
    "rsgrid_tr = RandomizedSearchCV(tr_clf, param_dict_tr, cv=20, n_iter=40, n_jobs=-1,\n",
    "                               scoring='roc_auc')\n",
    "rsgrid_tr.fit(X_train,y_train)\n",
    "tr_clf = rsgrid_tr.best_estimator_\n",
    "\n",
    "# Se entrena el árbol de decisión:\n",
    "tr_clf = tr_clf.fit(X_train,y_train)"
   ]
  },
  {
   "cell_type": "markdown",
   "metadata": {},
   "source": [
    "A continuación, se muestran los parámetros del Árbol de Decisión con los cuales se maximizó el área debajo de la curva ROC. "
   ]
  },
  {
   "cell_type": "code",
   "execution_count": 8,
   "metadata": {},
   "outputs": [
    {
     "data": {
      "text/plain": [
       "DecisionTreeClassifier(class_weight='balanced', criterion='entropy',\n",
       "                       max_depth=20, max_features=5, min_samples_leaf=0.05)"
      ]
     },
     "execution_count": 8,
     "metadata": {},
     "output_type": "execute_result"
    }
   ],
   "source": [
    "rsgrid_tr.best_estimator_"
   ]
  },
  {
   "cell_type": "markdown",
   "metadata": {},
   "source": [
    "### Random Forest"
   ]
  },
  {
   "cell_type": "markdown",
   "metadata": {},
   "source": [
    "El segundo modelo que se contruye es un Random Forest, de la librería Scikit-learn, además, se hace uso del método \"RandomizedSearchCV\" para encontrar los parámetros óptimos para el modelo, usando el ROC AUC como métrica para la medición del performance de los modelos."
   ]
  },
  {
   "cell_type": "code",
   "execution_count": 9,
   "metadata": {},
   "outputs": [],
   "source": [
    "# Parámetros para el modelo:\n",
    "param_dict_rf= dict(n_estimators=range(50,150), criterion=['gini','entropy'],\n",
    "                    max_depth=range(20,30), max_features=range(2,9),\n",
    "                    min_samples_leaf=[0.05], class_weight=['balanced'])\n",
    "\n",
    "# Se crea el Random Forest para clasificación:\n",
    "rf_clf = RandomForestClassifier()\n",
    "\n",
    "#Autotuning del modelo:\n",
    "rsgrid_rf = RandomizedSearchCV(rf_clf, param_dict_rf, cv=20, n_iter=40, n_jobs=-1,\n",
    "                               scoring='roc_auc')\n",
    "rsgrid_rf.fit(X_train,y_train)\n",
    "rf_clf = rsgrid_rf.best_estimator_\n",
    "\n",
    "# Se entrena el Random Forest\n",
    "rf_clf = rf_clf.fit(X_train,y_train)"
   ]
  },
  {
   "cell_type": "markdown",
   "metadata": {},
   "source": [
    "A continuación, se muestran los parámetros del Random Forest con los cuales se maximizó el área debajo de la curva ROC."
   ]
  },
  {
   "cell_type": "code",
   "execution_count": 10,
   "metadata": {},
   "outputs": [
    {
     "data": {
      "text/plain": [
       "RandomForestClassifier(class_weight='balanced', criterion='entropy',\n",
       "                       max_depth=20, max_features=6, min_samples_leaf=0.05,\n",
       "                       n_estimators=135)"
      ]
     },
     "execution_count": 10,
     "metadata": {},
     "output_type": "execute_result"
    }
   ],
   "source": [
    "rsgrid_rf.best_estimator_"
   ]
  },
  {
   "cell_type": "markdown",
   "metadata": {},
   "source": [
    "### Gradient Boosting"
   ]
  },
  {
   "cell_type": "markdown",
   "metadata": {},
   "source": [
    "El tercer modelo que se contruye es un Gradient Boosting, de la librería Scikit-learn, además, se hace uso del método \"RandomizedSearchCV\" para encontrar los parámetros óptimos para el modelo, usando el ROC AUC como métrica para la medición del performance de los modelos."
   ]
  },
  {
   "cell_type": "code",
   "execution_count": 11,
   "metadata": {},
   "outputs": [],
   "source": [
    "# Parámetros para el modelo:\n",
    "param_dict_gb= dict(criterion=['friedman_mse', 'mse', 'mae'], \n",
    "                    loss=['deviance','exponential'], \n",
    "                    learning_rate=[0.05,0.10,0.15,0.20,0.25,0.30,0.5,0.8,1],\n",
    "                    max_depth=range(20,30), max_features=range(2,9),\n",
    "                    min_samples_leaf=[0.05], n_estimators=range(50,150))\n",
    "\n",
    "# Se crea el Gradient Boosting para clasificación:\n",
    "gb_clf = GradientBoostingClassifier()\n",
    "\n",
    "#Autotuning del modelo:\n",
    "rsgrid_gb = RandomizedSearchCV(gb_clf, param_dict_gb, cv=20, n_iter=40, n_jobs=-1,\n",
    "                               scoring='roc_auc')\n",
    "rsgrid_gb.fit(X_train,y_train)\n",
    "gb_clf = rsgrid_gb.best_estimator_\n",
    "\n",
    "# Se entrena el Gradient Boosting\n",
    "gb_clf = gb_clf.fit(X_train,y_train)"
   ]
  },
  {
   "cell_type": "markdown",
   "metadata": {},
   "source": [
    "A continuación, se muestran los parámetros del Gradient Boosting con los cuales se maximizó el área debajo de la curva ROC."
   ]
  },
  {
   "cell_type": "code",
   "execution_count": 12,
   "metadata": {},
   "outputs": [
    {
     "data": {
      "text/plain": [
       "GradientBoostingClassifier(learning_rate=1, max_depth=24, max_features=4,\n",
       "                           min_samples_leaf=0.05, n_estimators=145)"
      ]
     },
     "execution_count": 12,
     "metadata": {},
     "output_type": "execute_result"
    }
   ],
   "source": [
    "rsgrid_gb.best_estimator_"
   ]
  },
  {
   "cell_type": "markdown",
   "metadata": {},
   "source": [
    "### XGBoost"
   ]
  },
  {
   "cell_type": "markdown",
   "metadata": {},
   "source": [
    "El último modelo que se contruye es un XGBoost, de la librería XGBoost, además, se hace uso del método \"RandomizedSearchCV\" para encontrar los parámetros óptimos para el modelo, usando el ROC AUC como métrica para la medición del performance de los modelos."
   ]
  },
  {
   "cell_type": "code",
   "execution_count": 13,
   "metadata": {},
   "outputs": [],
   "source": [
    "# Parámetros para el modelo:\n",
    "param_dict_xgb= dict(booster=['gbtree', 'dart'],\n",
    "                     eta=[0.05, 0.10, 0.15, 0.20, 0.25, 0.30],\n",
    "                     max_depth=range(20,30),n_estimators= range(50,150),  \n",
    "                     scale_pos_weight=[1,2,2.5])\n",
    "\n",
    "# Se crea el XGBoost para clasificación:\n",
    "xgb_clf = XGBClassifier()\n",
    "\n",
    "#Autotuning del modelo:\n",
    "rsgrid_xgb = RandomizedSearchCV(xgb_clf, param_dict_xgb, cv=20, n_iter=40, n_jobs=-1,\n",
    "                                scoring='roc_auc')\n",
    "rsgrid_xgb.fit(X_train,y_train)\n",
    "xgb_clf = rsgrid_xgb.best_estimator_\n",
    "\n",
    "# Se entrena el XGBoost:\n",
    "xgb_clf = xgb_clf.fit(X_train,y_train)"
   ]
  },
  {
   "cell_type": "markdown",
   "metadata": {},
   "source": [
    "A continuación, se muestran los parámetros del XGBoost con los cuales se maximizó el área debajo de la curva ROC."
   ]
  },
  {
   "cell_type": "code",
   "execution_count": 14,
   "metadata": {},
   "outputs": [
    {
     "data": {
      "text/plain": [
       "XGBClassifier(base_score=0.5, booster='gbtree', colsample_bylevel=1,\n",
       "              colsample_bynode=1, colsample_bytree=1, eta=0.25, gamma=0,\n",
       "              gpu_id=-1, importance_type='gain', interaction_constraints='',\n",
       "              learning_rate=0.25, max_delta_step=0, max_depth=29,\n",
       "              min_child_weight=1, missing=nan, monotone_constraints='()',\n",
       "              n_estimators=143, n_jobs=0, num_parallel_tree=1, random_state=0,\n",
       "              reg_alpha=0, reg_lambda=1, scale_pos_weight=1, subsample=1,\n",
       "              tree_method='exact', validate_parameters=1, verbosity=None)"
      ]
     },
     "execution_count": 14,
     "metadata": {},
     "output_type": "execute_result"
    }
   ],
   "source": [
    "rsgrid_xgb.best_estimator_"
   ]
  },
  {
   "cell_type": "markdown",
   "metadata": {},
   "source": [
    "### Estadísticos de precisión"
   ]
  },
  {
   "cell_type": "markdown",
   "metadata": {},
   "source": [
    "Para medir el desempeño de los modelos se utilizará el conjunto de datos de validación y se analizarán, en primer lugar,  las curvas ROC, y del área debajo de las mismas, de cada uno de los modelos."
   ]
  },
  {
   "cell_type": "code",
   "execution_count": 16,
   "metadata": {},
   "outputs": [
    {
     "data": {
      "image/png": "[encoded data removed]",
      "text/plain": [
       "<Figure size 432x360 with 1 Axes>"
      ]
     },
     "metadata": {
      "needs_background": "light"
     },
     "output_type": "display_data"
    }
   ],
   "source": [
    "plt.figure(figsize=(6,5))\n",
    "for m in modelos:\n",
    "    modelo = m['modelo']\n",
    "    fpr, tpr, thresholds = roc_curve(y_test, modelo.predict_proba(X_test)[:,1])\n",
    "    auc = roc_auc_score(y_true=y_test, y_score=modelo.predict_proba(X_test)[:,1])\n",
    "    plt.plot(fpr,tpr,label='%s ROC (auc= %0.2f)' % (m['label'], auc))\n",
    "plt.plot([0,1],[0,1],'r--')\n",
    "plt.xlim([0.0,1.0])\n",
    "plt.ylim([0.0,1.05]) \n",
    "plt.xlabel('False Positive Rate')\n",
    "plt.ylabel('True Positive Rate')\n",
    "plt.title('ROC Curve (using validation data)')\n",
    "plt.legend(loc=\"lower right\")\n",
    "plt.show()"
   ]
  },
  {
   "cell_type": "markdown",
   "metadata": {},
   "source": [
    "En segundo lugar, se analizará la matriz de confusión de cada uno de los modelos junto con las métrícas de Precisión, Sensibilidad y el valor F2."
   ]
  },
  {
   "cell_type": "code",
   "execution_count": 15,
   "metadata": {},
   "outputs": [
    {
     "data": {
      "image/png": "[encoded data removed]",
      "text/plain": [
       "<Figure size 432x288 with 2 Axes>"
      ]
     },
     "metadata": {
      "needs_background": "light"
     },
     "output_type": "display_data"
    },
    {
     "name": "stdout",
     "output_type": "stream",
     "text": [
      "Precisión = 0.24\n",
      "Sensibilidad = 0.63\n",
      "F2 score = 0.61\n"
     ]
    },
    {
     "data": {
      "image/png": "[encoded data removed]",
      "text/plain": [
       "<Figure size 432x288 with 2 Axes>"
      ]
     },
     "metadata": {
      "needs_background": "light"
     },
     "output_type": "display_data"
    },
    {
     "name": "stdout",
     "output_type": "stream",
     "text": [
      "Precisión = 0.26\n",
      "Sensibilidad = 0.64\n",
      "F2 score = 0.65\n"
     ]
    },
    {
     "data": {
      "image/png": "[encoded data removed]",
      "text/plain": [
       "<Figure size 432x288 with 2 Axes>"
      ]
     },
     "metadata": {
      "needs_background": "light"
     },
     "output_type": "display_data"
    },
    {
     "name": "stdout",
     "output_type": "stream",
     "text": [
      "Precisión = 0.24\n",
      "Sensibilidad = 0.21\n",
      "F2 score = 0.76\n"
     ]
    },
    {
     "data": {
      "image/png": "[encoded data removed]",
      "text/plain": [
       "<Figure size 432x288 with 2 Axes>"
      ]
     },
     "metadata": {
      "needs_background": "light"
     },
     "output_type": "display_data"
    },
    {
     "name": "stdout",
     "output_type": "stream",
     "text": [
      "Precisión = 0.26\n",
      "Sensibilidad = 0.20\n",
      "F2 score = 0.77\n"
     ]
    }
   ],
   "source": [
    "modelos = [{'label':'Decision Tree','modelo':tr_clf},\n",
    "           {'label':'Random Forest','modelo':rf_clf},\n",
    "           {'label':'Gradient Boosting','modelo':gb_clf},\n",
    "           {'label':'XGBoost','modelo':xgb_clf}]\n",
    "\n",
    "for m in modelos:\n",
    "    modelo = m['modelo']\n",
    "    disp = plot_confusion_matrix(modelo, X_test, y_test,\n",
    "                                 cmap=plt.cm.Blues)\n",
    "    disp.ax_.set_title('Confusion Matrix: %s' % (m['label']))\n",
    "    plt.show()\n",
    "    \n",
    "    precision = precision_score(y_pred=modelo.predict(X_test),y_true=y_test)\n",
    "    recall = recall_score(y_pred=modelo.predict(X_test),y_true=y_test)\n",
    "    f2 = fbeta_score(y_pred=modelo.predict(X_test),y_true=y_test, beta=2, average='weighted')\n",
    "    print('Precisión = %0.2f' % (precision))\n",
    "    print('Sensibilidad = %0.2f' % (recall))\n",
    "    print('F2 score = %0.2f' % (f2))  "
   ]
  },
  {
   "cell_type": "markdown",
   "metadata": {},
   "source": [
    "Al explorar las curvas ROC y el AUC de los modelos se puede observar que el modelo que tiene un mejor desempeño es el Random Forest y, al analizar las matrices de confusión, se confirma como modelo campeón porque es el modelo que identifica la mayor cantidad del verdaderos positivos y, por ende, minimiza los falsos negativos; se prefiere sobre el árbol de decisión porque tiene una menor cantidad de falsos positivos. \n",
    "\n",
    "Se busca minimizar la máximo la cantidad de falsos negativos ya que, al traducirlo a la práctica médica, lo que estaría haciendo el modelo es decirle al paciente que sus niveles de triglicéridos no están alterados, cuando si lo están, por lo que no recibiría ningún tipo de tratamiento para mitigar este padecimiento; por otro lado, los falsos negativos no afectan a los pacientes, ya que, en este caso, se le diría al paciente que tiene que hacer dieta y ejercicio para corregir estos valores, lo cual es algo benéfico para cualquier persona (con y sin Síndrome Metabólico), y se le haría (ahora si) una química sanguínea para que un médico determine los siguientes pasos.  "
   ]
  },
  {
   "cell_type": "code",
   "execution_count": 17,
   "metadata": {},
   "outputs": [],
   "source": [
    "champion_model = rf_clf"
   ]
  },
  {
   "cell_type": "markdown",
   "metadata": {},
   "source": [
    "### Umbral de probabilidad óptimo"
   ]
  },
  {
   "cell_type": "markdown",
   "metadata": {},
   "source": [
    "Una vez seleccionado el modelo campeón, lo siguinte es identificar cuál el umbral (punto de corte) de probabilidad con el cual se mejora la clasificación hecha por el modelo. Para llevar a cabo esta tarea, se calculan las métricas de precisión usando diferentes puntos de corte. "
   ]
  },
  {
   "cell_type": "code",
   "execution_count": 18,
   "metadata": {},
   "outputs": [],
   "source": [
    "fpr, tpr, thresholds = roc_curve(y_test, champion_model.predict_proba(X_test)[:,1])\n",
    "predicted_proba = champion_model.predict_proba(X_test)[:,1]"
   ]
  },
  {
   "cell_type": "code",
   "execution_count": 19,
   "metadata": {},
   "outputs": [
    {
     "data": {
      "text/html": [
       "<div>\n",
       "<style scoped>\n",
       "    .dataframe tbody tr th:only-of-type {\n",
       "        vertical-align: middle;\n",
       "    }\n",
       "\n",
       "    .dataframe tbody tr th {\n",
       "        vertical-align: top;\n",
       "    }\n",
       "\n",
       "    .dataframe thead th {\n",
       "        text-align: right;\n",
       "    }\n",
       "</style>\n",
       "<table border=\"1\" class=\"dataframe\">\n",
       "  <thead>\n",
       "    <tr style=\"text-align: right;\">\n",
       "      <th></th>\n",
       "      <th>thresholds</th>\n",
       "      <th>Precisión</th>\n",
       "      <th>Sensibilidad</th>\n",
       "      <th>Fscore</th>\n",
       "      <th>AUC</th>\n",
       "    </tr>\n",
       "  </thead>\n",
       "  <tbody>\n",
       "    <tr>\n",
       "      <th>77</th>\n",
       "      <td>0.511790</td>\n",
       "      <td>0.270936</td>\n",
       "      <td>0.632184</td>\n",
       "      <td>0.667975</td>\n",
       "      <td>0.648292</td>\n",
       "    </tr>\n",
       "    <tr>\n",
       "      <th>86</th>\n",
       "      <td>0.466027</td>\n",
       "      <td>0.251012</td>\n",
       "      <td>0.712644</td>\n",
       "      <td>0.608631</td>\n",
       "      <td>0.646571</td>\n",
       "    </tr>\n",
       "    <tr>\n",
       "      <th>87</th>\n",
       "      <td>0.465900</td>\n",
       "      <td>0.250000</td>\n",
       "      <td>0.712644</td>\n",
       "      <td>0.606699</td>\n",
       "      <td>0.645437</td>\n",
       "    </tr>\n",
       "    <tr>\n",
       "      <th>85</th>\n",
       "      <td>0.467825</td>\n",
       "      <td>0.252066</td>\n",
       "      <td>0.701149</td>\n",
       "      <td>0.614835</td>\n",
       "      <td>0.645359</td>\n",
       "    </tr>\n",
       "    <tr>\n",
       "      <th>75</th>\n",
       "      <td>0.514275</td>\n",
       "      <td>0.268657</td>\n",
       "      <td>0.620690</td>\n",
       "      <td>0.668211</td>\n",
       "      <td>0.643678</td>\n",
       "    </tr>\n",
       "    <tr>\n",
       "      <th>76</th>\n",
       "      <td>0.514046</td>\n",
       "      <td>0.267327</td>\n",
       "      <td>0.620690</td>\n",
       "      <td>0.666347</td>\n",
       "      <td>0.642544</td>\n",
       "    </tr>\n",
       "    <tr>\n",
       "      <th>84</th>\n",
       "      <td>0.468936</td>\n",
       "      <td>0.250000</td>\n",
       "      <td>0.689655</td>\n",
       "      <td>0.615243</td>\n",
       "      <td>0.640746</td>\n",
       "    </tr>\n",
       "    <tr>\n",
       "      <th>73</th>\n",
       "      <td>0.520752</td>\n",
       "      <td>0.267677</td>\n",
       "      <td>0.609195</td>\n",
       "      <td>0.670295</td>\n",
       "      <td>0.640199</td>\n",
       "    </tr>\n",
       "    <tr>\n",
       "      <th>72</th>\n",
       "      <td>0.533325</td>\n",
       "      <td>0.270833</td>\n",
       "      <td>0.597701</td>\n",
       "      <td>0.677915</td>\n",
       "      <td>0.640120</td>\n",
       "    </tr>\n",
       "    <tr>\n",
       "      <th>74</th>\n",
       "      <td>0.519112</td>\n",
       "      <td>0.266332</td>\n",
       "      <td>0.609195</td>\n",
       "      <td>0.668436</td>\n",
       "      <td>0.639065</td>\n",
       "    </tr>\n",
       "  </tbody>\n",
       "</table>\n",
       "</div>"
      ],
      "text/plain": [
       "    thresholds  Precisión  Sensibilidad    Fscore       AUC\n",
       "77    0.511790   0.270936      0.632184  0.667975  0.648292\n",
       "86    0.466027   0.251012      0.712644  0.608631  0.646571\n",
       "87    0.465900   0.250000      0.712644  0.606699  0.645437\n",
       "85    0.467825   0.252066      0.701149  0.614835  0.645359\n",
       "75    0.514275   0.268657      0.620690  0.668211  0.643678\n",
       "76    0.514046   0.267327      0.620690  0.666347  0.642544\n",
       "84    0.468936   0.250000      0.689655  0.615243  0.640746\n",
       "73    0.520752   0.267677      0.609195  0.670295  0.640199\n",
       "72    0.533325   0.270833      0.597701  0.677915  0.640120\n",
       "74    0.519112   0.266332      0.609195  0.668436  0.639065"
      ]
     },
     "execution_count": 19,
     "metadata": {},
     "output_type": "execute_result"
    }
   ],
   "source": [
    "precision_ls = []\n",
    "recall_ls = []\n",
    "fscore_ls = []\n",
    "auc_ls = []\n",
    "\n",
    "for thres in thresholds:\n",
    "    y_pred = np.where(predicted_proba>thres,1,0)\n",
    "    precision_ls.append(precision_score(y_true=y_test, y_pred=y_pred, zero_division=0))\n",
    "    recall_ls.append(recall_score(y_true=y_test, y_pred=y_pred))\n",
    "    fscore_ls.append(fbeta_score(y_pred=y_pred, y_true=y_test, beta=2, average='weighted'))\n",
    "    auc_ls.append(roc_auc_score(y_true=y_test, y_score=y_pred))\n",
    "    \n",
    "thresholding = pd.concat([pd.Series(thresholds), pd.Series(precision_ls),\n",
    "                         pd.Series(recall_ls),pd.Series(fscore_ls), pd.Series(auc_ls)],\n",
    "                        axis=1)\n",
    "\n",
    "thresholding.columns = ['thresholds', 'Precisión','Sensibilidad','Fscore','AUC']\n",
    "thresholding.sort_values(by='AUC', ascending=False, inplace=True)\n",
    "thresholding.head(n=10)"
   ]
  },
  {
   "cell_type": "markdown",
   "metadata": {},
   "source": [
    "Recordemos que la intención es minimizar la cantidad de falsos negativos, en otras palabras, se busca maximizar la Sensibilidad del modelo. De acuerdo con la tabla anterior, el umbral 86 es el punto de corte que ayuda a tener una alta sensibilidad sin sacrificar demasiado la precisión y manteniendo al modelo con un buen desempeño (buen ROC AUC)."
   ]
  },
  {
   "cell_type": "code",
   "execution_count": 20,
   "metadata": {},
   "outputs": [],
   "source": [
    "umbral = thresholds[86]"
   ]
  },
  {
   "cell_type": "code",
   "execution_count": 22,
   "metadata": {},
   "outputs": [
    {
     "data": {
      "image/png": "[encoded data removed]",
      "text/plain": [
       "<Figure size 432x288 with 2 Axes>"
      ]
     },
     "metadata": {
      "needs_background": "light"
     },
     "output_type": "display_data"
    },
    {
     "name": "stdout",
     "output_type": "stream",
     "text": [
      "Precisión = 0.25\n",
      "Sensibilidad = 0.71\n",
      "F2 score = 0.61\n",
      "ROC AUC = 0.65\n"
     ]
    }
   ],
   "source": [
    "y_pred_final = np.where(predicted_proba>umbral,1,0)\n",
    "\n",
    "precision = precision_score(y_pred=y_pred_final, y_true=y_test)\n",
    "recall = recall_score(y_pred=y_pred_final, y_true=y_test)\n",
    "f2 = fbeta_score(y_pred=y_pred_final, y_true=y_test, beta=2, average='weighted')\n",
    "auc = roc_auc_score(y_true=y_test, y_score=y_pred_final)\n",
    "matriz = confusion_matrix(y_true=y_test, y_pred=y_pred_final)\n",
    "\n",
    "true_label = ['0','1']\n",
    "predicted_label = ['0','1']\n",
    "\n",
    "fig, ax = plt.subplots()\n",
    "\n",
    "im, cbar = heatmap(matriz, true_label, true_label, ax=ax,\n",
    "                   cmap=plt.cm.Blues, cbarlabel=\"\")\n",
    "texts = annotate_heatmap(im, valfmt=\"{x:.0f}\")\n",
    "\n",
    "fig.tight_layout()\n",
    "plt.xlabel('Predicted label')\n",
    "plt.ylabel('True label')\n",
    "plt.title('Confusion Matrix: Random Forest')\n",
    "plt.show()\n",
    "\n",
    "print('Precisión = %0.2f' % (precision))\n",
    "print('Sensibilidad = %0.2f' % (recall))\n",
    "print('F2 score = %0.2f' % (f2))  \n",
    "print('ROC AUC = %0.2f' % (auc))  "
   ]
  },
  {
   "cell_type": "markdown",
   "metadata": {},
   "source": [
    "## Datos para ROI"
   ]
  },
  {
   "cell_type": "markdown",
   "metadata": {},
   "source": [
    "Para hacer el ejercicio de ROI se utilizará un subconjunto de los datos originales (el 10%), los cuales serán calificados por cada uno de los modelos campeones, en este caso, el modelo campeón para detectar si los Triglicéridos del paciente están alterados o no. La finalidad es, dentro de las conclusiones, determinar la relación costo-beneficio de usar este tipo de modelos para diagnosticar la prevalencia del Síndrome Metabólico en jóvenes mexicanos."
   ]
  },
  {
   "cell_type": "code",
   "execution_count": 28,
   "metadata": {},
   "outputs": [],
   "source": [
    "datos_roi = pd.read_csv('C:/Users/gusta/OneDrive/Documentos/Tesis/Datos/Datos_roi.csv') \n",
    "X_roi = datos_roi[var_predictivas] \n",
    "y_roi = datos_roi['TARGET_TRI'] "
   ]
  },
  {
   "cell_type": "markdown",
   "metadata": {},
   "source": [
    "Se hacen calculan las probabilidades y, haciendo uso del umbral óptimo, se hace la clasificación binaria:"
   ]
  },
  {
   "cell_type": "code",
   "execution_count": 29,
   "metadata": {},
   "outputs": [],
   "source": [
    "predicted_proba = champion_model.predict_proba(X_roi)[:,1]\n",
    "predicted_class = np.where(predicted_proba>umbral,1,0)"
   ]
  },
  {
   "cell_type": "markdown",
   "metadata": {},
   "source": [
    "Se calcula la matriz de confusión junto con los estadísticos de precisión:"
   ]
  },
  {
   "cell_type": "code",
   "execution_count": 30,
   "metadata": {},
   "outputs": [
    {
     "data": {
      "image/png": "[encoded data removed]",
      "text/plain": [
       "<Figure size 432x288 with 2 Axes>"
      ]
     },
     "metadata": {
      "needs_background": "light"
     },
     "output_type": "display_data"
    },
    {
     "name": "stdout",
     "output_type": "stream",
     "text": [
      "Precisión = 0.27\n",
      "Sensibilidad = 0.75\n",
      "F2 score = 0.59\n",
      "ROC AUC = 0.65\n"
     ]
    }
   ],
   "source": [
    "precision = precision_score(y_pred=predicted_class, y_true=y_roi)\n",
    "recall = recall_score(y_pred=predicted_class, y_true=y_roi)\n",
    "f2 = fbeta_score(y_pred=predicted_class, y_true=y_roi, beta=2, average='weighted')\n",
    "auc = roc_auc_score(y_true=y_roi, y_score=predicted_class)\n",
    "matriz = confusion_matrix(y_true=y_roi, y_pred=predicted_class)\n",
    "\n",
    "true_label = ['0','1']\n",
    "predicted_label = ['0','1']\n",
    "\n",
    "fig, ax = plt.subplots()\n",
    "\n",
    "im, cbar = heatmap(matriz, true_label, true_label, ax=ax,\n",
    "                   cmap=plt.cm.Blues, cbarlabel=\"\")\n",
    "texts = annotate_heatmap(im, valfmt=\"{x:.0f}\")\n",
    "\n",
    "fig.tight_layout()\n",
    "plt.xlabel('Predicted label')\n",
    "plt.ylabel('True label')\n",
    "plt.title('Confusion Matrix: ROI')\n",
    "plt.show()\n",
    "\n",
    "print('Precisión = %0.2f' % (precision))\n",
    "print('Sensibilidad = %0.2f' % (recall))\n",
    "print('F2 score = %0.2f' % (f2))  \n",
    "print('ROC AUC = %0.2f' % (auc)) "
   ]
  },
  {
   "cell_type": "markdown",
   "metadata": {},
   "source": [
    "Se guarda la clasificación hecha por el modelo para que sirva de input al modelo de regresión:"
   ]
  },
  {
   "cell_type": "code",
   "execution_count": 31,
   "metadata": {},
   "outputs": [],
   "source": [
    "datos_roi['TRI_Class'] = np.where(predicted_proba>umbral,1,0)\n",
    "\n",
    "datos_roi.to_csv('C:/Users/gusta/OneDrive/Documentos/Tesis/Datos/Datos_roi.csv',\n",
    "                 index=False)"
   ]
  },
  {
   "cell_type": "markdown",
   "metadata": {},
   "source": [
    "## Interpretación del árbol de decisión"
   ]
  },
  {
   "cell_type": "markdown",
   "metadata": {},
   "source": [
    "Por último, para ayudar a la interpretación del funcionamiento de los modelos, se muestra el árbol de decisión construido."
   ]
  },
  {
   "cell_type": "code",
   "execution_count": 32,
   "metadata": {},
   "outputs": [
    {
     "data": {
      "image/svg+xml": [
       "<?xml version=\"1.0\" encoding=\"UTF-8\" standalone=\"no\"?>\r\n",
       "<!DOCTYPE svg PUBLIC \"-//W3C//DTD SVG 1.1//EN\"\r\n",
       " \"http://www.w3.org/Graphics/SVG/1.1/DTD/svg11.dtd\">\r\n",
       "<!-- Generated by graphviz version 2.38.0 (20140413.2041)\r\n",
       " -->\r\n",
       "<!-- Title: Tree Pages: 1 -->\r\n",
       "<svg width=\"1669pt\" height=\"581pt\"\r\n",
       " viewBox=\"0.00 0.00 1669.00 581.00\" xmlns=\"http://www.w3.org/2000/svg\" xmlns:xlink=\"http://www.w3.org/1999/xlink\">\r\n",
       "<g id=\"graph0\" class=\"graph\" transform=\"scale(1 1) rotate(0) translate(4 577)\">\r\n",
       "<title>Tree</title>\r\n",
       "<polygon fill=\"white\" stroke=\"none\" points=\"-4,4 -4,-577 1665,-577 1665,4 -4,4\"/>\r\n",
       "<!-- 0 -->\r\n",
       "<g id=\"node1\" class=\"node\"><title>0</title>\r\n",
       "<polygon fill=\"none\" stroke=\"black\" points=\"835.5,-573 696.5,-573 696.5,-505 835.5,-505 835.5,-573\"/>\r\n",
       "<text text-anchor=\"middle\" x=\"766\" y=\"-557.8\" font-family=\"Times New Roman,serif\" font-size=\"14.00\">VFA &lt;= 55.75</text>\r\n",
       "<text text-anchor=\"middle\" x=\"766\" y=\"-542.8\" font-family=\"Times New Roman,serif\" font-size=\"14.00\">entropy = 1.0</text>\r\n",
       "<text text-anchor=\"middle\" x=\"766\" y=\"-527.8\" font-family=\"Times New Roman,serif\" font-size=\"14.00\">samples = 1513</text>\r\n",
       "<text text-anchor=\"middle\" x=\"766\" y=\"-512.8\" font-family=\"Times New Roman,serif\" font-size=\"14.00\">value = [756.5, 756.5]</text>\r\n",
       "</g>\r\n",
       "<!-- 1 -->\r\n",
       "<g id=\"node2\" class=\"node\"><title>1</title>\r\n",
       "<polygon fill=\"none\" stroke=\"black\" points=\"741,-469 575,-469 575,-401 741,-401 741,-469\"/>\r\n",
       "<text text-anchor=\"middle\" x=\"658\" y=\"-453.8\" font-family=\"Times New Roman,serif\" font-size=\"14.00\">CC_AGUA &lt;= 35.7</text>\r\n",
       "<text text-anchor=\"middle\" x=\"658\" y=\"-438.8\" font-family=\"Times New Roman,serif\" font-size=\"14.00\">entropy = 0.826</text>\r\n",
       "<text text-anchor=\"middle\" x=\"658\" y=\"-423.8\" font-family=\"Times New Roman,serif\" font-size=\"14.00\">samples = 636</text>\r\n",
       "<text text-anchor=\"middle\" x=\"658\" y=\"-408.8\" font-family=\"Times New Roman,serif\" font-size=\"14.00\">value = [404.311, 141.558]</text>\r\n",
       "</g>\r\n",
       "<!-- 0&#45;&gt;1 -->\r\n",
       "<g id=\"edge1\" class=\"edge\"><title>0&#45;&gt;1</title>\r\n",
       "<path fill=\"none\" stroke=\"black\" d=\"M730.935,-504.884C721.316,-495.798 710.778,-485.845 700.777,-476.4\"/>\r\n",
       "<polygon fill=\"black\" stroke=\"black\" points=\"702.931,-473.621 693.258,-469.299 698.125,-478.71 702.931,-473.621\"/>\r\n",
       "<text text-anchor=\"middle\" x=\"693.972\" y=\"-490.589\" font-family=\"Times New Roman,serif\" font-size=\"14.00\">True</text>\r\n",
       "</g>\r\n",
       "<!-- 12 -->\r\n",
       "<g id=\"node13\" class=\"node\"><title>12</title>\r\n",
       "<polygon fill=\"none\" stroke=\"black\" points=\"958,-469 792,-469 792,-401 958,-401 958,-469\"/>\r\n",
       "<text text-anchor=\"middle\" x=\"875\" y=\"-453.8\" font-family=\"Times New Roman,serif\" font-size=\"14.00\">IMC &lt;= 28.347</text>\r\n",
       "<text text-anchor=\"middle\" x=\"875\" y=\"-438.8\" font-family=\"Times New Roman,serif\" font-size=\"14.00\">entropy = 0.946</text>\r\n",
       "<text text-anchor=\"middle\" x=\"875\" y=\"-423.8\" font-family=\"Times New Roman,serif\" font-size=\"14.00\">samples = 877</text>\r\n",
       "<text text-anchor=\"middle\" x=\"875\" y=\"-408.8\" font-family=\"Times New Roman,serif\" font-size=\"14.00\">value = [352.189, 614.942]</text>\r\n",
       "</g>\r\n",
       "<!-- 0&#45;&gt;12 -->\r\n",
       "<g id=\"edge12\" class=\"edge\"><title>0&#45;&gt;12</title>\r\n",
       "<path fill=\"none\" stroke=\"black\" d=\"M801.389,-504.884C811.098,-495.798 821.734,-485.845 831.827,-476.4\"/>\r\n",
       "<polygon fill=\"black\" stroke=\"black\" points=\"834.505,-478.688 839.415,-469.299 829.722,-473.577 834.505,-478.688\"/>\r\n",
       "<text text-anchor=\"middle\" x=\"838.586\" y=\"-490.586\" font-family=\"Times New Roman,serif\" font-size=\"14.00\">False</text>\r\n",
       "</g>\r\n",
       "<!-- 2 -->\r\n",
       "<g id=\"node3\" class=\"node\"><title>2</title>\r\n",
       "<polygon fill=\"none\" stroke=\"black\" points=\"326,-365 174,-365 174,-297 326,-297 326,-365\"/>\r\n",
       "<text text-anchor=\"middle\" x=\"250\" y=\"-349.8\" font-family=\"Times New Roman,serif\" font-size=\"14.00\">IMC &lt;= 19.167</text>\r\n",
       "<text text-anchor=\"middle\" x=\"250\" y=\"-334.8\" font-family=\"Times New Roman,serif\" font-size=\"14.00\">entropy = 0.592</text>\r\n",
       "<text text-anchor=\"middle\" x=\"250\" y=\"-319.8\" font-family=\"Times New Roman,serif\" font-size=\"14.00\">samples = 437</text>\r\n",
       "<text text-anchor=\"middle\" x=\"250\" y=\"-304.8\" font-family=\"Times New Roman,serif\" font-size=\"14.00\">value = [300.813, 50.23]</text>\r\n",
       "</g>\r\n",
       "<!-- 1&#45;&gt;2 -->\r\n",
       "<g id=\"edge2\" class=\"edge\"><title>1&#45;&gt;2</title>\r\n",
       "<path fill=\"none\" stroke=\"black\" d=\"M574.943,-413.236C505.292,-395.823 406.202,-371.05 335.793,-353.448\"/>\r\n",
       "<polygon fill=\"black\" stroke=\"black\" points=\"336.605,-350.044 326.055,-351.014 334.907,-356.835 336.605,-350.044\"/>\r\n",
       "</g>\r\n",
       "<!-- 9 -->\r\n",
       "<g id=\"node10\" class=\"node\"><title>9</title>\r\n",
       "<polygon fill=\"none\" stroke=\"black\" points=\"737.5,-365 578.5,-365 578.5,-297 737.5,-297 737.5,-365\"/>\r\n",
       "<text text-anchor=\"middle\" x=\"658\" y=\"-349.8\" font-family=\"Times New Roman,serif\" font-size=\"14.00\">TALLA &lt;= 170.855</text>\r\n",
       "<text text-anchor=\"middle\" x=\"658\" y=\"-334.8\" font-family=\"Times New Roman,serif\" font-size=\"14.00\">entropy = 0.997</text>\r\n",
       "<text text-anchor=\"middle\" x=\"658\" y=\"-319.8\" font-family=\"Times New Roman,serif\" font-size=\"14.00\">samples = 199</text>\r\n",
       "<text text-anchor=\"middle\" x=\"658\" y=\"-304.8\" font-family=\"Times New Roman,serif\" font-size=\"14.00\">value = [103.498, 91.328]</text>\r\n",
       "</g>\r\n",
       "<!-- 1&#45;&gt;9 -->\r\n",
       "<g id=\"edge9\" class=\"edge\"><title>1&#45;&gt;9</title>\r\n",
       "<path fill=\"none\" stroke=\"black\" d=\"M658,-400.884C658,-392.778 658,-383.982 658,-375.472\"/>\r\n",
       "<polygon fill=\"black\" stroke=\"black\" points=\"661.5,-375.299 658,-365.299 654.5,-375.299 661.5,-375.299\"/>\r\n",
       "</g>\r\n",
       "<!-- 3 -->\r\n",
       "<g id=\"node4\" class=\"node\"><title>3</title>\r\n",
       "<polygon fill=\"none\" stroke=\"black\" points=\"152,-253.5 6,-253.5 6,-200.5 152,-200.5 152,-253.5\"/>\r\n",
       "<text text-anchor=\"middle\" x=\"79\" y=\"-238.3\" font-family=\"Times New Roman,serif\" font-size=\"14.00\">entropy = 0.115</text>\r\n",
       "<text text-anchor=\"middle\" x=\"79\" y=\"-223.3\" font-family=\"Times New Roman,serif\" font-size=\"14.00\">samples = 132</text>\r\n",
       "<text text-anchor=\"middle\" x=\"79\" y=\"-208.3\" font-family=\"Times New Roman,serif\" font-size=\"14.00\">value = [97.541, 1.522]</text>\r\n",
       "</g>\r\n",
       "<!-- 2&#45;&gt;3 -->\r\n",
       "<g id=\"edge3\" class=\"edge\"><title>2&#45;&gt;3</title>\r\n",
       "<path fill=\"none\" stroke=\"black\" d=\"M194.481,-296.884C173.923,-284.621 150.718,-270.779 130.529,-258.737\"/>\r\n",
       "<polygon fill=\"black\" stroke=\"black\" points=\"132.165,-255.637 121.783,-253.52 128.579,-261.649 132.165,-255.637\"/>\r\n",
       "</g>\r\n",
       "<!-- 4 -->\r\n",
       "<g id=\"node5\" class=\"node\"><title>4</title>\r\n",
       "<polygon fill=\"none\" stroke=\"black\" points=\"329.5,-261 170.5,-261 170.5,-193 329.5,-193 329.5,-261\"/>\r\n",
       "<text text-anchor=\"middle\" x=\"250\" y=\"-245.8\" font-family=\"Times New Roman,serif\" font-size=\"14.00\">CC &lt;= 71.25</text>\r\n",
       "<text text-anchor=\"middle\" x=\"250\" y=\"-230.8\" font-family=\"Times New Roman,serif\" font-size=\"14.00\">entropy = 0.708</text>\r\n",
       "<text text-anchor=\"middle\" x=\"250\" y=\"-215.8\" font-family=\"Times New Roman,serif\" font-size=\"14.00\">samples = 305</text>\r\n",
       "<text text-anchor=\"middle\" x=\"250\" y=\"-200.8\" font-family=\"Times New Roman,serif\" font-size=\"14.00\">value = [203.272, 48.708]</text>\r\n",
       "</g>\r\n",
       "<!-- 2&#45;&gt;4 -->\r\n",
       "<g id=\"edge4\" class=\"edge\"><title>2&#45;&gt;4</title>\r\n",
       "<path fill=\"none\" stroke=\"black\" d=\"M250,-296.884C250,-288.778 250,-279.982 250,-271.472\"/>\r\n",
       "<polygon fill=\"black\" stroke=\"black\" points=\"253.5,-271.299 250,-261.299 246.5,-271.299 253.5,-271.299\"/>\r\n",
       "</g>\r\n",
       "<!-- 5 -->\r\n",
       "<g id=\"node6\" class=\"node\"><title>5</title>\r\n",
       "<polygon fill=\"none\" stroke=\"black\" points=\"152,-149.5 0,-149.5 0,-96.5 152,-96.5 152,-149.5\"/>\r\n",
       "<text text-anchor=\"middle\" x=\"76\" y=\"-134.3\" font-family=\"Times New Roman,serif\" font-size=\"14.00\">entropy = 0.911</text>\r\n",
       "<text text-anchor=\"middle\" x=\"76\" y=\"-119.3\" font-family=\"Times New Roman,serif\" font-size=\"14.00\">samples = 115</text>\r\n",
       "<text text-anchor=\"middle\" x=\"76\" y=\"-104.3\" font-family=\"Times New Roman,serif\" font-size=\"14.00\">value = [69.247, 33.487]</text>\r\n",
       "</g>\r\n",
       "<!-- 4&#45;&gt;5 -->\r\n",
       "<g id=\"edge5\" class=\"edge\"><title>4&#45;&gt;5</title>\r\n",
       "<path fill=\"none\" stroke=\"black\" d=\"M193.507,-192.884C172.589,-180.621 148.976,-166.779 128.433,-154.737\"/>\r\n",
       "<polygon fill=\"black\" stroke=\"black\" points=\"129.931,-151.558 119.534,-149.52 126.391,-157.597 129.931,-151.558\"/>\r\n",
       "</g>\r\n",
       "<!-- 6 -->\r\n",
       "<g id=\"node7\" class=\"node\"><title>6</title>\r\n",
       "<polygon fill=\"none\" stroke=\"black\" points=\"329.5,-157 170.5,-157 170.5,-89 329.5,-89 329.5,-157\"/>\r\n",
       "<text text-anchor=\"middle\" x=\"250\" y=\"-141.8\" font-family=\"Times New Roman,serif\" font-size=\"14.00\">IMC &lt;= 21.766</text>\r\n",
       "<text text-anchor=\"middle\" x=\"250\" y=\"-126.8\" font-family=\"Times New Roman,serif\" font-size=\"14.00\">entropy = 0.475</text>\r\n",
       "<text text-anchor=\"middle\" x=\"250\" y=\"-111.8\" font-family=\"Times New Roman,serif\" font-size=\"14.00\">samples = 190</text>\r\n",
       "<text text-anchor=\"middle\" x=\"250\" y=\"-96.8\" font-family=\"Times New Roman,serif\" font-size=\"14.00\">value = [134.026, 15.221]</text>\r\n",
       "</g>\r\n",
       "<!-- 4&#45;&gt;6 -->\r\n",
       "<g id=\"edge6\" class=\"edge\"><title>4&#45;&gt;6</title>\r\n",
       "<path fill=\"none\" stroke=\"black\" d=\"M250,-192.884C250,-184.778 250,-175.982 250,-167.472\"/>\r\n",
       "<polygon fill=\"black\" stroke=\"black\" points=\"253.5,-167.299 250,-157.299 246.5,-167.299 253.5,-167.299\"/>\r\n",
       "</g>\r\n",
       "<!-- 7 -->\r\n",
       "<g id=\"node8\" class=\"node\"><title>7</title>\r\n",
       "<polygon fill=\"none\" stroke=\"black\" points=\"156,-53 10,-53 10,-0 156,-0 156,-53\"/>\r\n",
       "<text text-anchor=\"middle\" x=\"83\" y=\"-37.8\" font-family=\"Times New Roman,serif\" font-size=\"14.00\">entropy = 0.314</text>\r\n",
       "<text text-anchor=\"middle\" x=\"83\" y=\"-22.8\" font-family=\"Times New Roman,serif\" font-size=\"14.00\">samples = 105</text>\r\n",
       "<text text-anchor=\"middle\" x=\"83\" y=\"-7.8\" font-family=\"Times New Roman,serif\" font-size=\"14.00\">value = [75.948, 4.566]</text>\r\n",
       "</g>\r\n",
       "<!-- 6&#45;&gt;7 -->\r\n",
       "<g id=\"edge7\" class=\"edge\"><title>6&#45;&gt;7</title>\r\n",
       "<path fill=\"none\" stroke=\"black\" d=\"M191.592,-88.9485C173.89,-78.9318 154.53,-67.9767 137.123,-58.1263\"/>\r\n",
       "<polygon fill=\"black\" stroke=\"black\" points=\"138.644,-54.9655 128.217,-53.0867 135.196,-61.0577 138.644,-54.9655\"/>\r\n",
       "</g>\r\n",
       "<!-- 8 -->\r\n",
       "<g id=\"node9\" class=\"node\"><title>8</title>\r\n",
       "<polygon fill=\"none\" stroke=\"black\" points=\"326,-53 174,-53 174,-0 326,-0 326,-53\"/>\r\n",
       "<text text-anchor=\"middle\" x=\"250\" y=\"-37.8\" font-family=\"Times New Roman,serif\" font-size=\"14.00\">entropy = 0.622</text>\r\n",
       "<text text-anchor=\"middle\" x=\"250\" y=\"-22.8\" font-family=\"Times New Roman,serif\" font-size=\"14.00\">samples = 85</text>\r\n",
       "<text text-anchor=\"middle\" x=\"250\" y=\"-7.8\" font-family=\"Times New Roman,serif\" font-size=\"14.00\">value = [58.078, 10.655]</text>\r\n",
       "</g>\r\n",
       "<!-- 6&#45;&gt;8 -->\r\n",
       "<g id=\"edge8\" class=\"edge\"><title>6&#45;&gt;8</title>\r\n",
       "<path fill=\"none\" stroke=\"black\" d=\"M250,-88.9485C250,-80.7153 250,-71.848 250,-63.4814\"/>\r\n",
       "<polygon fill=\"black\" stroke=\"black\" points=\"253.5,-63.2367 250,-53.2367 246.5,-63.2367 253.5,-63.2367\"/>\r\n",
       "</g>\r\n",
       "<!-- 10 -->\r\n",
       "<g id=\"node11\" class=\"node\"><title>10</title>\r\n",
       "<polygon fill=\"none\" stroke=\"black\" points=\"567,-253.5 415,-253.5 415,-200.5 567,-200.5 567,-253.5\"/>\r\n",
       "<text text-anchor=\"middle\" x=\"491\" y=\"-238.3\" font-family=\"Times New Roman,serif\" font-size=\"14.00\">entropy = 0.958</text>\r\n",
       "<text text-anchor=\"middle\" x=\"491\" y=\"-223.3\" font-family=\"Times New Roman,serif\" font-size=\"14.00\">samples = 90</text>\r\n",
       "<text text-anchor=\"middle\" x=\"491\" y=\"-208.3\" font-family=\"Times New Roman,serif\" font-size=\"14.00\">value = [37.229, 60.885]</text>\r\n",
       "</g>\r\n",
       "<!-- 9&#45;&gt;10 -->\r\n",
       "<g id=\"edge10\" class=\"edge\"><title>9&#45;&gt;10</title>\r\n",
       "<path fill=\"none\" stroke=\"black\" d=\"M603.78,-296.884C583.703,-284.621 561.04,-270.779 541.324,-258.737\"/>\r\n",
       "<polygon fill=\"black\" stroke=\"black\" points=\"543.141,-255.745 532.783,-253.52 539.492,-261.719 543.141,-255.745\"/>\r\n",
       "</g>\r\n",
       "<!-- 11 -->\r\n",
       "<g id=\"node12\" class=\"node\"><title>11</title>\r\n",
       "<polygon fill=\"none\" stroke=\"black\" points=\"737,-253.5 585,-253.5 585,-200.5 737,-200.5 737,-253.5\"/>\r\n",
       "<text text-anchor=\"middle\" x=\"661\" y=\"-238.3\" font-family=\"Times New Roman,serif\" font-size=\"14.00\">entropy = 0.899</text>\r\n",
       "<text text-anchor=\"middle\" x=\"661\" y=\"-223.3\" font-family=\"Times New Roman,serif\" font-size=\"14.00\">samples = 109</text>\r\n",
       "<text text-anchor=\"middle\" x=\"661\" y=\"-208.3\" font-family=\"Times New Roman,serif\" font-size=\"14.00\">value = [66.268, 30.443]</text>\r\n",
       "</g>\r\n",
       "<!-- 9&#45;&gt;11 -->\r\n",
       "<g id=\"edge11\" class=\"edge\"><title>9&#45;&gt;11</title>\r\n",
       "<path fill=\"none\" stroke=\"black\" d=\"M658.974,-296.884C659.288,-286.216 659.637,-274.352 659.955,-263.519\"/>\r\n",
       "<polygon fill=\"black\" stroke=\"black\" points=\"663.454,-263.619 660.249,-253.52 656.457,-263.413 663.454,-263.619\"/>\r\n",
       "</g>\r\n",
       "<!-- 13 -->\r\n",
       "<g id=\"node14\" class=\"node\"><title>13</title>\r\n",
       "<polygon fill=\"none\" stroke=\"black\" points=\"958,-365 792,-365 792,-297 958,-297 958,-365\"/>\r\n",
       "<text text-anchor=\"middle\" x=\"875\" y=\"-349.8\" font-family=\"Times New Roman,serif\" font-size=\"14.00\">TALLA &lt;= 160.948</text>\r\n",
       "<text text-anchor=\"middle\" x=\"875\" y=\"-334.8\" font-family=\"Times New Roman,serif\" font-size=\"14.00\">entropy = 0.989</text>\r\n",
       "<text text-anchor=\"middle\" x=\"875\" y=\"-319.8\" font-family=\"Times New Roman,serif\" font-size=\"14.00\">samples = 622</text>\r\n",
       "<text text-anchor=\"middle\" x=\"875\" y=\"-304.8\" font-family=\"Times New Roman,serif\" font-size=\"14.00\">value = [284.432, 365.312]</text>\r\n",
       "</g>\r\n",
       "<!-- 12&#45;&gt;13 -->\r\n",
       "<g id=\"edge13\" class=\"edge\"><title>12&#45;&gt;13</title>\r\n",
       "<path fill=\"none\" stroke=\"black\" d=\"M875,-400.884C875,-392.778 875,-383.982 875,-375.472\"/>\r\n",
       "<polygon fill=\"black\" stroke=\"black\" points=\"878.5,-375.299 875,-365.299 871.5,-375.299 878.5,-375.299\"/>\r\n",
       "</g>\r\n",
       "<!-- 26 -->\r\n",
       "<g id=\"node27\" class=\"node\"><title>26</title>\r\n",
       "<polygon fill=\"none\" stroke=\"black\" points=\"1325,-365 1173,-365 1173,-297 1325,-297 1325,-365\"/>\r\n",
       "<text text-anchor=\"middle\" x=\"1249\" y=\"-349.8\" font-family=\"Times New Roman,serif\" font-size=\"14.00\">CC &lt;= 95.047</text>\r\n",
       "<text text-anchor=\"middle\" x=\"1249\" y=\"-334.8\" font-family=\"Times New Roman,serif\" font-size=\"14.00\">entropy = 0.748</text>\r\n",
       "<text text-anchor=\"middle\" x=\"1249\" y=\"-319.8\" font-family=\"Times New Roman,serif\" font-size=\"14.00\">samples = 255</text>\r\n",
       "<text text-anchor=\"middle\" x=\"1249\" y=\"-304.8\" font-family=\"Times New Roman,serif\" font-size=\"14.00\">value = [67.757, 249.63]</text>\r\n",
       "</g>\r\n",
       "<!-- 12&#45;&gt;26 -->\r\n",
       "<g id=\"edge26\" class=\"edge\"><title>12&#45;&gt;26</title>\r\n",
       "<path fill=\"none\" stroke=\"black\" d=\"M958.003,-411.363C1018.98,-394.733 1101.59,-372.204 1163.21,-355.398\"/>\r\n",
       "<polygon fill=\"black\" stroke=\"black\" points=\"1164.18,-358.76 1172.91,-352.752 1162.34,-352.006 1164.18,-358.76\"/>\r\n",
       "</g>\r\n",
       "<!-- 14 -->\r\n",
       "<g id=\"node15\" class=\"node\"><title>14</title>\r\n",
       "<polygon fill=\"none\" stroke=\"black\" points=\"956,-261 790,-261 790,-193 956,-193 956,-261\"/>\r\n",
       "<text text-anchor=\"middle\" x=\"873\" y=\"-245.8\" font-family=\"Times New Roman,serif\" font-size=\"14.00\">CC_MUSC &lt;= 7.405</text>\r\n",
       "<text text-anchor=\"middle\" x=\"873\" y=\"-230.8\" font-family=\"Times New Roman,serif\" font-size=\"14.00\">entropy = 0.961</text>\r\n",
       "<text text-anchor=\"middle\" x=\"873\" y=\"-215.8\" font-family=\"Times New Roman,serif\" font-size=\"14.00\">samples = 355</text>\r\n",
       "<text text-anchor=\"middle\" x=\"873\" y=\"-200.8\" font-family=\"Times New Roman,serif\" font-size=\"14.00\">value = [148.173, 237.453]</text>\r\n",
       "</g>\r\n",
       "<!-- 13&#45;&gt;14 -->\r\n",
       "<g id=\"edge14\" class=\"edge\"><title>13&#45;&gt;14</title>\r\n",
       "<path fill=\"none\" stroke=\"black\" d=\"M874.351,-296.884C874.192,-288.778 874.019,-279.982 873.852,-271.472\"/>\r\n",
       "<polygon fill=\"black\" stroke=\"black\" points=\"877.348,-271.229 873.653,-261.299 870.35,-271.366 877.348,-271.229\"/>\r\n",
       "</g>\r\n",
       "<!-- 21 -->\r\n",
       "<g id=\"node22\" class=\"node\"><title>21</title>\r\n",
       "<polygon fill=\"none\" stroke=\"black\" points=\"1155,-261 989,-261 989,-193 1155,-193 1155,-261\"/>\r\n",
       "<text text-anchor=\"middle\" x=\"1072\" y=\"-245.8\" font-family=\"Times New Roman,serif\" font-size=\"14.00\">PAM &lt;= 86.797</text>\r\n",
       "<text text-anchor=\"middle\" x=\"1072\" y=\"-230.8\" font-family=\"Times New Roman,serif\" font-size=\"14.00\">entropy = 0.999</text>\r\n",
       "<text text-anchor=\"middle\" x=\"1072\" y=\"-215.8\" font-family=\"Times New Roman,serif\" font-size=\"14.00\">samples = 267</text>\r\n",
       "<text text-anchor=\"middle\" x=\"1072\" y=\"-200.8\" font-family=\"Times New Roman,serif\" font-size=\"14.00\">value = [136.259, 127.859]</text>\r\n",
       "</g>\r\n",
       "<!-- 13&#45;&gt;21 -->\r\n",
       "<g id=\"edge21\" class=\"edge\"><title>13&#45;&gt;21</title>\r\n",
       "<path fill=\"none\" stroke=\"black\" d=\"M938.96,-296.884C958.154,-286.946 979.35,-275.971 999.076,-265.757\"/>\r\n",
       "<polygon fill=\"black\" stroke=\"black\" points=\"1000.75,-268.831 1008.02,-261.125 997.534,-262.615 1000.75,-268.831\"/>\r\n",
       "</g>\r\n",
       "<!-- 15 -->\r\n",
       "<g id=\"node16\" class=\"node\"><title>15</title>\r\n",
       "<polygon fill=\"none\" stroke=\"black\" points=\"666.5,-157 507.5,-157 507.5,-89 666.5,-89 666.5,-157\"/>\r\n",
       "<text text-anchor=\"middle\" x=\"587\" y=\"-141.8\" font-family=\"Times New Roman,serif\" font-size=\"14.00\">CC_GRAS &lt;= 20.988</text>\r\n",
       "<text text-anchor=\"middle\" x=\"587\" y=\"-126.8\" font-family=\"Times New Roman,serif\" font-size=\"14.00\">entropy = 0.992</text>\r\n",
       "<text text-anchor=\"middle\" x=\"587\" y=\"-111.8\" font-family=\"Times New Roman,serif\" font-size=\"14.00\">samples = 197</text>\r\n",
       "<text text-anchor=\"middle\" x=\"587\" y=\"-96.8\" font-family=\"Times New Roman,serif\" font-size=\"14.00\">value = [91.584, 112.638]</text>\r\n",
       "</g>\r\n",
       "<!-- 14&#45;&gt;15 -->\r\n",
       "<g id=\"edge15\" class=\"edge\"><title>14&#45;&gt;15</title>\r\n",
       "<path fill=\"none\" stroke=\"black\" d=\"M789.893,-196.36C754.314,-183.672 712.699,-168.83 676.449,-155.902\"/>\r\n",
       "<polygon fill=\"black\" stroke=\"black\" points=\"677.463,-152.547 666.868,-152.484 675.111,-159.14 677.463,-152.547\"/>\r\n",
       "</g>\r\n",
       "<!-- 18 -->\r\n",
       "<g id=\"node19\" class=\"node\"><title>18</title>\r\n",
       "<polygon fill=\"none\" stroke=\"black\" points=\"952.5,-157 793.5,-157 793.5,-89 952.5,-89 952.5,-157\"/>\r\n",
       "<text text-anchor=\"middle\" x=\"873\" y=\"-141.8\" font-family=\"Times New Roman,serif\" font-size=\"14.00\">PAM &lt;= 84.812</text>\r\n",
       "<text text-anchor=\"middle\" x=\"873\" y=\"-126.8\" font-family=\"Times New Roman,serif\" font-size=\"14.00\">entropy = 0.895</text>\r\n",
       "<text text-anchor=\"middle\" x=\"873\" y=\"-111.8\" font-family=\"Times New Roman,serif\" font-size=\"14.00\">samples = 158</text>\r\n",
       "<text text-anchor=\"middle\" x=\"873\" y=\"-96.8\" font-family=\"Times New Roman,serif\" font-size=\"14.00\">value = [56.589, 124.815]</text>\r\n",
       "</g>\r\n",
       "<!-- 14&#45;&gt;18 -->\r\n",
       "<g id=\"edge18\" class=\"edge\"><title>14&#45;&gt;18</title>\r\n",
       "<path fill=\"none\" stroke=\"black\" d=\"M873,-192.884C873,-184.778 873,-175.982 873,-167.472\"/>\r\n",
       "<polygon fill=\"black\" stroke=\"black\" points=\"876.5,-167.299 873,-157.299 869.5,-167.299 876.5,-167.299\"/>\r\n",
       "</g>\r\n",
       "<!-- 16 -->\r\n",
       "<g id=\"node17\" class=\"node\"><title>16</title>\r\n",
       "<polygon fill=\"none\" stroke=\"black\" points=\"496,-53 344,-53 344,-0 496,-0 496,-53\"/>\r\n",
       "<text text-anchor=\"middle\" x=\"420\" y=\"-37.8\" font-family=\"Times New Roman,serif\" font-size=\"14.00\">entropy = 0.942</text>\r\n",
       "<text text-anchor=\"middle\" x=\"420\" y=\"-22.8\" font-family=\"Times New Roman,serif\" font-size=\"14.00\">samples = 116</text>\r\n",
       "<text text-anchor=\"middle\" x=\"420\" y=\"-7.8\" font-family=\"Times New Roman,serif\" font-size=\"14.00\">value = [46.164, 82.195]</text>\r\n",
       "</g>\r\n",
       "<!-- 15&#45;&gt;16 -->\r\n",
       "<g id=\"edge16\" class=\"edge\"><title>15&#45;&gt;16</title>\r\n",
       "<path fill=\"none\" stroke=\"black\" d=\"M528.592,-88.9485C510.89,-78.9318 491.53,-67.9767 474.123,-58.1263\"/>\r\n",
       "<polygon fill=\"black\" stroke=\"black\" points=\"475.644,-54.9655 465.217,-53.0867 472.196,-61.0577 475.644,-54.9655\"/>\r\n",
       "</g>\r\n",
       "<!-- 17 -->\r\n",
       "<g id=\"node18\" class=\"node\"><title>17</title>\r\n",
       "<polygon fill=\"none\" stroke=\"black\" points=\"660,-53 514,-53 514,-0 660,-0 660,-53\"/>\r\n",
       "<text text-anchor=\"middle\" x=\"587\" y=\"-37.8\" font-family=\"Times New Roman,serif\" font-size=\"14.00\">entropy = 0.972</text>\r\n",
       "<text text-anchor=\"middle\" x=\"587\" y=\"-22.8\" font-family=\"Times New Roman,serif\" font-size=\"14.00\">samples = 81</text>\r\n",
       "<text text-anchor=\"middle\" x=\"587\" y=\"-7.8\" font-family=\"Times New Roman,serif\" font-size=\"14.00\">value = [45.42, 30.443]</text>\r\n",
       "</g>\r\n",
       "<!-- 15&#45;&gt;17 -->\r\n",
       "<g id=\"edge17\" class=\"edge\"><title>15&#45;&gt;17</title>\r\n",
       "<path fill=\"none\" stroke=\"black\" d=\"M587,-88.9485C587,-80.7153 587,-71.848 587,-63.4814\"/>\r\n",
       "<polygon fill=\"black\" stroke=\"black\" points=\"590.5,-63.2367 587,-53.2367 583.5,-63.2367 590.5,-63.2367\"/>\r\n",
       "</g>\r\n",
       "<!-- 19 -->\r\n",
       "<g id=\"node20\" class=\"node\"><title>19</title>\r\n",
       "<polygon fill=\"none\" stroke=\"black\" points=\"830,-53 678,-53 678,-0 830,-0 830,-53\"/>\r\n",
       "<text text-anchor=\"middle\" x=\"754\" y=\"-37.8\" font-family=\"Times New Roman,serif\" font-size=\"14.00\">entropy = 0.958</text>\r\n",
       "<text text-anchor=\"middle\" x=\"754\" y=\"-22.8\" font-family=\"Times New Roman,serif\" font-size=\"14.00\">samples = 81</text>\r\n",
       "<text text-anchor=\"middle\" x=\"754\" y=\"-7.8\" font-family=\"Times New Roman,serif\" font-size=\"14.00\">value = [33.506, 54.797]</text>\r\n",
       "</g>\r\n",
       "<!-- 18&#45;&gt;19 -->\r\n",
       "<g id=\"edge19\" class=\"edge\"><title>18&#45;&gt;19</title>\r\n",
       "<path fill=\"none\" stroke=\"black\" d=\"M831.38,-88.9485C819.399,-79.4346 806.352,-69.074 794.444,-59.6175\"/>\r\n",
       "<polygon fill=\"black\" stroke=\"black\" points=\"796.417,-56.7147 786.409,-53.2367 792.064,-62.1965 796.417,-56.7147\"/>\r\n",
       "</g>\r\n",
       "<!-- 20 -->\r\n",
       "<g id=\"node21\" class=\"node\"><title>20</title>\r\n",
       "<polygon fill=\"none\" stroke=\"black\" points=\"1000,-53 848,-53 848,-0 1000,-0 1000,-53\"/>\r\n",
       "<text text-anchor=\"middle\" x=\"924\" y=\"-37.8\" font-family=\"Times New Roman,serif\" font-size=\"14.00\">entropy = 0.808</text>\r\n",
       "<text text-anchor=\"middle\" x=\"924\" y=\"-22.8\" font-family=\"Times New Roman,serif\" font-size=\"14.00\">samples = 77</text>\r\n",
       "<text text-anchor=\"middle\" x=\"924\" y=\"-7.8\" font-family=\"Times New Roman,serif\" font-size=\"14.00\">value = [23.082, 70.018]</text>\r\n",
       "</g>\r\n",
       "<!-- 18&#45;&gt;20 -->\r\n",
       "<g id=\"edge20\" class=\"edge\"><title>18&#45;&gt;20</title>\r\n",
       "<path fill=\"none\" stroke=\"black\" d=\"M890.837,-88.9485C895.527,-80.2579 900.599,-70.8608 905.331,-62.0917\"/>\r\n",
       "<polygon fill=\"black\" stroke=\"black\" points=\"908.441,-63.6992 910.11,-53.2367 902.281,-60.3747 908.441,-63.6992\"/>\r\n",
       "</g>\r\n",
       "<!-- 22 -->\r\n",
       "<g id=\"node23\" class=\"node\"><title>22</title>\r\n",
       "<polygon fill=\"none\" stroke=\"black\" points=\"1153,-157 1001,-157 1001,-89 1153,-89 1153,-157\"/>\r\n",
       "<text text-anchor=\"middle\" x=\"1077\" y=\"-141.8\" font-family=\"Times New Roman,serif\" font-size=\"14.00\">VFA &lt;= 74.35</text>\r\n",
       "<text text-anchor=\"middle\" x=\"1077\" y=\"-126.8\" font-family=\"Times New Roman,serif\" font-size=\"14.00\">entropy = 0.961</text>\r\n",
       "<text text-anchor=\"middle\" x=\"1077\" y=\"-111.8\" font-family=\"Times New Roman,serif\" font-size=\"14.00\">samples = 158</text>\r\n",
       "<text text-anchor=\"middle\" x=\"1077\" y=\"-96.8\" font-family=\"Times New Roman,serif\" font-size=\"14.00\">value = [90.095, 56.319]</text>\r\n",
       "</g>\r\n",
       "<!-- 21&#45;&gt;22 -->\r\n",
       "<g id=\"edge22\" class=\"edge\"><title>21&#45;&gt;22</title>\r\n",
       "<path fill=\"none\" stroke=\"black\" d=\"M1073.62,-192.884C1074.02,-184.778 1074.45,-175.982 1074.87,-167.472\"/>\r\n",
       "<polygon fill=\"black\" stroke=\"black\" points=\"1078.37,-167.459 1075.37,-157.299 1071.38,-167.116 1078.37,-167.459\"/>\r\n",
       "</g>\r\n",
       "<!-- 25 -->\r\n",
       "<g id=\"node26\" class=\"node\"><title>25</title>\r\n",
       "<polygon fill=\"none\" stroke=\"black\" points=\"1317,-149.5 1171,-149.5 1171,-96.5 1317,-96.5 1317,-149.5\"/>\r\n",
       "<text text-anchor=\"middle\" x=\"1244\" y=\"-134.3\" font-family=\"Times New Roman,serif\" font-size=\"14.00\">entropy = 0.966</text>\r\n",
       "<text text-anchor=\"middle\" x=\"1244\" y=\"-119.3\" font-family=\"Times New Roman,serif\" font-size=\"14.00\">samples = 109</text>\r\n",
       "<text text-anchor=\"middle\" x=\"1244\" y=\"-104.3\" font-family=\"Times New Roman,serif\" font-size=\"14.00\">value = [46.164, 71.54]</text>\r\n",
       "</g>\r\n",
       "<!-- 21&#45;&gt;25 -->\r\n",
       "<g id=\"edge25\" class=\"edge\"><title>21&#45;&gt;25</title>\r\n",
       "<path fill=\"none\" stroke=\"black\" d=\"M1127.84,-192.884C1148.52,-180.621 1171.86,-166.779 1192.17,-154.737\"/>\r\n",
       "<polygon fill=\"black\" stroke=\"black\" points=\"1194.15,-157.631 1200.97,-149.52 1190.58,-151.61 1194.15,-157.631\"/>\r\n",
       "</g>\r\n",
       "<!-- 23 -->\r\n",
       "<g id=\"node24\" class=\"node\"><title>23</title>\r\n",
       "<polygon fill=\"none\" stroke=\"black\" points=\"1164,-53 1018,-53 1018,-0 1164,-0 1164,-53\"/>\r\n",
       "<text text-anchor=\"middle\" x=\"1091\" y=\"-37.8\" font-family=\"Times New Roman,serif\" font-size=\"14.00\">entropy = 0.877</text>\r\n",
       "<text text-anchor=\"middle\" x=\"1091\" y=\"-22.8\" font-family=\"Times New Roman,serif\" font-size=\"14.00\">samples = 82</text>\r\n",
       "<text text-anchor=\"middle\" x=\"1091\" y=\"-7.8\" font-family=\"Times New Roman,serif\" font-size=\"14.00\">value = [50.632, 21.31]</text>\r\n",
       "</g>\r\n",
       "<!-- 22&#45;&gt;23 -->\r\n",
       "<g id=\"edge23\" class=\"edge\"><title>22&#45;&gt;23</title>\r\n",
       "<path fill=\"none\" stroke=\"black\" d=\"M1081.9,-88.9485C1083.13,-80.6238 1084.46,-71.6509 1085.71,-63.2027\"/>\r\n",
       "<polygon fill=\"black\" stroke=\"black\" points=\"1089.18,-63.6417 1087.19,-53.2367 1082.26,-62.6158 1089.18,-63.6417\"/>\r\n",
       "</g>\r\n",
       "<!-- 24 -->\r\n",
       "<g id=\"node25\" class=\"node\"><title>24</title>\r\n",
       "<polygon fill=\"none\" stroke=\"black\" points=\"1334,-53 1182,-53 1182,-0 1334,-0 1334,-53\"/>\r\n",
       "<text text-anchor=\"middle\" x=\"1258\" y=\"-37.8\" font-family=\"Times New Roman,serif\" font-size=\"14.00\">entropy = 0.997</text>\r\n",
       "<text text-anchor=\"middle\" x=\"1258\" y=\"-22.8\" font-family=\"Times New Roman,serif\" font-size=\"14.00\">samples = 76</text>\r\n",
       "<text text-anchor=\"middle\" x=\"1258\" y=\"-7.8\" font-family=\"Times New Roman,serif\" font-size=\"14.00\">value = [39.463, 35.009]</text>\r\n",
       "</g>\r\n",
       "<!-- 22&#45;&gt;24 -->\r\n",
       "<g id=\"edge24\" class=\"edge\"><title>22&#45;&gt;24</title>\r\n",
       "<path fill=\"none\" stroke=\"black\" d=\"M1140.31,-88.9485C1159.75,-78.794 1181.05,-67.675 1200.12,-57.7203\"/>\r\n",
       "<polygon fill=\"black\" stroke=\"black\" points=\"1201.75,-60.8175 1208.99,-53.0867 1198.51,-54.6123 1201.75,-60.8175\"/>\r\n",
       "</g>\r\n",
       "<!-- 27 -->\r\n",
       "<g id=\"node28\" class=\"node\"><title>27</title>\r\n",
       "<polygon fill=\"none\" stroke=\"black\" points=\"1325,-253.5 1173,-253.5 1173,-200.5 1325,-200.5 1325,-253.5\"/>\r\n",
       "<text text-anchor=\"middle\" x=\"1249\" y=\"-238.3\" font-family=\"Times New Roman,serif\" font-size=\"14.00\">entropy = 0.979</text>\r\n",
       "<text text-anchor=\"middle\" x=\"1249\" y=\"-223.3\" font-family=\"Times New Roman,serif\" font-size=\"14.00\">samples = 76</text>\r\n",
       "<text text-anchor=\"middle\" x=\"1249\" y=\"-208.3\" font-family=\"Times New Roman,serif\" font-size=\"14.00\">value = [33.506, 47.186]</text>\r\n",
       "</g>\r\n",
       "<!-- 26&#45;&gt;27 -->\r\n",
       "<g id=\"edge27\" class=\"edge\"><title>26&#45;&gt;27</title>\r\n",
       "<path fill=\"none\" stroke=\"black\" d=\"M1249,-296.884C1249,-286.326 1249,-274.597 1249,-263.854\"/>\r\n",
       "<polygon fill=\"black\" stroke=\"black\" points=\"1252.5,-263.52 1249,-253.52 1245.5,-263.52 1252.5,-263.52\"/>\r\n",
       "</g>\r\n",
       "<!-- 28 -->\r\n",
       "<g id=\"node29\" class=\"node\"><title>28</title>\r\n",
       "<polygon fill=\"none\" stroke=\"black\" points=\"1502.5,-261 1343.5,-261 1343.5,-193 1502.5,-193 1502.5,-261\"/>\r\n",
       "<text text-anchor=\"middle\" x=\"1423\" y=\"-245.8\" font-family=\"Times New Roman,serif\" font-size=\"14.00\">PAM &lt;= 93.419</text>\r\n",
       "<text text-anchor=\"middle\" x=\"1423\" y=\"-230.8\" font-family=\"Times New Roman,serif\" font-size=\"14.00\">entropy = 0.596</text>\r\n",
       "<text text-anchor=\"middle\" x=\"1423\" y=\"-215.8\" font-family=\"Times New Roman,serif\" font-size=\"14.00\">samples = 179</text>\r\n",
       "<text text-anchor=\"middle\" x=\"1423\" y=\"-200.8\" font-family=\"Times New Roman,serif\" font-size=\"14.00\">value = [34.251, 202.444]</text>\r\n",
       "</g>\r\n",
       "<!-- 26&#45;&gt;28 -->\r\n",
       "<g id=\"edge28\" class=\"edge\"><title>26&#45;&gt;28</title>\r\n",
       "<path fill=\"none\" stroke=\"black\" d=\"M1305.49,-296.884C1322.14,-287.125 1340.49,-276.366 1357.65,-266.31\"/>\r\n",
       "<polygon fill=\"black\" stroke=\"black\" points=\"1359.64,-269.201 1366.49,-261.125 1356.1,-263.163 1359.64,-269.201\"/>\r\n",
       "</g>\r\n",
       "<!-- 29 -->\r\n",
       "<g id=\"node30\" class=\"node\"><title>29</title>\r\n",
       "<polygon fill=\"none\" stroke=\"black\" points=\"1491,-149.5 1345,-149.5 1345,-96.5 1491,-96.5 1491,-149.5\"/>\r\n",
       "<text text-anchor=\"middle\" x=\"1418\" y=\"-134.3\" font-family=\"Times New Roman,serif\" font-size=\"14.00\">entropy = 0.766</text>\r\n",
       "<text text-anchor=\"middle\" x=\"1418\" y=\"-119.3\" font-family=\"Times New Roman,serif\" font-size=\"14.00\">samples = 100</text>\r\n",
       "<text text-anchor=\"middle\" x=\"1418\" y=\"-104.3\" font-family=\"Times New Roman,serif\" font-size=\"14.00\">value = [27.55, 95.894]</text>\r\n",
       "</g>\r\n",
       "<!-- 28&#45;&gt;29 -->\r\n",
       "<g id=\"edge29\" class=\"edge\"><title>28&#45;&gt;29</title>\r\n",
       "<path fill=\"none\" stroke=\"black\" d=\"M1421.38,-192.884C1420.85,-182.216 1420.27,-170.352 1419.74,-159.519\"/>\r\n",
       "<polygon fill=\"black\" stroke=\"black\" points=\"1423.24,-159.337 1419.25,-149.52 1416.24,-159.679 1423.24,-159.337\"/>\r\n",
       "</g>\r\n",
       "<!-- 30 -->\r\n",
       "<g id=\"node31\" class=\"node\"><title>30</title>\r\n",
       "<polygon fill=\"none\" stroke=\"black\" points=\"1661,-149.5 1509,-149.5 1509,-96.5 1661,-96.5 1661,-149.5\"/>\r\n",
       "<text text-anchor=\"middle\" x=\"1585\" y=\"-134.3\" font-family=\"Times New Roman,serif\" font-size=\"14.00\">entropy = 0.324</text>\r\n",
       "<text text-anchor=\"middle\" x=\"1585\" y=\"-119.3\" font-family=\"Times New Roman,serif\" font-size=\"14.00\">samples = 79</text>\r\n",
       "<text text-anchor=\"middle\" x=\"1585\" y=\"-104.3\" font-family=\"Times New Roman,serif\" font-size=\"14.00\">value = [6.701, 106.549]</text>\r\n",
       "</g>\r\n",
       "<!-- 28&#45;&gt;30 -->\r\n",
       "<g id=\"edge30\" class=\"edge\"><title>28&#45;&gt;30</title>\r\n",
       "<path fill=\"none\" stroke=\"black\" d=\"M1475.6,-192.884C1494.99,-180.676 1516.86,-166.903 1535.93,-154.899\"/>\r\n",
       "<polygon fill=\"black\" stroke=\"black\" points=\"1537.87,-157.81 1544.47,-149.52 1534.14,-151.886 1537.87,-157.81\"/>\r\n",
       "</g>\r\n",
       "</g>\r\n",
       "</svg>\r\n"
      ],
      "text/plain": [
       "<graphviz.files.Source at 0x1e30dc50860>"
      ]
     },
     "execution_count": 32,
     "metadata": {},
     "output_type": "execute_result"
    }
   ],
   "source": [
    "# Nombres:\n",
    "Xnom=data[var_predictivas]\n",
    "\n",
    "# Árbol:\n",
    "tree.export_graphviz(tr_clf, out_file=\"tree_clf_TRI.dot\", feature_names=Xnom.columns)\n",
    "with open(\"tree_clf_TRI.dot\") as f:\n",
    "    dot_graph = f.read()\n",
    "graphviz.Source(dot_graph)"
   ]
  },
  {
   "cell_type": "code",
   "execution_count": null,
   "metadata": {},
   "outputs": [],
   "source": []
  },
  {
   "cell_type": "code",
   "execution_count": null,
   "metadata": {},
   "outputs": [],
   "source": []
  },
  {
   "cell_type": "markdown",
   "metadata": {},
   "source": [
    "### Funciones para contruir la matriz de confusión"
   ]
  },
  {
   "cell_type": "code",
   "execution_count": 21,
   "metadata": {},
   "outputs": [],
   "source": [
    "def heatmap(data, row_labels, col_labels, ax=None,\n",
    "            cbar_kw={}, cbarlabel=\"\", **kwargs):\n",
    "    \"\"\"\n",
    "    Create a heatmap from a numpy array and two lists of labels.\n",
    "\n",
    "    Parameters\n",
    "    ----------\n",
    "    data\n",
    "        A 2D numpy array of shape (N, M).\n",
    "    row_labels\n",
    "        A list or array of length N with the labels for the rows.\n",
    "    col_labels\n",
    "        A list or array of length M with the labels for the columns.\n",
    "    ax\n",
    "        A `matplotlib.axes.Axes` instance to which the heatmap is plotted.  If\n",
    "        not provided, use current axes or create a new one.  Optional.\n",
    "    cbar_kw\n",
    "        A dictionary with arguments to `matplotlib.Figure.colorbar`.  Optional.\n",
    "    cbarlabel\n",
    "        The label for the colorbar.  Optional.\n",
    "    **kwargs\n",
    "        All other arguments are forwarded to `imshow`.\n",
    "    \"\"\"\n",
    "\n",
    "    if not ax:\n",
    "        ax = plt.gca()\n",
    "\n",
    "    # Plot the heatmap\n",
    "    im = ax.imshow(data, **kwargs)\n",
    "\n",
    "    # Create colorbar\n",
    "    cbar = ax.figure.colorbar(im, ax=ax, **cbar_kw)\n",
    "    cbar.ax.set_ylabel(cbarlabel, rotation=-90, va=\"bottom\")\n",
    "\n",
    "    # We want to show all ticks...\n",
    "    ax.set_xticks(np.arange(data.shape[1]))\n",
    "    ax.set_yticks(np.arange(data.shape[0]))\n",
    "    # ... and label them with the respective list entries.\n",
    "    ax.set_xticklabels(col_labels)\n",
    "    ax.set_yticklabels(row_labels)\n",
    "\n",
    "    # Let the horizontal axes labeling appear on top.\n",
    "    ax.tick_params(top=False, bottom=True,\n",
    "                   labeltop=False, labelbottom=True)\n",
    "\n",
    "    return im, cbar\n",
    "\n",
    "\n",
    "def annotate_heatmap(im, data=None, valfmt=\"{x:.2f}\",\n",
    "                     textcolors=[\"black\", \"white\"],\n",
    "                     threshold=None, **textkw):\n",
    "    \"\"\"\n",
    "    A function to annotate a heatmap.\n",
    "\n",
    "    Parameters\n",
    "    ----------\n",
    "    im\n",
    "        The AxesImage to be labeled.\n",
    "    data\n",
    "        Data used to annotate.  If None, the image's data is used.  Optional.\n",
    "    valfmt\n",
    "        The format of the annotations inside the heatmap.  This should either\n",
    "        use the string format method, e.g. \"$ {x:.2f}\", or be a\n",
    "        `matplotlib.ticker.Formatter`.  Optional.\n",
    "    textcolors\n",
    "        A list or array of two color specifications.  The first is used for\n",
    "        values below a threshold, the second for those above.  Optional.\n",
    "    threshold\n",
    "        Value in data units according to which the colors from textcolors are\n",
    "        applied.  If None (the default) uses the middle of the colormap as\n",
    "        separation.  Optional.\n",
    "    **kwargs\n",
    "        All other arguments are forwarded to each call to `text` used to create\n",
    "        the text labels.\n",
    "    \"\"\"\n",
    "\n",
    "    if not isinstance(data, (list, np.ndarray)):\n",
    "        data = im.get_array()\n",
    "\n",
    "    # Normalize the threshold to the images color range.\n",
    "    if threshold is not None:\n",
    "        threshold = im.norm(threshold)\n",
    "    else:\n",
    "        threshold = im.norm(data.max())/2.\n",
    "\n",
    "    # Set default alignment to center, but allow it to be\n",
    "    # overwritten by textkw.\n",
    "    kw = dict(horizontalalignment=\"center\",\n",
    "              verticalalignment=\"center\")\n",
    "    kw.update(textkw)\n",
    "\n",
    "    # Get the formatter in case a string is supplied\n",
    "    if isinstance(valfmt, str):\n",
    "        valfmt = matplotlib.ticker.StrMethodFormatter(valfmt)\n",
    "\n",
    "    # Loop over the data and create a `Text` for each \"pixel\".\n",
    "    # Change the text's color depending on the data.\n",
    "    texts = []\n",
    "    for i in range(data.shape[0]):\n",
    "        for j in range(data.shape[1]):\n",
    "            kw.update(color=textcolors[int(im.norm(data[i, j]) > threshold)])\n",
    "            text = im.axes.text(j, i, valfmt(data[i, j], None), **kw)\n",
    "            texts.append(text)\n",
    "\n",
    "    return texts  "
   ]
  }
 ],
 "metadata": {
  "kernelspec": {
   "display_name": "Python 3",
   "language": "python",
   "name": "python3"
  },
  "language_info": {
   "codemirror_mode": {
    "name": "ipython",
    "version": 3
   },
   "file_extension": ".py",
   "mimetype": "text/x-python",
   "name": "python",
   "nbconvert_exporter": "python",
   "pygments_lexer": "ipython3",
   "version": "3.7.1"
  }
 },
 "nbformat": 4,
 "nbformat_minor": 2
}
