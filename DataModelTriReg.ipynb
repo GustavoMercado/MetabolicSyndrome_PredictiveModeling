{
 "cells": [
  {
   "cell_type": "markdown",
   "metadata": {},
   "source": [
    "### Librerías utilizadas"
   ]
  },
  {
   "cell_type": "code",
   "execution_count": 1,
   "metadata": {},
   "outputs": [],
   "source": [
    "import pandas as pd\n",
    "import numpy as np\n",
    "import matplotlib.pyplot as plt\n",
    "\n",
    "from sklearn.model_selection import train_test_split\n",
    "from sklearn.model_selection import RandomizedSearchCV,GridSearchCV\n",
    "\n",
    "from sklearn.tree import DecisionTreeRegressor\n",
    "from sklearn.ensemble import RandomForestRegressor\n",
    "from sklearn.ensemble import GradientBoostingRegressor\n",
    "from xgboost import XGBRegressor\n",
    "\n",
    "from sklearn.model_selection import cross_val_score\n",
    "from sklearn.metrics import mean_squared_error"
   ]
  },
  {
   "cell_type": "markdown",
   "metadata": {},
   "source": [
    "### Datos utilizados"
   ]
  },
  {
   "cell_type": "markdown",
   "metadata": {},
   "source": [
    "Se importan los datos que resultaron del proceso de preparación de datos:"
   ]
  },
  {
   "cell_type": "code",
   "execution_count": 2,
   "metadata": {},
   "outputs": [],
   "source": [
    "data = pd.read_csv('C:/Users/gusta/OneDrive/Documentos/Tesis/Datos/Datos_prep.csv') "
   ]
  },
  {
   "cell_type": "markdown",
   "metadata": {},
   "source": [
    "Se seleccionan las variables que serán utilizadas como variables dependientes:"
   ]
  },
  {
   "cell_type": "code",
   "execution_count": 3,
   "metadata": {},
   "outputs": [],
   "source": [
    "var_predictivas = ['CC','VFA','CC_GRAS','CC_MUSC','CC_HUES','CC_AGUA','PAS',\n",
    "                  'PAM','PESO','PAD','TALLA','GLU','IMC','TARGET_TRI']\n",
    "X = data[var_predictivas] \n",
    "y = data['TRI'] "
   ]
  },
  {
   "cell_type": "markdown",
   "metadata": {},
   "source": [
    "### Separación de datos"
   ]
  },
  {
   "cell_type": "markdown",
   "metadata": {},
   "source": [
    "Para evaluar mejor el rendimiento del modelo, es una buena estrategia dividir el conjunto de datos dos: un conjunto de entrenamiento (70%) y uno de prueba (30%)."
   ]
  },
  {
   "cell_type": "code",
   "execution_count": 4,
   "metadata": {},
   "outputs": [],
   "source": [
    "X_train, X_test, y_train, y_test = train_test_split(X,y, test_size=0.3, random_state=1)"
   ]
  },
  {
   "cell_type": "markdown",
   "metadata": {},
   "source": [
    "## Modelos supervisados para Regresión"
   ]
  },
  {
   "cell_type": "markdown",
   "metadata": {},
   "source": [
    "En esta sección se llevará a cabo la construcción de los modelos supervisados de Machine Learning que realicen una predicción de cual sería el valor de los Triglicéridos del paciente. "
   ]
  },
  {
   "cell_type": "markdown",
   "metadata": {},
   "source": [
    "### Árbol de decisión"
   ]
  },
  {
   "cell_type": "markdown",
   "metadata": {},
   "source": [
    "Se contruye un modelo de Árbol de Decisión usando Scikit-learn."
   ]
  },
  {
   "cell_type": "code",
   "execution_count": 5,
   "metadata": {},
   "outputs": [],
   "source": [
    "# Parámetros para el modelo:\n",
    "param_dict_tr= dict(criterion=['mse','friedman_mse','mae'], splitter=['best','random'],\n",
    "                 max_depth=range(2,30), max_features=range(2,14),\n",
    "                 max_leaf_nodes=range(5,35), min_samples_leaf=[0.05])\n",
    "\n",
    "# Se crea el árbol de decisión para regresión:\n",
    "tr_reg = DecisionTreeRegressor()\n",
    "\n",
    "# Autotuning del modelo:\n",
    "#grid_tr = GridSearchCV(cv=5, estimator=tr_reg, n_jobs=-1, \n",
    "#                       param_grid=param_dict_tr)\n",
    "#grid_tr.fit(X_train,y_train)\n",
    "#tr_reg = grid_tr.best_estimator_\n",
    "\n",
    "rsgrid_tr = RandomizedSearchCV(tr_reg, param_dict_tr, cv=20,\n",
    "                               n_iter=40, n_jobs=-1)\n",
    "rsgrid_tr.fit(X_train,y_train)\n",
    "tr_reg = rsgrid_tr.best_estimator_\n",
    "\n",
    "# Se entrena el árbol de decisión:\n",
    "tr_reg = tr_reg.fit(X_train,y_train)"
   ]
  },
  {
   "cell_type": "code",
   "execution_count": 6,
   "metadata": {},
   "outputs": [
    {
     "data": {
      "text/plain": [
       "DecisionTreeRegressor(max_depth=13, max_features=13, max_leaf_nodes=26,\n",
       "                      min_samples_leaf=0.05, splitter='random')"
      ]
     },
     "execution_count": 6,
     "metadata": {},
     "output_type": "execute_result"
    }
   ],
   "source": [
    "# Los mejores parámetros:\n",
    "#grid_tr.best_estimator_\n",
    "rsgrid_tr.best_estimator_"
   ]
  },
  {
   "cell_type": "markdown",
   "metadata": {},
   "source": [
    "### Random Forest"
   ]
  },
  {
   "cell_type": "markdown",
   "metadata": {},
   "source": [
    "Se contruye un modelo de Random Forest usando Scikit-learn."
   ]
  },
  {
   "cell_type": "code",
   "execution_count": 7,
   "metadata": {},
   "outputs": [],
   "source": [
    "# Parámetros para el modelo:\n",
    "param_dict_rf= dict(n_estimators=range(50,150), criterion=['mse','mae'],\n",
    "                 max_depth=range(20,30), max_features=range(2,14),\n",
    "                 max_leaf_nodes=range(5,20), min_samples_leaf=[0.05])\n",
    "\n",
    "# Se crea el Random Forest para regresión:\n",
    "rf_reg = RandomForestRegressor()\n",
    "\n",
    "#Autotuning del modelo:\n",
    "#grid_rf = GridSearchCV(cv=5, estimator=rf_reg, n_jobs=-1, \n",
    "#                       param_grid=param_dict_rf)\n",
    "#grid_rf.fit(X_train,y_train)\n",
    "#rf_reg = grid_rf.best_estimator_\n",
    "\n",
    "rsgrid_rf = RandomizedSearchCV(rf_reg, param_dict_rf, cv=20,\n",
    "                               n_iter=40, n_jobs=-1)\n",
    "rsgrid_rf.fit(X_train,y_train)\n",
    "rf_reg = rsgrid_rf.best_estimator_\n",
    "\n",
    "# Se entrena el Random Forest\n",
    "rf_reg = rf_reg.fit(X_train,y_train)"
   ]
  },
  {
   "cell_type": "code",
   "execution_count": 8,
   "metadata": {},
   "outputs": [
    {
     "data": {
      "text/plain": [
       "RandomForestRegressor(max_depth=23, max_features=11, max_leaf_nodes=5,\n",
       "                      min_samples_leaf=0.05, n_estimators=109)"
      ]
     },
     "execution_count": 8,
     "metadata": {},
     "output_type": "execute_result"
    }
   ],
   "source": [
    "# Los mejores parámetros:\n",
    "#grid_rf.best_estimator_\n",
    "rsgrid_rf.best_estimator_"
   ]
  },
  {
   "cell_type": "markdown",
   "metadata": {},
   "source": [
    "### Gradient Boosting"
   ]
  },
  {
   "cell_type": "markdown",
   "metadata": {},
   "source": [
    "Se contruye un modelo de Gradient Boosting usando Scikit-learn."
   ]
  },
  {
   "cell_type": "code",
   "execution_count": 10,
   "metadata": {},
   "outputs": [],
   "source": [
    "# Parámetros para el modelo:\n",
    "param_dict_gb= dict(loss=['ls','lad','huber','quantile'], \n",
    "                    criterion=['friedman_mse','mse','mae'], \n",
    "                    learning_rate=[0.05,0.10,0.15,0.20,0.25,0.30,0.5,0.8,1],\n",
    "                    max_depth=range(2,10), max_features=range(2,14),\n",
    "                    max_leaf_nodes=range(5,35), min_samples_leaf=[0.05],\n",
    "                    n_estimators=range(50,150))\n",
    "\n",
    "# Se crea el Gradient Boosting para regresión:\n",
    "gb_reg = GradientBoostingRegressor()\n",
    "\n",
    "#Autotuning del modelo:\n",
    "#grid_gb = GridSearchCV(cv=5, estimator=gb_reg, n_jobs=-1, \n",
    "#                       param_grid=param_dict_gb)\n",
    "#grid_gb.fit(X_train,y_train)\n",
    "#gb_reg = gb_reg.best_estimator_\n",
    "\n",
    "rsgrid_gb = RandomizedSearchCV(gb_reg, param_dict_gb, cv=20,\n",
    "                               n_iter=40, n_jobs=-1)\n",
    "rsgrid_gb.fit(X_train,y_train)\n",
    "gb_reg = rsgrid_gb.best_estimator_\n",
    "\n",
    "# Se entrena el Gradient Boosting\n",
    "gb_reg = gb_reg.fit(X_train,y_train)"
   ]
  },
  {
   "cell_type": "code",
   "execution_count": 11,
   "metadata": {},
   "outputs": [
    {
     "data": {
      "text/plain": [
       "GradientBoostingRegressor(criterion='mse', learning_rate=0.05, max_features=10,\n",
       "                          max_leaf_nodes=27, min_samples_leaf=0.05,\n",
       "                          n_estimators=134)"
      ]
     },
     "execution_count": 11,
     "metadata": {},
     "output_type": "execute_result"
    }
   ],
   "source": [
    "# Los mejores parámetros:\n",
    "#grid_gb.best_estimator_\n",
    "rsgrid_gb.best_estimator_"
   ]
  },
  {
   "cell_type": "markdown",
   "metadata": {},
   "source": [
    "### XGBoost"
   ]
  },
  {
   "cell_type": "markdown",
   "metadata": {},
   "source": [
    "Se contruye un modelo de Gradient Boosting usando Scikit-learn."
   ]
  },
  {
   "cell_type": "code",
   "execution_count": 12,
   "metadata": {},
   "outputs": [],
   "source": [
    "# Parámetros para el modelo:\n",
    "param_dict_xgb= {'eta': [0.05, 0.10, 0.15, 0.20, 0.25, 0.30],\n",
    "                 'max_depth':[3,4,5,6,8,10,12,15],\n",
    "                 'min_child_weight': [1,3,5,7],\n",
    "                 'gamma': [0.0,0.1,0.2,0.3,0.4],\n",
    "                 'colsample_bytree': [0.3,0.4,0.5,0.7],\n",
    "                 'n_estimators': range(50,150)}\n",
    "\n",
    "# Se crea el XGBoost para regresión:\n",
    "xg_reg = XGBRegressor()\n",
    "\n",
    "#Autotuning del modelo:\n",
    "#grid_xgb = GridSearchCV(cv=5, estimator=xg_reg, n_jobs=-1, \n",
    "#                        param_grid=param_dict_xgb)\n",
    "#grid_xgb.fit(X_train,y_train)\n",
    "#xg_reg = grid_xgb.best_estimator_\n",
    "\n",
    "rsgrid_xgb = RandomizedSearchCV(xg_reg, param_dict_xgb, cv=20,\n",
    "                                n_iter=40, n_jobs=-1)\n",
    "rsgrid_xgb.fit(X_train,y_train)\n",
    "xg_reg = rsgrid_xgb.best_estimator_\n",
    "\n",
    "# Se entrena el XGBoost:\n",
    "xg_reg = xg_reg.fit(X_train,y_train)"
   ]
  },
  {
   "cell_type": "code",
   "execution_count": 13,
   "metadata": {},
   "outputs": [
    {
     "data": {
      "text/plain": [
       "XGBRegressor(base_score=0.5, booster='gbtree', colsample_bylevel=1,\n",
       "             colsample_bynode=1, colsample_bytree=0.5, eta=0.1, gamma=0.3,\n",
       "             gpu_id=-1, importance_type='gain', interaction_constraints='',\n",
       "             learning_rate=0.100000001, max_delta_step=0, max_depth=3,\n",
       "             min_child_weight=1, missing=nan, monotone_constraints='()',\n",
       "             n_estimators=125, n_jobs=0, num_parallel_tree=1, random_state=0,\n",
       "             reg_alpha=0, reg_lambda=1, scale_pos_weight=1, subsample=1,\n",
       "             tree_method='exact', validate_parameters=1, verbosity=None)"
      ]
     },
     "execution_count": 13,
     "metadata": {},
     "output_type": "execute_result"
    }
   ],
   "source": [
    "# Los mejores parámetros:\n",
    "#grid_xgb.best_estimator_\n",
    "rsgrid_xgb.best_estimator_"
   ]
  },
  {
   "cell_type": "markdown",
   "metadata": {},
   "source": [
    "### Estadísticos de precisión"
   ]
  },
  {
   "cell_type": "markdown",
   "metadata": {},
   "source": [
    "A continuación, se muestran los estadísticos MSE y R2:"
   ]
  },
  {
   "cell_type": "code",
   "execution_count": 14,
   "metadata": {},
   "outputs": [
    {
     "name": "stdout",
     "output_type": "stream",
     "text": [
      "Decision Tree R-squared: 0.61\n",
      "Decision Tree MSE: 1373.16\n",
      "Random Forest R-squared: 0.59\n",
      "Random Forest MSE: 1447.82\n",
      "Gradient Boosting R-squared: 0.61\n",
      "Gradient Boosting MSE: 1375.20\n",
      "XGBoost R-squared: 0.55\n",
      "XGBoost MSE: 1580.89\n"
     ]
    }
   ],
   "source": [
    "modelos = [{'label':'Decision Tree','modelo':tr_reg,},\n",
    "           {'label':'Random Forest','modelo':rf_reg,},\n",
    "           {'label':'Gradient Boosting','modelo':gb_reg,},\n",
    "           {'label':'XGBoost','modelo':xg_reg,}]\n",
    "\n",
    "for m in modelos:\n",
    "    modelo = m['modelo']\n",
    "    R2 =  modelo.score(X_test, y_test)\n",
    "    y_pred = modelo.predict(X_test)\n",
    "    print('%s R-squared: %0.2f' % (m['label'], R2))\n",
    "    print(\"%s MSE: %.2f\" % (m['label'],mean_squared_error(y_test,y_pred)))"
   ]
  },
  {
   "cell_type": "markdown",
   "metadata": {},
   "source": [
    "Por último, se muestran los valores pronosticados por el modelo con mejor desempeño y se comparan con los valores reales. "
   ]
  },
  {
   "cell_type": "code",
   "execution_count": 21,
   "metadata": {},
   "outputs": [
    {
     "data": {
      "text/html": [
       "<div>\n",
       "<style scoped>\n",
       "    .dataframe tbody tr th:only-of-type {\n",
       "        vertical-align: middle;\n",
       "    }\n",
       "\n",
       "    .dataframe tbody tr th {\n",
       "        vertical-align: top;\n",
       "    }\n",
       "\n",
       "    .dataframe thead th {\n",
       "        text-align: right;\n",
       "    }\n",
       "</style>\n",
       "<table border=\"1\" class=\"dataframe\">\n",
       "  <thead>\n",
       "    <tr style=\"text-align: right;\">\n",
       "      <th></th>\n",
       "      <th>TRI</th>\n",
       "      <th>TRI_pred</th>\n",
       "    </tr>\n",
       "  </thead>\n",
       "  <tbody>\n",
       "    <tr>\n",
       "      <th>0</th>\n",
       "      <td>80</td>\n",
       "      <td>83.658730</td>\n",
       "    </tr>\n",
       "    <tr>\n",
       "      <th>1</th>\n",
       "      <td>47</td>\n",
       "      <td>80.680672</td>\n",
       "    </tr>\n",
       "    <tr>\n",
       "      <th>2</th>\n",
       "      <td>71</td>\n",
       "      <td>93.677686</td>\n",
       "    </tr>\n",
       "    <tr>\n",
       "      <th>3</th>\n",
       "      <td>181</td>\n",
       "      <td>209.818182</td>\n",
       "    </tr>\n",
       "    <tr>\n",
       "      <th>4</th>\n",
       "      <td>107</td>\n",
       "      <td>98.164706</td>\n",
       "    </tr>\n",
       "    <tr>\n",
       "      <th>...</th>\n",
       "      <td>...</td>\n",
       "      <td>...</td>\n",
       "    </tr>\n",
       "    <tr>\n",
       "      <th>523</th>\n",
       "      <td>75</td>\n",
       "      <td>80.680672</td>\n",
       "    </tr>\n",
       "    <tr>\n",
       "      <th>524</th>\n",
       "      <td>50</td>\n",
       "      <td>93.677686</td>\n",
       "    </tr>\n",
       "    <tr>\n",
       "      <th>525</th>\n",
       "      <td>105</td>\n",
       "      <td>93.677686</td>\n",
       "    </tr>\n",
       "    <tr>\n",
       "      <th>526</th>\n",
       "      <td>78</td>\n",
       "      <td>80.680672</td>\n",
       "    </tr>\n",
       "    <tr>\n",
       "      <th>527</th>\n",
       "      <td>55</td>\n",
       "      <td>85.405172</td>\n",
       "    </tr>\n",
       "  </tbody>\n",
       "</table>\n",
       "<p>528 rows × 2 columns</p>\n",
       "</div>"
      ],
      "text/plain": [
       "     TRI    TRI_pred\n",
       "0     80   83.658730\n",
       "1     47   80.680672\n",
       "2     71   93.677686\n",
       "3    181  209.818182\n",
       "4    107   98.164706\n",
       "..   ...         ...\n",
       "523   75   80.680672\n",
       "524   50   93.677686\n",
       "525  105   93.677686\n",
       "526   78   80.680672\n",
       "527   55   85.405172\n",
       "\n",
       "[528 rows x 2 columns]"
      ]
     },
     "execution_count": 21,
     "metadata": {},
     "output_type": "execute_result"
    }
   ],
   "source": [
    "y_pred = pd.DataFrame(tr_reg.predict(X_test),columns=['TRI_pred'])\n",
    "y_test.reset_index(inplace=True, drop=True)\n",
    "datos_pronosticados = pd.concat([y_test,y_pred], axis=1)\n",
    "datos_pronosticados"
   ]
  },
  {
   "cell_type": "code",
   "execution_count": 22,
   "metadata": {},
   "outputs": [],
   "source": [
    "writer = pd.ExcelWriter('Predicciones.xlsx', engine='xlsxwriter')\n",
    "datos_pronosticados.to_excel(writer, sheet_name='Sheet1')\n",
    "writer.save()"
   ]
  },
  {
   "cell_type": "code",
   "execution_count": null,
   "metadata": {},
   "outputs": [],
   "source": []
  }
 ],
 "metadata": {
  "kernelspec": {
   "display_name": "Python 3",
   "language": "python",
   "name": "python3"
  },
  "language_info": {
   "codemirror_mode": {
    "name": "ipython",
    "version": 3
   },
   "file_extension": ".py",
   "mimetype": "text/x-python",
   "name": "python",
   "nbconvert_exporter": "python",
   "pygments_lexer": "ipython3",
   "version": "3.7.1"
  }
 },
 "nbformat": 4,
 "nbformat_minor": 2
}
