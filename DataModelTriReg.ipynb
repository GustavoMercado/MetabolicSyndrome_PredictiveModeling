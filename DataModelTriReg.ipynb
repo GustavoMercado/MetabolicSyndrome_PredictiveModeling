{
 "cells": [
  {
   "cell_type": "markdown",
   "metadata": {},
   "source": [
    "En esta sección se llevará a cabo la construcción de los modelos supervisados de Machine Learning que realicen una predicción de cuál sería el valor de los Triglicéridos de los pacientes. "
   ]
  },
  {
   "cell_type": "markdown",
   "metadata": {},
   "source": [
    "### Librerías utilizadas"
   ]
  },
  {
   "cell_type": "code",
   "execution_count": 1,
   "metadata": {},
   "outputs": [],
   "source": [
    "import pandas as pd\n",
    "import numpy as np\n",
    "import matplotlib.pyplot as plt\n",
    "\n",
    "from sklearn.model_selection import train_test_split\n",
    "from sklearn.model_selection import RandomizedSearchCV,GridSearchCV\n",
    "\n",
    "from sklearn import tree\n",
    "from sklearn.tree import DecisionTreeRegressor\n",
    "from sklearn.ensemble import RandomForestRegressor\n",
    "from sklearn.ensemble import GradientBoostingRegressor\n",
    "from xgboost import XGBRegressor\n",
    "\n",
    "from sklearn.model_selection import cross_val_score\n",
    "from sklearn.metrics import mean_squared_error\n",
    "\n",
    "#conda install python-graphviz\n",
    "import graphviz"
   ]
  },
  {
   "cell_type": "markdown",
   "metadata": {},
   "source": [
    "### Datos utilizados"
   ]
  },
  {
   "cell_type": "markdown",
   "metadata": {},
   "source": [
    "Se importan los datos que resultaron del proceso de preparación de datos."
   ]
  },
  {
   "cell_type": "code",
   "execution_count": 2,
   "metadata": {},
   "outputs": [],
   "source": [
    "data = pd.read_csv('C:/Users/gusta/OneDrive/Documentos/Tesis/Datos/Datos_prep.csv') "
   ]
  },
  {
   "cell_type": "markdown",
   "metadata": {},
   "source": [
    "Se seleccionan las variables que serán utilizadas como variables dependientes."
   ]
  },
  {
   "cell_type": "code",
   "execution_count": 3,
   "metadata": {},
   "outputs": [],
   "source": [
    "var_predictivas = ['CC','VFA','CC_GRAS','CC_MUSC','CC_AGUA','PAM',\n",
    "                   'TALLA','IMC','TARGET_TRI']\n",
    "X = data[var_predictivas] \n",
    "y = data['TRI'] "
   ]
  },
  {
   "cell_type": "markdown",
   "metadata": {},
   "source": [
    "### Separación de datos"
   ]
  },
  {
   "cell_type": "markdown",
   "metadata": {},
   "source": [
    "En el modelado predictivo, la estrategia estándar para una evaluación honesta del rendimiento de los modelos se da a través de la separación de los datos en dos subconjuntos. Una parte de la fuente de datos se utiliza para ajustar los modelos: el conjunto de datos de entrenamiento. El resto de la fuente de datos se utiliza para dar una estimación honesta final de la generalizacion de los modelos: el conjunto de datos de validación.\n",
    "\n",
    "Para el presente trabajo el conjunto de entrenamiento representará el 70% de los datos originales y el conjunto de validación tendrá el 30% restante."
   ]
  },
  {
   "cell_type": "code",
   "execution_count": 4,
   "metadata": {},
   "outputs": [],
   "source": [
    "X_train, X_test, y_train, y_test = train_test_split(X,y, test_size=0.3, random_state=1)"
   ]
  },
  {
   "cell_type": "markdown",
   "metadata": {},
   "source": [
    "## Modelos supervisados para Regresión"
   ]
  },
  {
   "cell_type": "markdown",
   "metadata": {},
   "source": [
    "Acorde a lo presentado anteriormente, se utilizarán modelos basados en árboles."
   ]
  },
  {
   "cell_type": "markdown",
   "metadata": {},
   "source": [
    "### Árbol de decisión"
   ]
  },
  {
   "cell_type": "markdown",
   "metadata": {},
   "source": [
    "El primer modelo que se contruye es un Árbol de Decisión, de la librería Scikit-learn, además, se hace uso del método \"RandomizedSearchCV\" para encontrar los parámetros óptimos para el modelo, usando el Coeficiente de Determinación como métrica para la medición del performance de los modelos."
   ]
  },
  {
   "cell_type": "code",
   "execution_count": 5,
   "metadata": {},
   "outputs": [],
   "source": [
    "# Parámetros para el modelo:\n",
    "param_dict_tr= dict(criterion=['mse','friedman_mse','mae'], \n",
    "                    splitter=['best','random'], max_depth=range(2,30),\n",
    "                    max_features=range(2,10), min_samples_leaf=[0.05])\n",
    "\n",
    "# Se crea el árbol de decisión para regresión:\n",
    "tr_reg = DecisionTreeRegressor()\n",
    "\n",
    "# Autotuning del modelo:\n",
    "rsgrid_tr = RandomizedSearchCV(tr_reg, param_dict_tr, cv=20, n_iter=40, \n",
    "                               n_jobs=-1, scoring='r2')\n",
    "rsgrid_tr.fit(X_train,y_train)\n",
    "tr_reg = rsgrid_tr.best_estimator_\n",
    "\n",
    "# Se entrena el árbol de decisión:\n",
    "tr_reg = tr_reg.fit(X_train,y_train)"
   ]
  },
  {
   "cell_type": "markdown",
   "metadata": {},
   "source": [
    "A continuación, se muestran los parámetros del Árbol de Decisión con los cuales se maximizó el valor la R-cuadrada."
   ]
  },
  {
   "cell_type": "code",
   "execution_count": 6,
   "metadata": {},
   "outputs": [
    {
     "data": {
      "text/plain": [
       "DecisionTreeRegressor(criterion='friedman_mse', max_depth=22, max_features=9,\n",
       "                      min_samples_leaf=0.05, splitter='random')"
      ]
     },
     "execution_count": 6,
     "metadata": {},
     "output_type": "execute_result"
    }
   ],
   "source": [
    "rsgrid_tr.best_estimator_"
   ]
  },
  {
   "cell_type": "markdown",
   "metadata": {},
   "source": [
    "### Random Forest"
   ]
  },
  {
   "cell_type": "markdown",
   "metadata": {},
   "source": [
    "El segundo modelo que se contruye es un Random Forest, de la librería Scikit-learn, además, se hace uso del método \"RandomizedSearchCV\" para encontrar los parámetros óptimos para el modelo, usando el Coeficiente de Determinación como métrica para la medición del performance de los modelos."
   ]
  },
  {
   "cell_type": "code",
   "execution_count": 7,
   "metadata": {},
   "outputs": [],
   "source": [
    "# Parámetros para el modelo:\n",
    "param_dict_rf= dict(n_estimators=range(50,150), criterion=['mse','mae'],\n",
    "                    max_depth=range(20,30), max_features=range(2,10),\n",
    "                    min_samples_leaf=[0.05])\n",
    "\n",
    "# Se crea el Random Forest para regresión:\n",
    "rf_reg = RandomForestRegressor()\n",
    "\n",
    "#Autotuning del modelo:\n",
    "rsgrid_rf = RandomizedSearchCV(rf_reg, param_dict_rf, cv=20, n_iter=40, \n",
    "                               n_jobs=-1, scoring='r2')\n",
    "rsgrid_rf.fit(X_train,y_train)\n",
    "rf_reg = rsgrid_rf.best_estimator_\n",
    "\n",
    "# Se entrena el Random Forest\n",
    "rf_reg = rf_reg.fit(X_train,y_train)"
   ]
  },
  {
   "cell_type": "markdown",
   "metadata": {},
   "source": [
    "A continuación, se muestran los parámetros del Random Forest con los cuales se maximizó el valor la R-cuadrada."
   ]
  },
  {
   "cell_type": "code",
   "execution_count": 8,
   "metadata": {},
   "outputs": [
    {
     "data": {
      "text/plain": [
       "RandomForestRegressor(max_depth=23, max_features=7, min_samples_leaf=0.05,\n",
       "                      n_estimators=65)"
      ]
     },
     "execution_count": 8,
     "metadata": {},
     "output_type": "execute_result"
    }
   ],
   "source": [
    "rsgrid_rf.best_estimator_"
   ]
  },
  {
   "cell_type": "markdown",
   "metadata": {},
   "source": [
    "### Gradient Boosting"
   ]
  },
  {
   "cell_type": "markdown",
   "metadata": {},
   "source": [
    "El tercer modelo que se contruye es un Gradient Boosting, de la librería Scikit-learn, además, se hace uso del método \"RandomizedSearchCV\" para encontrar los parámetros óptimos para el modelo, usando el Coeficiente de Determinación como métrica para la medición del performance de los modelos."
   ]
  },
  {
   "cell_type": "code",
   "execution_count": 9,
   "metadata": {},
   "outputs": [],
   "source": [
    "# Parámetros para el modelo:\n",
    "param_dict_gb= dict(criterion=['friedman_mse','mse','mae'],\n",
    "                    loss=['ls','lad','huber','quantile'], \n",
    "                    learning_rate=[0.05,0.10,0.15,0.20,0.25,0.30,0.5,0.8,1],\n",
    "                    max_depth=range(2,10), max_features=range(2,10),\n",
    "                    min_samples_leaf=[0.05], n_estimators=range(50,150))\n",
    "\n",
    "# Se crea el Gradient Boosting para regresión:\n",
    "gb_reg = GradientBoostingRegressor()\n",
    "\n",
    "#Autotuning del modelo:\n",
    "rsgrid_gb = RandomizedSearchCV(gb_reg, param_dict_gb, cv=20, n_iter=40, \n",
    "                               n_jobs=-1, scoring='r2')\n",
    "rsgrid_gb.fit(X_train,y_train)\n",
    "gb_reg = rsgrid_gb.best_estimator_\n",
    "\n",
    "# Se entrena el Gradient Boosting\n",
    "gb_reg = gb_reg.fit(X_train,y_train)"
   ]
  },
  {
   "cell_type": "markdown",
   "metadata": {},
   "source": [
    "A continuación, se muestran los parámetros del Gradient Boosting con los cuales se maximizó el valor la R-cuadrada."
   ]
  },
  {
   "cell_type": "code",
   "execution_count": 10,
   "metadata": {},
   "outputs": [
    {
     "data": {
      "text/plain": [
       "GradientBoostingRegressor(criterion='mse', learning_rate=0.05, max_depth=8,\n",
       "                          max_features=8, min_samples_leaf=0.05,\n",
       "                          n_estimators=92)"
      ]
     },
     "execution_count": 10,
     "metadata": {},
     "output_type": "execute_result"
    }
   ],
   "source": [
    "rsgrid_gb.best_estimator_"
   ]
  },
  {
   "cell_type": "markdown",
   "metadata": {},
   "source": [
    "### XGBoost"
   ]
  },
  {
   "cell_type": "markdown",
   "metadata": {},
   "source": [
    "El último modelo que se contruye es un XGBoost, de la librería XGBoost, además, se hace uso del método \"RandomizedSearchCV\" para encontrar los parámetros óptimos para el modelo, usando el Coeficiente de Determinación como métrica para la medición del performance de los modelos."
   ]
  },
  {
   "cell_type": "code",
   "execution_count": 11,
   "metadata": {},
   "outputs": [],
   "source": [
    "# Parámetros para el modelo:\n",
    "param_dict_xgb= dict(booster=['gbtree', 'dart'],\n",
    "                     eta=[0.05, 0.10, 0.15, 0.20, 0.25, 0.30],\n",
    "                     max_depth=range(20,30), n_estimators=range(50,150))\n",
    "\n",
    "# Se crea el XGBoost para regresión:\n",
    "xg_reg = XGBRegressor()\n",
    "\n",
    "#Autotuning del modelo:\n",
    "rsgrid_xgb = RandomizedSearchCV(xg_reg, param_dict_xgb, cv=20, n_iter=40, \n",
    "                                n_jobs=-1, scoring='r2')\n",
    "rsgrid_xgb.fit(X_train,y_train)\n",
    "xg_reg = rsgrid_xgb.best_estimator_\n",
    "\n",
    "# Se entrena el XGBoost:\n",
    "xg_reg = xg_reg.fit(X_train,y_train)"
   ]
  },
  {
   "cell_type": "markdown",
   "metadata": {},
   "source": [
    "A continuación, se muestran los parámetros del XGBoost con los cuales se maximizó el valor la R-cuadrada."
   ]
  },
  {
   "cell_type": "code",
   "execution_count": 12,
   "metadata": {},
   "outputs": [
    {
     "data": {
      "text/plain": [
       "XGBRegressor(base_score=0.5, booster='gbtree', colsample_bylevel=1,\n",
       "             colsample_bynode=1, colsample_bytree=1, eta=0.05, gamma=0,\n",
       "             gpu_id=-1, importance_type='gain', interaction_constraints='',\n",
       "             learning_rate=0.0500000007, max_delta_step=0, max_depth=26,\n",
       "             min_child_weight=1, missing=nan, monotone_constraints='()',\n",
       "             n_estimators=84, n_jobs=0, num_parallel_tree=1, random_state=0,\n",
       "             reg_alpha=0, reg_lambda=1, scale_pos_weight=1, subsample=1,\n",
       "             tree_method='exact', validate_parameters=1, verbosity=None)"
      ]
     },
     "execution_count": 12,
     "metadata": {},
     "output_type": "execute_result"
    }
   ],
   "source": [
    "rsgrid_xgb.best_estimator_"
   ]
  },
  {
   "cell_type": "markdown",
   "metadata": {},
   "source": [
    "### Estadísticos de precisión"
   ]
  },
  {
   "cell_type": "markdown",
   "metadata": {},
   "source": [
    "Para medir el desempeño de los modelos se utilizará el conjunto de datos de validación y se analizarán los estadísticos RMSE y el Coeficiente de Determinación de cada uno de los modelos."
   ]
  },
  {
   "cell_type": "code",
   "execution_count": 13,
   "metadata": {},
   "outputs": [
    {
     "name": "stdout",
     "output_type": "stream",
     "text": [
      "Decision Tree R-squared: 0.61\n",
      "Decision Tree RMSE: 36.97\n",
      "Random Forest R-squared: 0.61\n",
      "Random Forest RMSE: 37.00\n",
      "Gradient Boosting R-squared: 0.60\n",
      "Gradient Boosting RMSE: 37.68\n",
      "XGBoost R-squared: 0.41\n",
      "XGBoost RMSE: 45.43\n"
     ]
    }
   ],
   "source": [
    "modelos = [{'label':'Decision Tree','modelo':tr_reg,},\n",
    "           {'label':'Random Forest','modelo':rf_reg,},\n",
    "           {'label':'Gradient Boosting','modelo':gb_reg,},\n",
    "           {'label':'XGBoost','modelo':xg_reg,}]\n",
    "\n",
    "for m in modelos:\n",
    "    modelo = m['modelo']\n",
    "    R2 =  modelo.score(X_test, y_test)\n",
    "    y_pred = modelo.predict(X_test)\n",
    "    print('%s R-squared: %0.2f' % (m['label'], R2))\n",
    "    print(\"%s RMSE: %.2f\" % (m['label'],mean_squared_error(y_test,y_pred,squared=False)))"
   ]
  },
  {
   "cell_type": "markdown",
   "metadata": {},
   "source": [
    "Al analizar el Coeficiente de Determinación se puede observar que los primeros tres modelos son los que tienen un mejor desempeño y, dentro de estos tres modelos, los dos mejores son el Árbol de Decisión y el Random Forest. Para determinar cual de los dos es el modelo campeón, se analiza el RMSE y se selecciona aquel que tiene el error más chico, sin embargo, dado que la diferencia es tan pequeña en los dos, se decide optar por el Random Forest el cual, al ser un ensamble de árboles de decisión, es un modelo más robusto."
   ]
  },
  {
   "cell_type": "code",
   "execution_count": 14,
   "metadata": {},
   "outputs": [],
   "source": [
    "champion_model=rf_reg"
   ]
  },
  {
   "cell_type": "markdown",
   "metadata": {},
   "source": [
    "### Valores pronosticados"
   ]
  },
  {
   "cell_type": "markdown",
   "metadata": {},
   "source": [
    "A continuación, se muestran los valores de Triglicéridos (medidos a través de una química sanguínea) de los primeros 15 pacientes, pertenecientes al grupo utilizado para la validación del modelo, junto con los valores pronosticados por el modelo campeón."
   ]
  },
  {
   "cell_type": "code",
   "execution_count": 15,
   "metadata": {},
   "outputs": [
    {
     "data": {
      "text/html": [
       "<div>\n",
       "<style scoped>\n",
       "    .dataframe tbody tr th:only-of-type {\n",
       "        vertical-align: middle;\n",
       "    }\n",
       "\n",
       "    .dataframe tbody tr th {\n",
       "        vertical-align: top;\n",
       "    }\n",
       "\n",
       "    .dataframe thead th {\n",
       "        text-align: right;\n",
       "    }\n",
       "</style>\n",
       "<table border=\"1\" class=\"dataframe\">\n",
       "  <thead>\n",
       "    <tr style=\"text-align: right;\">\n",
       "      <th></th>\n",
       "      <th>TRI</th>\n",
       "      <th>TRI_pred</th>\n",
       "    </tr>\n",
       "  </thead>\n",
       "  <tbody>\n",
       "    <tr>\n",
       "      <th>0</th>\n",
       "      <td>80</td>\n",
       "      <td>86.011154</td>\n",
       "    </tr>\n",
       "    <tr>\n",
       "      <th>1</th>\n",
       "      <td>47</td>\n",
       "      <td>81.450798</td>\n",
       "    </tr>\n",
       "    <tr>\n",
       "      <th>2</th>\n",
       "      <td>71</td>\n",
       "      <td>93.136139</td>\n",
       "    </tr>\n",
       "    <tr>\n",
       "      <th>3</th>\n",
       "      <td>181</td>\n",
       "      <td>198.140109</td>\n",
       "    </tr>\n",
       "    <tr>\n",
       "      <th>4</th>\n",
       "      <td>107</td>\n",
       "      <td>106.339434</td>\n",
       "    </tr>\n",
       "    <tr>\n",
       "      <th>5</th>\n",
       "      <td>178</td>\n",
       "      <td>187.307481</td>\n",
       "    </tr>\n",
       "    <tr>\n",
       "      <th>6</th>\n",
       "      <td>96</td>\n",
       "      <td>79.264214</td>\n",
       "    </tr>\n",
       "    <tr>\n",
       "      <th>7</th>\n",
       "      <td>98</td>\n",
       "      <td>97.885221</td>\n",
       "    </tr>\n",
       "    <tr>\n",
       "      <th>8</th>\n",
       "      <td>65</td>\n",
       "      <td>90.044446</td>\n",
       "    </tr>\n",
       "    <tr>\n",
       "      <th>9</th>\n",
       "      <td>92</td>\n",
       "      <td>95.285338</td>\n",
       "    </tr>\n",
       "    <tr>\n",
       "      <th>10</th>\n",
       "      <td>54</td>\n",
       "      <td>81.260468</td>\n",
       "    </tr>\n",
       "    <tr>\n",
       "      <th>11</th>\n",
       "      <td>53</td>\n",
       "      <td>105.507304</td>\n",
       "    </tr>\n",
       "    <tr>\n",
       "      <th>12</th>\n",
       "      <td>304</td>\n",
       "      <td>200.428459</td>\n",
       "    </tr>\n",
       "    <tr>\n",
       "      <th>13</th>\n",
       "      <td>66</td>\n",
       "      <td>84.358221</td>\n",
       "    </tr>\n",
       "    <tr>\n",
       "      <th>14</th>\n",
       "      <td>112</td>\n",
       "      <td>97.752183</td>\n",
       "    </tr>\n",
       "  </tbody>\n",
       "</table>\n",
       "</div>"
      ],
      "text/plain": [
       "    TRI    TRI_pred\n",
       "0    80   86.011154\n",
       "1    47   81.450798\n",
       "2    71   93.136139\n",
       "3   181  198.140109\n",
       "4   107  106.339434\n",
       "5   178  187.307481\n",
       "6    96   79.264214\n",
       "7    98   97.885221\n",
       "8    65   90.044446\n",
       "9    92   95.285338\n",
       "10   54   81.260468\n",
       "11   53  105.507304\n",
       "12  304  200.428459\n",
       "13   66   84.358221\n",
       "14  112   97.752183"
      ]
     },
     "execution_count": 15,
     "metadata": {},
     "output_type": "execute_result"
    }
   ],
   "source": [
    "y_pred = pd.DataFrame(champion_model.predict(X_test),columns=['TRI_pred'])\n",
    "y_test.reset_index(inplace=True, drop=True)\n",
    "datos_pronosticados = pd.concat([y_test,y_pred], axis=1)\n",
    "datos_pronosticados.head(15)"
   ]
  },
  {
   "cell_type": "markdown",
   "metadata": {},
   "source": [
    "## Datos para ROI"
   ]
  },
  {
   "cell_type": "markdown",
   "metadata": {},
   "source": [
    "Para hacer el ejercicio de ROI se utilizará un subconjunto de los datos originales (el 10%), los cuales serán calificados por cada uno de los modelos campeones, en este caso, el modelo campeón para pronosticar el valor de Triglicéridos que tendría el paciente. La finalidad es, dentro de las conclusiones, determinar la relación costo-beneficio de usar este tipo de modelos para diagnosticar la prevalencia del Síndrome Metabólico en jóvenes mexicanos."
   ]
  },
  {
   "cell_type": "code",
   "execution_count": 16,
   "metadata": {},
   "outputs": [],
   "source": [
    "datos_roi = pd.read_csv('C:/Users/gusta/OneDrive/Documentos/Tesis/Datos/Datos_roi.csv') "
   ]
  },
  {
   "cell_type": "code",
   "execution_count": 17,
   "metadata": {},
   "outputs": [],
   "source": [
    "var_predictivas.remove('TARGET_TRI')\n",
    "var_predictivas.append('TRI_Class')\n",
    "\n",
    "X_roi = datos_roi[var_predictivas] \n",
    "X_roi= X_roi.rename(columns={'TRI_Class':'TARGET_TRI'})\n",
    "\n",
    "y_roi = datos_roi['TRI'] "
   ]
  },
  {
   "cell_type": "markdown",
   "metadata": {},
   "source": [
    "Se hacen el pronóstico del valor de Triglicéridos que tendrían los pacientes:"
   ]
  },
  {
   "cell_type": "code",
   "execution_count": 18,
   "metadata": {},
   "outputs": [
    {
     "data": {
      "text/html": [
       "<div>\n",
       "<style scoped>\n",
       "    .dataframe tbody tr th:only-of-type {\n",
       "        vertical-align: middle;\n",
       "    }\n",
       "\n",
       "    .dataframe tbody tr th {\n",
       "        vertical-align: top;\n",
       "    }\n",
       "\n",
       "    .dataframe thead th {\n",
       "        text-align: right;\n",
       "    }\n",
       "</style>\n",
       "<table border=\"1\" class=\"dataframe\">\n",
       "  <thead>\n",
       "    <tr style=\"text-align: right;\">\n",
       "      <th></th>\n",
       "      <th>TRI</th>\n",
       "      <th>TRI_reg</th>\n",
       "    </tr>\n",
       "  </thead>\n",
       "  <tbody>\n",
       "    <tr>\n",
       "      <th>0</th>\n",
       "      <td>88</td>\n",
       "      <td>196.040679</td>\n",
       "    </tr>\n",
       "    <tr>\n",
       "      <th>1</th>\n",
       "      <td>185</td>\n",
       "      <td>195.403891</td>\n",
       "    </tr>\n",
       "    <tr>\n",
       "      <th>2</th>\n",
       "      <td>78</td>\n",
       "      <td>90.244379</td>\n",
       "    </tr>\n",
       "    <tr>\n",
       "      <th>3</th>\n",
       "      <td>91</td>\n",
       "      <td>78.907518</td>\n",
       "    </tr>\n",
       "    <tr>\n",
       "      <th>4</th>\n",
       "      <td>59</td>\n",
       "      <td>91.958599</td>\n",
       "    </tr>\n",
       "    <tr>\n",
       "      <th>5</th>\n",
       "      <td>206</td>\n",
       "      <td>208.833650</td>\n",
       "    </tr>\n",
       "    <tr>\n",
       "      <th>6</th>\n",
       "      <td>106</td>\n",
       "      <td>210.057706</td>\n",
       "    </tr>\n",
       "    <tr>\n",
       "      <th>7</th>\n",
       "      <td>111</td>\n",
       "      <td>210.822124</td>\n",
       "    </tr>\n",
       "    <tr>\n",
       "      <th>8</th>\n",
       "      <td>108</td>\n",
       "      <td>195.208948</td>\n",
       "    </tr>\n",
       "    <tr>\n",
       "      <th>9</th>\n",
       "      <td>68</td>\n",
       "      <td>83.597603</td>\n",
       "    </tr>\n",
       "    <tr>\n",
       "      <th>10</th>\n",
       "      <td>133</td>\n",
       "      <td>196.391109</td>\n",
       "    </tr>\n",
       "    <tr>\n",
       "      <th>11</th>\n",
       "      <td>169</td>\n",
       "      <td>195.208948</td>\n",
       "    </tr>\n",
       "    <tr>\n",
       "      <th>12</th>\n",
       "      <td>68</td>\n",
       "      <td>83.229014</td>\n",
       "    </tr>\n",
       "    <tr>\n",
       "      <th>13</th>\n",
       "      <td>84</td>\n",
       "      <td>91.508789</td>\n",
       "    </tr>\n",
       "    <tr>\n",
       "      <th>14</th>\n",
       "      <td>146</td>\n",
       "      <td>200.221081</td>\n",
       "    </tr>\n",
       "  </tbody>\n",
       "</table>\n",
       "</div>"
      ],
      "text/plain": [
       "    TRI     TRI_reg\n",
       "0    88  196.040679\n",
       "1   185  195.403891\n",
       "2    78   90.244379\n",
       "3    91   78.907518\n",
       "4    59   91.958599\n",
       "5   206  208.833650\n",
       "6   106  210.057706\n",
       "7   111  210.822124\n",
       "8   108  195.208948\n",
       "9    68   83.597603\n",
       "10  133  196.391109\n",
       "11  169  195.208948\n",
       "12   68   83.229014\n",
       "13   84   91.508789\n",
       "14  146  200.221081"
      ]
     },
     "execution_count": 18,
     "metadata": {},
     "output_type": "execute_result"
    }
   ],
   "source": [
    "predicted_val = pd.DataFrame(champion_model.predict(X_roi),columns=['TRI_reg'])\n",
    "\n",
    "datos_pronosticados = pd.concat([y_roi,predicted_val], axis=1)\n",
    "datos_pronosticados.head(15)"
   ]
  },
  {
   "cell_type": "markdown",
   "metadata": {},
   "source": [
    "Se calcula la raíz cuadrada del error cuadrático medio (RMSE), dado que una de las variables de entrada para este modelo (TARGET_TRI)es la variable de salida del modelo de clasificación se incrementa el error en el pronóstico.  "
   ]
  },
  {
   "cell_type": "code",
   "execution_count": 19,
   "metadata": {},
   "outputs": [
    {
     "name": "stdout",
     "output_type": "stream",
     "text": [
      "RMSE: 76.81\n"
     ]
    }
   ],
   "source": [
    "RMSE = mean_squared_error(y_pred=predicted_val, y_true=y_roi, squared=False)\n",
    "print(\"RMSE: %.2f\" % (RMSE))"
   ]
  },
  {
   "cell_type": "markdown",
   "metadata": {},
   "source": [
    "Se guardan los valores pronosticados por el modelo."
   ]
  },
  {
   "cell_type": "code",
   "execution_count": 20,
   "metadata": {},
   "outputs": [],
   "source": [
    "datos_roi['TRI_reg'] = champion_model.predict(X_roi)\n",
    "\n",
    "datos_roi.to_csv('C:/Users/gusta/OneDrive/Documentos/Tesis/Datos/Datos_roi.csv',\n",
    "                 index=False)"
   ]
  },
  {
   "cell_type": "markdown",
   "metadata": {},
   "source": [
    "## Interpretación del árbol de decisión"
   ]
  },
  {
   "cell_type": "markdown",
   "metadata": {},
   "source": [
    "Por último, para ayudar a la interpretación del funcionamiento de los modelos, se muestra el árbol de decisión construido."
   ]
  },
  {
   "cell_type": "code",
   "execution_count": 22,
   "metadata": {},
   "outputs": [
    {
     "data": {
      "image/svg+xml": [
       "<?xml version=\"1.0\" encoding=\"UTF-8\" standalone=\"no\"?>\r\n",
       "<!DOCTYPE svg PUBLIC \"-//W3C//DTD SVG 1.1//EN\"\r\n",
       " \"http://www.w3.org/Graphics/SVG/1.1/DTD/svg11.dtd\">\r\n",
       "<!-- Generated by graphviz version 2.38.0 (20140413.2041)\r\n",
       " -->\r\n",
       "<!-- Title: Tree Pages: 1 -->\r\n",
       "<svg width=\"1025pt\" height=\"685pt\"\r\n",
       " viewBox=\"0.00 0.00 1025.00 685.00\" xmlns=\"http://www.w3.org/2000/svg\" xmlns:xlink=\"http://www.w3.org/1999/xlink\">\r\n",
       "<g id=\"graph0\" class=\"graph\" transform=\"scale(1 1) rotate(0) translate(4 681)\">\r\n",
       "<title>Tree</title>\r\n",
       "<polygon fill=\"white\" stroke=\"none\" points=\"-4,4 -4,-681 1021,-681 1021,4 -4,4\"/>\r\n",
       "<!-- 0 -->\r\n",
       "<g id=\"node1\" class=\"node\"><title>0</title>\r\n",
       "<polygon fill=\"none\" stroke=\"black\" points=\"677.5,-677 515.5,-677 515.5,-609 677.5,-609 677.5,-677\"/>\r\n",
       "<text text-anchor=\"middle\" x=\"596.5\" y=\"-661.8\" font-family=\"Times New Roman,serif\" font-size=\"14.00\">TARGET_TRI &lt;= 0.418</text>\r\n",
       "<text text-anchor=\"middle\" x=\"596.5\" y=\"-646.8\" font-family=\"Times New Roman,serif\" font-size=\"14.00\">friedman_mse = 3120.628</text>\r\n",
       "<text text-anchor=\"middle\" x=\"596.5\" y=\"-631.8\" font-family=\"Times New Roman,serif\" font-size=\"14.00\">samples = 1229</text>\r\n",
       "<text text-anchor=\"middle\" x=\"596.5\" y=\"-616.8\" font-family=\"Times New Roman,serif\" font-size=\"14.00\">value = 106.837</text>\r\n",
       "</g>\r\n",
       "<!-- 1 -->\r\n",
       "<g id=\"node2\" class=\"node\"><title>1</title>\r\n",
       "<polygon fill=\"none\" stroke=\"black\" points=\"586,-573 431,-573 431,-505 586,-505 586,-573\"/>\r\n",
       "<text text-anchor=\"middle\" x=\"508.5\" y=\"-557.8\" font-family=\"Times New Roman,serif\" font-size=\"14.00\">PAM &lt;= 73.648</text>\r\n",
       "<text text-anchor=\"middle\" x=\"508.5\" y=\"-542.8\" font-family=\"Times New Roman,serif\" font-size=\"14.00\">friedman_mse = 737.758</text>\r\n",
       "<text text-anchor=\"middle\" x=\"508.5\" y=\"-527.8\" font-family=\"Times New Roman,serif\" font-size=\"14.00\">samples = 1034</text>\r\n",
       "<text text-anchor=\"middle\" x=\"508.5\" y=\"-512.8\" font-family=\"Times New Roman,serif\" font-size=\"14.00\">value = 88.583</text>\r\n",
       "</g>\r\n",
       "<!-- 0&#45;&gt;1 -->\r\n",
       "<g id=\"edge1\" class=\"edge\"><title>0&#45;&gt;1</title>\r\n",
       "<path fill=\"none\" stroke=\"black\" d=\"M567.929,-608.884C560.244,-599.976 551.84,-590.235 543.835,-580.957\"/>\r\n",
       "<polygon fill=\"black\" stroke=\"black\" points=\"546.411,-578.585 537.229,-573.299 541.111,-583.157 546.411,-578.585\"/>\r\n",
       "<text text-anchor=\"middle\" x=\"535.392\" y=\"-594.532\" font-family=\"Times New Roman,serif\" font-size=\"14.00\">True</text>\r\n",
       "</g>\r\n",
       "<!-- 22 -->\r\n",
       "<g id=\"node23\" class=\"node\"><title>22</title>\r\n",
       "<polygon fill=\"none\" stroke=\"black\" points=\"766.5,-573 604.5,-573 604.5,-505 766.5,-505 766.5,-573\"/>\r\n",
       "<text text-anchor=\"middle\" x=\"685.5\" y=\"-557.8\" font-family=\"Times New Roman,serif\" font-size=\"14.00\">IMC &lt;= 24.267</text>\r\n",
       "<text text-anchor=\"middle\" x=\"685.5\" y=\"-542.8\" font-family=\"Times New Roman,serif\" font-size=\"14.00\">friedman_mse = 4620.089</text>\r\n",
       "<text text-anchor=\"middle\" x=\"685.5\" y=\"-527.8\" font-family=\"Times New Roman,serif\" font-size=\"14.00\">samples = 195</text>\r\n",
       "<text text-anchor=\"middle\" x=\"685.5\" y=\"-512.8\" font-family=\"Times New Roman,serif\" font-size=\"14.00\">value = 203.631</text>\r\n",
       "</g>\r\n",
       "<!-- 0&#45;&gt;22 -->\r\n",
       "<g id=\"edge22\" class=\"edge\"><title>0&#45;&gt;22</title>\r\n",
       "<path fill=\"none\" stroke=\"black\" d=\"M625.396,-608.884C633.168,-599.976 641.667,-590.235 649.763,-580.957\"/>\r\n",
       "<polygon fill=\"black\" stroke=\"black\" points=\"652.507,-583.135 656.445,-573.299 647.233,-578.533 652.507,-583.135\"/>\r\n",
       "<text text-anchor=\"middle\" x=\"658.142\" y=\"-594.542\" font-family=\"Times New Roman,serif\" font-size=\"14.00\">False</text>\r\n",
       "</g>\r\n",
       "<!-- 2 -->\r\n",
       "<g id=\"node3\" class=\"node\"><title>2</title>\r\n",
       "<polygon fill=\"none\" stroke=\"black\" points=\"413,-469 258,-469 258,-401 413,-401 413,-469\"/>\r\n",
       "<text text-anchor=\"middle\" x=\"335.5\" y=\"-453.8\" font-family=\"Times New Roman,serif\" font-size=\"14.00\">IMC &lt;= 20.91</text>\r\n",
       "<text text-anchor=\"middle\" x=\"335.5\" y=\"-438.8\" font-family=\"Times New Roman,serif\" font-size=\"14.00\">friedman_mse = 653.399</text>\r\n",
       "<text text-anchor=\"middle\" x=\"335.5\" y=\"-423.8\" font-family=\"Times New Roman,serif\" font-size=\"14.00\">samples = 182</text>\r\n",
       "<text text-anchor=\"middle\" x=\"335.5\" y=\"-408.8\" font-family=\"Times New Roman,serif\" font-size=\"14.00\">value = 85.72</text>\r\n",
       "</g>\r\n",
       "<!-- 1&#45;&gt;2 -->\r\n",
       "<g id=\"edge2\" class=\"edge\"><title>1&#45;&gt;2</title>\r\n",
       "<path fill=\"none\" stroke=\"black\" d=\"M452.332,-504.884C435.781,-495.125 417.533,-484.366 400.477,-474.31\"/>\r\n",
       "<polygon fill=\"black\" stroke=\"black\" points=\"402.074,-471.189 391.682,-469.125 398.519,-477.219 402.074,-471.189\"/>\r\n",
       "</g>\r\n",
       "<!-- 5 -->\r\n",
       "<g id=\"node6\" class=\"node\"><title>5</title>\r\n",
       "<polygon fill=\"none\" stroke=\"black\" points=\"586,-469 431,-469 431,-401 586,-401 586,-469\"/>\r\n",
       "<text text-anchor=\"middle\" x=\"508.5\" y=\"-453.8\" font-family=\"Times New Roman,serif\" font-size=\"14.00\">TALLA &lt;= 163.793</text>\r\n",
       "<text text-anchor=\"middle\" x=\"508.5\" y=\"-438.8\" font-family=\"Times New Roman,serif\" font-size=\"14.00\">friedman_mse = 753.652</text>\r\n",
       "<text text-anchor=\"middle\" x=\"508.5\" y=\"-423.8\" font-family=\"Times New Roman,serif\" font-size=\"14.00\">samples = 852</text>\r\n",
       "<text text-anchor=\"middle\" x=\"508.5\" y=\"-408.8\" font-family=\"Times New Roman,serif\" font-size=\"14.00\">value = 89.195</text>\r\n",
       "</g>\r\n",
       "<!-- 1&#45;&gt;5 -->\r\n",
       "<g id=\"edge5\" class=\"edge\"><title>1&#45;&gt;5</title>\r\n",
       "<path fill=\"none\" stroke=\"black\" d=\"M508.5,-504.884C508.5,-496.778 508.5,-487.982 508.5,-479.472\"/>\r\n",
       "<polygon fill=\"black\" stroke=\"black\" points=\"512,-479.299 508.5,-469.299 505,-479.299 512,-479.299\"/>\r\n",
       "</g>\r\n",
       "<!-- 3 -->\r\n",
       "<g id=\"node4\" class=\"node\"><title>3</title>\r\n",
       "<polygon fill=\"none\" stroke=\"black\" points=\"240,-357.5 91,-357.5 91,-304.5 240,-304.5 240,-357.5\"/>\r\n",
       "<text text-anchor=\"middle\" x=\"165.5\" y=\"-342.3\" font-family=\"Times New Roman,serif\" font-size=\"14.00\">friedman_mse = 441.45</text>\r\n",
       "<text text-anchor=\"middle\" x=\"165.5\" y=\"-327.3\" font-family=\"Times New Roman,serif\" font-size=\"14.00\">samples = 95</text>\r\n",
       "<text text-anchor=\"middle\" x=\"165.5\" y=\"-312.3\" font-family=\"Times New Roman,serif\" font-size=\"14.00\">value = 79.295</text>\r\n",
       "</g>\r\n",
       "<!-- 2&#45;&gt;3 -->\r\n",
       "<g id=\"edge3\" class=\"edge\"><title>2&#45;&gt;3</title>\r\n",
       "<path fill=\"none\" stroke=\"black\" d=\"M280.306,-400.884C259.868,-388.621 236.798,-374.779 216.728,-362.737\"/>\r\n",
       "<polygon fill=\"black\" stroke=\"black\" points=\"218.409,-359.664 208.033,-357.52 214.807,-365.666 218.409,-359.664\"/>\r\n",
       "</g>\r\n",
       "<!-- 4 -->\r\n",
       "<g id=\"node5\" class=\"node\"><title>4</title>\r\n",
       "<polygon fill=\"none\" stroke=\"black\" points=\"413,-357.5 258,-357.5 258,-304.5 413,-304.5 413,-357.5\"/>\r\n",
       "<text text-anchor=\"middle\" x=\"335.5\" y=\"-342.3\" font-family=\"Times New Roman,serif\" font-size=\"14.00\">friedman_mse = 790.539</text>\r\n",
       "<text text-anchor=\"middle\" x=\"335.5\" y=\"-327.3\" font-family=\"Times New Roman,serif\" font-size=\"14.00\">samples = 87</text>\r\n",
       "<text text-anchor=\"middle\" x=\"335.5\" y=\"-312.3\" font-family=\"Times New Roman,serif\" font-size=\"14.00\">value = 92.736</text>\r\n",
       "</g>\r\n",
       "<!-- 2&#45;&gt;4 -->\r\n",
       "<g id=\"edge4\" class=\"edge\"><title>2&#45;&gt;4</title>\r\n",
       "<path fill=\"none\" stroke=\"black\" d=\"M335.5,-400.884C335.5,-390.326 335.5,-378.597 335.5,-367.854\"/>\r\n",
       "<polygon fill=\"black\" stroke=\"black\" points=\"339,-367.52 335.5,-357.52 332,-367.52 339,-367.52\"/>\r\n",
       "</g>\r\n",
       "<!-- 6 -->\r\n",
       "<g id=\"node7\" class=\"node\"><title>6</title>\r\n",
       "<polygon fill=\"none\" stroke=\"black\" points=\"586,-365 431,-365 431,-297 586,-297 586,-365\"/>\r\n",
       "<text text-anchor=\"middle\" x=\"508.5\" y=\"-349.8\" font-family=\"Times New Roman,serif\" font-size=\"14.00\">TALLA &lt;= 155.909</text>\r\n",
       "<text text-anchor=\"middle\" x=\"508.5\" y=\"-334.8\" font-family=\"Times New Roman,serif\" font-size=\"14.00\">friedman_mse = 702.892</text>\r\n",
       "<text text-anchor=\"middle\" x=\"508.5\" y=\"-319.8\" font-family=\"Times New Roman,serif\" font-size=\"14.00\">samples = 486</text>\r\n",
       "<text text-anchor=\"middle\" x=\"508.5\" y=\"-304.8\" font-family=\"Times New Roman,serif\" font-size=\"14.00\">value = 88.691</text>\r\n",
       "</g>\r\n",
       "<!-- 5&#45;&gt;6 -->\r\n",
       "<g id=\"edge6\" class=\"edge\"><title>5&#45;&gt;6</title>\r\n",
       "<path fill=\"none\" stroke=\"black\" d=\"M508.5,-400.884C508.5,-392.778 508.5,-383.982 508.5,-375.472\"/>\r\n",
       "<polygon fill=\"black\" stroke=\"black\" points=\"512,-375.299 508.5,-365.299 505,-375.299 512,-375.299\"/>\r\n",
       "</g>\r\n",
       "<!-- 15 -->\r\n",
       "<g id=\"node16\" class=\"node\"><title>15</title>\r\n",
       "<polygon fill=\"none\" stroke=\"black\" points=\"844,-365 689,-365 689,-297 844,-297 844,-365\"/>\r\n",
       "<text text-anchor=\"middle\" x=\"766.5\" y=\"-349.8\" font-family=\"Times New Roman,serif\" font-size=\"14.00\">CC &lt;= 89.714</text>\r\n",
       "<text text-anchor=\"middle\" x=\"766.5\" y=\"-334.8\" font-family=\"Times New Roman,serif\" font-size=\"14.00\">friedman_mse = 820.271</text>\r\n",
       "<text text-anchor=\"middle\" x=\"766.5\" y=\"-319.8\" font-family=\"Times New Roman,serif\" font-size=\"14.00\">samples = 366</text>\r\n",
       "<text text-anchor=\"middle\" x=\"766.5\" y=\"-304.8\" font-family=\"Times New Roman,serif\" font-size=\"14.00\">value = 89.863</text>\r\n",
       "</g>\r\n",
       "<!-- 5&#45;&gt;15 -->\r\n",
       "<g id=\"edge15\" class=\"edge\"><title>5&#45;&gt;15</title>\r\n",
       "<path fill=\"none\" stroke=\"black\" d=\"M586.258,-403.258C615.579,-391.667 649.116,-378.408 679.247,-366.495\"/>\r\n",
       "<polygon fill=\"black\" stroke=\"black\" points=\"680.888,-369.61 688.901,-362.679 678.314,-363.101 680.888,-369.61\"/>\r\n",
       "</g>\r\n",
       "<!-- 7 -->\r\n",
       "<g id=\"node8\" class=\"node\"><title>7</title>\r\n",
       "<polygon fill=\"none\" stroke=\"black\" points=\"328,-261 173,-261 173,-193 328,-193 328,-261\"/>\r\n",
       "<text text-anchor=\"middle\" x=\"250.5\" y=\"-245.8\" font-family=\"Times New Roman,serif\" font-size=\"14.00\">CC_GRAS &lt;= 20.496</text>\r\n",
       "<text text-anchor=\"middle\" x=\"250.5\" y=\"-230.8\" font-family=\"Times New Roman,serif\" font-size=\"14.00\">friedman_mse = 692.931</text>\r\n",
       "<text text-anchor=\"middle\" x=\"250.5\" y=\"-215.8\" font-family=\"Times New Roman,serif\" font-size=\"14.00\">samples = 183</text>\r\n",
       "<text text-anchor=\"middle\" x=\"250.5\" y=\"-200.8\" font-family=\"Times New Roman,serif\" font-size=\"14.00\">value = 86.672</text>\r\n",
       "</g>\r\n",
       "<!-- 6&#45;&gt;7 -->\r\n",
       "<g id=\"edge7\" class=\"edge\"><title>6&#45;&gt;7</title>\r\n",
       "<path fill=\"none\" stroke=\"black\" d=\"M430.742,-299.258C401.421,-287.667 367.884,-274.408 337.753,-262.495\"/>\r\n",
       "<polygon fill=\"black\" stroke=\"black\" points=\"338.686,-259.101 328.099,-258.679 336.112,-265.61 338.686,-259.101\"/>\r\n",
       "</g>\r\n",
       "<!-- 10 -->\r\n",
       "<g id=\"node11\" class=\"node\"><title>10</title>\r\n",
       "<polygon fill=\"none\" stroke=\"black\" points=\"586,-261 431,-261 431,-193 586,-193 586,-261\"/>\r\n",
       "<text text-anchor=\"middle\" x=\"508.5\" y=\"-245.8\" font-family=\"Times New Roman,serif\" font-size=\"14.00\">CC_GRAS &lt;= 14.721</text>\r\n",
       "<text text-anchor=\"middle\" x=\"508.5\" y=\"-230.8\" font-family=\"Times New Roman,serif\" font-size=\"14.00\">friedman_mse = 704.959</text>\r\n",
       "<text text-anchor=\"middle\" x=\"508.5\" y=\"-215.8\" font-family=\"Times New Roman,serif\" font-size=\"14.00\">samples = 303</text>\r\n",
       "<text text-anchor=\"middle\" x=\"508.5\" y=\"-200.8\" font-family=\"Times New Roman,serif\" font-size=\"14.00\">value = 89.911</text>\r\n",
       "</g>\r\n",
       "<!-- 6&#45;&gt;10 -->\r\n",
       "<g id=\"edge10\" class=\"edge\"><title>6&#45;&gt;10</title>\r\n",
       "<path fill=\"none\" stroke=\"black\" d=\"M508.5,-296.884C508.5,-288.778 508.5,-279.982 508.5,-271.472\"/>\r\n",
       "<polygon fill=\"black\" stroke=\"black\" points=\"512,-271.299 508.5,-261.299 505,-271.299 512,-271.299\"/>\r\n",
       "</g>\r\n",
       "<!-- 8 -->\r\n",
       "<g id=\"node9\" class=\"node\"><title>8</title>\r\n",
       "<polygon fill=\"none\" stroke=\"black\" points=\"155,-149.5 0,-149.5 0,-96.5 155,-96.5 155,-149.5\"/>\r\n",
       "<text text-anchor=\"middle\" x=\"77.5\" y=\"-134.3\" font-family=\"Times New Roman,serif\" font-size=\"14.00\">friedman_mse = 661.244</text>\r\n",
       "<text text-anchor=\"middle\" x=\"77.5\" y=\"-119.3\" font-family=\"Times New Roman,serif\" font-size=\"14.00\">samples = 118</text>\r\n",
       "<text text-anchor=\"middle\" x=\"77.5\" y=\"-104.3\" font-family=\"Times New Roman,serif\" font-size=\"14.00\">value = 82.347</text>\r\n",
       "</g>\r\n",
       "<!-- 7&#45;&gt;8 -->\r\n",
       "<g id=\"edge8\" class=\"edge\"><title>7&#45;&gt;8</title>\r\n",
       "<path fill=\"none\" stroke=\"black\" d=\"M194.332,-192.884C173.533,-180.621 150.056,-166.779 129.632,-154.737\"/>\r\n",
       "<polygon fill=\"black\" stroke=\"black\" points=\"131.176,-151.584 120.784,-149.52 127.62,-157.614 131.176,-151.584\"/>\r\n",
       "</g>\r\n",
       "<!-- 9 -->\r\n",
       "<g id=\"node10\" class=\"node\"><title>9</title>\r\n",
       "<polygon fill=\"none\" stroke=\"black\" points=\"328,-149.5 173,-149.5 173,-96.5 328,-96.5 328,-149.5\"/>\r\n",
       "<text text-anchor=\"middle\" x=\"250.5\" y=\"-134.3\" font-family=\"Times New Roman,serif\" font-size=\"14.00\">friedman_mse = 654.865</text>\r\n",
       "<text text-anchor=\"middle\" x=\"250.5\" y=\"-119.3\" font-family=\"Times New Roman,serif\" font-size=\"14.00\">samples = 65</text>\r\n",
       "<text text-anchor=\"middle\" x=\"250.5\" y=\"-104.3\" font-family=\"Times New Roman,serif\" font-size=\"14.00\">value = 94.523</text>\r\n",
       "</g>\r\n",
       "<!-- 7&#45;&gt;9 -->\r\n",
       "<g id=\"edge9\" class=\"edge\"><title>7&#45;&gt;9</title>\r\n",
       "<path fill=\"none\" stroke=\"black\" d=\"M250.5,-192.884C250.5,-182.326 250.5,-170.597 250.5,-159.854\"/>\r\n",
       "<polygon fill=\"black\" stroke=\"black\" points=\"254,-159.52 250.5,-149.52 247,-159.52 254,-159.52\"/>\r\n",
       "</g>\r\n",
       "<!-- 11 -->\r\n",
       "<g id=\"node12\" class=\"node\"><title>11</title>\r\n",
       "<polygon fill=\"none\" stroke=\"black\" points=\"501,-149.5 346,-149.5 346,-96.5 501,-96.5 501,-149.5\"/>\r\n",
       "<text text-anchor=\"middle\" x=\"423.5\" y=\"-134.3\" font-family=\"Times New Roman,serif\" font-size=\"14.00\">friedman_mse = 750.262</text>\r\n",
       "<text text-anchor=\"middle\" x=\"423.5\" y=\"-119.3\" font-family=\"Times New Roman,serif\" font-size=\"14.00\">samples = 88</text>\r\n",
       "<text text-anchor=\"middle\" x=\"423.5\" y=\"-104.3\" font-family=\"Times New Roman,serif\" font-size=\"14.00\">value = 84.602</text>\r\n",
       "</g>\r\n",
       "<!-- 10&#45;&gt;11 -->\r\n",
       "<g id=\"edge11\" class=\"edge\"><title>10&#45;&gt;11</title>\r\n",
       "<path fill=\"none\" stroke=\"black\" d=\"M480.903,-192.884C471.463,-181.556 460.9,-168.88 451.434,-157.521\"/>\r\n",
       "<polygon fill=\"black\" stroke=\"black\" points=\"453.857,-154.962 444.767,-149.52 448.48,-159.443 453.857,-154.962\"/>\r\n",
       "</g>\r\n",
       "<!-- 12 -->\r\n",
       "<g id=\"node13\" class=\"node\"><title>12</title>\r\n",
       "<polygon fill=\"none\" stroke=\"black\" points=\"668,-157 519,-157 519,-89 668,-89 668,-157\"/>\r\n",
       "<text text-anchor=\"middle\" x=\"593.5\" y=\"-141.8\" font-family=\"Times New Roman,serif\" font-size=\"14.00\">PAM &lt;= 83.719</text>\r\n",
       "<text text-anchor=\"middle\" x=\"593.5\" y=\"-126.8\" font-family=\"Times New Roman,serif\" font-size=\"14.00\">friedman_mse = 670.16</text>\r\n",
       "<text text-anchor=\"middle\" x=\"593.5\" y=\"-111.8\" font-family=\"Times New Roman,serif\" font-size=\"14.00\">samples = 215</text>\r\n",
       "<text text-anchor=\"middle\" x=\"593.5\" y=\"-96.8\" font-family=\"Times New Roman,serif\" font-size=\"14.00\">value = 92.084</text>\r\n",
       "</g>\r\n",
       "<!-- 10&#45;&gt;12 -->\r\n",
       "<g id=\"edge12\" class=\"edge\"><title>10&#45;&gt;12</title>\r\n",
       "<path fill=\"none\" stroke=\"black\" d=\"M536.097,-192.884C543.446,-184.065 551.475,-174.43 559.137,-165.235\"/>\r\n",
       "<polygon fill=\"black\" stroke=\"black\" points=\"562.037,-167.222 565.751,-157.299 556.66,-162.741 562.037,-167.222\"/>\r\n",
       "</g>\r\n",
       "<!-- 13 -->\r\n",
       "<g id=\"node14\" class=\"node\"><title>13</title>\r\n",
       "<polygon fill=\"none\" stroke=\"black\" points=\"498,-53 343,-53 343,-0 498,-0 498,-53\"/>\r\n",
       "<text text-anchor=\"middle\" x=\"420.5\" y=\"-37.8\" font-family=\"Times New Roman,serif\" font-size=\"14.00\">friedman_mse = 660.689</text>\r\n",
       "<text text-anchor=\"middle\" x=\"420.5\" y=\"-22.8\" font-family=\"Times New Roman,serif\" font-size=\"14.00\">samples = 125</text>\r\n",
       "<text text-anchor=\"middle\" x=\"420.5\" y=\"-7.8\" font-family=\"Times New Roman,serif\" font-size=\"14.00\">value = 90.848</text>\r\n",
       "</g>\r\n",
       "<!-- 12&#45;&gt;13 -->\r\n",
       "<g id=\"edge13\" class=\"edge\"><title>12&#45;&gt;13</title>\r\n",
       "<path fill=\"none\" stroke=\"black\" d=\"M532.993,-88.9485C514.656,-78.9318 494.6,-67.9767 476.567,-58.1263\"/>\r\n",
       "<polygon fill=\"black\" stroke=\"black\" points=\"477.795,-54.809 467.341,-53.0867 474.439,-60.9522 477.795,-54.809\"/>\r\n",
       "</g>\r\n",
       "<!-- 14 -->\r\n",
       "<g id=\"node15\" class=\"node\"><title>14</title>\r\n",
       "<polygon fill=\"none\" stroke=\"black\" points=\"671,-53 516,-53 516,-0 671,-0 671,-53\"/>\r\n",
       "<text text-anchor=\"middle\" x=\"593.5\" y=\"-37.8\" font-family=\"Times New Roman,serif\" font-size=\"14.00\">friedman_mse = 678.249</text>\r\n",
       "<text text-anchor=\"middle\" x=\"593.5\" y=\"-22.8\" font-family=\"Times New Roman,serif\" font-size=\"14.00\">samples = 90</text>\r\n",
       "<text text-anchor=\"middle\" x=\"593.5\" y=\"-7.8\" font-family=\"Times New Roman,serif\" font-size=\"14.00\">value = 93.8</text>\r\n",
       "</g>\r\n",
       "<!-- 12&#45;&gt;14 -->\r\n",
       "<g id=\"edge14\" class=\"edge\"><title>12&#45;&gt;14</title>\r\n",
       "<path fill=\"none\" stroke=\"black\" d=\"M593.5,-88.9485C593.5,-80.7153 593.5,-71.848 593.5,-63.4814\"/>\r\n",
       "<polygon fill=\"black\" stroke=\"black\" points=\"597,-63.2367 593.5,-53.2367 590,-63.2367 597,-63.2367\"/>\r\n",
       "</g>\r\n",
       "<!-- 16 -->\r\n",
       "<g id=\"node17\" class=\"node\"><title>16</title>\r\n",
       "<polygon fill=\"none\" stroke=\"black\" points=\"844,-261 689,-261 689,-193 844,-193 844,-261\"/>\r\n",
       "<text text-anchor=\"middle\" x=\"766.5\" y=\"-245.8\" font-family=\"Times New Roman,serif\" font-size=\"14.00\">IMC &lt;= 23.856</text>\r\n",
       "<text text-anchor=\"middle\" x=\"766.5\" y=\"-230.8\" font-family=\"Times New Roman,serif\" font-size=\"14.00\">friedman_mse = 754.852</text>\r\n",
       "<text text-anchor=\"middle\" x=\"766.5\" y=\"-215.8\" font-family=\"Times New Roman,serif\" font-size=\"14.00\">samples = 285</text>\r\n",
       "<text text-anchor=\"middle\" x=\"766.5\" y=\"-200.8\" font-family=\"Times New Roman,serif\" font-size=\"14.00\">value = 85.768</text>\r\n",
       "</g>\r\n",
       "<!-- 15&#45;&gt;16 -->\r\n",
       "<g id=\"edge16\" class=\"edge\"><title>15&#45;&gt;16</title>\r\n",
       "<path fill=\"none\" stroke=\"black\" d=\"M766.5,-296.884C766.5,-288.778 766.5,-279.982 766.5,-271.472\"/>\r\n",
       "<polygon fill=\"black\" stroke=\"black\" points=\"770,-271.299 766.5,-261.299 763,-271.299 770,-271.299\"/>\r\n",
       "</g>\r\n",
       "<!-- 21 -->\r\n",
       "<g id=\"node22\" class=\"node\"><title>21</title>\r\n",
       "<polygon fill=\"none\" stroke=\"black\" points=\"1017,-253.5 862,-253.5 862,-200.5 1017,-200.5 1017,-253.5\"/>\r\n",
       "<text text-anchor=\"middle\" x=\"939.5\" y=\"-238.3\" font-family=\"Times New Roman,serif\" font-size=\"14.00\">friedman_mse = 783.852</text>\r\n",
       "<text text-anchor=\"middle\" x=\"939.5\" y=\"-223.3\" font-family=\"Times New Roman,serif\" font-size=\"14.00\">samples = 81</text>\r\n",
       "<text text-anchor=\"middle\" x=\"939.5\" y=\"-208.3\" font-family=\"Times New Roman,serif\" font-size=\"14.00\">value = 104.272</text>\r\n",
       "</g>\r\n",
       "<!-- 15&#45;&gt;21 -->\r\n",
       "<g id=\"edge21\" class=\"edge\"><title>15&#45;&gt;21</title>\r\n",
       "<path fill=\"none\" stroke=\"black\" d=\"M822.668,-296.884C843.467,-284.621 866.944,-270.779 887.368,-258.737\"/>\r\n",
       "<polygon fill=\"black\" stroke=\"black\" points=\"889.38,-261.614 896.216,-253.52 885.824,-255.584 889.38,-261.614\"/>\r\n",
       "</g>\r\n",
       "<!-- 17 -->\r\n",
       "<g id=\"node18\" class=\"node\"><title>17</title>\r\n",
       "<polygon fill=\"none\" stroke=\"black\" points=\"844,-157 689,-157 689,-89 844,-89 844,-157\"/>\r\n",
       "<text text-anchor=\"middle\" x=\"766.5\" y=\"-141.8\" font-family=\"Times New Roman,serif\" font-size=\"14.00\">TALLA &lt;= 168.696</text>\r\n",
       "<text text-anchor=\"middle\" x=\"766.5\" y=\"-126.8\" font-family=\"Times New Roman,serif\" font-size=\"14.00\">friedman_mse = 697.714</text>\r\n",
       "<text text-anchor=\"middle\" x=\"766.5\" y=\"-111.8\" font-family=\"Times New Roman,serif\" font-size=\"14.00\">samples = 220</text>\r\n",
       "<text text-anchor=\"middle\" x=\"766.5\" y=\"-96.8\" font-family=\"Times New Roman,serif\" font-size=\"14.00\">value = 83.232</text>\r\n",
       "</g>\r\n",
       "<!-- 16&#45;&gt;17 -->\r\n",
       "<g id=\"edge17\" class=\"edge\"><title>16&#45;&gt;17</title>\r\n",
       "<path fill=\"none\" stroke=\"black\" d=\"M766.5,-192.884C766.5,-184.778 766.5,-175.982 766.5,-167.472\"/>\r\n",
       "<polygon fill=\"black\" stroke=\"black\" points=\"770,-167.299 766.5,-157.299 763,-167.299 770,-167.299\"/>\r\n",
       "</g>\r\n",
       "<!-- 20 -->\r\n",
       "<g id=\"node21\" class=\"node\"><title>20</title>\r\n",
       "<polygon fill=\"none\" stroke=\"black\" points=\"1017,-149.5 862,-149.5 862,-96.5 1017,-96.5 1017,-149.5\"/>\r\n",
       "<text text-anchor=\"middle\" x=\"939.5\" y=\"-134.3\" font-family=\"Times New Roman,serif\" font-size=\"14.00\">friedman_mse = 852.752</text>\r\n",
       "<text text-anchor=\"middle\" x=\"939.5\" y=\"-119.3\" font-family=\"Times New Roman,serif\" font-size=\"14.00\">samples = 65</text>\r\n",
       "<text text-anchor=\"middle\" x=\"939.5\" y=\"-104.3\" font-family=\"Times New Roman,serif\" font-size=\"14.00\">value = 94.354</text>\r\n",
       "</g>\r\n",
       "<!-- 16&#45;&gt;20 -->\r\n",
       "<g id=\"edge20\" class=\"edge\"><title>16&#45;&gt;20</title>\r\n",
       "<path fill=\"none\" stroke=\"black\" d=\"M822.668,-192.884C843.467,-180.621 866.944,-166.779 887.368,-154.737\"/>\r\n",
       "<polygon fill=\"black\" stroke=\"black\" points=\"889.38,-157.614 896.216,-149.52 885.824,-151.584 889.38,-157.614\"/>\r\n",
       "</g>\r\n",
       "<!-- 18 -->\r\n",
       "<g id=\"node19\" class=\"node\"><title>18</title>\r\n",
       "<polygon fill=\"none\" stroke=\"black\" points=\"844,-53 689,-53 689,-0 844,-0 844,-53\"/>\r\n",
       "<text text-anchor=\"middle\" x=\"766.5\" y=\"-37.8\" font-family=\"Times New Roman,serif\" font-size=\"14.00\">friedman_mse = 616.556</text>\r\n",
       "<text text-anchor=\"middle\" x=\"766.5\" y=\"-22.8\" font-family=\"Times New Roman,serif\" font-size=\"14.00\">samples = 96</text>\r\n",
       "<text text-anchor=\"middle\" x=\"766.5\" y=\"-7.8\" font-family=\"Times New Roman,serif\" font-size=\"14.00\">value = 81.417</text>\r\n",
       "</g>\r\n",
       "<!-- 17&#45;&gt;18 -->\r\n",
       "<g id=\"edge18\" class=\"edge\"><title>17&#45;&gt;18</title>\r\n",
       "<path fill=\"none\" stroke=\"black\" d=\"M766.5,-88.9485C766.5,-80.7153 766.5,-71.848 766.5,-63.4814\"/>\r\n",
       "<polygon fill=\"black\" stroke=\"black\" points=\"770,-63.2367 766.5,-53.2367 763,-63.2367 770,-63.2367\"/>\r\n",
       "</g>\r\n",
       "<!-- 19 -->\r\n",
       "<g id=\"node20\" class=\"node\"><title>19</title>\r\n",
       "<polygon fill=\"none\" stroke=\"black\" points=\"1017,-53 862,-53 862,-0 1017,-0 1017,-53\"/>\r\n",
       "<text text-anchor=\"middle\" x=\"939.5\" y=\"-37.8\" font-family=\"Times New Roman,serif\" font-size=\"14.00\">friedman_mse = 756.022</text>\r\n",
       "<text text-anchor=\"middle\" x=\"939.5\" y=\"-22.8\" font-family=\"Times New Roman,serif\" font-size=\"14.00\">samples = 124</text>\r\n",
       "<text text-anchor=\"middle\" x=\"939.5\" y=\"-7.8\" font-family=\"Times New Roman,serif\" font-size=\"14.00\">value = 84.637</text>\r\n",
       "</g>\r\n",
       "<!-- 17&#45;&gt;19 -->\r\n",
       "<g id=\"edge19\" class=\"edge\"><title>17&#45;&gt;19</title>\r\n",
       "<path fill=\"none\" stroke=\"black\" d=\"M827.007,-88.9485C845.344,-78.9318 865.4,-67.9767 883.433,-58.1263\"/>\r\n",
       "<polygon fill=\"black\" stroke=\"black\" points=\"885.561,-60.9522 892.659,-53.0867 882.205,-54.809 885.561,-60.9522\"/>\r\n",
       "</g>\r\n",
       "<!-- 23 -->\r\n",
       "<g id=\"node24\" class=\"node\"><title>23</title>\r\n",
       "<polygon fill=\"none\" stroke=\"black\" points=\"766.5,-461.5 604.5,-461.5 604.5,-408.5 766.5,-408.5 766.5,-461.5\"/>\r\n",
       "<text text-anchor=\"middle\" x=\"685.5\" y=\"-446.3\" font-family=\"Times New Roman,serif\" font-size=\"14.00\">friedman_mse = 3675.114</text>\r\n",
       "<text text-anchor=\"middle\" x=\"685.5\" y=\"-431.3\" font-family=\"Times New Roman,serif\" font-size=\"14.00\">samples = 66</text>\r\n",
       "<text text-anchor=\"middle\" x=\"685.5\" y=\"-416.3\" font-family=\"Times New Roman,serif\" font-size=\"14.00\">value = 192.288</text>\r\n",
       "</g>\r\n",
       "<!-- 22&#45;&gt;23 -->\r\n",
       "<g id=\"edge23\" class=\"edge\"><title>22&#45;&gt;23</title>\r\n",
       "<path fill=\"none\" stroke=\"black\" d=\"M685.5,-504.884C685.5,-494.326 685.5,-482.597 685.5,-471.854\"/>\r\n",
       "<polygon fill=\"black\" stroke=\"black\" points=\"689,-471.52 685.5,-461.52 682,-471.52 689,-471.52\"/>\r\n",
       "</g>\r\n",
       "<!-- 24 -->\r\n",
       "<g id=\"node25\" class=\"node\"><title>24</title>\r\n",
       "<polygon fill=\"none\" stroke=\"black\" points=\"940,-461.5 785,-461.5 785,-408.5 940,-408.5 940,-461.5\"/>\r\n",
       "<text text-anchor=\"middle\" x=\"862.5\" y=\"-446.3\" font-family=\"Times New Roman,serif\" font-size=\"14.00\">friedman_mse = 5004.06</text>\r\n",
       "<text text-anchor=\"middle\" x=\"862.5\" y=\"-431.3\" font-family=\"Times New Roman,serif\" font-size=\"14.00\">samples = 129</text>\r\n",
       "<text text-anchor=\"middle\" x=\"862.5\" y=\"-416.3\" font-family=\"Times New Roman,serif\" font-size=\"14.00\">value = 209.434</text>\r\n",
       "</g>\r\n",
       "<!-- 22&#45;&gt;24 -->\r\n",
       "<g id=\"edge24\" class=\"edge\"><title>22&#45;&gt;24</title>\r\n",
       "<path fill=\"none\" stroke=\"black\" d=\"M742.967,-504.884C764.342,-492.566 788.482,-478.655 809.444,-466.575\"/>\r\n",
       "<polygon fill=\"black\" stroke=\"black\" points=\"811.299,-469.545 818.215,-461.52 807.804,-463.48 811.299,-469.545\"/>\r\n",
       "</g>\r\n",
       "</g>\r\n",
       "</svg>\r\n"
      ],
      "text/plain": [
       "<graphviz.files.Source at 0x20ebb9f6a90>"
      ]
     },
     "execution_count": 22,
     "metadata": {},
     "output_type": "execute_result"
    }
   ],
   "source": [
    "# Nombres:\n",
    "var_predictivas.remove('TRI_Class')\n",
    "var_predictivas.append('TARGET_TRI')\n",
    "\n",
    "Xnom=data[var_predictivas]\n",
    "\n",
    "# Árbol:\n",
    "tree.export_graphviz(tr_reg, out_file=\"tree_reg_TRI.dot\", feature_names=Xnom.columns)\n",
    "with open(\"tree_reg_TRI.dot\") as f:\n",
    "    dot_graph = f.read()\n",
    "graphviz.Source(dot_graph)"
   ]
  },
  {
   "cell_type": "code",
   "execution_count": null,
   "metadata": {},
   "outputs": [],
   "source": []
  }
 ],
 "metadata": {
  "kernelspec": {
   "display_name": "Python 3",
   "language": "python",
   "name": "python3"
  },
  "language_info": {
   "codemirror_mode": {
    "name": "ipython",
    "version": 3
   },
   "file_extension": ".py",
   "mimetype": "text/x-python",
   "name": "python",
   "nbconvert_exporter": "python",
   "pygments_lexer": "ipython3",
   "version": "3.7.1"
  }
 },
 "nbformat": 4,
 "nbformat_minor": 2
}
